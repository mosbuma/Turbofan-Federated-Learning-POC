{
 "cells": [
  {
   "cell_type": "markdown",
   "metadata": {
    "colab_type": "text",
    "id": "DGFrBsJOs8N6"
   },
   "source": [
    "# Turbofan POC - Initial Training and Model Serving\n",
    "\n",
    "This notebook is creating an initial model for predictions of the RUL for our turbofan engines."
   ]
  },
  {
   "cell_type": "markdown",
   "metadata": {
    "colab_type": "text",
    "id": "teKaiaP8A-pN"
   },
   "source": [
    "## Imports and Data Preprocessing"
   ]
  },
  {
   "cell_type": "code",
   "execution_count": null,
   "metadata": {
    "colab": {
     "base_uri": "https://localhost:8080/",
     "height": 156
    },
    "colab_type": "code",
    "executionInfo": {
     "elapsed": 26981,
     "status": "ok",
     "timestamp": 1582126813186,
     "user": {
      "displayName": "Matthias Lau",
      "photoUrl": "https://lh3.googleusercontent.com/a-/AAuE7mC6WRAXJoMqa4-OAv4EwNhkeeciSt5GDAExs2YBOg=s64",
      "userId": "11790472444495897059"
     },
     "user_tz": -60
    },
    "id": "1Krj0J83x5O8",
    "outputId": "1b4a0cea-c47e-41e9-82a2-9b816e3765e9",
    "tags": []
   },
   "outputs": [],
   "source": [
    "# check if we are inside google colab\n",
    "try:\n",
    "    from google.colab import drive\n",
    "    # mount gdrive for importing the data\n",
    "    drive.mount('/content/gdrive', force_remount=True)\n",
    "    # change this path to your notebooks directory inside google drive\n",
    "    %cd /content/gdrive/My\\ Drive/dev/turbofan_poc/notebooks\n",
    "\n",
    "    # set tensorflow version\n",
    "    %tensorflow_version 2.x\n",
    "except:\n",
    "    pass"
   ]
  },
  {
   "cell_type": "code",
   "execution_count": 1,
   "metadata": {
    "colab": {},
    "colab_type": "code",
    "id": "N61mNrV80NVr",
    "tags": []
   },
   "outputs": [],
   "source": [
    "import os\n",
    "import numpy as np\n",
    "import pandas as pd\n",
    "\n",
    "import torch\n",
    "import torch.nn as nn\n",
    "import torch.nn.functional as F\n",
    "import torch.optim as optim\n",
    "\n",
    "import seaborn as sns\n",
    "import matplotlib.pyplot as plt\n",
    "from amdex import *\n",
    "\n",
    "sns.set()"
   ]
  },
  {
   "cell_type": "code",
   "execution_count": 8,
   "metadata": {
    "tags": []
   },
   "outputs": [],
   "source": [
    "dataset_id='FD001'\n",
    "# define the columns in the dataset\n",
    "operational_settings = [\"operational_setting_{}\".format(i + 1) for i in range(3)]\n",
    "sensor_columns = [\"sensor_measurement_{}\".format(i + 1) for i in range(23)]\n",
    "cols = [\"engine_no\", \"time_in_cycles\"] + operational_settings + sensor_columns\n",
    "\n",
    "# load the data\n",
    "dirname = os.getcwd()\n",
    "folder_path = os.path.join(dirname, \"data\")\n",
    "\n",
    "train_path = os.path.join(folder_path, \"train_{}.txt\".format(dataset_id))\n",
    "train_data = pd.read_csv(train_path, delim_whitespace=True, header=None, names=cols)"
   ]
  },
  {
   "cell_type": "code",
   "execution_count": 10,
   "metadata": {
    "tags": []
   },
   "outputs": [],
   "source": [
    "data_folder_path = '/localstorage-trainer/data'"
   ]
  },
  {
   "cell_type": "code",
   "execution_count": 11,
   "metadata": {
    "colab": {},
    "colab_type": "code",
    "id": "RICPXgLi0g0R",
    "tags": []
   },
   "outputs": [],
   "source": [
    "\n",
    "train_data.set_index('time_in_cycles')\n",
    "\n",
    "val_data_path = os.path.join(data_folder_path, 'test_data_val.txt')\n",
    "val_data = pd.read_csv(val_data_path)\n",
    "val_data.set_index('time_in_cycles')\n",
    "\n",
    "test_data_path = os.path.join(data_folder_path, 'test_data_test.txt')\n",
    "test_data = pd.read_csv(test_data_path)\n",
    "test_data.set_index('time_in_cycles')\n",
    "\n",
    "# retrieve the max cycles per engine: RUL\n",
    "train_rul = pd.DataFrame(train_data.groupby('engine_no')['time_in_cycles'].max()).reset_index()\n",
    "# merge the RULs into the training data\n",
    "train_rul.columns = ['engine_no', 'max']\n",
    "train_data = train_data.merge(train_rul, on=['engine_no'], how='left')\n",
    "# add the current RUL for every cycle\n",
    "train_data['RUL'] = train_data['max'] - train_data['time_in_cycles']\n",
    "train_data.drop('max', axis=1, inplace=True)\n",
    "\n",
    "# test and validation data already contains the RUL values\n",
    "\n",
    "# drop the columns not needed\n",
    "cols_nan = train_data.columns[train_data.isna().any()].tolist()\n",
    "cols_const = [ col for col in train_data.columns if len(train_data[col].unique()) <= 2 ]\n",
    "\n",
    "# The operational settings 1 and 2 don´t have a trend and they look like random noise.\n",
    "# Sensors 11, 12, 13 could be removed due to high correlations but it should be tested.\n",
    "# The trend of sensors 9 and 14 depend on the specific engine. Some engines at the end\n",
    "# of life tend to increase while others tend to decrease. What is common about these\n",
    "# two sensors is that the magnitude at the end life gets amplified. We should try\n",
    "# removing both sensors.\n",
    "cols_irrelevant = ['operational_setting_1', 'operational_setting_2', 'sensor_measurement_11', 'sensor_measurement_12', 'sensor_measurement_13']\n",
    "\n",
    "# Drop the columns without or with constant data\n",
    "train_data = train_data.drop(columns=cols_const + cols_nan + cols_irrelevant)\n",
    "val_data = val_data.drop(columns=cols_const + cols_nan + cols_irrelevant)\n",
    "test_data = test_data.drop(columns=cols_const + cols_nan + cols_irrelevant)"
   ]
  },
  {
   "cell_type": "markdown",
   "metadata": {
    "colab_type": "text",
    "id": "S58onfDNdAmc",
    "tags": []
   },
   "source": [
    "## Permission Acquisition"
   ]
  },
  {
   "cell_type": "markdown",
   "metadata": {
    "colab_type": "text",
    "id": "S58onfDNdAmc"
   },
   "source": [
    "<!-- permission = amdex.training_can_be_executed(userid, datasets[], 'algo description')\n",
    "if(permission):\n",
    "    print(\"training can proceed\")\n",
    "else:\n",
    "    print(\"permission denied\") -->"
   ]
  },
  {
   "cell_type": "markdown",
   "metadata": {
    "colab_type": "text",
    "id": "S58onfDNdAmc"
   },
   "source": [
    "## Data Preparation"
   ]
  },
  {
   "cell_type": "code",
   "execution_count": 12,
   "metadata": {
    "colab": {},
    "colab_type": "code",
    "id": "fvj4QbzCXZCT",
    "tags": []
   },
   "outputs": [],
   "source": [
    "# define the columns for training\n",
    "train_data_inputs = train_data.copy()\n",
    "train_data_inputs.drop(columns=['RUL', 'engine_no', 'time_in_cycles'], inplace=True)\n",
    "training_columns = train_data_inputs.columns"
   ]
  },
  {
   "cell_type": "markdown",
   "metadata": {
    "colab_type": "text",
    "id": "1lQGejNWjwWO"
   },
   "source": [
    "### Windowing"
   ]
  },
  {
   "cell_type": "markdown",
   "metadata": {
    "colab_type": "text",
    "id": "KLyLG86M0Ffn"
   },
   "source": [
    "To do our model training we split the data from an engine into rolling windows so we have the dimensions (total number of rows, time steps per window, feature columns).\n",
    "\n",
    "*Engine x for window size 3:*\n",
    "\n",
    "```\n",
    "[1 2 3 4 5 6] -> [1 2 3], [2 3 4], [3 4 5], [4 5 6]\n",
    "```\n",
    "\n",
    "As labels we pick the RUL of the last value in the windowed sequence."
   ]
  },
  {
   "cell_type": "markdown",
   "metadata": {
    "colab_type": "text",
    "id": "Vt4z-bc_0Yr1"
   },
   "source": [
    "By splitting the data into windows we have to drop data samples that are smaller than the window size. This especially means we can not predict RUL values for smaller time series of engine data. An alternative would be to pad sequences so that we can use shorter ones."
   ]
  },
  {
   "cell_type": "code",
   "execution_count": 13,
   "metadata": {
    "colab": {},
    "colab_type": "code",
    "id": "D6hSngDtXC-f",
    "tags": []
   },
   "outputs": [],
   "source": [
    "WINDOW_SIZE = 80\n",
    "BATCH_SIZE = 210"
   ]
  },
  {
   "cell_type": "code",
   "execution_count": 14,
   "metadata": {
    "colab": {},
    "colab_type": "code",
    "id": "YWz7of5dXSr8",
    "tags": []
   },
   "outputs": [],
   "source": [
    "def transform_to_windowed_data(dataset, window_size, window_limit = 0, verbose = True):\n",
    "  \"\"\"Transform the dataset into input windows with a label.\n",
    "\n",
    "  Args:\n",
    "      dataset (DataFrame): The dataset to tranform.\n",
    "      window_size (int): The length of the windows to create.\n",
    "      window_limit (int): The max windows to create for a data subset.\n",
    "\n",
    "  Returns:\n",
    "      (numpy.array, numpy.array): A tuple of features and labels.\n",
    "  \"\"\"\n",
    "  features = []\n",
    "  labels = []\n",
    "\n",
    "  dataset = dataset.set_index('time_in_cycles')\n",
    "  data_per_engine = dataset.groupby('engine_no')\n",
    "\n",
    "  for engine_no, engine_data in data_per_engine:\n",
    "      # skip if the engines cycles are too few\n",
    "      if len(engine_data) < window_size + window_limit -1:\n",
    "        continue\n",
    "\n",
    "      if window_limit != 0:\n",
    "        window_count = window_limit\n",
    "      else:\n",
    "        window_count = len(engine_data) - window_size\n",
    "\n",
    "      for i in range(0, window_count):\n",
    "        # take the last x cycles where x is the window size\n",
    "        start = -window_size - i\n",
    "        end = len(engine_data) - i\n",
    "        inputs = engine_data.iloc[start:end]\n",
    "        # use the RUL of the last cycle as label\n",
    "        outputs = engine_data.iloc[end - 1, -1]\n",
    "\n",
    "        inputs = inputs.drop(['engine_no', 'RUL'], axis=1)\n",
    "\n",
    "        features.append(inputs.values)\n",
    "        labels.append(outputs)\n",
    "\n",
    "  features = np.array(features)\n",
    "  labels = np.array(labels)\n",
    "  labels = np.expand_dims(labels, axis=1)\n",
    "\n",
    "  if verbose:\n",
    "    print(\"{} features with shape {}\".format(len(features), features[0].shape))\n",
    "    print(\"{} labels with shape {}\".format(len(labels), labels.shape))\n",
    "\n",
    "  return features, labels"
   ]
  },
  {
   "cell_type": "code",
   "execution_count": 15,
   "metadata": {
    "colab": {
     "base_uri": "https://localhost:8080/",
     "height": 119
    },
    "colab_type": "code",
    "executionInfo": {
     "elapsed": 41696,
     "status": "ok",
     "timestamp": 1582126828101,
     "user": {
      "displayName": "Matthias Lau",
      "photoUrl": "https://lh3.googleusercontent.com/a-/AAuE7mC6WRAXJoMqa4-OAv4EwNhkeeciSt5GDAExs2YBOg=s64",
      "userId": "11790472444495897059"
     },
     "user_tz": -60
    },
    "id": "NZR_quyYaept",
    "outputId": "771aa845-d484-4225-ff52-36388f5e166e",
    "tags": []
   },
   "outputs": [
    {
     "name": "stdout",
     "output_type": "stream",
     "text": [
      "12631 features with shape (80, 11)\n",
      "12631 labels with shape (12631, 1)\n",
      "2601 features with shape (80, 11)\n",
      "2601 labels with shape (2601, 1)\n",
      "2982 features with shape (80, 11)\n",
      "2982 labels with shape (2982, 1)\n"
     ]
    }
   ],
   "source": [
    "x_train, y_train = transform_to_windowed_data(train_data, WINDOW_SIZE)\n",
    "x_val, y_val = transform_to_windowed_data(val_data, WINDOW_SIZE)\n",
    "x_test, y_test = transform_to_windowed_data(test_data, WINDOW_SIZE)"
   ]
  },
  {
   "cell_type": "markdown",
   "metadata": {
    "colab_type": "text",
    "id": "QQV2DnpgddIq",
    "tags": []
   },
   "source": [
    "### Standardization"
   ]
  },
  {
   "cell_type": "markdown",
   "metadata": {
    "colab_type": "text",
    "id": "Gi5NG6Vfw-yW"
   },
   "source": [
    "The data scaling will be embedded in the model so it could be easily applied to inference as well."
   ]
  },
  {
   "cell_type": "markdown",
   "metadata": {
    "colab_type": "text",
    "id": "HP84vJPW2m0I"
   },
   "source": [
    "### Response Clipping"
   ]
  },
  {
   "cell_type": "markdown",
   "metadata": {
    "colab_type": "text",
    "id": "IaMkCZCH2zpV"
   },
   "source": [
    "Since the degradation in a system will generally remain negligible until after some period of operation time the early and higher RUL values are probably unreasonable. We could tackle this by clipping the RUL values.\n",
    "\n",
    "That means we are fine with our model not correctly predicting RUL values above the *rul_clip_limit*. The model will still correctly identify that these engines but it is kind of cheating as the error for these engines improves."
   ]
  },
  {
   "cell_type": "code",
   "execution_count": 16,
   "metadata": {
    "colab": {},
    "colab_type": "code",
    "id": "qsK2hp6w2uLj",
    "tags": []
   },
   "outputs": [],
   "source": [
    "# clip RUL values\n",
    "rul_clip_limit = 110\n",
    "\n",
    "y_train = y_train.clip(max=rul_clip_limit)\n",
    "y_val = y_val.clip(max=rul_clip_limit)\n",
    "y_test = y_test.clip(max=rul_clip_limit)"
   ]
  },
  {
   "cell_type": "markdown",
   "metadata": {
    "colab_type": "text",
    "id": "gh2YaxoKsHiB"
   },
   "source": [
    "## Model Training"
   ]
  },
  {
   "cell_type": "markdown",
   "metadata": {
    "colab_type": "text",
    "id": "d9dwxhK5a0i6"
   },
   "source": [
    "### Helpers"
   ]
  },
  {
   "cell_type": "code",
   "execution_count": 17,
   "metadata": {
    "colab": {},
    "colab_type": "code",
    "id": "hREayPLsHGzA",
    "tags": []
   },
   "outputs": [],
   "source": [
    "# RMSE implementation\n",
    "def root_mean_squared_error(y_true, y_pred):\n",
    "    return np.sqrt(((y_true - y_pred) ** 2).mean())"
   ]
  },
  {
   "cell_type": "markdown",
   "metadata": {
    "colab_type": "text",
    "id": "9YgTLRF4avmo"
   },
   "source": [
    "### Model Definition"
   ]
  },
  {
   "cell_type": "code",
   "execution_count": 18,
   "metadata": {
    "colab": {},
    "colab_type": "code",
    "id": "geHwiNH1LmE4",
    "tags": []
   },
   "outputs": [],
   "source": [
    "class TurbofanModel(nn.Module):\n",
    "    def __init__(self, train_mean, train_std):\n",
    "        super().__init__()\n",
    "        \n",
    "        self.train_mean = train_mean\n",
    "        self.train_std = train_std\n",
    "\n",
    "        self.fc1 = nn.Linear(len(training_columns), 24)\n",
    "        self.fc2 = nn.Linear(24, 24)\n",
    "        self.fc3 = nn.Linear(24, 24)\n",
    "        self.fc4 = nn.Linear(24, 1)\n",
    "\n",
    "    def to(self, device):\n",
    "        super().to(device)\n",
    "        self.train_mean = self.train_mean.to(device)\n",
    "        self.train_std = self.train_std.to(device)\n",
    "        \n",
    "        return self\n",
    "        \n",
    "    def forward(self, x):\n",
    "        # scale the input\n",
    "        x = (x - self.train_mean) / self.train_std\n",
    "\n",
    "        x = F.relu(self.fc1(x))\n",
    "        x = F.relu(self.fc2(x))\n",
    "        x = F.relu(self.fc3(x))\n",
    "        x = self.fc4(x)\n",
    "        x = x[:, -1, :]\n",
    "        \n",
    "        return x"
   ]
  },
  {
   "cell_type": "markdown",
   "metadata": {
    "colab_type": "text",
    "id": "WSJfEvrZdUwD"
   },
   "source": [
    "### Prepare Data Loader"
   ]
  },
  {
   "cell_type": "code",
   "execution_count": 19,
   "metadata": {
    "colab": {},
    "colab_type": "code",
    "id": "UmkrWZgRfxQ1",
    "tags": []
   },
   "outputs": [],
   "source": [
    "# transform to torch tensor\n",
    "tensor_x_train = torch.Tensor(x_train)\n",
    "tensor_y_train = torch.Tensor(y_train)\n",
    "tensor_x_val = torch.Tensor(x_val)\n",
    "tensor_y_val = torch.Tensor(y_val)\n",
    "tensor_x_test = torch.Tensor(x_test)\n",
    "tensor_y_test = torch.Tensor(y_test)\n",
    "\n",
    "# create datasets for train, test and validation\n",
    "train_dataset = torch.utils.data.TensorDataset(tensor_x_train, tensor_y_train)\n",
    "val_dataset = torch.utils.data.TensorDataset(tensor_x_val, tensor_y_val)\n",
    "test_dataset = torch.utils.data.TensorDataset(tensor_x_test, tensor_y_test)\n",
    "\n",
    "# create data loaders\n",
    "train_loader = torch.utils.data.DataLoader(train_dataset, batch_size=BATCH_SIZE)\n",
    "val_loader = torch.utils.data.DataLoader(val_dataset, batch_size=BATCH_SIZE)\n",
    "test_loader = torch.utils.data.DataLoader(test_dataset, batch_size=BATCH_SIZE)"
   ]
  },
  {
   "cell_type": "markdown",
   "metadata": {
    "colab_type": "text",
    "id": "mBCUoRAZd4ZE"
   },
   "source": [
    "### Initial Training"
   ]
  },
  {
   "cell_type": "code",
   "execution_count": 20,
   "metadata": {
    "colab": {},
    "colab_type": "code",
    "id": "KvrLlKWgLp2u",
    "tags": []
   },
   "outputs": [],
   "source": [
    "def train(model, device, train_loader, optimizer, criterion):\n",
    "    model.train()\n",
    "\n",
    "    running_loss = 0\n",
    "\n",
    "    for batch_idx, (data, target) in enumerate(train_loader):\n",
    "        data, target = data.to(device), target.to(device)\n",
    "        optimizer.zero_grad()\n",
    "\n",
    "        output = model(data)\n",
    "\n",
    "        loss = criterion(output, target)\n",
    "        loss.backward()\n",
    "        optimizer.step()\n",
    "\n",
    "        running_loss += loss.item() * data.size(0)\n",
    "\n",
    "    epoch_loss = running_loss / len(train_loader.dataset)\n",
    "    \n",
    "    return epoch_loss"
   ]
  },
  {
   "cell_type": "code",
   "execution_count": 21,
   "metadata": {
    "colab": {},
    "colab_type": "code",
    "id": "O1ANRoq_JRF8",
    "tags": []
   },
   "outputs": [],
   "source": [
    "def test(model, device, test_loader, criterion):\n",
    "    model.eval()\n",
    "\n",
    "    test_loss = 0\n",
    "\n",
    "    with torch.no_grad():\n",
    "        for data, target in test_loader:\n",
    "            data, target = data.to(device), target.to(device)\n",
    "\n",
    "            output = model(data)\n",
    "\n",
    "            test_loss += criterion(output, target).item() * data.size(0)\n",
    "\n",
    "    test_loss /= len(test_loader.dataset)\n",
    "\n",
    "    return test_loss"
   ]
  },
  {
   "cell_type": "code",
   "execution_count": 22,
   "metadata": {
    "colab": {
     "base_uri": "https://localhost:8080/",
     "height": 1000
    },
    "colab_type": "code",
    "executionInfo": {
     "elapsed": 66010,
     "status": "ok",
     "timestamp": 1582126852618,
     "user": {
      "displayName": "Matthias Lau",
      "photoUrl": "https://lh3.googleusercontent.com/a-/AAuE7mC6WRAXJoMqa4-OAv4EwNhkeeciSt5GDAExs2YBOg=s64",
      "userId": "11790472444495897059"
     },
     "user_tz": -60
    },
    "id": "lqghpzITGwnd",
    "outputId": "248bc826-8389-44dc-d2b5-d565f913ceb6",
    "tags": []
   },
   "outputs": [
    {
     "name": "stdout",
     "output_type": "stream",
     "text": [
      "Epoch: 1/280\tloss: 62.7612\tval_loss: 82.6157\n",
      "Epoch: 2/280\tloss: 54.7979\tval_loss: 53.9081\n",
      "Epoch: 3/280\tloss: 25.1988\tval_loss: 22.4067\n",
      "Epoch: 4/280\tloss: 19.8500\tval_loss: 21.2366\n",
      "Epoch: 5/280\tloss: 18.5795\tval_loss: 20.2504\n",
      "Epoch: 6/280\tloss: 17.6284\tval_loss: 19.4720\n",
      "Epoch: 7/280\tloss: 17.0597\tval_loss: 18.9475\n",
      "Epoch: 8/280\tloss: 16.6739\tval_loss: 18.6001\n",
      "Epoch: 9/280\tloss: 16.3845\tval_loss: 18.2934\n",
      "Epoch: 10/280\tloss: 16.1443\tval_loss: 18.0411\n",
      "Epoch: 11/280\tloss: 15.9420\tval_loss: 17.8085\n",
      "Epoch: 12/280\tloss: 15.7509\tval_loss: 17.5929\n",
      "Epoch: 13/280\tloss: 15.5724\tval_loss: 17.4225\n",
      "Epoch: 14/280\tloss: 15.4142\tval_loss: 17.2558\n",
      "Epoch: 15/280\tloss: 15.2520\tval_loss: 17.0924\n",
      "Epoch: 16/280\tloss: 15.1089\tval_loss: 16.9149\n",
      "Epoch: 17/280\tloss: 14.9586\tval_loss: 16.7619\n",
      "Epoch: 18/280\tloss: 14.8225\tval_loss: 16.6221\n",
      "Epoch: 19/280\tloss: 14.7012\tval_loss: 16.4791\n",
      "Epoch: 20/280\tloss: 14.5775\tval_loss: 16.3476\n",
      "Epoch: 21/280\tloss: 14.4626\tval_loss: 16.2253\n",
      "Epoch: 22/280\tloss: 14.3598\tval_loss: 16.1210\n",
      "Epoch: 23/280\tloss: 14.2706\tval_loss: 16.0086\n",
      "Epoch: 24/280\tloss: 14.1795\tval_loss: 15.9132\n",
      "Epoch: 25/280\tloss: 14.0915\tval_loss: 15.8039\n",
      "Epoch: 26/280\tloss: 14.0120\tval_loss: 15.7073\n",
      "Epoch: 27/280\tloss: 13.9463\tval_loss: 15.6250\n",
      "Epoch: 28/280\tloss: 13.8777\tval_loss: 15.5667\n",
      "Epoch: 29/280\tloss: 13.8190\tval_loss: 15.4820\n",
      "Epoch: 30/280\tloss: 13.7687\tval_loss: 15.4236\n",
      "Epoch: 31/280\tloss: 13.7229\tval_loss: 15.3596\n",
      "Epoch: 32/280\tloss: 13.6813\tval_loss: 15.3160\n",
      "Epoch: 33/280\tloss: 13.6453\tval_loss: 15.2385\n",
      "Epoch: 34/280\tloss: 13.6044\tval_loss: 15.1739\n",
      "Epoch: 35/280\tloss: 13.5711\tval_loss: 15.1410\n",
      "Epoch: 36/280\tloss: 13.5523\tval_loss: 15.1129\n",
      "Epoch: 37/280\tloss: 13.5365\tval_loss: 15.0686\n",
      "Epoch: 38/280\tloss: 13.5190\tval_loss: 15.0452\n",
      "Epoch: 39/280\tloss: 13.5033\tval_loss: 15.0292\n",
      "Epoch: 40/280\tloss: 13.4943\tval_loss: 14.9902\n",
      "Epoch: 41/280\tloss: 13.4756\tval_loss: 14.9674\n",
      "Epoch: 42/280\tloss: 13.4656\tval_loss: 14.9399\n",
      "Epoch: 43/280\tloss: 13.4492\tval_loss: 14.9296\n",
      "Epoch: 44/280\tloss: 13.4432\tval_loss: 14.9008\n",
      "Epoch: 45/280\tloss: 13.4322\tval_loss: 14.8742\n",
      "Epoch: 46/280\tloss: 13.4209\tval_loss: 14.8568\n",
      "Epoch: 47/280\tloss: 13.4148\tval_loss: 14.8415\n",
      "Epoch: 48/280\tloss: 13.4051\tval_loss: 14.8209\n",
      "Epoch: 49/280\tloss: 13.3912\tval_loss: 14.8048\n",
      "Epoch: 50/280\tloss: 13.3846\tval_loss: 14.7871\n",
      "Epoch: 51/280\tloss: 13.3780\tval_loss: 14.7784\n",
      "Epoch: 52/280\tloss: 13.3726\tval_loss: 14.7640\n",
      "Epoch: 53/280\tloss: 13.3642\tval_loss: 14.7443\n",
      "Epoch: 54/280\tloss: 13.3545\tval_loss: 14.7248\n",
      "Epoch: 55/280\tloss: 13.3451\tval_loss: 14.7214\n",
      "Epoch: 56/280\tloss: 13.3387\tval_loss: 14.7122\n",
      "Epoch: 57/280\tloss: 13.3309\tval_loss: 14.7047\n",
      "Epoch: 58/280\tloss: 13.3290\tval_loss: 14.7098\n",
      "Epoch: 59/280\tloss: 13.3287\tval_loss: 14.6949\n",
      "Epoch: 60/280\tloss: 13.3249\tval_loss: 14.6879\n",
      "Epoch: 61/280\tloss: 13.3155\tval_loss: 14.6780\n",
      "Epoch: 62/280\tloss: 13.3061\tval_loss: 14.6628\n",
      "Epoch: 63/280\tloss: 13.3023\tval_loss: 14.6636\n",
      "Epoch: 64/280\tloss: 13.2976\tval_loss: 14.6588\n",
      "Epoch: 65/280\tloss: 13.2951\tval_loss: 14.6455\n",
      "Epoch: 66/280\tloss: 13.2897\tval_loss: 14.6372\n",
      "Epoch: 67/280\tloss: 13.2876\tval_loss: 14.6301\n",
      "Epoch: 68/280\tloss: 13.2839\tval_loss: 14.6211\n",
      "Epoch: 69/280\tloss: 13.2777\tval_loss: 14.6153\n",
      "Epoch: 70/280\tloss: 13.2704\tval_loss: 14.6128\n",
      "Epoch: 71/280\tloss: 13.2662\tval_loss: 14.6053\n",
      "Epoch: 72/280\tloss: 13.2632\tval_loss: 14.6006\n",
      "Epoch: 73/280\tloss: 13.2569\tval_loss: 14.5984\n",
      "Epoch: 74/280\tloss: 13.2507\tval_loss: 14.5890\n",
      "Epoch: 75/280\tloss: 13.2405\tval_loss: 14.5901\n",
      "Epoch: 76/280\tloss: 13.2424\tval_loss: 14.5816\n",
      "Epoch: 77/280\tloss: 13.2349\tval_loss: 14.5766\n",
      "Epoch: 78/280\tloss: 13.2335\tval_loss: 14.5713\n",
      "Epoch: 79/280\tloss: 13.2271\tval_loss: 14.5682\n",
      "Epoch: 80/280\tloss: 13.2201\tval_loss: 14.5685\n",
      "Epoch: 81/280\tloss: 13.2185\tval_loss: 14.5675\n",
      "Epoch: 82/280\tloss: 13.2170\tval_loss: 14.5674\n",
      "Epoch: 83/280\tloss: 13.2182\tval_loss: 14.5616\n",
      "Epoch: 84/280\tloss: 13.2171\tval_loss: 14.5451\n",
      "Epoch: 85/280\tloss: 13.2124\tval_loss: 14.5429\n",
      "Epoch: 86/280\tloss: 13.2087\tval_loss: 14.5408\n",
      "Epoch: 87/280\tloss: 13.2035\tval_loss: 14.5394\n",
      "Epoch: 88/280\tloss: 13.1996\tval_loss: 14.5385\n",
      "Epoch: 89/280\tloss: 13.1986\tval_loss: 14.5347\n",
      "Epoch: 90/280\tloss: 13.1967\tval_loss: 14.5320\n",
      "Epoch: 91/280\tloss: 13.1953\tval_loss: 14.5280\n",
      "Epoch: 92/280\tloss: 13.1926\tval_loss: 14.5288\n",
      "Epoch: 93/280\tloss: 13.1878\tval_loss: 14.5265\n",
      "Epoch: 94/280\tloss: 13.1852\tval_loss: 14.5267\n",
      "Epoch: 95/280\tloss: 13.1837\tval_loss: 14.5154\n",
      "Epoch: 96/280\tloss: 13.1814\tval_loss: 14.5068\n",
      "Epoch: 97/280\tloss: 13.1712\tval_loss: 14.5118\n",
      "Epoch: 98/280\tloss: 13.1746\tval_loss: 14.5045\n",
      "Epoch: 99/280\tloss: 13.1696\tval_loss: 14.5035\n",
      "Epoch: 100/280\tloss: 13.1631\tval_loss: 14.4989\n",
      "Epoch: 101/280\tloss: 13.1586\tval_loss: 14.4951\n",
      "Epoch: 102/280\tloss: 13.1545\tval_loss: 14.4930\n",
      "Epoch: 103/280\tloss: 13.1578\tval_loss: 14.4877\n",
      "Epoch: 104/280\tloss: 13.1489\tval_loss: 14.4891\n",
      "Epoch: 105/280\tloss: 13.1489\tval_loss: 14.4942\n",
      "Epoch: 106/280\tloss: 13.1473\tval_loss: 14.4904\n",
      "Epoch: 107/280\tloss: 13.1431\tval_loss: 14.4900\n",
      "Epoch: 108/280\tloss: 13.1420\tval_loss: 14.4922\n",
      "Epoch: 109/280\tloss: 13.1408\tval_loss: 14.4895\n",
      "Epoch: 110/280\tloss: 13.1388\tval_loss: 14.4873\n",
      "Epoch: 111/280\tloss: 13.1375\tval_loss: 14.4856\n",
      "Epoch: 112/280\tloss: 13.1362\tval_loss: 14.4823\n",
      "Epoch: 113/280\tloss: 13.1327\tval_loss: 14.4765\n",
      "Epoch: 114/280\tloss: 13.1302\tval_loss: 14.4871\n",
      "Epoch: 115/280\tloss: 13.1298\tval_loss: 14.4835\n",
      "Epoch: 116/280\tloss: 13.1273\tval_loss: 14.4803\n",
      "Epoch: 117/280\tloss: 13.1227\tval_loss: 14.4821\n",
      "Epoch: 118/280\tloss: 13.1205\tval_loss: 14.4813\n",
      "Epoch: 119/280\tloss: 13.1181\tval_loss: 14.4896\n",
      "Epoch: 120/280\tloss: 13.1142\tval_loss: 14.4847\n",
      "Epoch: 121/280\tloss: 13.1117\tval_loss: 14.4925\n",
      "Epoch: 122/280\tloss: 13.1097\tval_loss: 14.4933\n",
      "Epoch: 123/280\tloss: 13.1105\tval_loss: 14.4826\n",
      "Epoch: 124/280\tloss: 13.1032\tval_loss: 14.4808\n",
      "Epoch: 125/280\tloss: 13.1027\tval_loss: 14.4815\n",
      "Epoch: 126/280\tloss: 13.0972\tval_loss: 14.4797\n",
      "Epoch: 127/280\tloss: 13.0925\tval_loss: 14.4827\n",
      "Epoch: 128/280\tloss: 13.0915\tval_loss: 14.4748\n",
      "Epoch: 129/280\tloss: 13.0869\tval_loss: 14.4728\n",
      "Epoch: 130/280\tloss: 13.0829\tval_loss: 14.4732\n",
      "Epoch: 131/280\tloss: 13.0817\tval_loss: 14.4713\n",
      "Epoch: 132/280\tloss: 13.0782\tval_loss: 14.4643\n",
      "Epoch: 133/280\tloss: 13.0746\tval_loss: 14.4645\n",
      "Epoch: 134/280\tloss: 13.0693\tval_loss: 14.4620\n",
      "Epoch: 135/280\tloss: 13.0654\tval_loss: 14.4625\n",
      "Epoch: 136/280\tloss: 13.0638\tval_loss: 14.4662\n",
      "Epoch: 137/280\tloss: 13.0583\tval_loss: 14.4543\n",
      "Epoch: 138/280\tloss: 13.0538\tval_loss: 14.4468\n",
      "Epoch: 139/280\tloss: 13.0498\tval_loss: 14.4457\n",
      "Epoch: 140/280\tloss: 13.0470\tval_loss: 14.4483\n",
      "Epoch: 141/280\tloss: 13.0415\tval_loss: 14.4431\n",
      "Epoch: 142/280\tloss: 13.0366\tval_loss: 14.4329\n",
      "Epoch: 143/280\tloss: 13.0343\tval_loss: 14.4295\n",
      "Epoch: 144/280\tloss: 13.0298\tval_loss: 14.4379\n",
      "Epoch: 145/280\tloss: 13.0296\tval_loss: 14.4323\n",
      "Epoch: 146/280\tloss: 13.0260\tval_loss: 14.4248\n",
      "Epoch: 147/280\tloss: 13.0207\tval_loss: 14.4226\n",
      "Epoch: 148/280\tloss: 13.0202\tval_loss: 14.4179\n",
      "Epoch: 149/280\tloss: 13.0149\tval_loss: 14.4246\n",
      "Epoch: 150/280\tloss: 13.0133\tval_loss: 14.4202\n",
      "Epoch: 151/280\tloss: 13.0107\tval_loss: 14.4248\n",
      "Epoch: 152/280\tloss: 13.0122\tval_loss: 14.4167\n",
      "Epoch: 153/280\tloss: 13.0110\tval_loss: 14.4148\n",
      "Epoch: 154/280\tloss: 13.0055\tval_loss: 14.4002\n",
      "Epoch: 155/280\tloss: 13.0027\tval_loss: 14.3946\n",
      "Epoch: 156/280\tloss: 12.9998\tval_loss: 14.3919\n",
      "Epoch: 157/280\tloss: 12.9969\tval_loss: 14.3849\n",
      "Epoch: 158/280\tloss: 12.9934\tval_loss: 14.3832\n",
      "Epoch: 159/280\tloss: 12.9901\tval_loss: 14.3816\n",
      "Epoch: 160/280\tloss: 12.9863\tval_loss: 14.3762\n",
      "Epoch: 161/280\tloss: 12.9823\tval_loss: 14.3610\n",
      "Epoch: 162/280\tloss: 12.9785\tval_loss: 14.3648\n",
      "Epoch: 163/280\tloss: 12.9764\tval_loss: 14.3602\n",
      "Epoch: 164/280\tloss: 12.9738\tval_loss: 14.3470\n",
      "Epoch: 165/280\tloss: 12.9673\tval_loss: 14.3313\n",
      "Epoch: 166/280\tloss: 12.9608\tval_loss: 14.3229\n",
      "Epoch: 167/280\tloss: 12.9568\tval_loss: 14.3200\n",
      "Epoch: 168/280\tloss: 12.9542\tval_loss: 14.3175\n",
      "Epoch: 169/280\tloss: 12.9537\tval_loss: 14.3143\n",
      "Epoch: 170/280\tloss: 12.9495\tval_loss: 14.3212\n",
      "Epoch: 171/280\tloss: 12.9497\tval_loss: 14.3146\n",
      "Epoch: 172/280\tloss: 12.9465\tval_loss: 14.3104\n",
      "Epoch: 173/280\tloss: 12.9456\tval_loss: 14.3109\n",
      "Epoch: 174/280\tloss: 12.9439\tval_loss: 14.3102\n",
      "Epoch: 175/280\tloss: 12.9447\tval_loss: 14.3036\n",
      "Epoch: 176/280\tloss: 12.9395\tval_loss: 14.3107\n",
      "Epoch: 177/280\tloss: 12.9400\tval_loss: 14.3140\n",
      "Epoch: 178/280\tloss: 12.9367\tval_loss: 14.3191\n",
      "Epoch: 179/280\tloss: 12.9326\tval_loss: 14.3170\n",
      "Epoch: 180/280\tloss: 12.9319\tval_loss: 14.3269\n",
      "Epoch: 181/280\tloss: 12.9295\tval_loss: 14.3243\n",
      "Epoch: 182/280\tloss: 12.9277\tval_loss: 14.3274\n",
      "Epoch: 183/280\tloss: 12.9280\tval_loss: 14.3122\n",
      "Epoch: 184/280\tloss: 12.9255\tval_loss: 14.3041\n",
      "Epoch: 185/280\tloss: 12.9197\tval_loss: 14.3048\n",
      "Epoch: 186/280\tloss: 12.9191\tval_loss: 14.3022\n",
      "Epoch: 187/280\tloss: 12.9183\tval_loss: 14.3059\n",
      "Epoch: 188/280\tloss: 12.9137\tval_loss: 14.3119\n",
      "Epoch: 189/280\tloss: 12.9139\tval_loss: 14.3084\n",
      "Epoch: 190/280\tloss: 12.9128\tval_loss: 14.2947\n",
      "Epoch: 191/280\tloss: 12.9100\tval_loss: 14.2994\n",
      "Epoch: 192/280\tloss: 12.9108\tval_loss: 14.2939\n",
      "Epoch: 193/280\tloss: 12.9098\tval_loss: 14.2930\n",
      "Epoch: 194/280\tloss: 12.9078\tval_loss: 14.2924\n",
      "Epoch: 195/280\tloss: 12.9039\tval_loss: 14.2804\n",
      "Epoch: 196/280\tloss: 12.9007\tval_loss: 14.2849\n",
      "Epoch: 197/280\tloss: 12.8995\tval_loss: 14.2815\n",
      "Epoch: 198/280\tloss: 12.8971\tval_loss: 14.2906\n",
      "Epoch: 199/280\tloss: 12.8988\tval_loss: 14.2879\n",
      "Epoch: 200/280\tloss: 12.8944\tval_loss: 14.2878\n",
      "Epoch: 201/280\tloss: 12.8948\tval_loss: 14.2877\n",
      "Epoch: 202/280\tloss: 12.8926\tval_loss: 14.2896\n",
      "Epoch: 203/280\tloss: 12.8921\tval_loss: 14.2905\n",
      "Epoch: 204/280\tloss: 12.8927\tval_loss: 14.3060\n",
      "Epoch: 205/280\tloss: 12.8913\tval_loss: 14.2911\n",
      "Epoch: 206/280\tloss: 12.8913\tval_loss: 14.2771\n",
      "Epoch: 207/280\tloss: 12.8850\tval_loss: 14.2777\n",
      "Epoch: 208/280\tloss: 12.8822\tval_loss: 14.2741\n",
      "Epoch: 209/280\tloss: 12.8815\tval_loss: 14.2731\n",
      "Epoch: 210/280\tloss: 12.8797\tval_loss: 14.2771\n",
      "Epoch: 211/280\tloss: 12.8805\tval_loss: 14.2773\n",
      "Epoch: 212/280\tloss: 12.8756\tval_loss: 14.2644\n",
      "Epoch: 213/280\tloss: 12.8764\tval_loss: 14.2683\n",
      "Epoch: 214/280\tloss: 12.8712\tval_loss: 14.2673\n",
      "Epoch: 215/280\tloss: 12.8704\tval_loss: 14.2761\n",
      "Epoch: 216/280\tloss: 12.8682\tval_loss: 14.2654\n",
      "Epoch: 217/280\tloss: 12.8660\tval_loss: 14.2725\n",
      "Epoch: 218/280\tloss: 12.8640\tval_loss: 14.2652\n",
      "Epoch: 219/280\tloss: 12.8650\tval_loss: 14.2780\n",
      "Epoch: 220/280\tloss: 12.8637\tval_loss: 14.2778\n",
      "Epoch: 221/280\tloss: 12.8647\tval_loss: 14.2674\n",
      "Epoch: 222/280\tloss: 12.8664\tval_loss: 14.2802\n",
      "Epoch: 223/280\tloss: 12.8604\tval_loss: 14.2734\n",
      "Epoch: 224/280\tloss: 12.8581\tval_loss: 14.2809\n",
      "Epoch: 225/280\tloss: 12.8606\tval_loss: 14.2758\n",
      "Epoch: 226/280\tloss: 12.8554\tval_loss: 14.2656\n",
      "Epoch: 227/280\tloss: 12.8524\tval_loss: 14.2654\n",
      "Epoch: 228/280\tloss: 12.8551\tval_loss: 14.2599\n",
      "Epoch: 229/280\tloss: 12.8530\tval_loss: 14.2572\n",
      "Epoch: 230/280\tloss: 12.8493\tval_loss: 14.2666\n",
      "Epoch: 231/280\tloss: 12.8552\tval_loss: 14.2646\n",
      "Epoch: 232/280\tloss: 12.8508\tval_loss: 14.2655\n",
      "Epoch: 233/280\tloss: 12.8550\tval_loss: 14.2576\n",
      "Epoch: 234/280\tloss: 12.8486\tval_loss: 14.2419\n",
      "Epoch: 235/280\tloss: 12.8494\tval_loss: 14.2528\n",
      "Epoch: 236/280\tloss: 12.8491\tval_loss: 14.2396\n",
      "Epoch: 237/280\tloss: 12.8449\tval_loss: 14.2440\n",
      "Epoch: 238/280\tloss: 12.8486\tval_loss: 14.2420\n",
      "Epoch: 239/280\tloss: 12.8475\tval_loss: 14.2422\n",
      "Epoch: 240/280\tloss: 12.8454\tval_loss: 14.2384\n",
      "Epoch: 241/280\tloss: 12.8431\tval_loss: 14.2385\n",
      "Epoch: 242/280\tloss: 12.8423\tval_loss: 14.2590\n",
      "Epoch: 243/280\tloss: 12.8387\tval_loss: 14.2487\n",
      "Epoch: 244/280\tloss: 12.8405\tval_loss: 14.2437\n",
      "Epoch: 245/280\tloss: 12.8355\tval_loss: 14.2378\n",
      "Epoch: 246/280\tloss: 12.8349\tval_loss: 14.2439\n",
      "Epoch: 247/280\tloss: 12.8323\tval_loss: 14.2477\n",
      "Epoch: 248/280\tloss: 12.8338\tval_loss: 14.2404\n",
      "Epoch: 249/280\tloss: 12.8308\tval_loss: 14.2348\n",
      "Epoch: 250/280\tloss: 12.8319\tval_loss: 14.2425\n",
      "Epoch: 251/280\tloss: 12.8300\tval_loss: 14.2481\n",
      "Epoch: 252/280\tloss: 12.8327\tval_loss: 14.2476\n",
      "Epoch: 253/280\tloss: 12.8338\tval_loss: 14.2459\n",
      "Epoch: 254/280\tloss: 12.8348\tval_loss: 14.2482\n",
      "Epoch: 255/280\tloss: 12.8351\tval_loss: 14.2517\n",
      "Epoch: 256/280\tloss: 12.8343\tval_loss: 14.2503\n",
      "Epoch: 257/280\tloss: 12.8338\tval_loss: 14.2460\n",
      "Epoch: 258/280\tloss: 12.8303\tval_loss: 14.2476\n",
      "Epoch: 259/280\tloss: 12.8305\tval_loss: 14.2535\n",
      "Epoch: 260/280\tloss: 12.8333\tval_loss: 14.2598\n",
      "Epoch: 261/280\tloss: 12.8307\tval_loss: 14.2469\n",
      "Epoch: 262/280\tloss: 12.8285\tval_loss: 14.2521\n",
      "Epoch: 263/280\tloss: 12.8282\tval_loss: 14.2562\n",
      "Epoch: 264/280\tloss: 12.8283\tval_loss: 14.2592\n",
      "Epoch: 265/280\tloss: 12.8314\tval_loss: 14.2644\n",
      "Epoch: 266/280\tloss: 12.8277\tval_loss: 14.2546\n",
      "Epoch: 267/280\tloss: 12.8244\tval_loss: 14.2520\n",
      "Epoch: 268/280\tloss: 12.8280\tval_loss: 14.2648\n",
      "Epoch: 269/280\tloss: 12.8261\tval_loss: 14.2608\n",
      "Epoch: 270/280\tloss: 12.8217\tval_loss: 14.2485\n",
      "Epoch: 271/280\tloss: 12.8180\tval_loss: 14.2485\n",
      "Epoch: 272/280\tloss: 12.8184\tval_loss: 14.2512\n",
      "Epoch: 273/280\tloss: 12.8184\tval_loss: 14.2543\n",
      "Epoch: 274/280\tloss: 12.8191\tval_loss: 14.2533\n",
      "Epoch: 275/280\tloss: 12.8195\tval_loss: 14.2654\n",
      "Epoch: 276/280\tloss: 12.8197\tval_loss: 14.2585\n",
      "Epoch: 277/280\tloss: 12.8203\tval_loss: 14.2730\n",
      "Epoch: 278/280\tloss: 12.8216\tval_loss: 14.2709\n",
      "Epoch: 279/280\tloss: 12.8241\tval_loss: 14.2714\n",
      "Epoch: 280/280\tloss: 12.8241\tval_loss: 14.2781\n"
     ]
    }
   ],
   "source": [
    "torch.manual_seed(1)\n",
    "np.random.seed(51)\n",
    "\n",
    "epochs = 280\n",
    "\n",
    "use_cuda = torch.cuda.is_available()\n",
    "device = torch.device(\"cuda\" if use_cuda else \"cpu\")\n",
    "\n",
    "mean = tensor_x_train.mean(0)\n",
    "std = tensor_x_train.std(0)\n",
    "model = TurbofanModel(mean, std).to(device)\n",
    "\n",
    "criterion = nn.L1Loss() # mae\n",
    "optimizer = optim.Adam(model.parameters())\n",
    "\n",
    "history = {}\n",
    "history['epoch'] = []\n",
    "history['loss'] = []\n",
    "history['val_loss'] = []\n",
    "\n",
    "for epoch in range(1, epochs + 1):\n",
    "    train_loss = train(model, device, train_loader, optimizer, criterion)\n",
    "    val_loss = test(model, device, val_loader, criterion)\n",
    "\n",
    "    print('Epoch: {}/{}\\tloss: {:.4f}\\tval_loss: {:.4f}'.format(epoch, epochs, train_loss, val_loss))\n",
    "\n",
    "    history['epoch'].append(epoch)\n",
    "    history['loss'].append(train_loss)\n",
    "    history['val_loss'].append(val_loss)"
   ]
  },
  {
   "cell_type": "code",
   "execution_count": 23,
   "metadata": {
    "colab": {
     "base_uri": "https://localhost:8080/",
     "height": 302
    },
    "colab_type": "code",
    "executionInfo": {
     "elapsed": 66488,
     "status": "ok",
     "timestamp": 1582126853128,
     "user": {
      "displayName": "Matthias Lau",
      "photoUrl": "https://lh3.googleusercontent.com/a-/AAuE7mC6WRAXJoMqa4-OAv4EwNhkeeciSt5GDAExs2YBOg=s64",
      "userId": "11790472444495897059"
     },
     "user_tz": -60
    },
    "id": "Ygq-M1r_RLOT",
    "outputId": "615ad0e5-1445-44ec-beba-34bfc5b08eea",
    "tags": []
   },
   "outputs": [
    {
     "data": {
      "text/plain": [
       "<matplotlib.legend.Legend at 0x7fff710ede90>"
      ]
     },
     "execution_count": 23,
     "metadata": {},
     "output_type": "execute_result"
    },
    {
     "data": {
      "image/png": "[encoded data removed]",
      "text/plain": [
       "<Figure size 640x480 with 1 Axes>"
      ]
     },
     "metadata": {},
     "output_type": "display_data"
    }
   ],
   "source": [
    "plt.figure()\n",
    "plt.xlabel('Epoch')\n",
    "plt.plot(history['epoch'], np.array(history['loss']), label='Train Loss')\n",
    "plt.plot(history['epoch'], np.array(history['val_loss']), label = 'Validation loss')\n",
    "plt.legend()"
   ]
  },
  {
   "cell_type": "markdown",
   "metadata": {
    "colab_type": "text",
    "id": "hKzWYHzmUX-C"
   },
   "source": [
    "## Model Evaluation"
   ]
  },
  {
   "cell_type": "code",
   "execution_count": 24,
   "metadata": {
    "colab": {
     "base_uri": "https://localhost:8080/",
     "height": 336
    },
    "colab_type": "code",
    "executionInfo": {
     "elapsed": 67746,
     "status": "ok",
     "timestamp": 1582126854416,
     "user": {
      "displayName": "Matthias Lau",
      "photoUrl": "https://lh3.googleusercontent.com/a-/AAuE7mC6WRAXJoMqa4-OAv4EwNhkeeciSt5GDAExs2YBOg=s64",
      "userId": "11790472444495897059"
     },
     "user_tz": -60
    },
    "id": "7OcTYtNhEizF",
    "outputId": "17a34af8-bab4-4d22-ced6-e18dab2d7db6",
    "tags": []
   },
   "outputs": [
    {
     "name": "stdout",
     "output_type": "stream",
     "text": [
      "Testing set RMSE:    18.23\n",
      "Validation set RMSE:   19.66\n",
      "Training set RMSE:   18.11\n"
     ]
    },
    {
     "data": {
      "image/png": "[encoded data removed]",
      "text/plain": [
       "<Figure size 500x500 with 1 Axes>"
      ]
     },
     "metadata": {},
     "output_type": "display_data"
    },
    {
     "data": {
      "image/png": "[encoded data removed]",
      "text/plain": [
       "<Figure size 500x500 with 1 Axes>"
      ]
     },
     "metadata": {},
     "output_type": "display_data"
    },
    {
     "data": {
      "image/png": "[encoded data removed]",
      "text/plain": [
       "<Figure size 500x500 with 1 Axes>"
      ]
     },
     "metadata": {},
     "output_type": "display_data"
    }
   ],
   "source": [
    "def plot_res(model, test_data, test_labels, val_data, val_labels, train_data, train_labels):\n",
    "    output_test = model(test_data).to('cpu')\n",
    "    rmse_test = root_mean_squared_error(test_labels, output_test)\n",
    "    output_val = model(val_data).to('cpu')\n",
    "    rmse_val = root_mean_squared_error(val_labels, output_val)\n",
    "    output_train = model(train_data).to('cpu')\n",
    "    rmse_train = root_mean_squared_error(train_labels, output_train)\n",
    "    print(\"Testing set RMSE:  {:7.2f}\".format(rmse_test))\n",
    "    print(\"Validation set RMSE: {:7.2f}\".format(rmse_val))\n",
    "    print(\"Training set RMSE: {:7.2f}\".format(rmse_train))\n",
    "\n",
    "    test_predictions = output_test.flatten()\n",
    "    val_predictions = output_val.flatten()\n",
    "    train_predictions = output_train.flatten()\n",
    "\n",
    "    sns.displot(train_predictions - train_labels.flatten(), label=\"Train\", kde=True)\n",
    "    sns.displot(val_predictions - val_labels.flatten(), label=\"Val\", kde=True)\n",
    "    sns.displot(test_predictions - test_labels.flatten(), label=\"Test\", kde=True)\n",
    "\n",
    "    plt.xlabel(\"Prediction Error\")\n",
    "    plt.legend()\n",
    "    plt.show()\n",
    "\n",
    "tensor_x_train, tensor_x_val, tensor_x_test = tensor_x_train.to(device), tensor_x_val.to(device), tensor_x_test.to(device)\n",
    "\n",
    "with torch.no_grad():\n",
    "    plot_res(model, tensor_x_test, tensor_y_test, tensor_x_val, tensor_y_val, tensor_x_train, tensor_y_train)"
   ]
  },
  {
   "cell_type": "markdown",
   "metadata": {
    "colab_type": "text",
    "id": "pLq7_EO36swu"
   },
   "source": [
    "## Save Model"
   ]
  },
  {
   "cell_type": "code",
   "execution_count": null,
   "metadata": {
    "colab": {
     "base_uri": "https://localhost:8080/",
     "height": 71
    },
    "colab_type": "code",
    "executionInfo": {
     "elapsed": 67727,
     "status": "ok",
     "timestamp": 1582126854419,
     "user": {
      "displayName": "Matthias Lau",
      "photoUrl": "https://lh3.googleusercontent.com/a-/AAuE7mC6WRAXJoMqa4-OAv4EwNhkeeciSt5GDAExs2YBOg=s64",
      "userId": "11790472444495897059"
     },
     "user_tz": -60
    },
    "id": "o9BMgIO83MKE",
    "outputId": "7a69653e-cca2-41c0-f829-c186eb19f7d8",
    "tags": []
   },
   "outputs": [],
   "source": [
    "# save the model to use it for the federated trainer\n",
    "model_data+path=\"\"\n",
    "print(model_data_path, flush=True)\n",
    "torch.save(model.to('cpu'), model_data_path)"
   ]
  },
  {
   "cell_type": "code",
   "execution_count": null,
   "metadata": {
    "colab": {},
    "colab_type": "code",
    "id": "CdDev2Dy7sMc"
   },
   "outputs": [],
   "source": []
  },
  {
   "cell_type": "code",
   "execution_count": null,
   "metadata": {},
   "outputs": [],
   "source": []
  }
 ],
 "metadata": {
  "accelerator": "GPU",
  "colab": {
   "collapsed_sections": [],
   "name": "Federated_Learning_PySyft_InitialTraining.ipynb",
   "provenance": []
  },
  "kernelspec": {
   "display_name": "Python 3 (ipykernel)",
   "language": "python",
   "name": "python3"
  },
  "language_info": {
   "codemirror_mode": {
    "name": "ipython",
    "version": 3
   },
   "file_extension": ".py",
   "mimetype": "text/x-python",
   "name": "python",
   "nbconvert_exporter": "python",
   "pygments_lexer": "ipython3",
   "version": "3.7.6"
  }
 },
 "nbformat": 4,
 "nbformat_minor": 4
}
