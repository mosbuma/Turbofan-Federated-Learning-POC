{
 "cells": [
  {
   "cell_type": "markdown",
   "metadata": {
    "colab_type": "text",
    "id": "DGFrBsJOs8N6"
   },
   "source": [
    "# Turbofan POC - Initial Training and Model Serving\n",
    "\n",
    "This notebook is creating an initial model for predictions of the RUL for our turbofan engines."
   ]
  },
  {
   "cell_type": "markdown",
   "metadata": {
    "colab_type": "text",
    "id": "teKaiaP8A-pN"
   },
   "source": [
    "## Imports and Data Preprocessing"
   ]
  },
  {
   "cell_type": "code",
   "execution_count": null,
   "metadata": {
    "colab": {
     "base_uri": "https://localhost:8080/",
     "height": 156
    },
    "colab_type": "code",
    "executionInfo": {
     "elapsed": 26981,
     "status": "ok",
     "timestamp": 1582126813186,
     "user": {
      "displayName": "Matthias Lau",
      "photoUrl": "https://lh3.googleusercontent.com/a-/AAuE7mC6WRAXJoMqa4-OAv4EwNhkeeciSt5GDAExs2YBOg=s64",
      "userId": "11790472444495897059"
     },
     "user_tz": -60
    },
    "id": "1Krj0J83x5O8",
    "outputId": "1b4a0cea-c47e-41e9-82a2-9b816e3765e9",
    "tags": []
   },
   "outputs": [],
   "source": [
    "# check if we are inside google colab\n",
    "try:\n",
    "    from google.colab import drive\n",
    "    # mount gdrive for importing the data\n",
    "    drive.mount('/content/gdrive', force_remount=True)\n",
    "    # change this path to your notebooks directory inside google drive\n",
    "    %cd /content/gdrive/My\\ Drive/dev/turbofan_poc/notebooks\n",
    "\n",
    "    # set tensorflow version\n",
    "    %tensorflow_version 2.x\n",
    "except:\n",
    "    pass"
   ]
  },
  {
   "cell_type": "code",
   "execution_count": 27,
   "metadata": {
    "colab": {},
    "colab_type": "code",
    "id": "N61mNrV80NVr",
    "tags": []
   },
   "outputs": [],
   "source": [
    "import os\n",
    "import numpy as np\n",
    "import pandas as pd\n",
    "\n",
    "import torch\n",
    "import torch.nn as nn\n",
    "import torch.nn.functional as F\n",
    "import torch.optim as optim\n",
    "\n",
    "import seaborn as sns\n",
    "import matplotlib.pyplot as plt\n",
    "from amdex import *\n",
    "\n",
    "sns.set()"
   ]
  },
  {
   "cell_type": "code",
   "execution_count": 28,
   "metadata": {},
   "outputs": [],
   "source": [
    "data_folder_path = '../localstorage-engine1/' \n",
    "model_data_path = '../localstorage-engine1/train_data_worker_1.txt'\n",
    "\n",
    "train_data_path = os.path.join(data_folder_path, 'train_data_worker_1.txt')"
   ]
  },
  {
   "cell_type": "code",
   "execution_count": 29,
   "metadata": {
    "colab": {},
    "colab_type": "code",
    "id": "RICPXgLi0g0R",
    "tags": []
   },
   "outputs": [],
   "source": [
    "# load the data \n",
    "data_folder_path = 'localstorage-engine1/'\n",
    "model_data_path = 'localstorage-engine1/train_data_worker1.txt'\n",
    "\n",
    "train_data_path = os.path.join(data_folder_path, 'train_data_worker_1.txt')\n",
    "train_data = pd.read_csv(train_data_path)\n",
    "train_data.set_index('time_in_cycles')\n",
    "\n",
    "val_data_path = os.path.join(data_folder_path, 'test_data_val.txt')\n",
    "val_data = pd.read_csv(val_data_path)\n",
    "val_data.set_index('time_in_cycles')\n",
    "\n",
    "test_data_path = os.path.join(data_folder_path, 'test_data_test.txt')\n",
    "test_data = pd.read_csv(test_data_path)\n",
    "test_data.set_index('time_in_cycles')\n",
    "\n",
    "# retrieve the max cycles per engine: RUL\n",
    "train_rul = pd.DataFrame(train_data.groupby('engine_no')['time_in_cycles'].max()).reset_index()\n",
    "# merge the RULs into the training data\n",
    "train_rul.columns = ['engine_no', 'max']\n",
    "train_data = train_data.merge(train_rul, on=['engine_no'], how='left')\n",
    "# add the current RUL for every cycle\n",
    "train_data['RUL'] = train_data['max'] - train_data['time_in_cycles']\n",
    "train_data.drop('max', axis=1, inplace=True)\n",
    "\n",
    "# test and validation data already contains the RUL values\n",
    "\n",
    "# drop the columns not needed\n",
    "cols_nan = train_data.columns[train_data.isna().any()].tolist()\n",
    "cols_const = [ col for col in train_data.columns if len(train_data[col].unique()) <= 2 ]\n",
    "\n",
    "# The operational settings 1 and 2 don´t have a trend and they look like random noise.\n",
    "# Sensors 11, 12, 13 could be removed due to high correlations but it should be tested.\n",
    "# The trend of sensors 9 and 14 depend on the specific engine. Some engines at the end\n",
    "# of life tend to increase while others tend to decrease. What is common about these\n",
    "# two sensors is that the magnitude at the end life gets amplified. We should try\n",
    "# removing both sensors.\n",
    "cols_irrelevant = ['operational_setting_1', 'operational_setting_2', 'sensor_measurement_11', 'sensor_measurement_12', 'sensor_measurement_13']\n",
    "\n",
    "# Drop the columns without or with constant data\n",
    "train_data = train_data.drop(columns=cols_const + cols_nan + cols_irrelevant)\n",
    "val_data = val_data.drop(columns=cols_const + cols_nan + cols_irrelevant)\n",
    "test_data = test_data.drop(columns=cols_const + cols_nan + cols_irrelevant)"
   ]
  },
  {
   "cell_type": "markdown",
   "metadata": {
    "colab_type": "text",
    "id": "S58onfDNdAmc",
    "tags": []
   },
   "source": [
    "## Permission Acquisition"
   ]
  },
  {
   "cell_type": "markdown",
   "metadata": {
    "colab_type": "text",
    "id": "S58onfDNdAmc"
   },
   "source": [
    "<!-- permission = amdex.training_can_be_executed(userid, datasets[], 'algo description')\n",
    "if(permission):\n",
    "    print(\"training can proceed\")\n",
    "else:\n",
    "    print(\"permission denied\") -->"
   ]
  },
  {
   "cell_type": "markdown",
   "metadata": {
    "colab_type": "text",
    "id": "S58onfDNdAmc"
   },
   "source": [
    "## Data Preparation"
   ]
  },
  {
   "cell_type": "code",
   "execution_count": 30,
   "metadata": {
    "colab": {},
    "colab_type": "code",
    "id": "fvj4QbzCXZCT",
    "tags": []
   },
   "outputs": [],
   "source": [
    "# define the columns for training\n",
    "train_data_inputs = train_data.copy()\n",
    "train_data_inputs.drop(columns=['RUL', 'engine_no', 'time_in_cycles'], inplace=True)\n",
    "training_columns = train_data_inputs.columns"
   ]
  },
  {
   "cell_type": "markdown",
   "metadata": {
    "colab_type": "text",
    "id": "1lQGejNWjwWO"
   },
   "source": [
    "### Windowing"
   ]
  },
  {
   "cell_type": "markdown",
   "metadata": {
    "colab_type": "text",
    "id": "KLyLG86M0Ffn"
   },
   "source": [
    "To do our model training we split the data from an engine into rolling windows so we have the dimensions (total number of rows, time steps per window, feature columns).\n",
    "\n",
    "*Engine x for window size 3:*\n",
    "\n",
    "```\n",
    "[1 2 3 4 5 6] -> [1 2 3], [2 3 4], [3 4 5], [4 5 6]\n",
    "```\n",
    "\n",
    "As labels we pick the RUL of the last value in the windowed sequence."
   ]
  },
  {
   "cell_type": "markdown",
   "metadata": {
    "colab_type": "text",
    "id": "Vt4z-bc_0Yr1"
   },
   "source": [
    "By splitting the data into windows we have to drop data samples that are smaller than the window size. This especially means we can not predict RUL values for smaller time series of engine data. An alternative would be to pad sequences so that we can use shorter ones."
   ]
  },
  {
   "cell_type": "code",
   "execution_count": 31,
   "metadata": {
    "colab": {},
    "colab_type": "code",
    "id": "D6hSngDtXC-f",
    "tags": []
   },
   "outputs": [],
   "source": [
    "WINDOW_SIZE = 80\n",
    "BATCH_SIZE = 210"
   ]
  },
  {
   "cell_type": "code",
   "execution_count": 32,
   "metadata": {
    "colab": {},
    "colab_type": "code",
    "id": "YWz7of5dXSr8",
    "tags": []
   },
   "outputs": [],
   "source": [
    "def transform_to_windowed_data(dataset, window_size, window_limit = 0, verbose = True):\n",
    "  \"\"\"Transform the dataset into input windows with a label.\n",
    "\n",
    "  Args:\n",
    "      dataset (DataFrame): The dataset to tranform.\n",
    "      window_size (int): The length of the windows to create.\n",
    "      window_limit (int): The max windows to create for a data subset.\n",
    "\n",
    "  Returns:\n",
    "      (numpy.array, numpy.array): A tuple of features and labels.\n",
    "  \"\"\"\n",
    "  features = []\n",
    "  labels = []\n",
    "\n",
    "  dataset = dataset.set_index('time_in_cycles')\n",
    "  data_per_engine = dataset.groupby('engine_no')\n",
    "\n",
    "  for engine_no, engine_data in data_per_engine:\n",
    "      # skip if the engines cycles are too few\n",
    "      if len(engine_data) < window_size + window_limit -1:\n",
    "        continue\n",
    "\n",
    "      if window_limit != 0:\n",
    "        window_count = window_limit\n",
    "      else:\n",
    "        window_count = len(engine_data) - window_size\n",
    "\n",
    "      for i in range(0, window_count):\n",
    "        # take the last x cycles where x is the window size\n",
    "        start = -window_size - i\n",
    "        end = len(engine_data) - i\n",
    "        inputs = engine_data.iloc[start:end]\n",
    "        # use the RUL of the last cycle as label\n",
    "        outputs = engine_data.iloc[end - 1, -1]\n",
    "\n",
    "        inputs = inputs.drop(['engine_no', 'RUL'], axis=1)\n",
    "\n",
    "        features.append(inputs.values)\n",
    "        labels.append(outputs)\n",
    "\n",
    "  features = np.array(features)\n",
    "  labels = np.array(labels)\n",
    "  labels = np.expand_dims(labels, axis=1)\n",
    "\n",
    "  if verbose:\n",
    "    print(\"{} features with shape {}\".format(len(features), features[0].shape))\n",
    "    print(\"{} labels with shape {}\".format(len(labels), labels.shape))\n",
    "\n",
    "  return features, labels"
   ]
  },
  {
   "cell_type": "code",
   "execution_count": 33,
   "metadata": {
    "colab": {
     "base_uri": "https://localhost:8080/",
     "height": 119
    },
    "colab_type": "code",
    "executionInfo": {
     "elapsed": 41696,
     "status": "ok",
     "timestamp": 1582126828101,
     "user": {
      "displayName": "Matthias Lau",
      "photoUrl": "https://lh3.googleusercontent.com/a-/AAuE7mC6WRAXJoMqa4-OAv4EwNhkeeciSt5GDAExs2YBOg=s64",
      "userId": "11790472444495897059"
     },
     "user_tz": -60
    },
    "id": "NZR_quyYaept",
    "outputId": "771aa845-d484-4225-ff52-36388f5e166e",
    "tags": []
   },
   "outputs": [
    {
     "name": "stdout",
     "output_type": "stream",
     "text": [
      "3426 features with shape (80, 11)\n",
      "3426 labels with shape (3426, 1)\n",
      "2601 features with shape (80, 11)\n",
      "2601 labels with shape (2601, 1)\n",
      "2982 features with shape (80, 11)\n",
      "2982 labels with shape (2982, 1)\n"
     ]
    }
   ],
   "source": [
    "x_train, y_train = transform_to_windowed_data(train_data, WINDOW_SIZE)\n",
    "x_val, y_val = transform_to_windowed_data(val_data, WINDOW_SIZE)\n",
    "x_test, y_test = transform_to_windowed_data(test_data, WINDOW_SIZE)"
   ]
  },
  {
   "cell_type": "markdown",
   "metadata": {
    "colab_type": "text",
    "id": "QQV2DnpgddIq",
    "tags": []
   },
   "source": [
    "### Standardization"
   ]
  },
  {
   "cell_type": "markdown",
   "metadata": {
    "colab_type": "text",
    "id": "Gi5NG6Vfw-yW"
   },
   "source": [
    "The data scaling will be embedded in the model so it could be easily applied to inference as well."
   ]
  },
  {
   "cell_type": "markdown",
   "metadata": {
    "colab_type": "text",
    "id": "HP84vJPW2m0I"
   },
   "source": [
    "### Response Clipping"
   ]
  },
  {
   "cell_type": "markdown",
   "metadata": {
    "colab_type": "text",
    "id": "IaMkCZCH2zpV"
   },
   "source": [
    "Since the degradation in a system will generally remain negligible until after some period of operation time the early and higher RUL values are probably unreasonable. We could tackle this by clipping the RUL values.\n",
    "\n",
    "That means we are fine with our model not correctly predicting RUL values above the *rul_clip_limit*. The model will still correctly identify that these engines but it is kind of cheating as the error for these engines improves."
   ]
  },
  {
   "cell_type": "code",
   "execution_count": 34,
   "metadata": {
    "colab": {},
    "colab_type": "code",
    "id": "qsK2hp6w2uLj",
    "tags": []
   },
   "outputs": [],
   "source": [
    "# clip RUL values\n",
    "rul_clip_limit = 110\n",
    "\n",
    "y_train = y_train.clip(max=rul_clip_limit)\n",
    "y_val = y_val.clip(max=rul_clip_limit)\n",
    "y_test = y_test.clip(max=rul_clip_limit)"
   ]
  },
  {
   "cell_type": "markdown",
   "metadata": {
    "colab_type": "text",
    "id": "gh2YaxoKsHiB"
   },
   "source": [
    "## Model Training"
   ]
  },
  {
   "cell_type": "markdown",
   "metadata": {
    "colab_type": "text",
    "id": "d9dwxhK5a0i6"
   },
   "source": [
    "### Helpers"
   ]
  },
  {
   "cell_type": "code",
   "execution_count": 35,
   "metadata": {
    "colab": {},
    "colab_type": "code",
    "id": "hREayPLsHGzA",
    "tags": []
   },
   "outputs": [],
   "source": [
    "# RMSE implementation\n",
    "def root_mean_squared_error(y_true, y_pred):\n",
    "    return np.sqrt(((y_true - y_pred) ** 2).mean())"
   ]
  },
  {
   "cell_type": "markdown",
   "metadata": {
    "colab_type": "text",
    "id": "9YgTLRF4avmo"
   },
   "source": [
    "### Model Definition"
   ]
  },
  {
   "cell_type": "code",
   "execution_count": 36,
   "metadata": {
    "colab": {},
    "colab_type": "code",
    "id": "geHwiNH1LmE4",
    "tags": []
   },
   "outputs": [],
   "source": [
    "class TurbofanModel(nn.Module):\n",
    "    def __init__(self, train_mean, train_std):\n",
    "        super().__init__()\n",
    "        \n",
    "        self.train_mean = train_mean\n",
    "        self.train_std = train_std\n",
    "\n",
    "        self.fc1 = nn.Linear(len(training_columns), 24)\n",
    "        self.fc2 = nn.Linear(24, 24)\n",
    "        self.fc3 = nn.Linear(24, 24)\n",
    "        self.fc4 = nn.Linear(24, 1)\n",
    "\n",
    "    def to(self, device):\n",
    "        super().to(device)\n",
    "        self.train_mean = self.train_mean.to(device)\n",
    "        self.train_std = self.train_std.to(device)\n",
    "        \n",
    "        return self\n",
    "        \n",
    "    def forward(self, x):\n",
    "        # scale the input\n",
    "        x = (x - self.train_mean) / self.train_std\n",
    "\n",
    "        x = F.relu(self.fc1(x))\n",
    "        x = F.relu(self.fc2(x))\n",
    "        x = F.relu(self.fc3(x))\n",
    "        x = self.fc4(x)\n",
    "        x = x[:, -1, :]\n",
    "        \n",
    "        return x"
   ]
  },
  {
   "cell_type": "markdown",
   "metadata": {
    "colab_type": "text",
    "id": "WSJfEvrZdUwD"
   },
   "source": [
    "### Prepare Data Loader"
   ]
  },
  {
   "cell_type": "code",
   "execution_count": 37,
   "metadata": {
    "colab": {},
    "colab_type": "code",
    "id": "UmkrWZgRfxQ1",
    "tags": []
   },
   "outputs": [],
   "source": [
    "# transform to torch tensor\n",
    "tensor_x_train = torch.Tensor(x_train)\n",
    "tensor_y_train = torch.Tensor(y_train)\n",
    "tensor_x_val = torch.Tensor(x_val)\n",
    "tensor_y_val = torch.Tensor(y_val)\n",
    "tensor_x_test = torch.Tensor(x_test)\n",
    "tensor_y_test = torch.Tensor(y_test)\n",
    "\n",
    "# create datasets for train, test and validation\n",
    "train_dataset = torch.utils.data.TensorDataset(tensor_x_train, tensor_y_train)\n",
    "val_dataset = torch.utils.data.TensorDataset(tensor_x_val, tensor_y_val)\n",
    "test_dataset = torch.utils.data.TensorDataset(tensor_x_test, tensor_y_test)\n",
    "\n",
    "# create data loaders\n",
    "train_loader = torch.utils.data.DataLoader(train_dataset, batch_size=BATCH_SIZE)\n",
    "val_loader = torch.utils.data.DataLoader(val_dataset, batch_size=BATCH_SIZE)\n",
    "test_loader = torch.utils.data.DataLoader(test_dataset, batch_size=BATCH_SIZE)"
   ]
  },
  {
   "cell_type": "markdown",
   "metadata": {
    "colab_type": "text",
    "id": "mBCUoRAZd4ZE"
   },
   "source": [
    "### Initial Training"
   ]
  },
  {
   "cell_type": "code",
   "execution_count": 38,
   "metadata": {
    "colab": {},
    "colab_type": "code",
    "id": "KvrLlKWgLp2u",
    "tags": []
   },
   "outputs": [],
   "source": [
    "def train(model, device, train_loader, optimizer, criterion):\n",
    "    model.train()\n",
    "\n",
    "    running_loss = 0\n",
    "\n",
    "    for batch_idx, (data, target) in enumerate(train_loader):\n",
    "        data, target = data.to(device), target.to(device)\n",
    "        optimizer.zero_grad()\n",
    "\n",
    "        output = model(data)\n",
    "\n",
    "        loss = criterion(output, target)\n",
    "        loss.backward()\n",
    "        optimizer.step()\n",
    "\n",
    "        running_loss += loss.item() * data.size(0)\n",
    "\n",
    "    epoch_loss = running_loss / len(train_loader.dataset)\n",
    "    \n",
    "    return epoch_loss"
   ]
  },
  {
   "cell_type": "code",
   "execution_count": 39,
   "metadata": {
    "colab": {},
    "colab_type": "code",
    "id": "O1ANRoq_JRF8",
    "tags": []
   },
   "outputs": [],
   "source": [
    "def test(model, device, test_loader, criterion):\n",
    "    model.eval()\n",
    "\n",
    "    test_loss = 0\n",
    "\n",
    "    with torch.no_grad():\n",
    "        for data, target in test_loader:\n",
    "            data, target = data.to(device), target.to(device)\n",
    "\n",
    "            output = model(data)\n",
    "\n",
    "            test_loss += criterion(output, target).item() * data.size(0)\n",
    "\n",
    "    test_loss /= len(test_loader.dataset)\n",
    "\n",
    "    return test_loss"
   ]
  },
  {
   "cell_type": "code",
   "execution_count": 40,
   "metadata": {
    "colab": {
     "base_uri": "https://localhost:8080/",
     "height": 1000
    },
    "colab_type": "code",
    "executionInfo": {
     "elapsed": 66010,
     "status": "ok",
     "timestamp": 1582126852618,
     "user": {
      "displayName": "Matthias Lau",
      "photoUrl": "https://lh3.googleusercontent.com/a-/AAuE7mC6WRAXJoMqa4-OAv4EwNhkeeciSt5GDAExs2YBOg=s64",
      "userId": "11790472444495897059"
     },
     "user_tz": -60
    },
    "id": "lqghpzITGwnd",
    "outputId": "248bc826-8389-44dc-d2b5-d565f913ceb6",
    "tags": []
   },
   "outputs": [
    {
     "name": "stdout",
     "output_type": "stream",
     "text": [
      "Epoch: 1/280\tloss: 58.2792\tval_loss: 84.1394\n",
      "Epoch: 2/280\tloss: 58.1508\tval_loss: 83.9468\n",
      "Epoch: 3/280\tloss: 57.8204\tval_loss: 83.3565\n",
      "Epoch: 4/280\tloss: 56.9417\tval_loss: 81.7846\n",
      "Epoch: 5/280\tloss: 54.9372\tval_loss: 77.9719\n",
      "Epoch: 6/280\tloss: 51.2553\tval_loss: 70.3109\n",
      "Epoch: 7/280\tloss: 45.1465\tval_loss: 56.5547\n",
      "Epoch: 8/280\tloss: 34.4758\tval_loss: 34.3123\n",
      "Epoch: 9/280\tloss: 24.5498\tval_loss: 27.9406\n",
      "Epoch: 10/280\tloss: 23.4799\tval_loss: 27.0820\n",
      "Epoch: 11/280\tloss: 22.2553\tval_loss: 26.4981\n",
      "Epoch: 12/280\tloss: 21.4259\tval_loss: 25.4055\n",
      "Epoch: 13/280\tloss: 20.7127\tval_loss: 24.5543\n",
      "Epoch: 14/280\tloss: 20.0678\tval_loss: 23.9111\n",
      "Epoch: 15/280\tloss: 19.4662\tval_loss: 23.2857\n",
      "Epoch: 16/280\tloss: 18.8973\tval_loss: 22.7073\n",
      "Epoch: 17/280\tloss: 18.3440\tval_loss: 22.1193\n",
      "Epoch: 18/280\tloss: 17.8124\tval_loss: 21.5529\n",
      "Epoch: 19/280\tloss: 17.3153\tval_loss: 21.0711\n",
      "Epoch: 20/280\tloss: 16.8643\tval_loss: 20.6300\n",
      "Epoch: 21/280\tloss: 16.4616\tval_loss: 20.2226\n",
      "Epoch: 22/280\tloss: 16.1074\tval_loss: 19.7758\n",
      "Epoch: 23/280\tloss: 15.8012\tval_loss: 19.4506\n",
      "Epoch: 24/280\tloss: 15.5392\tval_loss: 19.1469\n",
      "Epoch: 25/280\tloss: 15.3063\tval_loss: 18.8628\n",
      "Epoch: 26/280\tloss: 15.0993\tval_loss: 18.5987\n",
      "Epoch: 27/280\tloss: 14.9147\tval_loss: 18.3771\n",
      "Epoch: 28/280\tloss: 14.7538\tval_loss: 18.1533\n",
      "Epoch: 29/280\tloss: 14.6136\tval_loss: 17.9737\n",
      "Epoch: 30/280\tloss: 14.4976\tval_loss: 17.8326\n",
      "Epoch: 31/280\tloss: 14.4012\tval_loss: 17.7528\n",
      "Epoch: 32/280\tloss: 14.3189\tval_loss: 17.6399\n",
      "Epoch: 33/280\tloss: 14.2449\tval_loss: 17.5783\n",
      "Epoch: 34/280\tloss: 14.1882\tval_loss: 17.5272\n",
      "Epoch: 35/280\tloss: 14.1378\tval_loss: 17.4833\n",
      "Epoch: 36/280\tloss: 14.0925\tval_loss: 17.4091\n",
      "Epoch: 37/280\tloss: 14.0549\tval_loss: 17.3524\n",
      "Epoch: 38/280\tloss: 14.0197\tval_loss: 17.3314\n",
      "Epoch: 39/280\tloss: 13.9904\tval_loss: 17.2969\n",
      "Epoch: 40/280\tloss: 13.9618\tval_loss: 17.2439\n",
      "Epoch: 41/280\tloss: 13.9333\tval_loss: 17.2178\n",
      "Epoch: 42/280\tloss: 13.9112\tval_loss: 17.1957\n",
      "Epoch: 43/280\tloss: 13.8918\tval_loss: 17.1748\n",
      "Epoch: 44/280\tloss: 13.8719\tval_loss: 17.1686\n",
      "Epoch: 45/280\tloss: 13.8534\tval_loss: 17.1402\n",
      "Epoch: 46/280\tloss: 13.8346\tval_loss: 17.1469\n",
      "Epoch: 47/280\tloss: 13.8201\tval_loss: 17.1268\n",
      "Epoch: 48/280\tloss: 13.8062\tval_loss: 17.0892\n",
      "Epoch: 49/280\tloss: 13.7902\tval_loss: 17.0993\n",
      "Epoch: 50/280\tloss: 13.7791\tval_loss: 17.0434\n",
      "Epoch: 51/280\tloss: 13.7633\tval_loss: 17.0509\n",
      "Epoch: 52/280\tloss: 13.7528\tval_loss: 17.0220\n",
      "Epoch: 53/280\tloss: 13.7396\tval_loss: 17.0244\n",
      "Epoch: 54/280\tloss: 13.7308\tval_loss: 16.9946\n",
      "Epoch: 55/280\tloss: 13.7185\tval_loss: 17.0081\n",
      "Epoch: 56/280\tloss: 13.7102\tval_loss: 16.9765\n",
      "Epoch: 57/280\tloss: 13.6987\tval_loss: 16.9737\n",
      "Epoch: 58/280\tloss: 13.6906\tval_loss: 16.9723\n",
      "Epoch: 59/280\tloss: 13.6822\tval_loss: 16.9651\n",
      "Epoch: 60/280\tloss: 13.6731\tval_loss: 16.9664\n",
      "Epoch: 61/280\tloss: 13.6659\tval_loss: 16.9588\n",
      "Epoch: 62/280\tloss: 13.6579\tval_loss: 16.9589\n",
      "Epoch: 63/280\tloss: 13.6509\tval_loss: 16.9563\n",
      "Epoch: 64/280\tloss: 13.6438\tval_loss: 16.9497\n",
      "Epoch: 65/280\tloss: 13.6366\tval_loss: 16.9445\n",
      "Epoch: 66/280\tloss: 13.6294\tval_loss: 16.9465\n",
      "Epoch: 67/280\tloss: 13.6235\tval_loss: 16.9263\n",
      "Epoch: 68/280\tloss: 13.6152\tval_loss: 16.9458\n",
      "Epoch: 69/280\tloss: 13.6116\tval_loss: 16.9148\n",
      "Epoch: 70/280\tloss: 13.6022\tval_loss: 16.9298\n",
      "Epoch: 71/280\tloss: 13.5987\tval_loss: 16.9050\n",
      "Epoch: 72/280\tloss: 13.5900\tval_loss: 16.9061\n",
      "Epoch: 73/280\tloss: 13.5852\tval_loss: 16.9004\n",
      "Epoch: 74/280\tloss: 13.5795\tval_loss: 16.8889\n",
      "Epoch: 75/280\tloss: 13.5730\tval_loss: 16.8764\n",
      "Epoch: 76/280\tloss: 13.5674\tval_loss: 16.8535\n",
      "Epoch: 77/280\tloss: 13.5598\tval_loss: 16.8776\n",
      "Epoch: 78/280\tloss: 13.5585\tval_loss: 16.8569\n",
      "Epoch: 79/280\tloss: 13.5506\tval_loss: 16.8663\n",
      "Epoch: 80/280\tloss: 13.5477\tval_loss: 16.8443\n",
      "Epoch: 81/280\tloss: 13.5410\tval_loss: 16.8499\n",
      "Epoch: 82/280\tloss: 13.5371\tval_loss: 16.8326\n",
      "Epoch: 83/280\tloss: 13.5318\tval_loss: 16.8417\n",
      "Epoch: 84/280\tloss: 13.5283\tval_loss: 16.8166\n",
      "Epoch: 85/280\tloss: 13.5215\tval_loss: 16.8319\n",
      "Epoch: 86/280\tloss: 13.5187\tval_loss: 16.8198\n",
      "Epoch: 87/280\tloss: 13.5141\tval_loss: 16.8091\n",
      "Epoch: 88/280\tloss: 13.5091\tval_loss: 16.7995\n",
      "Epoch: 89/280\tloss: 13.5041\tval_loss: 16.8244\n",
      "Epoch: 90/280\tloss: 13.5032\tval_loss: 16.7882\n",
      "Epoch: 91/280\tloss: 13.4964\tval_loss: 16.7932\n",
      "Epoch: 92/280\tloss: 13.4935\tval_loss: 16.7961\n",
      "Epoch: 93/280\tloss: 13.4920\tval_loss: 16.7767\n",
      "Epoch: 94/280\tloss: 13.4858\tval_loss: 16.7970\n",
      "Epoch: 95/280\tloss: 13.4847\tval_loss: 16.7777\n",
      "Epoch: 96/280\tloss: 13.4796\tval_loss: 16.7913\n",
      "Epoch: 97/280\tloss: 13.4782\tval_loss: 16.7656\n",
      "Epoch: 98/280\tloss: 13.4725\tval_loss: 16.7797\n",
      "Epoch: 99/280\tloss: 13.4706\tval_loss: 16.7821\n",
      "Epoch: 100/280\tloss: 13.4680\tval_loss: 16.7649\n",
      "Epoch: 101/280\tloss: 13.4636\tval_loss: 16.7832\n",
      "Epoch: 102/280\tloss: 13.4623\tval_loss: 16.7755\n",
      "Epoch: 103/280\tloss: 13.4592\tval_loss: 16.7734\n",
      "Epoch: 104/280\tloss: 13.4560\tval_loss: 16.7863\n",
      "Epoch: 105/280\tloss: 13.4544\tval_loss: 16.7829\n",
      "Epoch: 106/280\tloss: 13.4517\tval_loss: 16.7669\n",
      "Epoch: 107/280\tloss: 13.4478\tval_loss: 16.7876\n",
      "Epoch: 108/280\tloss: 13.4477\tval_loss: 16.7732\n",
      "Epoch: 109/280\tloss: 13.4441\tval_loss: 16.7720\n",
      "Epoch: 110/280\tloss: 13.4414\tval_loss: 16.7846\n",
      "Epoch: 111/280\tloss: 13.4405\tval_loss: 16.7812\n",
      "Epoch: 112/280\tloss: 13.4382\tval_loss: 16.7764\n",
      "Epoch: 113/280\tloss: 13.4353\tval_loss: 16.7850\n",
      "Epoch: 114/280\tloss: 13.4346\tval_loss: 16.7716\n",
      "Epoch: 115/280\tloss: 13.4305\tval_loss: 16.7738\n",
      "Epoch: 116/280\tloss: 13.4291\tval_loss: 16.7644\n",
      "Epoch: 117/280\tloss: 13.4264\tval_loss: 16.7673\n",
      "Epoch: 118/280\tloss: 13.4247\tval_loss: 16.7769\n",
      "Epoch: 119/280\tloss: 13.4238\tval_loss: 16.7658\n",
      "Epoch: 120/280\tloss: 13.4209\tval_loss: 16.7604\n",
      "Epoch: 121/280\tloss: 13.4202\tval_loss: 16.7729\n",
      "Epoch: 122/280\tloss: 13.4182\tval_loss: 16.7587\n",
      "Epoch: 123/280\tloss: 13.4159\tval_loss: 16.7676\n",
      "Epoch: 124/280\tloss: 13.4146\tval_loss: 16.7580\n",
      "Epoch: 125/280\tloss: 13.4126\tval_loss: 16.7560\n",
      "Epoch: 126/280\tloss: 13.4112\tval_loss: 16.7588\n",
      "Epoch: 127/280\tloss: 13.4100\tval_loss: 16.7688\n",
      "Epoch: 128/280\tloss: 13.4092\tval_loss: 16.7584\n",
      "Epoch: 129/280\tloss: 13.4070\tval_loss: 16.7490\n",
      "Epoch: 130/280\tloss: 13.4050\tval_loss: 16.7636\n",
      "Epoch: 131/280\tloss: 13.4048\tval_loss: 16.7530\n",
      "Epoch: 132/280\tloss: 13.4025\tval_loss: 16.7581\n",
      "Epoch: 133/280\tloss: 13.4018\tval_loss: 16.7530\n",
      "Epoch: 134/280\tloss: 13.4003\tval_loss: 16.7506\n",
      "Epoch: 135/280\tloss: 13.3985\tval_loss: 16.7386\n",
      "Epoch: 136/280\tloss: 13.3971\tval_loss: 16.7587\n",
      "Epoch: 137/280\tloss: 13.3978\tval_loss: 16.7527\n",
      "Epoch: 138/280\tloss: 13.3955\tval_loss: 16.7370\n",
      "Epoch: 139/280\tloss: 13.3924\tval_loss: 16.7660\n",
      "Epoch: 140/280\tloss: 13.3949\tval_loss: 16.7302\n",
      "Epoch: 141/280\tloss: 13.3901\tval_loss: 16.7647\n",
      "Epoch: 142/280\tloss: 13.3928\tval_loss: 16.7199\n",
      "Epoch: 143/280\tloss: 13.3867\tval_loss: 16.7739\n",
      "Epoch: 144/280\tloss: 13.3912\tval_loss: 16.7212\n",
      "Epoch: 145/280\tloss: 13.3849\tval_loss: 16.7457\n",
      "Epoch: 146/280\tloss: 13.3858\tval_loss: 16.7378\n",
      "Epoch: 147/280\tloss: 13.3839\tval_loss: 16.7401\n",
      "Epoch: 148/280\tloss: 13.3835\tval_loss: 16.7401\n",
      "Epoch: 149/280\tloss: 13.3821\tval_loss: 16.7350\n",
      "Epoch: 150/280\tloss: 13.3806\tval_loss: 16.7454\n",
      "Epoch: 151/280\tloss: 13.3810\tval_loss: 16.7290\n",
      "Epoch: 152/280\tloss: 13.3773\tval_loss: 16.7593\n",
      "Epoch: 153/280\tloss: 13.3803\tval_loss: 16.7207\n",
      "Epoch: 154/280\tloss: 13.3752\tval_loss: 16.7601\n",
      "Epoch: 155/280\tloss: 13.3783\tval_loss: 16.7274\n",
      "Epoch: 156/280\tloss: 13.3736\tval_loss: 16.7578\n",
      "Epoch: 157/280\tloss: 13.3757\tval_loss: 16.7458\n",
      "Epoch: 158/280\tloss: 13.3734\tval_loss: 16.7547\n",
      "Epoch: 159/280\tloss: 13.3737\tval_loss: 16.7383\n",
      "Epoch: 160/280\tloss: 13.3706\tval_loss: 16.7475\n",
      "Epoch: 161/280\tloss: 13.3712\tval_loss: 16.7411\n",
      "Epoch: 162/280\tloss: 13.3690\tval_loss: 16.7492\n",
      "Epoch: 163/280\tloss: 13.3688\tval_loss: 16.7386\n",
      "Epoch: 164/280\tloss: 13.3666\tval_loss: 16.7341\n",
      "Epoch: 165/280\tloss: 13.3653\tval_loss: 16.7454\n",
      "Epoch: 166/280\tloss: 13.3659\tval_loss: 16.7278\n",
      "Epoch: 167/280\tloss: 13.3627\tval_loss: 16.7431\n",
      "Epoch: 168/280\tloss: 13.3630\tval_loss: 16.7357\n",
      "Epoch: 169/280\tloss: 13.3617\tval_loss: 16.7372\n",
      "Epoch: 170/280\tloss: 13.3607\tval_loss: 16.7269\n",
      "Epoch: 171/280\tloss: 13.3582\tval_loss: 16.7372\n",
      "Epoch: 172/280\tloss: 13.3586\tval_loss: 16.7298\n",
      "Epoch: 173/280\tloss: 13.3563\tval_loss: 16.7239\n",
      "Epoch: 174/280\tloss: 13.3551\tval_loss: 16.7297\n",
      "Epoch: 175/280\tloss: 13.3546\tval_loss: 16.7199\n",
      "Epoch: 176/280\tloss: 13.3526\tval_loss: 16.7351\n",
      "Epoch: 177/280\tloss: 13.3533\tval_loss: 16.7117\n"
     ]
    },
    {
     "name": "stdout",
     "output_type": "stream",
     "text": [
      "Epoch: 178/280\tloss: 13.3505\tval_loss: 16.7259\n",
      "Epoch: 179/280\tloss: 13.3501\tval_loss: 16.7242\n",
      "Epoch: 180/280\tloss: 13.3498\tval_loss: 16.7229\n",
      "Epoch: 181/280\tloss: 13.3482\tval_loss: 16.7154\n",
      "Epoch: 182/280\tloss: 13.3470\tval_loss: 16.7203\n",
      "Epoch: 183/280\tloss: 13.3463\tval_loss: 16.7173\n",
      "Epoch: 184/280\tloss: 13.3446\tval_loss: 16.7182\n",
      "Epoch: 185/280\tloss: 13.3440\tval_loss: 16.7169\n",
      "Epoch: 186/280\tloss: 13.3430\tval_loss: 16.7223\n",
      "Epoch: 187/280\tloss: 13.3427\tval_loss: 16.7128\n",
      "Epoch: 188/280\tloss: 13.3405\tval_loss: 16.7245\n",
      "Epoch: 189/280\tloss: 13.3410\tval_loss: 16.7038\n",
      "Epoch: 190/280\tloss: 13.3381\tval_loss: 16.7111\n",
      "Epoch: 191/280\tloss: 13.3379\tval_loss: 16.7142\n",
      "Epoch: 192/280\tloss: 13.3375\tval_loss: 16.7125\n",
      "Epoch: 193/280\tloss: 13.3367\tval_loss: 16.7090\n",
      "Epoch: 194/280\tloss: 13.3351\tval_loss: 16.7096\n",
      "Epoch: 195/280\tloss: 13.3338\tval_loss: 16.7163\n",
      "Epoch: 196/280\tloss: 13.3340\tval_loss: 16.7024\n",
      "Epoch: 197/280\tloss: 13.3322\tval_loss: 16.7158\n",
      "Epoch: 198/280\tloss: 13.3331\tval_loss: 16.6784\n",
      "Epoch: 199/280\tloss: 13.3282\tval_loss: 16.7147\n",
      "Epoch: 200/280\tloss: 13.3306\tval_loss: 16.7001\n",
      "Epoch: 201/280\tloss: 13.3281\tval_loss: 16.7072\n",
      "Epoch: 202/280\tloss: 13.3287\tval_loss: 16.6977\n",
      "Epoch: 203/280\tloss: 13.3270\tval_loss: 16.6855\n",
      "Epoch: 204/280\tloss: 13.3243\tval_loss: 16.7119\n",
      "Epoch: 205/280\tloss: 13.3270\tval_loss: 16.6591\n",
      "Epoch: 206/280\tloss: 13.3205\tval_loss: 16.7157\n",
      "Epoch: 207/280\tloss: 13.3248\tval_loss: 16.6675\n",
      "Epoch: 208/280\tloss: 13.3187\tval_loss: 16.7010\n",
      "Epoch: 209/280\tloss: 13.3230\tval_loss: 16.6724\n",
      "Epoch: 210/280\tloss: 13.3171\tval_loss: 16.7030\n",
      "Epoch: 211/280\tloss: 13.3214\tval_loss: 16.6599\n",
      "Epoch: 212/280\tloss: 13.3142\tval_loss: 16.7142\n",
      "Epoch: 213/280\tloss: 13.3207\tval_loss: 16.6660\n",
      "Epoch: 214/280\tloss: 13.3138\tval_loss: 16.7037\n",
      "Epoch: 215/280\tloss: 13.3176\tval_loss: 16.6545\n",
      "Epoch: 216/280\tloss: 13.3108\tval_loss: 16.7132\n",
      "Epoch: 217/280\tloss: 13.3176\tval_loss: 16.6540\n",
      "Epoch: 218/280\tloss: 13.3091\tval_loss: 16.7132\n",
      "Epoch: 219/280\tloss: 13.3150\tval_loss: 16.6576\n",
      "Epoch: 220/280\tloss: 13.3079\tval_loss: 16.7201\n",
      "Epoch: 221/280\tloss: 13.3152\tval_loss: 16.6312\n",
      "Epoch: 222/280\tloss: 13.3040\tval_loss: 16.7173\n",
      "Epoch: 223/280\tloss: 13.3113\tval_loss: 16.6564\n",
      "Epoch: 224/280\tloss: 13.3043\tval_loss: 16.7022\n",
      "Epoch: 225/280\tloss: 13.3095\tval_loss: 16.6447\n",
      "Epoch: 226/280\tloss: 13.3013\tval_loss: 16.7135\n",
      "Epoch: 227/280\tloss: 13.3076\tval_loss: 16.6387\n",
      "Epoch: 228/280\tloss: 13.2985\tval_loss: 16.7014\n",
      "Epoch: 229/280\tloss: 13.3046\tval_loss: 16.6507\n",
      "Epoch: 230/280\tloss: 13.2973\tval_loss: 16.6888\n",
      "Epoch: 231/280\tloss: 13.3021\tval_loss: 16.6755\n",
      "Epoch: 232/280\tloss: 13.2993\tval_loss: 16.6564\n",
      "Epoch: 233/280\tloss: 13.2956\tval_loss: 16.6914\n",
      "Epoch: 234/280\tloss: 13.2991\tval_loss: 16.6542\n",
      "Epoch: 235/280\tloss: 13.2929\tval_loss: 16.6607\n",
      "Epoch: 236/280\tloss: 13.2933\tval_loss: 16.6644\n",
      "Epoch: 237/280\tloss: 13.2923\tval_loss: 16.6744\n",
      "Epoch: 238/280\tloss: 13.2914\tval_loss: 16.6789\n",
      "Epoch: 239/280\tloss: 13.2916\tval_loss: 16.6729\n",
      "Epoch: 240/280\tloss: 13.2899\tval_loss: 16.6591\n",
      "Epoch: 241/280\tloss: 13.2862\tval_loss: 16.6560\n",
      "Epoch: 242/280\tloss: 13.2837\tval_loss: 16.6624\n",
      "Epoch: 243/280\tloss: 13.2842\tval_loss: 16.6685\n",
      "Epoch: 244/280\tloss: 13.2842\tval_loss: 16.6705\n",
      "Epoch: 245/280\tloss: 13.2830\tval_loss: 16.6444\n",
      "Epoch: 246/280\tloss: 13.2787\tval_loss: 16.6625\n",
      "Epoch: 247/280\tloss: 13.2790\tval_loss: 16.6497\n",
      "Epoch: 248/280\tloss: 13.2763\tval_loss: 16.6591\n",
      "Epoch: 249/280\tloss: 13.2756\tval_loss: 16.6685\n",
      "Epoch: 250/280\tloss: 13.2757\tval_loss: 16.6402\n",
      "Epoch: 251/280\tloss: 13.2710\tval_loss: 16.6521\n",
      "Epoch: 252/280\tloss: 13.2710\tval_loss: 16.6465\n",
      "Epoch: 253/280\tloss: 13.2704\tval_loss: 16.6589\n",
      "Epoch: 254/280\tloss: 13.2695\tval_loss: 16.6461\n",
      "Epoch: 255/280\tloss: 13.2666\tval_loss: 16.6444\n",
      "Epoch: 256/280\tloss: 13.2655\tval_loss: 16.6429\n",
      "Epoch: 257/280\tloss: 13.2638\tval_loss: 16.6426\n",
      "Epoch: 258/280\tloss: 13.2629\tval_loss: 16.6458\n",
      "Epoch: 259/280\tloss: 13.2605\tval_loss: 16.6405\n",
      "Epoch: 260/280\tloss: 13.2598\tval_loss: 16.6514\n",
      "Epoch: 261/280\tloss: 13.2588\tval_loss: 16.6430\n",
      "Epoch: 262/280\tloss: 13.2559\tval_loss: 16.6305\n",
      "Epoch: 263/280\tloss: 13.2532\tval_loss: 16.6224\n",
      "Epoch: 264/280\tloss: 13.2510\tval_loss: 16.6334\n",
      "Epoch: 265/280\tloss: 13.2517\tval_loss: 16.6420\n",
      "Epoch: 266/280\tloss: 13.2510\tval_loss: 16.6167\n",
      "Epoch: 267/280\tloss: 13.2457\tval_loss: 16.6360\n",
      "Epoch: 268/280\tloss: 13.2469\tval_loss: 16.6400\n",
      "Epoch: 269/280\tloss: 13.2459\tval_loss: 16.6205\n",
      "Epoch: 270/280\tloss: 13.2442\tval_loss: 16.6186\n",
      "Epoch: 271/280\tloss: 13.2401\tval_loss: 16.6143\n",
      "Epoch: 272/280\tloss: 13.2394\tval_loss: 16.6436\n",
      "Epoch: 273/280\tloss: 13.2409\tval_loss: 16.6032\n",
      "Epoch: 274/280\tloss: 13.2351\tval_loss: 16.6202\n",
      "Epoch: 275/280\tloss: 13.2346\tval_loss: 16.6074\n",
      "Epoch: 276/280\tloss: 13.2327\tval_loss: 16.6271\n",
      "Epoch: 277/280\tloss: 13.2325\tval_loss: 16.6236\n",
      "Epoch: 278/280\tloss: 13.2305\tval_loss: 16.5999\n",
      "Epoch: 279/280\tloss: 13.2275\tval_loss: 16.6078\n",
      "Epoch: 280/280\tloss: 13.2275\tval_loss: 16.6105\n"
     ]
    }
   ],
   "source": [
    "torch.manual_seed(1)\n",
    "np.random.seed(51)\n",
    "\n",
    "epochs = 280\n",
    "\n",
    "use_cuda = torch.cuda.is_available()\n",
    "device = torch.device(\"cuda\" if use_cuda else \"cpu\")\n",
    "\n",
    "mean = tensor_x_train.mean(0)\n",
    "std = tensor_x_train.std(0)\n",
    "model = TurbofanModel(mean, std).to(device)\n",
    "\n",
    "criterion = nn.L1Loss() # mae\n",
    "optimizer = optim.Adam(model.parameters())\n",
    "\n",
    "history = {}\n",
    "history['epoch'] = []\n",
    "history['loss'] = []\n",
    "history['val_loss'] = []\n",
    "\n",
    "for epoch in range(1, epochs + 1):\n",
    "    train_loss = train(model, device, train_loader, optimizer, criterion)\n",
    "    val_loss = test(model, device, val_loader, criterion)\n",
    "\n",
    "    print('Epoch: {}/{}\\tloss: {:.4f}\\tval_loss: {:.4f}'.format(epoch, epochs, train_loss, val_loss))\n",
    "\n",
    "    history['epoch'].append(epoch)\n",
    "    history['loss'].append(train_loss)\n",
    "    history['val_loss'].append(val_loss)"
   ]
  },
  {
   "cell_type": "code",
   "execution_count": 41,
   "metadata": {
    "colab": {
     "base_uri": "https://localhost:8080/",
     "height": 302
    },
    "colab_type": "code",
    "executionInfo": {
     "elapsed": 66488,
     "status": "ok",
     "timestamp": 1582126853128,
     "user": {
      "displayName": "Matthias Lau",
      "photoUrl": "https://lh3.googleusercontent.com/a-/AAuE7mC6WRAXJoMqa4-OAv4EwNhkeeciSt5GDAExs2YBOg=s64",
      "userId": "11790472444495897059"
     },
     "user_tz": -60
    },
    "id": "Ygq-M1r_RLOT",
    "outputId": "615ad0e5-1445-44ec-beba-34bfc5b08eea",
    "tags": []
   },
   "outputs": [
    {
     "data": {
      "text/plain": [
       "<matplotlib.legend.Legend at 0x166a52c70>"
      ]
     },
     "execution_count": 41,
     "metadata": {},
     "output_type": "execute_result"
    },
    {
     "data": {
      "image/png": "[encoded data removed]",
      "text/plain": [
       "<Figure size 640x480 with 1 Axes>"
      ]
     },
     "metadata": {},
     "output_type": "display_data"
    }
   ],
   "source": [
    "plt.figure()\n",
    "plt.xlabel('Epoch')\n",
    "plt.plot(history['epoch'], np.array(history['loss']), label='Train Loss')\n",
    "plt.plot(history['epoch'], np.array(history['val_loss']), label = 'Validation loss')\n",
    "plt.legend()"
   ]
  },
  {
   "cell_type": "markdown",
   "metadata": {
    "colab_type": "text",
    "id": "hKzWYHzmUX-C"
   },
   "source": [
    "## Model Evaluation"
   ]
  },
  {
   "cell_type": "code",
   "execution_count": 42,
   "metadata": {
    "colab": {
     "base_uri": "https://localhost:8080/",
     "height": 336
    },
    "colab_type": "code",
    "executionInfo": {
     "elapsed": 67746,
     "status": "ok",
     "timestamp": 1582126854416,
     "user": {
      "displayName": "Matthias Lau",
      "photoUrl": "https://lh3.googleusercontent.com/a-/AAuE7mC6WRAXJoMqa4-OAv4EwNhkeeciSt5GDAExs2YBOg=s64",
      "userId": "11790472444495897059"
     },
     "user_tz": -60
    },
    "id": "7OcTYtNhEizF",
    "outputId": "17a34af8-bab4-4d22-ced6-e18dab2d7db6",
    "tags": []
   },
   "outputs": [
    {
     "name": "stdout",
     "output_type": "stream",
     "text": [
      "Testing set RMSE:    20.23\n",
      "Validation set RMSE:   21.35\n",
      "Training set RMSE:   17.69\n"
     ]
    },
    {
     "data": {
      "image/png": "[encoded data removed]",
      "text/plain": [
       "<Figure size 500x500 with 1 Axes>"
      ]
     },
     "metadata": {},
     "output_type": "display_data"
    },
    {
     "data": {
      "image/png": "[encoded data removed]",
      "text/plain": [
       "<Figure size 500x500 with 1 Axes>"
      ]
     },
     "metadata": {},
     "output_type": "display_data"
    },
    {
     "data": {
      "image/png": "[encoded data removed]",
      "text/plain": [
       "<Figure size 500x500 with 1 Axes>"
      ]
     },
     "metadata": {},
     "output_type": "display_data"
    }
   ],
   "source": [
    "def plot_res(model, test_data, test_labels, val_data, val_labels, train_data, train_labels):\n",
    "    output_test = model(test_data).to('cpu')\n",
    "    rmse_test = root_mean_squared_error(test_labels, output_test)\n",
    "    output_val = model(val_data).to('cpu')\n",
    "    rmse_val = root_mean_squared_error(val_labels, output_val)\n",
    "    output_train = model(train_data).to('cpu')\n",
    "    rmse_train = root_mean_squared_error(train_labels, output_train)\n",
    "    print(\"Testing set RMSE:  {:7.2f}\".format(rmse_test))\n",
    "    print(\"Validation set RMSE: {:7.2f}\".format(rmse_val))\n",
    "    print(\"Training set RMSE: {:7.2f}\".format(rmse_train))\n",
    "\n",
    "    test_predictions = output_test.flatten()\n",
    "    val_predictions = output_val.flatten()\n",
    "    train_predictions = output_train.flatten()\n",
    "\n",
    "    sns.displot(train_predictions - train_labels.flatten(), label=\"Train\", kde=True)\n",
    "    sns.displot(val_predictions - val_labels.flatten(), label=\"Val\", kde=True)\n",
    "    sns.displot(test_predictions - test_labels.flatten(), label=\"Test\", kde=True)\n",
    "\n",
    "    plt.xlabel(\"Prediction Error\")\n",
    "    plt.legend()\n",
    "    plt.show()\n",
    "\n",
    "tensor_x_train, tensor_x_val, tensor_x_test = tensor_x_train.to(device), tensor_x_val.to(device), tensor_x_test.to(device)\n",
    "\n",
    "with torch.no_grad():\n",
    "    plot_res(model, tensor_x_test, tensor_y_test, tensor_x_val, tensor_y_val, tensor_x_train, tensor_y_train)"
   ]
  },
  {
   "cell_type": "markdown",
   "metadata": {
    "colab_type": "text",
    "id": "pLq7_EO36swu"
   },
   "source": [
    "## Save Model"
   ]
  },
  {
   "cell_type": "code",
   "execution_count": null,
   "metadata": {
    "colab": {
     "base_uri": "https://localhost:8080/",
     "height": 71
    },
    "colab_type": "code",
    "executionInfo": {
     "elapsed": 67727,
     "status": "ok",
     "timestamp": 1582126854419,
     "user": {
      "displayName": "Matthias Lau",
      "photoUrl": "https://lh3.googleusercontent.com/a-/AAuE7mC6WRAXJoMqa4-OAv4EwNhkeeciSt5GDAExs2YBOg=s64",
      "userId": "11790472444495897059"
     },
     "user_tz": -60
    },
    "id": "o9BMgIO83MKE",
    "outputId": "7a69653e-cca2-41c0-f829-c186eb19f7d8",
    "tags": []
   },
   "outputs": [],
   "source": [
    "# save the model to use it for the federated trainer\n",
    "model_data+path=\"\"\n",
    "print(model_data_path, flush=True)\n",
    "torch.save(model.to('cpu'), model_data_path)"
   ]
  },
  {
   "cell_type": "code",
   "execution_count": null,
   "metadata": {
    "colab": {},
    "colab_type": "code",
    "id": "CdDev2Dy7sMc"
   },
   "outputs": [],
   "source": []
  },
  {
   "cell_type": "code",
   "execution_count": null,
   "metadata": {},
   "outputs": [],
   "source": []
  }
 ],
 "metadata": {
  "accelerator": "GPU",
  "colab": {
   "collapsed_sections": [],
   "name": "Federated_Learning_PySyft_InitialTraining.ipynb",
   "provenance": []
  },
  "kernelspec": {
   "display_name": "Python 3 (ipykernel)",
   "language": "python",
   "name": "python3"
  },
  "language_info": {
   "codemirror_mode": {
    "name": "ipython",
    "version": 3
   },
   "file_extension": ".py",
   "mimetype": "text/x-python",
   "name": "python",
   "nbconvert_exporter": "python",
   "pygments_lexer": "ipython3",
   "version": "3.9.16"
  }
 },
 "nbformat": 4,
 "nbformat_minor": 4
}
