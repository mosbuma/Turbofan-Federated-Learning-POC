{
 "cells": [
  {
   "cell_type": "markdown",
   "metadata": {
    "colab_type": "text",
    "id": "DGFrBsJOs8N6"
   },
   "source": [
    "# Turbofan POC - Initial Training and Model Serving\n",
    "\n",
    "This notebook is creating an initial model for predictions of the RUL for our turbofan engines."
   ]
  },
  {
   "cell_type": "markdown",
   "metadata": {
    "colab_type": "text",
    "id": "teKaiaP8A-pN"
   },
   "source": [
    "## Imports and Data Preprocessing"
   ]
  },
  {
   "cell_type": "code",
   "execution_count": null,
   "metadata": {
    "colab": {
     "base_uri": "https://localhost:8080/",
     "height": 156
    },
    "colab_type": "code",
    "executionInfo": {
     "elapsed": 26981,
     "status": "ok",
     "timestamp": 1582126813186,
     "user": {
      "displayName": "Matthias Lau",
      "photoUrl": "https://lh3.googleusercontent.com/a-/AAuE7mC6WRAXJoMqa4-OAv4EwNhkeeciSt5GDAExs2YBOg=s64",
      "userId": "11790472444495897059"
     },
     "user_tz": -60
    },
    "id": "1Krj0J83x5O8",
    "outputId": "1b4a0cea-c47e-41e9-82a2-9b816e3765e9",
    "tags": []
   },
   "outputs": [],
   "source": [
    "# check if we are inside google colab\n",
    "try:\n",
    "    from google.colab import drive\n",
    "    # mount gdrive for importing the data\n",
    "    drive.mount('/content/gdrive', force_remount=True)\n",
    "    # change this path to your notebooks directory inside google drive\n",
    "    %cd /content/gdrive/My\\ Drive/dev/turbofan_poc/notebooks\n",
    "\n",
    "    # set tensorflow version\n",
    "    %tensorflow_version 2.x\n",
    "except:\n",
    "    pass"
   ]
  },
  {
   "cell_type": "code",
   "execution_count": 1,
   "metadata": {
    "colab": {},
    "colab_type": "code",
    "id": "N61mNrV80NVr",
    "tags": []
   },
   "outputs": [],
   "source": [
    "import os\n",
    "import numpy as np\n",
    "import pandas as pd\n",
    "\n",
    "import torch\n",
    "import torch.nn as nn\n",
    "import torch.nn.functional as F\n",
    "import torch.optim as optim\n",
    "\n",
    "import seaborn as sns\n",
    "import matplotlib.pyplot as plt\n",
    "from amdex import *\n",
    "\n",
    "sns.set()"
   ]
  },
  {
   "cell_type": "code",
   "execution_count": 6,
   "metadata": {
    "colab": {},
    "colab_type": "code",
    "id": "RICPXgLi0g0R",
    "tags": []
   },
   "outputs": [],
   "source": [
    "# load the data \n",
    "data_folder_path = '../localstorage-engine3/'\n",
    "model_data_path = '../localstorage-engine3/train_data_worker_3.txt'\n",
    "\n",
    "train_data_path = os.path.join(data_folder_path, 'train_data_worker_3.txt')\n",
    "train_data = pd.read_csv(train_data_path)\n",
    "train_data.set_index('time_in_cycles')\n",
    "\n",
    "val_data_path = os.path.join(data_folder_path, 'test_data_val.txt')\n",
    "val_data = pd.read_csv(val_data_path)\n",
    "val_data.set_index('time_in_cycles')\n",
    "\n",
    "test_data_path = os.path.join(data_folder_path, 'test_data_test.txt')\n",
    "test_data = pd.read_csv(test_data_path)\n",
    "test_data.set_index('time_in_cycles')\n",
    "\n",
    "# retrieve the max cycles per engine: RUL\n",
    "train_rul = pd.DataFrame(train_data.groupby('engine_no')['time_in_cycles'].max()).reset_index()\n",
    "# merge the RULs into the training data\n",
    "train_rul.columns = ['engine_no', 'max']\n",
    "train_data = train_data.merge(train_rul, on=['engine_no'], how='left')\n",
    "# add the current RUL for every cycle\n",
    "train_data['RUL'] = train_data['max'] - train_data['time_in_cycles']\n",
    "train_data.drop('max', axis=1, inplace=True)\n",
    "\n",
    "# test and validation data already contains the RUL values\n",
    "\n",
    "# drop the columns not needed\n",
    "cols_nan = train_data.columns[train_data.isna().any()].tolist()\n",
    "cols_const = [ col for col in train_data.columns if len(train_data[col].unique()) <= 2 ]\n",
    "\n",
    "# The operational settings 1 and 2 don´t have a trend and they look like random noise.\n",
    "# Sensors 11, 12, 13 could be removed due to high correlations but it should be tested.\n",
    "# The trend of sensors 9 and 14 depend on the specific engine. Some engines at the end\n",
    "# of life tend to increase while others tend to decrease. What is common about these\n",
    "# two sensors is that the magnitude at the end life gets amplified. We should try\n",
    "# removing both sensors.\n",
    "cols_irrelevant = ['operational_setting_1', 'operational_setting_2', 'sensor_measurement_11', 'sensor_measurement_12', 'sensor_measurement_13']\n",
    "\n",
    "# Drop the columns without or with constant data\n",
    "train_data = train_data.drop(columns=cols_const + cols_nan + cols_irrelevant)\n",
    "val_data = val_data.drop(columns=cols_const + cols_nan + cols_irrelevant)\n",
    "test_data = test_data.drop(columns=cols_const + cols_nan + cols_irrelevant)"
   ]
  },
  {
   "cell_type": "markdown",
   "metadata": {
    "colab_type": "text",
    "id": "S58onfDNdAmc",
    "tags": []
   },
   "source": [
    "## Permission Acquisition"
   ]
  },
  {
   "cell_type": "markdown",
   "metadata": {
    "colab_type": "text",
    "id": "S58onfDNdAmc"
   },
   "source": [
    "<!-- permission = amdex.training_can_be_executed(userid, datasets[], 'algo description')\n",
    "if(permission):\n",
    "    print(\"training can proceed\")\n",
    "else:\n",
    "    print(\"permission denied\") -->"
   ]
  },
  {
   "cell_type": "markdown",
   "metadata": {
    "colab_type": "text",
    "id": "S58onfDNdAmc"
   },
   "source": [
    "## Data Preparation"
   ]
  },
  {
   "cell_type": "code",
   "execution_count": 7,
   "metadata": {
    "colab": {},
    "colab_type": "code",
    "id": "fvj4QbzCXZCT",
    "tags": []
   },
   "outputs": [],
   "source": [
    "# define the columns for training\n",
    "train_data_inputs = train_data.copy()\n",
    "train_data_inputs.drop(columns=['RUL', 'engine_no', 'time_in_cycles'], inplace=True)\n",
    "training_columns = train_data_inputs.columns"
   ]
  },
  {
   "cell_type": "markdown",
   "metadata": {
    "colab_type": "text",
    "id": "1lQGejNWjwWO"
   },
   "source": [
    "### Windowing"
   ]
  },
  {
   "cell_type": "markdown",
   "metadata": {
    "colab_type": "text",
    "id": "KLyLG86M0Ffn"
   },
   "source": [
    "To do our model training we split the data from an engine into rolling windows so we have the dimensions (total number of rows, time steps per window, feature columns).\n",
    "\n",
    "*Engine x for window size 3:*\n",
    "\n",
    "```\n",
    "[1 2 3 4 5 6] -> [1 2 3], [2 3 4], [3 4 5], [4 5 6]\n",
    "```\n",
    "\n",
    "As labels we pick the RUL of the last value in the windowed sequence."
   ]
  },
  {
   "cell_type": "markdown",
   "metadata": {
    "colab_type": "text",
    "id": "Vt4z-bc_0Yr1"
   },
   "source": [
    "By splitting the data into windows we have to drop data samples that are smaller than the window size. This especially means we can not predict RUL values for smaller time series of engine data. An alternative would be to pad sequences so that we can use shorter ones."
   ]
  },
  {
   "cell_type": "code",
   "execution_count": 8,
   "metadata": {
    "colab": {},
    "colab_type": "code",
    "id": "D6hSngDtXC-f",
    "tags": []
   },
   "outputs": [],
   "source": [
    "WINDOW_SIZE = 80\n",
    "BATCH_SIZE = 210"
   ]
  },
  {
   "cell_type": "code",
   "execution_count": 9,
   "metadata": {
    "colab": {},
    "colab_type": "code",
    "id": "YWz7of5dXSr8",
    "tags": []
   },
   "outputs": [],
   "source": [
    "def transform_to_windowed_data(dataset, window_size, window_limit = 0, verbose = True):\n",
    "  \"\"\"Transform the dataset into input windows with a label.\n",
    "\n",
    "  Args:\n",
    "      dataset (DataFrame): The dataset to tranform.\n",
    "      window_size (int): The length of the windows to create.\n",
    "      window_limit (int): The max windows to create for a data subset.\n",
    "\n",
    "  Returns:\n",
    "      (numpy.array, numpy.array): A tuple of features and labels.\n",
    "  \"\"\"\n",
    "  features = []\n",
    "  labels = []\n",
    "\n",
    "  dataset = dataset.set_index('time_in_cycles')\n",
    "  data_per_engine = dataset.groupby('engine_no')\n",
    "\n",
    "  for engine_no, engine_data in data_per_engine:\n",
    "      # skip if the engines cycles are too few\n",
    "      if len(engine_data) < window_size + window_limit -1:\n",
    "        continue\n",
    "\n",
    "      if window_limit != 0:\n",
    "        window_count = window_limit\n",
    "      else:\n",
    "        window_count = len(engine_data) - window_size\n",
    "\n",
    "      for i in range(0, window_count):\n",
    "        # take the last x cycles where x is the window size\n",
    "        start = -window_size - i\n",
    "        end = len(engine_data) - i\n",
    "        inputs = engine_data.iloc[start:end]\n",
    "        # use the RUL of the last cycle as label\n",
    "        outputs = engine_data.iloc[end - 1, -1]\n",
    "\n",
    "        inputs = inputs.drop(['engine_no', 'RUL'], axis=1)\n",
    "\n",
    "        features.append(inputs.values)\n",
    "        labels.append(outputs)\n",
    "\n",
    "  features = np.array(features)\n",
    "  labels = np.array(labels)\n",
    "  labels = np.expand_dims(labels, axis=1)\n",
    "\n",
    "  if verbose:\n",
    "    print(\"{} features with shape {}\".format(len(features), features[0].shape))\n",
    "    print(\"{} labels with shape {}\".format(len(labels), labels.shape))\n",
    "\n",
    "  return features, labels"
   ]
  },
  {
   "cell_type": "code",
   "execution_count": 10,
   "metadata": {
    "colab": {
     "base_uri": "https://localhost:8080/",
     "height": 119
    },
    "colab_type": "code",
    "executionInfo": {
     "elapsed": 41696,
     "status": "ok",
     "timestamp": 1582126828101,
     "user": {
      "displayName": "Matthias Lau",
      "photoUrl": "https://lh3.googleusercontent.com/a-/AAuE7mC6WRAXJoMqa4-OAv4EwNhkeeciSt5GDAExs2YBOg=s64",
      "userId": "11790472444495897059"
     },
     "user_tz": -60
    },
    "id": "NZR_quyYaept",
    "outputId": "771aa845-d484-4225-ff52-36388f5e166e",
    "tags": []
   },
   "outputs": [
    {
     "name": "stdout",
     "output_type": "stream",
     "text": [
      "3886 features with shape (80, 11)\n",
      "3886 labels with shape (3886, 1)\n",
      "2601 features with shape (80, 11)\n",
      "2601 labels with shape (2601, 1)\n",
      "2982 features with shape (80, 11)\n",
      "2982 labels with shape (2982, 1)\n"
     ]
    }
   ],
   "source": [
    "x_train, y_train = transform_to_windowed_data(train_data, WINDOW_SIZE)\n",
    "x_val, y_val = transform_to_windowed_data(val_data, WINDOW_SIZE)\n",
    "x_test, y_test = transform_to_windowed_data(test_data, WINDOW_SIZE)"
   ]
  },
  {
   "cell_type": "markdown",
   "metadata": {
    "colab_type": "text",
    "id": "QQV2DnpgddIq",
    "tags": []
   },
   "source": [
    "### Standardization"
   ]
  },
  {
   "cell_type": "markdown",
   "metadata": {
    "colab_type": "text",
    "id": "Gi5NG6Vfw-yW"
   },
   "source": [
    "The data scaling will be embedded in the model so it could be easily applied to inference as well."
   ]
  },
  {
   "cell_type": "markdown",
   "metadata": {
    "colab_type": "text",
    "id": "HP84vJPW2m0I"
   },
   "source": [
    "### Response Clipping"
   ]
  },
  {
   "cell_type": "markdown",
   "metadata": {
    "colab_type": "text",
    "id": "IaMkCZCH2zpV"
   },
   "source": [
    "Since the degradation in a system will generally remain negligible until after some period of operation time the early and higher RUL values are probably unreasonable. We could tackle this by clipping the RUL values.\n",
    "\n",
    "That means we are fine with our model not correctly predicting RUL values above the *rul_clip_limit*. The model will still correctly identify that these engines but it is kind of cheating as the error for these engines improves."
   ]
  },
  {
   "cell_type": "code",
   "execution_count": 11,
   "metadata": {
    "colab": {},
    "colab_type": "code",
    "id": "qsK2hp6w2uLj",
    "tags": []
   },
   "outputs": [],
   "source": [
    "# clip RUL values\n",
    "rul_clip_limit = 110\n",
    "\n",
    "y_train = y_train.clip(max=rul_clip_limit)\n",
    "y_val = y_val.clip(max=rul_clip_limit)\n",
    "y_test = y_test.clip(max=rul_clip_limit)"
   ]
  },
  {
   "cell_type": "markdown",
   "metadata": {
    "colab_type": "text",
    "id": "gh2YaxoKsHiB"
   },
   "source": [
    "## Model Training"
   ]
  },
  {
   "cell_type": "markdown",
   "metadata": {
    "colab_type": "text",
    "id": "d9dwxhK5a0i6"
   },
   "source": [
    "### Helpers"
   ]
  },
  {
   "cell_type": "code",
   "execution_count": 12,
   "metadata": {
    "colab": {},
    "colab_type": "code",
    "id": "hREayPLsHGzA",
    "tags": []
   },
   "outputs": [],
   "source": [
    "# RMSE implementation\n",
    "def root_mean_squared_error(y_true, y_pred):\n",
    "    return np.sqrt(((y_true - y_pred) ** 2).mean())"
   ]
  },
  {
   "cell_type": "markdown",
   "metadata": {
    "colab_type": "text",
    "id": "9YgTLRF4avmo"
   },
   "source": [
    "### Model Definition"
   ]
  },
  {
   "cell_type": "code",
   "execution_count": 13,
   "metadata": {
    "colab": {},
    "colab_type": "code",
    "id": "geHwiNH1LmE4",
    "tags": []
   },
   "outputs": [],
   "source": [
    "class TurbofanModel(nn.Module):\n",
    "    def __init__(self, train_mean, train_std):\n",
    "        super().__init__()\n",
    "        \n",
    "        self.train_mean = train_mean\n",
    "        self.train_std = train_std\n",
    "\n",
    "        self.fc1 = nn.Linear(len(training_columns), 24)\n",
    "        self.fc2 = nn.Linear(24, 24)\n",
    "        self.fc3 = nn.Linear(24, 24)\n",
    "        self.fc4 = nn.Linear(24, 1)\n",
    "\n",
    "    def to(self, device):\n",
    "        super().to(device)\n",
    "        self.train_mean = self.train_mean.to(device)\n",
    "        self.train_std = self.train_std.to(device)\n",
    "        \n",
    "        return self\n",
    "        \n",
    "    def forward(self, x):\n",
    "        # scale the input\n",
    "        x = (x - self.train_mean) / self.train_std\n",
    "\n",
    "        x = F.relu(self.fc1(x))\n",
    "        x = F.relu(self.fc2(x))\n",
    "        x = F.relu(self.fc3(x))\n",
    "        x = self.fc4(x)\n",
    "        x = x[:, -1, :]\n",
    "        \n",
    "        return x"
   ]
  },
  {
   "cell_type": "markdown",
   "metadata": {
    "colab_type": "text",
    "id": "WSJfEvrZdUwD"
   },
   "source": [
    "### Prepare Data Loader"
   ]
  },
  {
   "cell_type": "code",
   "execution_count": 14,
   "metadata": {
    "colab": {},
    "colab_type": "code",
    "id": "UmkrWZgRfxQ1",
    "tags": []
   },
   "outputs": [],
   "source": [
    "# transform to torch tensor\n",
    "tensor_x_train = torch.Tensor(x_train)\n",
    "tensor_y_train = torch.Tensor(y_train)\n",
    "tensor_x_val = torch.Tensor(x_val)\n",
    "tensor_y_val = torch.Tensor(y_val)\n",
    "tensor_x_test = torch.Tensor(x_test)\n",
    "tensor_y_test = torch.Tensor(y_test)\n",
    "\n",
    "# create datasets for train, test and validation\n",
    "train_dataset = torch.utils.data.TensorDataset(tensor_x_train, tensor_y_train)\n",
    "val_dataset = torch.utils.data.TensorDataset(tensor_x_val, tensor_y_val)\n",
    "test_dataset = torch.utils.data.TensorDataset(tensor_x_test, tensor_y_test)\n",
    "\n",
    "# create data loaders\n",
    "train_loader = torch.utils.data.DataLoader(train_dataset, batch_size=BATCH_SIZE)\n",
    "val_loader = torch.utils.data.DataLoader(val_dataset, batch_size=BATCH_SIZE)\n",
    "test_loader = torch.utils.data.DataLoader(test_dataset, batch_size=BATCH_SIZE)"
   ]
  },
  {
   "cell_type": "markdown",
   "metadata": {
    "colab_type": "text",
    "id": "mBCUoRAZd4ZE"
   },
   "source": [
    "### Initial Training"
   ]
  },
  {
   "cell_type": "code",
   "execution_count": 15,
   "metadata": {
    "colab": {},
    "colab_type": "code",
    "id": "KvrLlKWgLp2u",
    "tags": []
   },
   "outputs": [],
   "source": [
    "def train(model, device, train_loader, optimizer, criterion):\n",
    "    model.train()\n",
    "\n",
    "    running_loss = 0\n",
    "\n",
    "    for batch_idx, (data, target) in enumerate(train_loader):\n",
    "        data, target = data.to(device), target.to(device)\n",
    "        optimizer.zero_grad()\n",
    "\n",
    "        output = model(data)\n",
    "\n",
    "        loss = criterion(output, target)\n",
    "        loss.backward()\n",
    "        optimizer.step()\n",
    "\n",
    "        running_loss += loss.item() * data.size(0)\n",
    "\n",
    "    epoch_loss = running_loss / len(train_loader.dataset)\n",
    "    \n",
    "    return epoch_loss"
   ]
  },
  {
   "cell_type": "code",
   "execution_count": 16,
   "metadata": {
    "colab": {},
    "colab_type": "code",
    "id": "O1ANRoq_JRF8",
    "tags": []
   },
   "outputs": [],
   "source": [
    "def test(model, device, test_loader, criterion):\n",
    "    model.eval()\n",
    "\n",
    "    test_loss = 0\n",
    "\n",
    "    with torch.no_grad():\n",
    "        for data, target in test_loader:\n",
    "            data, target = data.to(device), target.to(device)\n",
    "\n",
    "            output = model(data)\n",
    "\n",
    "            test_loss += criterion(output, target).item() * data.size(0)\n",
    "\n",
    "    test_loss /= len(test_loader.dataset)\n",
    "\n",
    "    return test_loss"
   ]
  },
  {
   "cell_type": "code",
   "execution_count": 17,
   "metadata": {
    "colab": {
     "base_uri": "https://localhost:8080/",
     "height": 1000
    },
    "colab_type": "code",
    "executionInfo": {
     "elapsed": 66010,
     "status": "ok",
     "timestamp": 1582126852618,
     "user": {
      "displayName": "Matthias Lau",
      "photoUrl": "https://lh3.googleusercontent.com/a-/AAuE7mC6WRAXJoMqa4-OAv4EwNhkeeciSt5GDAExs2YBOg=s64",
      "userId": "11790472444495897059"
     },
     "user_tz": -60
    },
    "id": "lqghpzITGwnd",
    "outputId": "248bc826-8389-44dc-d2b5-d565f913ceb6",
    "tags": []
   },
   "outputs": [
    {
     "name": "stdout",
     "output_type": "stream",
     "text": [
      "Epoch: 1/280\tloss: 64.5108\tval_loss: 84.1298\n",
      "Epoch: 2/280\tloss: 64.3538\tval_loss: 83.8821\n",
      "Epoch: 3/280\tloss: 63.8832\tval_loss: 83.0507\n",
      "Epoch: 4/280\tloss: 62.5301\tval_loss: 80.6459\n",
      "Epoch: 5/280\tloss: 59.3519\tval_loss: 74.7736\n",
      "Epoch: 6/280\tloss: 53.6522\tval_loss: 63.2255\n",
      "Epoch: 7/280\tloss: 43.6193\tval_loss: 42.2483\n",
      "Epoch: 8/280\tloss: 29.0410\tval_loss: 29.4634\n",
      "Epoch: 9/280\tloss: 25.2859\tval_loss: 28.6469\n",
      "Epoch: 10/280\tloss: 23.9681\tval_loss: 26.9703\n",
      "Epoch: 11/280\tloss: 22.7793\tval_loss: 25.7402\n",
      "Epoch: 12/280\tloss: 21.7837\tval_loss: 24.6761\n",
      "Epoch: 13/280\tloss: 20.9074\tval_loss: 23.7082\n",
      "Epoch: 14/280\tloss: 20.0774\tval_loss: 22.8045\n",
      "Epoch: 15/280\tloss: 19.2762\tval_loss: 21.9671\n",
      "Epoch: 16/280\tloss: 18.5094\tval_loss: 21.1850\n",
      "Epoch: 17/280\tloss: 17.7958\tval_loss: 20.4600\n",
      "Epoch: 18/280\tloss: 17.1631\tval_loss: 19.8116\n",
      "Epoch: 19/280\tloss: 16.6092\tval_loss: 19.2284\n",
      "Epoch: 20/280\tloss: 16.1312\tval_loss: 18.7477\n",
      "Epoch: 21/280\tloss: 15.7089\tval_loss: 18.3156\n",
      "Epoch: 22/280\tloss: 15.3494\tval_loss: 17.9179\n",
      "Epoch: 23/280\tloss: 15.0432\tval_loss: 17.5883\n",
      "Epoch: 24/280\tloss: 14.7756\tval_loss: 17.3001\n",
      "Epoch: 25/280\tloss: 14.5440\tval_loss: 17.0451\n",
      "Epoch: 26/280\tloss: 14.3541\tval_loss: 16.8415\n",
      "Epoch: 27/280\tloss: 14.1938\tval_loss: 16.6640\n",
      "Epoch: 28/280\tloss: 14.0489\tval_loss: 16.5186\n",
      "Epoch: 29/280\tloss: 13.9219\tval_loss: 16.3815\n",
      "Epoch: 30/280\tloss: 13.8200\tval_loss: 16.2715\n",
      "Epoch: 31/280\tloss: 13.7398\tval_loss: 16.1787\n",
      "Epoch: 32/280\tloss: 13.6671\tval_loss: 16.0912\n",
      "Epoch: 33/280\tloss: 13.6067\tval_loss: 16.0109\n",
      "Epoch: 34/280\tloss: 13.5518\tval_loss: 15.9465\n",
      "Epoch: 35/280\tloss: 13.5071\tval_loss: 15.8885\n",
      "Epoch: 36/280\tloss: 13.4663\tval_loss: 15.8342\n",
      "Epoch: 37/280\tloss: 13.4314\tval_loss: 15.7898\n",
      "Epoch: 38/280\tloss: 13.3942\tval_loss: 15.7526\n",
      "Epoch: 39/280\tloss: 13.3659\tval_loss: 15.7209\n",
      "Epoch: 40/280\tloss: 13.3431\tval_loss: 15.6841\n",
      "Epoch: 41/280\tloss: 13.3117\tval_loss: 15.6610\n",
      "Epoch: 42/280\tloss: 13.2912\tval_loss: 15.6345\n",
      "Epoch: 43/280\tloss: 13.2689\tval_loss: 15.6020\n",
      "Epoch: 44/280\tloss: 13.2467\tval_loss: 15.5788\n",
      "Epoch: 45/280\tloss: 13.2243\tval_loss: 15.5592\n",
      "Epoch: 46/280\tloss: 13.2092\tval_loss: 15.5395\n",
      "Epoch: 47/280\tloss: 13.1919\tval_loss: 15.5186\n",
      "Epoch: 48/280\tloss: 13.1713\tval_loss: 15.5042\n",
      "Epoch: 49/280\tloss: 13.1554\tval_loss: 15.4895\n",
      "Epoch: 50/280\tloss: 13.1428\tval_loss: 15.4665\n",
      "Epoch: 51/280\tloss: 13.1255\tval_loss: 15.4562\n",
      "Epoch: 52/280\tloss: 13.1137\tval_loss: 15.4345\n",
      "Epoch: 53/280\tloss: 13.0968\tval_loss: 15.4232\n",
      "Epoch: 54/280\tloss: 13.0844\tval_loss: 15.4090\n",
      "Epoch: 55/280\tloss: 13.0734\tval_loss: 15.3911\n",
      "Epoch: 56/280\tloss: 13.0580\tval_loss: 15.3793\n",
      "Epoch: 57/280\tloss: 13.0492\tval_loss: 15.3629\n",
      "Epoch: 58/280\tloss: 13.0370\tval_loss: 15.3474\n",
      "Epoch: 59/280\tloss: 13.0280\tval_loss: 15.3305\n",
      "Epoch: 60/280\tloss: 13.0161\tval_loss: 15.3191\n",
      "Epoch: 61/280\tloss: 13.0083\tval_loss: 15.3052\n",
      "Epoch: 62/280\tloss: 12.9972\tval_loss: 15.2926\n",
      "Epoch: 63/280\tloss: 12.9887\tval_loss: 15.2819\n",
      "Epoch: 64/280\tloss: 12.9826\tval_loss: 15.2701\n",
      "Epoch: 65/280\tloss: 12.9748\tval_loss: 15.2578\n",
      "Epoch: 66/280\tloss: 12.9618\tval_loss: 15.2509\n",
      "Epoch: 67/280\tloss: 12.9606\tval_loss: 15.2347\n",
      "Epoch: 68/280\tloss: 12.9443\tval_loss: 15.2347\n",
      "Epoch: 69/280\tloss: 12.9477\tval_loss: 15.2174\n",
      "Epoch: 70/280\tloss: 12.9322\tval_loss: 15.2154\n",
      "Epoch: 71/280\tloss: 12.9297\tval_loss: 15.2052\n",
      "Epoch: 72/280\tloss: 12.9217\tval_loss: 15.1990\n",
      "Epoch: 73/280\tloss: 12.9145\tval_loss: 15.1896\n",
      "Epoch: 74/280\tloss: 12.9062\tval_loss: 15.1823\n",
      "Epoch: 75/280\tloss: 12.9026\tval_loss: 15.1713\n",
      "Epoch: 76/280\tloss: 12.8968\tval_loss: 15.1602\n",
      "Epoch: 77/280\tloss: 12.8887\tval_loss: 15.1520\n",
      "Epoch: 78/280\tloss: 12.8813\tval_loss: 15.1501\n",
      "Epoch: 79/280\tloss: 12.8802\tval_loss: 15.1375\n",
      "Epoch: 80/280\tloss: 12.8706\tval_loss: 15.1296\n",
      "Epoch: 81/280\tloss: 12.8672\tval_loss: 15.1210\n",
      "Epoch: 82/280\tloss: 12.8631\tval_loss: 15.1066\n",
      "Epoch: 83/280\tloss: 12.8522\tval_loss: 15.1077\n",
      "Epoch: 84/280\tloss: 12.8526\tval_loss: 15.0966\n",
      "Epoch: 85/280\tloss: 12.8435\tval_loss: 15.0873\n",
      "Epoch: 86/280\tloss: 12.8409\tval_loss: 15.0810\n",
      "Epoch: 87/280\tloss: 12.8357\tval_loss: 15.0736\n",
      "Epoch: 88/280\tloss: 12.8325\tval_loss: 15.0648\n",
      "Epoch: 89/280\tloss: 12.8270\tval_loss: 15.0591\n",
      "Epoch: 90/280\tloss: 12.8241\tval_loss: 15.0481\n",
      "Epoch: 91/280\tloss: 12.8164\tval_loss: 15.0446\n",
      "Epoch: 92/280\tloss: 12.8139\tval_loss: 15.0357\n",
      "Epoch: 93/280\tloss: 12.8055\tval_loss: 15.0340\n",
      "Epoch: 94/280\tloss: 12.8056\tval_loss: 15.0255\n",
      "Epoch: 95/280\tloss: 12.7995\tval_loss: 15.0177\n",
      "Epoch: 96/280\tloss: 12.7949\tval_loss: 15.0117\n",
      "Epoch: 97/280\tloss: 12.7905\tval_loss: 15.0048\n",
      "Epoch: 98/280\tloss: 12.7849\tval_loss: 14.9999\n",
      "Epoch: 99/280\tloss: 12.7824\tval_loss: 14.9928\n",
      "Epoch: 100/280\tloss: 12.7781\tval_loss: 14.9876\n",
      "Epoch: 101/280\tloss: 12.7726\tval_loss: 14.9797\n",
      "Epoch: 102/280\tloss: 12.7693\tval_loss: 14.9769\n",
      "Epoch: 103/280\tloss: 12.7663\tval_loss: 14.9693\n",
      "Epoch: 104/280\tloss: 12.7622\tval_loss: 14.9599\n",
      "Epoch: 105/280\tloss: 12.7576\tval_loss: 14.9562\n",
      "Epoch: 106/280\tloss: 12.7555\tval_loss: 14.9489\n",
      "Epoch: 107/280\tloss: 12.7510\tval_loss: 14.9444\n",
      "Epoch: 108/280\tloss: 12.7486\tval_loss: 14.9367\n",
      "Epoch: 109/280\tloss: 12.7431\tval_loss: 14.9331\n",
      "Epoch: 110/280\tloss: 12.7397\tval_loss: 14.9267\n",
      "Epoch: 111/280\tloss: 12.7367\tval_loss: 14.9231\n",
      "Epoch: 112/280\tloss: 12.7336\tval_loss: 14.9170\n",
      "Epoch: 113/280\tloss: 12.7304\tval_loss: 14.9119\n",
      "Epoch: 114/280\tloss: 12.7272\tval_loss: 14.9054\n",
      "Epoch: 115/280\tloss: 12.7224\tval_loss: 14.9014\n",
      "Epoch: 116/280\tloss: 12.7185\tval_loss: 14.8978\n",
      "Epoch: 117/280\tloss: 12.7165\tval_loss: 14.8916\n",
      "Epoch: 118/280\tloss: 12.7120\tval_loss: 14.8875\n",
      "Epoch: 119/280\tloss: 12.7093\tval_loss: 14.8837\n",
      "Epoch: 120/280\tloss: 12.7072\tval_loss: 14.8773\n",
      "Epoch: 121/280\tloss: 12.7034\tval_loss: 14.8732\n",
      "Epoch: 122/280\tloss: 12.7009\tval_loss: 14.8678\n",
      "Epoch: 123/280\tloss: 12.6971\tval_loss: 14.8611\n",
      "Epoch: 124/280\tloss: 12.6954\tval_loss: 14.8551\n",
      "Epoch: 125/280\tloss: 12.6909\tval_loss: 14.8529\n",
      "Epoch: 126/280\tloss: 12.6859\tval_loss: 14.8520\n",
      "Epoch: 127/280\tloss: 12.6877\tval_loss: 14.8430\n",
      "Epoch: 128/280\tloss: 12.6806\tval_loss: 14.8438\n",
      "Epoch: 129/280\tloss: 12.6809\tval_loss: 14.8358\n",
      "Epoch: 130/280\tloss: 12.6743\tval_loss: 14.8340\n",
      "Epoch: 131/280\tloss: 12.6732\tval_loss: 14.8304\n",
      "Epoch: 132/280\tloss: 12.6726\tval_loss: 14.8200\n",
      "Epoch: 133/280\tloss: 12.6664\tval_loss: 14.8167\n",
      "Epoch: 134/280\tloss: 12.6635\tval_loss: 14.8140\n",
      "Epoch: 135/280\tloss: 12.6616\tval_loss: 14.8115\n",
      "Epoch: 136/280\tloss: 12.6601\tval_loss: 14.8076\n",
      "Epoch: 137/280\tloss: 12.6592\tval_loss: 14.7979\n",
      "Epoch: 138/280\tloss: 12.6522\tval_loss: 14.7982\n",
      "Epoch: 139/280\tloss: 12.6525\tval_loss: 14.7938\n",
      "Epoch: 140/280\tloss: 12.6490\tval_loss: 14.7884\n",
      "Epoch: 141/280\tloss: 12.6455\tval_loss: 14.7878\n",
      "Epoch: 142/280\tloss: 12.6448\tval_loss: 14.7809\n",
      "Epoch: 143/280\tloss: 12.6427\tval_loss: 14.7756\n",
      "Epoch: 144/280\tloss: 12.6392\tval_loss: 14.7710\n",
      "Epoch: 145/280\tloss: 12.6359\tval_loss: 14.7696\n",
      "Epoch: 146/280\tloss: 12.6355\tval_loss: 14.7673\n",
      "Epoch: 147/280\tloss: 12.6311\tval_loss: 14.7656\n",
      "Epoch: 148/280\tloss: 12.6311\tval_loss: 14.7587\n",
      "Epoch: 149/280\tloss: 12.6283\tval_loss: 14.7548\n",
      "Epoch: 150/280\tloss: 12.6246\tval_loss: 14.7515\n",
      "Epoch: 151/280\tloss: 12.6238\tval_loss: 14.7459\n",
      "Epoch: 152/280\tloss: 12.6213\tval_loss: 14.7427\n",
      "Epoch: 153/280\tloss: 12.6179\tval_loss: 14.7406\n",
      "Epoch: 154/280\tloss: 12.6180\tval_loss: 14.7365\n",
      "Epoch: 155/280\tloss: 12.6148\tval_loss: 14.7316\n",
      "Epoch: 156/280\tloss: 12.6136\tval_loss: 14.7310\n",
      "Epoch: 157/280\tloss: 12.6065\tval_loss: 14.7297\n",
      "Epoch: 158/280\tloss: 12.6097\tval_loss: 14.7271\n",
      "Epoch: 159/280\tloss: 12.6048\tval_loss: 14.7234\n",
      "Epoch: 160/280\tloss: 12.6061\tval_loss: 14.7176\n",
      "Epoch: 161/280\tloss: 12.6000\tval_loss: 14.7191\n",
      "Epoch: 162/280\tloss: 12.6031\tval_loss: 14.7099\n",
      "Epoch: 163/280\tloss: 12.5951\tval_loss: 14.7146\n",
      "Epoch: 164/280\tloss: 12.5988\tval_loss: 14.7085\n",
      "Epoch: 165/280\tloss: 12.5930\tval_loss: 14.7072\n",
      "Epoch: 166/280\tloss: 12.5936\tval_loss: 14.7039\n",
      "Epoch: 167/280\tloss: 12.5905\tval_loss: 14.7004\n",
      "Epoch: 168/280\tloss: 12.5902\tval_loss: 14.6947\n",
      "Epoch: 169/280\tloss: 12.5871\tval_loss: 14.6943\n",
      "Epoch: 170/280\tloss: 12.5848\tval_loss: 14.6913\n",
      "Epoch: 171/280\tloss: 12.5852\tval_loss: 14.6864\n",
      "Epoch: 172/280\tloss: 12.5813\tval_loss: 14.6864\n",
      "Epoch: 173/280\tloss: 12.5826\tval_loss: 14.6834\n",
      "Epoch: 174/280\tloss: 12.5795\tval_loss: 14.6798\n",
      "Epoch: 175/280\tloss: 12.5766\tval_loss: 14.6778\n",
      "Epoch: 176/280\tloss: 12.5750\tval_loss: 14.6754\n",
      "Epoch: 177/280\tloss: 12.5735\tval_loss: 14.6714\n"
     ]
    },
    {
     "name": "stdout",
     "output_type": "stream",
     "text": [
      "Epoch: 178/280\tloss: 12.5703\tval_loss: 14.6726\n",
      "Epoch: 179/280\tloss: 12.5705\tval_loss: 14.6706\n",
      "Epoch: 180/280\tloss: 12.5681\tval_loss: 14.6717\n",
      "Epoch: 181/280\tloss: 12.5679\tval_loss: 14.6682\n",
      "Epoch: 182/280\tloss: 12.5663\tval_loss: 14.6630\n",
      "Epoch: 183/280\tloss: 12.5643\tval_loss: 14.6604\n",
      "Epoch: 184/280\tloss: 12.5617\tval_loss: 14.6572\n",
      "Epoch: 185/280\tloss: 12.5609\tval_loss: 14.6547\n",
      "Epoch: 186/280\tloss: 12.5588\tval_loss: 14.6519\n",
      "Epoch: 187/280\tloss: 12.5558\tval_loss: 14.6520\n",
      "Epoch: 188/280\tloss: 12.5555\tval_loss: 14.6488\n",
      "Epoch: 189/280\tloss: 12.5535\tval_loss: 14.6459\n",
      "Epoch: 190/280\tloss: 12.5550\tval_loss: 14.6385\n",
      "Epoch: 191/280\tloss: 12.5503\tval_loss: 14.6363\n",
      "Epoch: 192/280\tloss: 12.5476\tval_loss: 14.6382\n",
      "Epoch: 193/280\tloss: 12.5456\tval_loss: 14.6381\n",
      "Epoch: 194/280\tloss: 12.5469\tval_loss: 14.6317\n",
      "Epoch: 195/280\tloss: 12.5430\tval_loss: 14.6301\n",
      "Epoch: 196/280\tloss: 12.5404\tval_loss: 14.6284\n",
      "Epoch: 197/280\tloss: 12.5397\tval_loss: 14.6236\n",
      "Epoch: 198/280\tloss: 12.5357\tval_loss: 14.6236\n",
      "Epoch: 199/280\tloss: 12.5362\tval_loss: 14.6183\n",
      "Epoch: 200/280\tloss: 12.5331\tval_loss: 14.6163\n",
      "Epoch: 201/280\tloss: 12.5320\tval_loss: 14.6123\n",
      "Epoch: 202/280\tloss: 12.5296\tval_loss: 14.6100\n",
      "Epoch: 203/280\tloss: 12.5276\tval_loss: 14.6061\n",
      "Epoch: 204/280\tloss: 12.5252\tval_loss: 14.6038\n",
      "Epoch: 205/280\tloss: 12.5230\tval_loss: 14.6017\n",
      "Epoch: 206/280\tloss: 12.5241\tval_loss: 14.5975\n",
      "Epoch: 207/280\tloss: 12.5189\tval_loss: 14.5945\n",
      "Epoch: 208/280\tloss: 12.5164\tval_loss: 14.5932\n",
      "Epoch: 209/280\tloss: 12.5162\tval_loss: 14.5922\n",
      "Epoch: 210/280\tloss: 12.5132\tval_loss: 14.5886\n",
      "Epoch: 211/280\tloss: 12.5119\tval_loss: 14.5866\n",
      "Epoch: 212/280\tloss: 12.5091\tval_loss: 14.5862\n",
      "Epoch: 213/280\tloss: 12.5090\tval_loss: 14.5797\n",
      "Epoch: 214/280\tloss: 12.5034\tval_loss: 14.5827\n",
      "Epoch: 215/280\tloss: 12.5055\tval_loss: 14.5767\n",
      "Epoch: 216/280\tloss: 12.5003\tval_loss: 14.5747\n",
      "Epoch: 217/280\tloss: 12.5004\tval_loss: 14.5694\n",
      "Epoch: 218/280\tloss: 12.4963\tval_loss: 14.5666\n",
      "Epoch: 219/280\tloss: 12.4946\tval_loss: 14.5638\n",
      "Epoch: 220/280\tloss: 12.4930\tval_loss: 14.5597\n",
      "Epoch: 221/280\tloss: 12.4897\tval_loss: 14.5576\n",
      "Epoch: 222/280\tloss: 12.4877\tval_loss: 14.5561\n",
      "Epoch: 223/280\tloss: 12.4864\tval_loss: 14.5505\n",
      "Epoch: 224/280\tloss: 12.4830\tval_loss: 14.5494\n",
      "Epoch: 225/280\tloss: 12.4818\tval_loss: 14.5475\n",
      "Epoch: 226/280\tloss: 12.4794\tval_loss: 14.5434\n",
      "Epoch: 227/280\tloss: 12.4773\tval_loss: 14.5403\n",
      "Epoch: 228/280\tloss: 12.4753\tval_loss: 14.5349\n",
      "Epoch: 229/280\tloss: 12.4707\tval_loss: 14.5344\n",
      "Epoch: 230/280\tloss: 12.4698\tval_loss: 14.5309\n",
      "Epoch: 231/280\tloss: 12.4664\tval_loss: 14.5286\n",
      "Epoch: 232/280\tloss: 12.4651\tval_loss: 14.5273\n",
      "Epoch: 233/280\tloss: 12.4645\tval_loss: 14.5224\n",
      "Epoch: 234/280\tloss: 12.4615\tval_loss: 14.5174\n",
      "Epoch: 235/280\tloss: 12.4603\tval_loss: 14.5145\n",
      "Epoch: 236/280\tloss: 12.4553\tval_loss: 14.5109\n",
      "Epoch: 237/280\tloss: 12.4526\tval_loss: 14.5103\n",
      "Epoch: 238/280\tloss: 12.4500\tval_loss: 14.5077\n",
      "Epoch: 239/280\tloss: 12.4490\tval_loss: 14.5035\n",
      "Epoch: 240/280\tloss: 12.4466\tval_loss: 14.5014\n",
      "Epoch: 241/280\tloss: 12.4476\tval_loss: 14.4939\n",
      "Epoch: 242/280\tloss: 12.4429\tval_loss: 14.4920\n",
      "Epoch: 243/280\tloss: 12.4392\tval_loss: 14.4905\n",
      "Epoch: 244/280\tloss: 12.4332\tval_loss: 14.4929\n",
      "Epoch: 245/280\tloss: 12.4356\tval_loss: 14.4874\n",
      "Epoch: 246/280\tloss: 12.4350\tval_loss: 14.4797\n",
      "Epoch: 247/280\tloss: 12.4273\tval_loss: 14.4815\n",
      "Epoch: 248/280\tloss: 12.4282\tval_loss: 14.4765\n",
      "Epoch: 249/280\tloss: 12.4261\tval_loss: 14.4734\n",
      "Epoch: 250/280\tloss: 12.4225\tval_loss: 14.4730\n",
      "Epoch: 251/280\tloss: 12.4206\tval_loss: 14.4682\n",
      "Epoch: 252/280\tloss: 12.4182\tval_loss: 14.4655\n",
      "Epoch: 253/280\tloss: 12.4174\tval_loss: 14.4600\n",
      "Epoch: 254/280\tloss: 12.4134\tval_loss: 14.4584\n",
      "Epoch: 255/280\tloss: 12.4120\tval_loss: 14.4546\n",
      "Epoch: 256/280\tloss: 12.4110\tval_loss: 14.4483\n",
      "Epoch: 257/280\tloss: 12.4099\tval_loss: 14.4425\n",
      "Epoch: 258/280\tloss: 12.4056\tval_loss: 14.4410\n",
      "Epoch: 259/280\tloss: 12.4012\tval_loss: 14.4377\n",
      "Epoch: 260/280\tloss: 12.4006\tval_loss: 14.4343\n",
      "Epoch: 261/280\tloss: 12.3993\tval_loss: 14.4327\n",
      "Epoch: 262/280\tloss: 12.3969\tval_loss: 14.4269\n",
      "Epoch: 263/280\tloss: 12.3947\tval_loss: 14.4220\n",
      "Epoch: 264/280\tloss: 12.3881\tval_loss: 14.4274\n",
      "Epoch: 265/280\tloss: 12.3903\tval_loss: 14.4234\n",
      "Epoch: 266/280\tloss: 12.3863\tval_loss: 14.4178\n",
      "Epoch: 267/280\tloss: 12.3854\tval_loss: 14.4132\n",
      "Epoch: 268/280\tloss: 12.3841\tval_loss: 14.4083\n",
      "Epoch: 269/280\tloss: 12.3797\tval_loss: 14.4086\n",
      "Epoch: 270/280\tloss: 12.3764\tval_loss: 14.4051\n",
      "Epoch: 271/280\tloss: 12.3749\tval_loss: 14.4038\n",
      "Epoch: 272/280\tloss: 12.3743\tval_loss: 14.4019\n",
      "Epoch: 273/280\tloss: 12.3721\tval_loss: 14.3965\n",
      "Epoch: 274/280\tloss: 12.3693\tval_loss: 14.3955\n",
      "Epoch: 275/280\tloss: 12.3680\tval_loss: 14.3910\n",
      "Epoch: 276/280\tloss: 12.3641\tval_loss: 14.3846\n",
      "Epoch: 277/280\tloss: 12.3602\tval_loss: 14.3870\n",
      "Epoch: 278/280\tloss: 12.3606\tval_loss: 14.3844\n",
      "Epoch: 279/280\tloss: 12.3592\tval_loss: 14.3763\n",
      "Epoch: 280/280\tloss: 12.3539\tval_loss: 14.3760\n"
     ]
    }
   ],
   "source": [
    "torch.manual_seed(1)\n",
    "np.random.seed(51)\n",
    "\n",
    "epochs = 280\n",
    "\n",
    "use_cuda = torch.cuda.is_available()\n",
    "device = torch.device(\"cuda\" if use_cuda else \"cpu\")\n",
    "\n",
    "mean = tensor_x_train.mean(0)\n",
    "std = tensor_x_train.std(0)\n",
    "model = TurbofanModel(mean, std).to(device)\n",
    "\n",
    "criterion = nn.L1Loss() # mae\n",
    "optimizer = optim.Adam(model.parameters())\n",
    "\n",
    "history = {}\n",
    "history['epoch'] = []\n",
    "history['loss'] = []\n",
    "history['val_loss'] = []\n",
    "\n",
    "for epoch in range(1, epochs + 1):\n",
    "    train_loss = train(model, device, train_loader, optimizer, criterion)\n",
    "    val_loss = test(model, device, val_loader, criterion)\n",
    "\n",
    "    print('Epoch: {}/{}\\tloss: {:.4f}\\tval_loss: {:.4f}'.format(epoch, epochs, train_loss, val_loss))\n",
    "\n",
    "    history['epoch'].append(epoch)\n",
    "    history['loss'].append(train_loss)\n",
    "    history['val_loss'].append(val_loss)"
   ]
  },
  {
   "cell_type": "code",
   "execution_count": 18,
   "metadata": {
    "colab": {
     "base_uri": "https://localhost:8080/",
     "height": 302
    },
    "colab_type": "code",
    "executionInfo": {
     "elapsed": 66488,
     "status": "ok",
     "timestamp": 1582126853128,
     "user": {
      "displayName": "Matthias Lau",
      "photoUrl": "https://lh3.googleusercontent.com/a-/AAuE7mC6WRAXJoMqa4-OAv4EwNhkeeciSt5GDAExs2YBOg=s64",
      "userId": "11790472444495897059"
     },
     "user_tz": -60
    },
    "id": "Ygq-M1r_RLOT",
    "outputId": "615ad0e5-1445-44ec-beba-34bfc5b08eea",
    "tags": []
   },
   "outputs": [
    {
     "data": {
      "text/plain": [
       "<matplotlib.legend.Legend at 0x17fd97d60>"
      ]
     },
     "execution_count": 18,
     "metadata": {},
     "output_type": "execute_result"
    },
    {
     "data": {
      "image/png": "[encoded data removed]",
      "text/plain": [
       "<Figure size 640x480 with 1 Axes>"
      ]
     },
     "metadata": {},
     "output_type": "display_data"
    }
   ],
   "source": [
    "plt.figure()\n",
    "plt.xlabel('Epoch')\n",
    "plt.plot(history['epoch'], np.array(history['loss']), label='Train Loss')\n",
    "plt.plot(history['epoch'], np.array(history['val_loss']), label = 'Validation loss')\n",
    "plt.legend()"
   ]
  },
  {
   "cell_type": "markdown",
   "metadata": {
    "colab_type": "text",
    "id": "hKzWYHzmUX-C"
   },
   "source": [
    "## Model Evaluation"
   ]
  },
  {
   "cell_type": "code",
   "execution_count": 19,
   "metadata": {
    "colab": {
     "base_uri": "https://localhost:8080/",
     "height": 336
    },
    "colab_type": "code",
    "executionInfo": {
     "elapsed": 67746,
     "status": "ok",
     "timestamp": 1582126854416,
     "user": {
      "displayName": "Matthias Lau",
      "photoUrl": "https://lh3.googleusercontent.com/a-/AAuE7mC6WRAXJoMqa4-OAv4EwNhkeeciSt5GDAExs2YBOg=s64",
      "userId": "11790472444495897059"
     },
     "user_tz": -60
    },
    "id": "7OcTYtNhEizF",
    "outputId": "17a34af8-bab4-4d22-ced6-e18dab2d7db6",
    "tags": []
   },
   "outputs": [
    {
     "name": "stdout",
     "output_type": "stream",
     "text": [
      "Testing set RMSE:    18.31\n",
      "Validation set RMSE:   19.07\n",
      "Training set RMSE:   16.77\n"
     ]
    },
    {
     "data": {
      "image/png": "[encoded data removed]",
      "text/plain": [
       "<Figure size 500x500 with 1 Axes>"
      ]
     },
     "metadata": {},
     "output_type": "display_data"
    },
    {
     "data": {
      "image/png": "[encoded data removed]",
      "text/plain": [
       "<Figure size 500x500 with 1 Axes>"
      ]
     },
     "metadata": {},
     "output_type": "display_data"
    },
    {
     "data": {
      "image/png": "[encoded data removed]",
      "text/plain": [
       "<Figure size 500x500 with 1 Axes>"
      ]
     },
     "metadata": {},
     "output_type": "display_data"
    }
   ],
   "source": [
    "def plot_res(model, test_data, test_labels, val_data, val_labels, train_data, train_labels):\n",
    "    output_test = model(test_data).to('cpu')\n",
    "    rmse_test = root_mean_squared_error(test_labels, output_test)\n",
    "    output_val = model(val_data).to('cpu')\n",
    "    rmse_val = root_mean_squared_error(val_labels, output_val)\n",
    "    output_train = model(train_data).to('cpu')\n",
    "    rmse_train = root_mean_squared_error(train_labels, output_train)\n",
    "    print(\"Testing set RMSE:  {:7.2f}\".format(rmse_test))\n",
    "    print(\"Validation set RMSE: {:7.2f}\".format(rmse_val))\n",
    "    print(\"Training set RMSE: {:7.2f}\".format(rmse_train))\n",
    "\n",
    "    test_predictions = output_test.flatten()\n",
    "    val_predictions = output_val.flatten()\n",
    "    train_predictions = output_train.flatten()\n",
    "\n",
    "    sns.displot(train_predictions - train_labels.flatten(), label=\"Train\", kde=True)\n",
    "    sns.displot(val_predictions - val_labels.flatten(), label=\"Val\", kde=True)\n",
    "    sns.displot(test_predictions - test_labels.flatten(), label=\"Test\", kde=True)\n",
    "\n",
    "    plt.xlabel(\"Prediction Error\")\n",
    "    plt.legend()\n",
    "    plt.show()\n",
    "\n",
    "tensor_x_train, tensor_x_val, tensor_x_test = tensor_x_train.to(device), tensor_x_val.to(device), tensor_x_test.to(device)\n",
    "\n",
    "with torch.no_grad():\n",
    "    plot_res(model, tensor_x_test, tensor_y_test, tensor_x_val, tensor_y_val, tensor_x_train, tensor_y_train)"
   ]
  },
  {
   "cell_type": "markdown",
   "metadata": {
    "colab_type": "text",
    "id": "pLq7_EO36swu"
   },
   "source": [
    "## Save Model"
   ]
  },
  {
   "cell_type": "code",
   "execution_count": null,
   "metadata": {
    "colab": {
     "base_uri": "https://localhost:8080/",
     "height": 71
    },
    "colab_type": "code",
    "executionInfo": {
     "elapsed": 67727,
     "status": "ok",
     "timestamp": 1582126854419,
     "user": {
      "displayName": "Matthias Lau",
      "photoUrl": "https://lh3.googleusercontent.com/a-/AAuE7mC6WRAXJoMqa4-OAv4EwNhkeeciSt5GDAExs2YBOg=s64",
      "userId": "11790472444495897059"
     },
     "user_tz": -60
    },
    "id": "o9BMgIO83MKE",
    "outputId": "7a69653e-cca2-41c0-f829-c186eb19f7d8",
    "tags": []
   },
   "outputs": [],
   "source": [
    "# save the model to use it for the federated trainer\n",
    "model_data+path=\"\"\n",
    "print(model_data_path, flush=True)\n",
    "torch.save(model.to('cpu'), model_data_path)"
   ]
  },
  {
   "cell_type": "code",
   "execution_count": null,
   "metadata": {
    "colab": {},
    "colab_type": "code",
    "id": "CdDev2Dy7sMc"
   },
   "outputs": [],
   "source": []
  },
  {
   "cell_type": "code",
   "execution_count": null,
   "metadata": {},
   "outputs": [],
   "source": []
  }
 ],
 "metadata": {
  "accelerator": "GPU",
  "colab": {
   "collapsed_sections": [],
   "name": "Federated_Learning_PySyft_InitialTraining.ipynb",
   "provenance": []
  },
  "kernelspec": {
   "display_name": "Python 3 (ipykernel)",
   "language": "python",
   "name": "python3"
  },
  "language_info": {
   "codemirror_mode": {
    "name": "ipython",
    "version": 3
   },
   "file_extension": ".py",
   "mimetype": "text/x-python",
   "name": "python",
   "nbconvert_exporter": "python",
   "pygments_lexer": "ipython3",
   "version": "3.9.16"
  }
 },
 "nbformat": 4,
 "nbformat_minor": 4
}
