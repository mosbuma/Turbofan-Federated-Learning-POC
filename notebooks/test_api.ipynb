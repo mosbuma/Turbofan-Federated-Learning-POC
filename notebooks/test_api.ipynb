{
 "cells": [
  {
   "cell_type": "code",
   "execution_count": null,
   "id": "e9660f2b-c836-4a8a-876c-271b303f5cf7",
   "metadata": {
    "tags": []
   },
   "outputs": [],
   "source": [
    "from amdex import AMdEX\n",
    "import hashlib\n",
    "import json\n",
    "\n",
    "DATAEXCHANGE_URL = \"https://develop.amdex.dev\"\n",
    "TRUST_URL = \"https://develop.trust.amdex.dev\"\n",
    "\n",
    "email = \"feduser-b@amdex.demo\"\n",
    "password = \"yes\"\n",
    "password_hash = hashlib.sha256(password.encode()).hexdigest().upper()"
   ]
  },
  {
   "cell_type": "code",
   "execution_count": null,
   "id": "f3338df5-675c-4088-9454-1ebd896082eb",
   "metadata": {
    "tags": []
   },
   "outputs": [],
   "source": [
    "# Create an instance of AMdEX class (it would make sense to call this trust instead of amdex)\n",
    "amdex = AMdEX(TRUST_URL)\n",
    "amdex.signin(email, password_hash)\n",
    "trust_account_info = amdex.get_session()\n",
    "print(\"trust_account_info:\", trust_account_info)\n",
    "\n",
    "trust_version_info = amdex.get_version()\n",
    "print(\"trust_version_info:\", trust_version_info)"
   ]
  },
  {
   "cell_type": "code",
   "execution_count": null,
   "id": "b50c004f-2807-4428-87bb-37df6aeae5cb",
   "metadata": {
    "tags": []
   },
   "outputs": [],
   "source": [
    "dataexchange = AMdEX(DATAEXCHANGE_URL)\n",
    "dataexchange.signin(email, password_hash)\n",
    "dataexchange_account_info = dataexchange.get_session()\n",
    "print(\"dataexchange_account_info:\", dataexchange_account_info)\n",
    "\n",
    "dataexchange_version_info = dataexchange.get_version()\n",
    "print(\"dataexchange_version_info:\", dataexchange_version_info)"
   ]
  },
  {
   "cell_type": "code",
   "execution_count": null,
   "id": "e892bbb1-84f4-4489-a2e6-56c3625bd7f8",
   "metadata": {
    "tags": []
   },
   "outputs": [],
   "source": [
    "# # Get dataviews\n",
    "# dataviews = dataexchange.get_dataviews()\n",
    "# print(\"Dataviews:\", dataviews)\n",
    "\n",
    "# # Create a dataview\n",
    "# dataview_body = {\n",
    "#     \"name\": \"Sample Dataview\",\n",
    "#     \"policy_uuids\": [\"example_policy_uuid1\", \"example_policy_uuid2\"]\n",
    "#     # \"query\": \"SELECT * FROM table\",\n",
    "#     # ... other properties\n",
    "# }\n",
    "# new_dataview = dataexchange.create_dataview(dataview_body)\n",
    "# print(\"New Dataview:\", new_dataview)\n",
    "\n",
    "# print(\"uuid\", new_dataview)\n",
    "\n",
    "# # Delete a dataview\n",
    "# uuid = \"731ea95e-d608-40db-91ae-fae98a8c0794\"\n",
    "# result = dataexchange.delete_dataview(new_dataview)\n",
    "# print(\"Delete Result:\", result)"
   ]
  },
  {
   "cell_type": "code",
   "execution_count": null,
   "id": "6c019057-669d-4123-9e4b-7ede46758e9d",
   "metadata": {
    "tags": []
   },
   "outputs": [],
   "source": [
    "#create an amdex class for the compliance officer\n",
    "email_complianceofficer = \"complianceofficer@amdex.demo\"\n",
    "password_complianceofficer = \"yes\"\n",
    "password_hash_complianceofficer = hashlib.sha256(password_complianceofficer.encode()).hexdigest().upper()\n",
    "\n",
    "\n",
    "# # Create an instance of AMdEX class\n",
    "amdex_complianceofficer = AMdEX()\n",
    "amdex_complianceofficer.signin(email_complianceofficer, password_hash_complianceofficer)\n",
    "\n",
    "account_info_complianceofficer = amdex_complianceofficer.get_session()\n",
    "print(\"account info compliance officer:\", account_info_complianceofficer)\n",
    "\n"
   ]
  },
  {
   "cell_type": "code",
   "execution_count": null,
   "id": "1882b285",
   "metadata": {
    "tags": []
   },
   "outputs": [],
   "source": [
    "# Get policies\n",
    "print(\"6. Get policies:\")\n",
    "policies = amdex_complianceofficer.get_policies()\n",
    "\n",
    "\n",
    "print(f\"Got {policies.__len__()} policies\")\n",
    "print(\"Policies:\")\n",
    "for policy in policies:\n",
    "    print(f\"Name: {policy['name']}\\nUUID: {policy['policy_uuid']}\\n\")\n",
    "print()\n",
    "\n",
    "# Create policy\n",
    "print(\"7. Create policy:\")\n",
    "policy_body = {\n",
    "    \"name\": \"Example policy 1\",\n",
    "    \"inputs\": [\n",
    "        {\n",
    "            \"description\": \"Consortium UUID of data provider\",\n",
    "            \"name\": \"provider_consortium_uuid\",\n",
    "            \"source\": \"internal\"\n",
    "        },\n",
    "        {\n",
    "            \"description\": \"Consortium UUID of data consumer\",\n",
    "            \"name\": \"consumer_consortium_uuid\",\n",
    "            \"source\": \"internal\"\n",
    "        }\n",
    "    ],\n",
    "    \"outputs\": [\n",
    "        {\n",
    "            \"description\": \"Access allowed\",\n",
    "            \"name\": \"access_allowed\"\n",
    "        }\n",
    "    ],\n",
    "    \"url\": {\n",
    "        \"human\": \"https://amdex.dev/policies/gdpr-attribution/README.txt\",\n",
    "        \"legal\": \"https://amdex.dev/policies/gdpr-attribution/POLICY.txt\",\n",
    "        \"machine\": \"https://amdex.dev/policies/gdpr-attribution/gdpr-attribution.eflint\"\n",
    "    },\n",
    "    \"hash_type\": \"SHA-256\",\n",
    "    \"hash\": {\n",
    "        \"human\": \"e5e61f918d66cd421ee506dff43f713b3e74449a23d035b65b8115196d7397d9\",\n",
    "        \"legal\": \"d0119b1ff66c27f3973c0437bc2a19d426f6a5532313abca9cd9b7fdd37ba614\",\n",
    "        \"machine\": \"8C2B4CA076E57619E239958200FF18D4CFC0E931755C2648D66B36F2BD4D7E0B\"\n",
    "    }\n",
    "}\n",
    "\n",
    "created_policy = amdex_complianceofficer.create_policy(policy_body)\n",
    "print(\"Created Policy:\", created_policy)\n",
    "print()\n",
    "\n",
    "# Delete policy\n",
    "# print(\"8. Delete policy:\")\n",
    "# policy_uuid = created_policy.get(\"policy_uuid\")\n",
    "# deleted_policy = amdex_complianceofficer.delete_policy(policy_uuid)\n",
    "# print(\"Deleted Policy:\", deleted_policy)\n",
    "# print()"
   ]
  },
  {
   "cell_type": "code",
   "execution_count": null,
   "id": "42222b2f",
   "metadata": {
    "tags": []
   },
   "outputs": [],
   "source": [
    "# policies\n",
    "print(\"6. Get policies:\")\n",
    "policies = amdex_complianceofficer.get_policies()\n",
    "print(\"Policies:\", policies)\n",
    "print()"
   ]
  },
  {
   "cell_type": "code",
   "execution_count": null,
   "id": "e701db83-baaf-490d-9e96-bac580898665",
   "metadata": {
    "tags": []
   },
   "outputs": [],
   "source": [
    "# Get jobs\n",
    "print(\"9. Get jobs:\")\n",
    "jobs = amdex.get_jobs()\n",
    "print(\"10. Existing Jobs:\", jobs)"
   ]
  },
  {
   "cell_type": "code",
   "execution_count": null,
   "id": "6cfb3513-a5a3-4471-b52b-e6a6fab6eeed",
   "metadata": {},
   "outputs": [],
   "source": [
    "print(\"11. Create Parent job:\")\n",
    "parent_job_body = {\n",
    "    \"type\": \"create\",\n",
    "    \"name\": \"Jupyter Notebook Parent Job\",\n",
    "    \"data\": { \"policy_uuids\": [\"21693473-d070-43bf-aca7-b75adbb51e48\", \"8cceff93-ac99-4d10-a121-35413e3bea5a\"] },\n",
    "    \"context\": {\n",
    "        \"provider_consortium_uuid\": \"Parent job provider_consortium_uuid\",\n",
    "        \"consumer_consortium_uuid\": \"Parent job consumer_consortium_uuid\",\n",
    "        \"dataview_uuid\": \"Parent job dataview_uuid\",\n",
    "        \"a_pip_url_from_context\": DATAEXCHANGE_URL + \"/api/pip\"\n",
    "    }\n",
    "}\n",
    "parent_job = amdex.create_job(parent_job_body)\n",
    "parent_job_uuid = parent_job['job_uuid']\n",
    "print(\"12. Parent Job:\", parent_job)\n",
    "\n",
    "print(\"13. Poll parent job status:\")\n",
    "parent_job_status = amdex.poll_job_status(parent_job_uuid)\n",
    "print(\"14. Parent Job Status:\", parent_job_status)\n",
    "print()"
   ]
  },
  {
   "cell_type": "code",
   "execution_count": null,
   "id": "e358e8f9-62c6-4b13-baf2-9ad017b7bc7d",
   "metadata": {},
   "outputs": [],
   "source": [
    "print(\"15. Create another job with our newly created policies and mark the previous job as parent:\")\n",
    "child_job_body = {\n",
    "    \"type\": \"create\",\n",
    "    \"name\": \"Jupyter Notebook Child Job\",\n",
    "    \"parent_job_uuid\": parent_job_uuid,\n",
    "    \"data\": { \"policy_uuids\": [created_policy['policy_uuid'], created_policy['policy_uuid'], created_policy['policy_uuid']] },\n",
    "    \"context\": { \n",
    "        \"provider_consortium_uuid\": \"Child job provider_consortium_uuid\",\n",
    "        \"consumer_consortium_uuid\": \"Child job consumer_consortium_uuid\"\n",
    "    }\n",
    "}\n",
    "child_job = amdex.create_job(child_job_body)\n",
    "child_job_uuid = child_job['job_uuid']\n",
    "\n",
    "print(\"16. Child Job:\", child_job)\n",
    "\n",
    "print(\"17. Poll child job status:\")\n",
    "child_job_status = amdex.poll_job_status(child_job_uuid)\n",
    "\n",
    "print(\"18. Child Job Status:\", child_job_status)\n",
    "print()"
   ]
  },
  {
   "cell_type": "code",
   "execution_count": null,
   "id": "3b2fc6bc-f2ca-4df9-a938-f49999ef8c41",
   "metadata": {},
   "outputs": [],
   "source": [
    "# Delete all jobs\n",
    "# print(\"18. Delete jobs:\")\n",
    "# deleted_jobs = amdex.delete_jobs()\n",
    "# print(\"Deleted Jobs:\", deleted_jobs)\n",
    "# print()"
   ]
  }
 ],
 "metadata": {
  "kernelspec": {
   "display_name": "Python 3 (ipykernel)",
   "language": "python",
   "name": "python3"
  },
  "language_info": {
   "codemirror_mode": {
    "name": "ipython",
    "version": 3
   },
   "file_extension": ".py",
   "mimetype": "text/x-python",
   "name": "python",
   "nbconvert_exporter": "python",
   "pygments_lexer": "ipython3",
   "version": "3.7.6"
  }
 },
 "nbformat": 4,
 "nbformat_minor": 5
}
