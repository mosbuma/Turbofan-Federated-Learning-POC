{
 "cells": [
  {
   "cell_type": "code",
   "execution_count": 2,
   "id": "e9660f2b-c836-4a8a-876c-271b303f5cf7",
   "metadata": {
    "tags": []
   },
   "outputs": [],
   "source": [
    "from amdex import AMdEX\n",
    "import hashlib\n",
    "import json\n",
    "\n",
    "BASE_URL = \"https://develop.amdex.dev\"\n",
    "\n",
    "name = \"Predictive maintenance server\"\n",
    "password = \"yes\"\n",
    "password_hash = hashlib.sha256(password.encode()).hexdigest().upper()    \n",
    "\n",
    "# Create an instance of AMdEX class\n",
    "amdex = AMdEX()\n",
    "    "
   ]
  },
  {
   "cell_type": "code",
   "execution_count": 3,
   "id": "f3338df5-675c-4088-9454-1ebd896082eb",
   "metadata": {
    "tags": []
   },
   "outputs": [],
   "source": [
    "# Authenticate\n",
    "amdex.authenticate(name, password_hash)\n",
    "# amdex.authenticate2(name, password_hash)"
   ]
  },
  {
   "cell_type": "code",
   "execution_count": 4,
   "id": "b50c004f-2807-4428-87bb-37df6aeae5cb",
   "metadata": {
    "tags": []
   },
   "outputs": [
    {
     "name": "stdout",
     "output_type": "stream",
     "text": [
      "Account Info: {'name': 'Predictive maintenance server', 'public_key': 'MIIBIjANBgkqhkiG9w0BAQEFAAOCAQ8AMIIBCgKCAQEA2WgGfdnqUL0qwQ0sG3LVuAVX9JST4/W5yvAjnJlPEC33YVagYghQrMqhg/QCku2wSXCsztuwAaf9ugqZemheP8RfYeQkbm0d6wzXpOj6R7wBBV7j+aFAkbBlAKNKWyDAvn2HcS1jHNtcNfJQsaez6P5B1pC7OJdi+w1cHdgwLxIz0Kdm2nSYhUrnOZtDyl4hV4kwSFHiaFpIpihyTcbQhlnyNjE75auu6cL8G/wFBo/LPVNZmirWWa1Dvwfle20hc5AOsIFbMeHMnoVbsGFHBRO3eBMVdjGFrxv6ITW0juqpoHypjenVR4G3soklInr2Z4koHRBhM1yPoG3cpkuzMQIDAQAB', 'auditlog_write_access': True, 'auditlog_read_access_for_entries_by_account_uuids': ['6ae1ae4f-3c5c-4d55-8785-86076c6586f9', '886fc572-2522-4bf1-9399-3fca39fa946c', '35e825ef-739f-4c02-8e75-c8697021fc2e', 'cc633679-e4a6-4033-8b62-26ecc11ddb8e'], 'account_uuid': 'cc633679-e4a6-4033-8b62-26ecc11ddb8e', 'bearer_token': 'cc633679-e4a6-4033-8b62-26ecc11ddb8e'}\n"
     ]
    }
   ],
   "source": [
    "# Get account info\n",
    "account_info = amdex.get_account_info()\n",
    "print(\"Account Info:\", account_info)"
   ]
  },
  {
   "cell_type": "code",
   "execution_count": 5,
   "id": "06c20ad7-1d66-4862-8e39-c1e4345625d4",
   "metadata": {
    "tags": []
   },
   "outputs": [],
   "source": [
    "# Get version\n",
    "version_info = amdex.get_version()"
   ]
  },
  {
   "cell_type": "code",
   "execution_count": 6,
   "id": "68d9ac2a-6e2b-4100-99a8-dae9787a5d97",
   "metadata": {
    "tags": []
   },
   "outputs": [
    {
     "name": "stdout",
     "output_type": "stream",
     "text": [
      "Version: {'version': '0.0.2', 'api_version': '1', 'commit': 'dfbd7fd5ff636388016f6cb6313abfd4a75c1343'}\n"
     ]
    }
   ],
   "source": [
    "print(\"Version:\", version_info)"
   ]
  },
  {
   "cell_type": "code",
   "execution_count": 7,
   "id": "e892bbb1-84f4-4489-a2e6-56c3625bd7f8",
   "metadata": {
    "tags": []
   },
   "outputs": [
    {
     "name": "stdout",
     "output_type": "stream",
     "text": [
      "Dataviews: [{'name': 'E-commerce B dataset', 'provider_account_uuid': '4676f686-4798-4db1-b70e-290e57f2b709', 'policy_uuids': ['cc0c5381-3c43-4c64-86d9-770655ebb696', '8cceff93-ac99-4d10-a121-35413e3bea5a', '21693473-d070-43bf-aca7-b75adbb51e48'], 'dataview_uuid': '6aeae107-b4e6-40d4-9e1b-9941a76b847c', 'added': 1685453978227}, {'name': 'E-commerce A dataset', 'provider_account_uuid': '5015115c-b8db-4ee7-a7cc-5a73fc101a4d', 'policy_uuids': ['cc0c5381-3c43-4c64-86d9-770655ebb696', '8cceff93-ac99-4d10-a121-35413e3bea5a', '21693473-d070-43bf-aca7-b75adbb51e48'], 'dataview_uuid': 'fdf858fc-849f-4b1e-8255-9a2d4ac3009a', 'added': 1685453978208}]\n",
      "New Dataview: {'dataview_uuid': '6617d1e3-f6ca-4bc5-b2a2-0c2b8498320a'}\n",
      "uuid {'dataview_uuid': '6617d1e3-f6ca-4bc5-b2a2-0c2b8498320a'}\n",
      "Delete Result: {'deletedCount': 0}\n"
     ]
    }
   ],
   "source": [
    "# Get dataviews\n",
    "dataviews = amdex.get_dataviews()\n",
    "print(\"Dataviews:\", dataviews)\n",
    "\n",
    "# Create a dataview\n",
    "dataview_body = {\n",
    "    \"name\": \"Sample Dataview\",\n",
    "    \"query\": \"SELECT * FROM table\",\n",
    "    # ... other properties\n",
    "}\n",
    "new_dataview = amdex.create_dataview(dataview_body)\n",
    "print(\"New Dataview:\", new_dataview)\n",
    "\n",
    "print(\"uuid\", new_dataview)\n",
    "\n",
    "# Delete a dataview\n",
    "uuid = \"731ea95e-d608-40db-91ae-fae98a8c0794\"\n",
    "result = amdex.delete_dataview(new_dataview)\n",
    "print(\"Delete Result:\", result)"
   ]
  },
  {
   "cell_type": "code",
   "execution_count": 8,
   "id": "6c019057-669d-4123-9e4b-7ede46758e9d",
   "metadata": {
    "tags": []
   },
   "outputs": [
    {
     "name": "stdout",
     "output_type": "stream",
     "text": [
      "account info data officer: {'name': 'Compliance Officer', 'public_key': 'MIIBIjANBgkqhkiG9w0BAQEFAAOCAQ8AMIIBCgKCAQEA2WgGfdnqUL0qwQ0sG3LVuAVX9JST4/W5yvAjnJlPEC33YVagYghQrMqhg/QCku2wSXCsztuwAaf9ugqZemheP8RfYeQkbm0d6wzXpOj6R7wBBV7j+aFAkbBlAKNKWyDAvn2HcS1jHNtcNfJQsaez6P5B1pC7OJdi+w1cHdgwLxIz0Kdm2nSYhUrnOZtDyl4hV4kwSFHiaFpIpihyTcbQhlnyNjE75auu6cL8G/wFBo/LPVNZmirWWa1Dvwfle20hc5AOsIFbMeHMnoVbsGFHBRO3eBMVdjGFrxv6ITW0juqpoHypjenVR4G3soklInr2Z4koHRBhM1yPoG3cpkuzMQIDAQAB', 'auditlog_read_access_from_consortium_uuids': ['e9e92347-1077-4ef6-a21f-3cf40186f33a'], 'auditlog_read_access_for_entries_by_account_uuids': ['6ae1ae4f-3c5c-4d55-8785-86076c6586f9', '886fc572-2522-4bf1-9399-3fca39fa946c', '35e825ef-739f-4c02-8e75-c8697021fc2e', 'cc633679-e4a6-4033-8b62-26ecc11ddb8e'], 'account_uuid': '9e8ed6aa-bfdb-4146-87d6-64ec538a258b', 'bearer_token': '9e8ed6aa-bfdb-4146-87d6-64ec538a258b'}\n"
     ]
    }
   ],
   "source": [
    "#create an amdex class for the data officer\n",
    "name_dataofficer = \"Compliance Officer\"\n",
    "password_dataofficer = \"yes\"\n",
    "password_hash_dataofficer = hashlib.sha256(password_dataofficer.encode()).hexdigest().upper()\n",
    "\n",
    "\n",
    "# # Create an instance of AMdEX class\n",
    "amdex_dataofficer = AMdEX()\n",
    "amdex_dataofficer.authenticate(name_dataofficer, password_hash_dataofficer)\n",
    "\n",
    "account_info = amdex_dataofficer.get_account_info()\n",
    "print(\"account info data officer:\", account_info)\n",
    "\n"
   ]
  },
  {
   "cell_type": "code",
   "execution_count": 16,
   "id": "1882b285",
   "metadata": {},
   "outputs": [
    {
     "name": "stdout",
     "output_type": "stream",
     "text": [
      "6. Get policies:\n",
      "Got 8 policies\n",
      "Policies:\n",
      "Name: Example policy 1\n",
      "UUID: 0f1344c0-30eb-4896-9c32-6e6169c2c961\n",
      "\n",
      "Name: Example policy 1\n",
      "UUID: aae85142-c18f-4d5c-92e3-2f064839c4d9\n",
      "\n",
      "Name: Example policy 1\n",
      "UUID: 6eb0b1b0-efae-4795-a657-e27d9974fbc3\n",
      "\n",
      "Name: Ex Post checks\n",
      "UUID: 3a1c4ab9-3fe1-4b93-afc7-ebbd068afaa2\n",
      "\n",
      "Name: Consortium partner allowed to access algorithm\n",
      "UUID: 488c847c-b533-48db-931c-113e1ba35371\n",
      "\n",
      "Name: Consortium partner allowed to access data\n",
      "UUID: 21693473-d070-43bf-aca7-b75adbb51e48\n",
      "\n",
      "Name: Data confirms to consortium rules\n",
      "UUID: 8cceff93-ac99-4d10-a121-35413e3bea5a\n",
      "\n",
      "Name: Consumer allowed to access provider data\n",
      "UUID: cc0c5381-3c43-4c64-86d9-770655ebb696\n",
      "\n",
      "\n",
      "7. Create policy:\n",
      "Created Policy: {'policy_uuid': '656519ed-2de9-4f1b-adf5-73f184c6b9e1'}\n",
      "\n"
     ]
    }
   ],
   "source": [
    "# Get policies\n",
    "print(\"6. Get policies:\")\n",
    "policies = amdex_dataofficer.get_policies()\n",
    "\n",
    "\n",
    "print(f\"Got {policies.__len__()} policies\")\n",
    "print(\"Policies:\")\n",
    "for policy in policies:\n",
    "    print(f\"Name: {policy['name']}\\nUUID: {policy['policy_uuid']}\\n\")\n",
    "print()\n",
    "\n",
    "# Create policy\n",
    "print(\"7. Create policy:\")\n",
    "policy_body = {\n",
    "    \"name\": \"Example policy 1\",\n",
    "    \"inputs\": [\n",
    "        {\n",
    "            \"description\": \"Consortium UUID of data provider\",\n",
    "            \"name\": \"provider_consortium_uuid\",\n",
    "            \"source\": \"internal\"\n",
    "        },\n",
    "        {\n",
    "            \"description\": \"Consortium UUID of data consumer\",\n",
    "            \"name\": \"consumer_consortium_uuid\",\n",
    "            \"source\": \"internal\"\n",
    "        }\n",
    "    ],\n",
    "    \"outputs\": [\n",
    "        {\n",
    "            \"description\": \"Access allowed\",\n",
    "            \"name\": \"access_allowed\"\n",
    "        }\n",
    "    ],\n",
    "    \"url\": {\n",
    "        \"human\": \"https://amdex.dev/policies/gdpr-attribution/README.txt\",\n",
    "        \"legal\": \"https://amdex.dev/policies/gdpr-attribution/POLICY.txt\",\n",
    "        \"machine\": \"https://amdex.dev/policies/gdpr-attribution/gdpr-attribution.eflint\"\n",
    "    },\n",
    "    \"hash_type\": \"SHA-256\",\n",
    "    \"hash\": {\n",
    "        \"human\": \"e5e61f918d66cd421ee506dff43f713b3e74449a23d035b65b8115196d7397d9\",\n",
    "        \"legal\": \"d0119b1ff66c27f3973c0437bc2a19d426f6a5532313abca9cd9b7fdd37ba614\",\n",
    "        \"machine\": \"8C2B4CA076E57619E239958200FF18D4CFC0E931755C2648D66B36F2BD4D7E0B\"\n",
    "    }\n",
    "}\n",
    "\n",
    "created_policy = amdex_dataofficer.create_policy(policy_body)\n",
    "print(\"Created Policy:\", created_policy)\n",
    "print()\n",
    "\n",
    "# Delete policy\n",
    "# print(\"8. Delete policy:\")\n",
    "# policy_uuid = created_policy.get(\"policy_uuid\")\n",
    "# deleted_policy = amdex_dataofficer.delete_policy(policy_uuid)\n",
    "# print(\"Deleted Policy:\", deleted_policy)\n",
    "# print()"
   ]
  },
  {
   "cell_type": "code",
   "execution_count": 10,
   "id": "42222b2f",
   "metadata": {},
   "outputs": [
    {
     "name": "stdout",
     "output_type": "stream",
     "text": [
      "6. Get policies:\n",
      "Policies: [{'name': 'Example policy 1', 'inputs': [{'description': 'Consortium UUID of data provider', 'name': 'provider_consortium_uuid', 'source': 'internal'}, {'description': 'Consortium UUID of data consumer', 'name': 'consumer_consortium_uuid', 'source': 'internal'}], 'outputs': [{'description': 'Access allowed', 'name': 'access_allowed'}], 'url': {'human': 'https://amdex.dev/policies/gdpr-attribution/README.txt', 'legal': 'https://amdex.dev/policies/gdpr-attribution/POLICY.txt', 'machine': 'https://amdex.dev/policies/gdpr-attribution/gdpr-attribution.eflint'}, 'hash_type': 'SHA-256', 'hash': {'human': 'E5E61F918D66CD421EE506DFF43F713B3E74449A23D035B65B8115196D7397D9', 'legal': 'D0119B1FF66C27F3973C0437BC2A19D426F6A5532313ABCA9CD9B7FDD37BA614', 'machine': '8C2B4CA076E57619E239958200FF18D4CFC0E931755C2648D66B36F2BD4D7E0B'}, 'policy_uuid': '6eb0b1b0-efae-4795-a657-e27d9974fbc3', 'added': 1685529564750}, {'name': 'Ex Post checks', 'inputs': [{'description': 'Audit logs', 'name': 'auditlogs', 'source': 'internal'}], 'outputs': [{'description': 'Ex Post OK', 'name': 'ex_post_ok'}], 'inline_polyset': False, 'url': {'human': 'https://develop.amdex.dev/policies/gdpr-attribution/README.txt', 'legal': 'https://develop.amdex.dev/policies/gdpr-attribution/POLICY.txt', 'machine': 'https://develop.amdex.dev/policies/gdpr-attribution/gdpr-attribution.eflint'}, 'hash_type': 'SHA-256', 'hash': {'human': 'e5e61f918d66cd421ee506dff43f713b3e74449a23d035b65b8115196d7397d9', 'legal': 'd0119b1ff66c27f3973c0437bc2a19d426f6a5532313abca9cd9b7fdd37ba614', 'machine': '8C2B4CA076E57619E239958200FF18D4CFC0E931755C2648D66B36F2BD4D7E0B'}, 'policy_uuid': '3a1c4ab9-3fe1-4b93-afc7-ebbd068afaa2', 'added': 1685453978192}, {'name': 'Consortium partner allowed to access algorithm', 'inputs': [{'description': 'Consortium UUID of data provider', 'name': 'provider_consortium_uuid', 'source': 'internal'}, {'description': 'Consortium UUID of data consumer', 'name': 'consumer_consortium_uuid', 'source': 'internal'}, {'description': 'Algorithm UUID', 'name': 'algorithm_uuid', 'source': 'internal'}], 'outputs': [{'description': 'Access allowed', 'name': 'access_allowed'}], 'inline_polyset': False, 'url': {'human': 'https://develop.amdex.dev/policies/gdpr-attribution/README.txt', 'legal': 'https://develop.amdex.dev/policies/gdpr-attribution/POLICY.txt', 'machine': 'https://develop.amdex.dev/policies/gdpr-attribution/gdpr-attribution.eflint'}, 'hash_type': 'SHA-256', 'hash': {'human': 'e5e61f918d66cd421ee506dff43f713b3e74449a23d035b65b8115196d7397d9', 'legal': 'd0119b1ff66c27f3973c0437bc2a19d426f6a5532313abca9cd9b7fdd37ba614', 'machine': '8C2B4CA076E57619E239958200FF18D4CFC0E931755C2648D66B36F2BD4D7E0B'}, 'policy_uuid': '488c847c-b533-48db-931c-113e1ba35371', 'added': 1685453978174}, {'name': 'Consortium partner allowed to access data', 'inputs': [{'description': 'Consortium UUID of data provider', 'name': 'provider_consortium_uuid', 'source': 'internal'}, {'description': 'Consortium UUID of data consumer', 'name': 'consumer_consortium_uuid', 'source': 'internal'}, {'description': 'Dataview UUID', 'name': 'dataview_uuid', 'source': 'internal'}], 'outputs': [{'description': 'Access allowed', 'name': 'access_allowed'}], 'inline_polyset': False, 'url': {'human': 'https://develop.amdex.dev/policies/gdpr-attribution/README.txt', 'legal': 'https://develop.amdex.dev/policies/gdpr-attribution/POLICY.txt', 'machine': 'https://develop.amdex.dev/policies/gdpr-attribution/gdpr-attribution.eflint'}, 'hash_type': 'SHA-256', 'hash': {'human': 'e5e61f918d66cd421ee506dff43f713b3e74449a23d035b65b8115196d7397d9', 'legal': 'd0119b1ff66c27f3973c0437bc2a19d426f6a5532313abca9cd9b7fdd37ba614', 'machine': '8C2B4CA076E57619E239958200FF18D4CFC0E931755C2648D66B36F2BD4D7E0B'}, 'policy_uuid': '21693473-d070-43bf-aca7-b75adbb51e48', 'added': 1685453978155}, {'name': 'Data confirms to consortium rules', 'inputs': [{'description': 'Dataview UUID', 'name': 'dataview_uuid', 'source': 'internal'}], 'outputs': [{'description': 'Data OK', 'name': 'data_ok'}], 'inline_polyset': False, 'url': {'human': 'https://develop.amdex.dev/policies/gdpr-attribution/README.txt', 'legal': 'https://develop.amdex.dev/policies/gdpr-attribution/POLICY.txt', 'machine': 'https://develop.amdex.dev/policies/gdpr-attribution/gdpr-attribution.eflint'}, 'hash_type': 'SHA-256', 'hash': {'human': 'e5e61f918d66cd421ee506dff43f713b3e74449a23d035b65b8115196d7397d9', 'legal': 'd0119b1ff66c27f3973c0437bc2a19d426f6a5532313abca9cd9b7fdd37ba614', 'machine': '8C2B4CA076E57619E239958200FF18D4CFC0E931755C2648D66B36F2BD4D7E0B'}, 'policy_uuid': '8cceff93-ac99-4d10-a121-35413e3bea5a', 'added': 1685453978138}, {'name': 'Consumer allowed to access provider data', 'inputs': [{'description': 'Consortium UUID of data provider', 'name': 'provider_consortium_uuid', 'source': 'internal'}, {'description': 'Consortium UUID of data consumer', 'name': 'consumer_consortium_uuid', 'source': 'internal'}], 'outputs': [{'description': 'Access allowed', 'name': 'access_allowed'}], 'inline_polyset': False, 'url': {'human': 'https://develop.amdex.dev/policies/gdpr-attribution/README.txt', 'legal': 'https://develop.amdex.dev/policies/gdpr-attribution/POLICY.txt', 'machine': 'https://develop.amdex.dev/policies/gdpr-attribution/gdpr-attribution.eflint'}, 'hash_type': 'SHA-256', 'hash': {'human': 'e5e61f918d66cd421ee506dff43f713b3e74449a23d035b65b8115196d7397d9', 'legal': 'd0119b1ff66c27f3973c0437bc2a19d426f6a5532313abca9cd9b7fdd37ba614', 'machine': '8C2B4CA076E57619E239958200FF18D4CFC0E931755C2648D66B36F2BD4D7E0B'}, 'policy_uuid': 'cc0c5381-3c43-4c64-86d9-770655ebb696', 'added': 1685453978118}]\n",
      "\n"
     ]
    }
   ],
   "source": [
    "# policies\n",
    "print(\"6. Get policies:\")\n",
    "policies = amdex_dataofficer.get_policies()\n",
    "print(\"Policies:\", policies)\n",
    "print()"
   ]
  },
  {
   "cell_type": "code",
   "execution_count": 17,
   "id": "e701db83-baaf-490d-9e96-bac580898665",
   "metadata": {
    "tags": []
   },
   "outputs": [
    {
     "name": "stdout",
     "output_type": "stream",
     "text": [
      "9. Get jobs:\n",
      "Jobs: [{'_id': '647723102bc9c83832658602', 'type': 'append', 'name': 'Jupyter Notebook Test Job', 'data': {'policy_uuids': ['88b08914-aa37-4790-8c49-4b19a80d24ac', '88b08914-aa37-4790-8c49-4b19a80d24ac', '88b08914-aa37-4790-8c49-4b19a80d24ac']}, 'origin': 'https://develop.amdex.dev', 'job_uuid': '03640453-f51e-434b-acf5-5337754bc80b', 'consumer_uuid': 'cc633679-e4a6-4033-8b62-26ecc11ddb8e', 'execution_plan': [{'type': 'Orchestrator', 'policy_uuid': '88b08914-aa37-4790-8c49-4b19a80d24ac'}, {'type': 'Orchestrator', 'policy_uuid': '88b08914-aa37-4790-8c49-4b19a80d24ac'}, {'type': 'Orchestrator', 'policy_uuid': '88b08914-aa37-4790-8c49-4b19a80d24ac'}], 'started': 1685529360934, 'status': 'Executing plan item 1/3', 'execution_plan_index': 0, 'execution_plan_results': [], 'n_auditlog_entries': 5, 'latest_auditlog_timestamp': 1685529362596}, {'_id': '647722f62bc9c83832658601', 'type': 'append', 'name': 'Jupyter Notebook Test Job', 'data': {'policy_uuids': ['88b08914-aa37-4790-8c49-4b19a80d24ac', '88b08914-aa37-4790-8c49-4b19a80d24ac', '88b08914-aa37-4790-8c49-4b19a80d24ac']}, 'origin': 'https://develop.amdex.dev', 'job_uuid': '018fa15a-bedc-4465-b9e3-ec5926aff5d5', 'consumer_uuid': 'cc633679-e4a6-4033-8b62-26ecc11ddb8e', 'execution_plan': [{'type': 'Orchestrator', 'policy_uuid': '88b08914-aa37-4790-8c49-4b19a80d24ac'}, {'type': 'Orchestrator', 'policy_uuid': '88b08914-aa37-4790-8c49-4b19a80d24ac'}, {'type': 'Orchestrator', 'policy_uuid': '88b08914-aa37-4790-8c49-4b19a80d24ac'}], 'started': 1685529334040, 'status': 'Executing plan item 1/3', 'execution_plan_index': 0, 'execution_plan_results': [], 'n_auditlog_entries': 5, 'latest_auditlog_timestamp': 1685529335128}, {'_id': '647721bd2bc9c83832658600', 'type': 'append', 'name': 'Jupyter Notebook Test Job', 'data': {'policy_uuids': ['3a1c4ab9-3fe1-4b93-afc7-ebbd068afaa2', '3a1c4ab9-3fe1-4b93-afc7-ebbd068afaa2', '3a1c4ab9-3fe1-4b93-afc7-ebbd068afaa2']}, 'origin': 'https://develop.amdex.dev', 'job_uuid': 'ae3deb19-9983-47e6-a0f9-d79d953f3f52', 'consumer_uuid': 'cc633679-e4a6-4033-8b62-26ecc11ddb8e', 'execution_plan': [{'type': 'Orchestrator', 'policy_uuid': '3a1c4ab9-3fe1-4b93-afc7-ebbd068afaa2'}, {'type': 'Orchestrator', 'policy_uuid': '3a1c4ab9-3fe1-4b93-afc7-ebbd068afaa2'}, {'type': 'Orchestrator', 'policy_uuid': '3a1c4ab9-3fe1-4b93-afc7-ebbd068afaa2'}], 'started': 1685529021816, 'status': 'OK', 'execution_plan_index': 2, 'execution_plan_results': [{'success': True, 'meta': {'comments': 'orchestrator_reasoner finished job'}}, {'success': True, 'meta': {'comments': 'orchestrator_reasoner finished job'}}, {'success': True, 'meta': {'comments': 'orchestrator_reasoner finished job'}}], 'n_auditlog_entries': 24, 'latest_auditlog_timestamp': 1685529027259}, {'_id': '6477218e2bc9c838326585ff', 'type': 'append', 'name': 'Jupyter Notebook Test Job', 'data': {'policy_uuids': ['3a1c4ab9-3fe1-4b93-afc7-ebbd068afaa2', '3a1c4ab9-3fe1-4b93-afc7-ebbd068afaa2', '3a1c4ab9-3fe1-4b93-afc7-ebbd068afaa2']}, 'origin': 'https://develop.amdex.dev', 'job_uuid': '4d2d5212-5908-42d2-9aca-defcf05d79ec', 'consumer_uuid': 'cc633679-e4a6-4033-8b62-26ecc11ddb8e', 'execution_plan': [{'type': 'Orchestrator', 'policy_uuid': '3a1c4ab9-3fe1-4b93-afc7-ebbd068afaa2'}, {'type': 'Orchestrator', 'policy_uuid': '3a1c4ab9-3fe1-4b93-afc7-ebbd068afaa2'}, {'type': 'Orchestrator', 'policy_uuid': '3a1c4ab9-3fe1-4b93-afc7-ebbd068afaa2'}], 'started': 1685528974217, 'status': 'OK', 'execution_plan_index': 2, 'execution_plan_results': [{'success': True, 'meta': {'comments': 'orchestrator_reasoner finished job'}}, {'success': True, 'meta': {'comments': 'orchestrator_reasoner finished job'}}, {'success': True, 'meta': {'comments': 'orchestrator_reasoner finished job'}}], 'n_auditlog_entries': 25, 'latest_auditlog_timestamp': 1685528979095}, {'_id': '647720ae2bc9c838326585fe', 'type': 'create', 'name': 'Jupyter Notebook Test Job', 'origin': 'https://develop.amdex.dev', 'job_uuid': '515e3755-ec09-4263-a95f-da9a901959d1', 'consumer_uuid': 'cc633679-e4a6-4033-8b62-26ecc11ddb8e', 'execution_plan': [], 'started': 1685528750649, 'status': 'OK', 'execution_plan_index': -1, 'execution_plan_results': [], 'n_auditlog_entries': 2, 'latest_auditlog_timestamp': 1685528750751}, {'_id': '647720ae2bc9c838326585fd', 'type': 'create', 'name': 'Jupyter Notebook Test Job', 'origin': 'https://develop.amdex.dev', 'job_uuid': 'c3b6a732-ee64-4bde-97a9-be030559118d', 'consumer_uuid': 'cc633679-e4a6-4033-8b62-26ecc11ddb8e', 'execution_plan': [], 'started': 1685528750472, 'status': 'OK', 'execution_plan_index': -1, 'execution_plan_results': [], 'n_auditlog_entries': 2, 'latest_auditlog_timestamp': 1685528750575}, {'_id': '647720ae2bc9c838326585fc', 'type': 'create', 'name': 'Jupyter Notebook Test Job', 'origin': 'https://develop.amdex.dev', 'job_uuid': '48bd0ed0-2fc4-4678-ab7b-3c42b4e1a657', 'consumer_uuid': 'cc633679-e4a6-4033-8b62-26ecc11ddb8e', 'execution_plan': [], 'started': 1685528750250, 'status': 'OK', 'execution_plan_index': -1, 'execution_plan_results': [], 'n_auditlog_entries': 2, 'latest_auditlog_timestamp': 1685528750368}, {'_id': '6477201a4f38a9063119ac18', 'type': 'create', 'name': 'Jupyter Notebook Test Job', 'origin': 'https://develop.amdex.dev', 'job_uuid': '78f1ff49-af34-475c-879e-1ae03d8d2ed2', 'consumer_uuid': 'cc633679-e4a6-4033-8b62-26ecc11ddb8e', 'execution_plan': [], 'started': 1685528602011, 'status': 'OK', 'execution_plan_index': -1, 'execution_plan_results': [], 'n_auditlog_entries': 2, 'latest_auditlog_timestamp': 1685528602103}, {'_id': '64771f4b4f38a9063119ac17', 'type': 'create', 'name': 'Jupyter Notebook Test Job', 'origin': 'https://develop.amdex.dev', 'job_uuid': 'fa57fd39-893c-4cf5-96aa-cec599e4dfb5', 'consumer_uuid': 'cc633679-e4a6-4033-8b62-26ecc11ddb8e', 'execution_plan': [], 'started': 1685528395230, 'status': 'OK', 'execution_plan_index': -1, 'execution_plan_results': [], 'n_auditlog_entries': 2, 'latest_auditlog_timestamp': 1685528395321}, {'_id': '64771f1f4f38a9063119ac16', 'type': 'create', 'name': 'Jupyter Notebook Test Job', 'origin': 'https://develop.amdex.dev', 'job_uuid': 'eec615a0-b6ab-4724-8380-aaef4a2f0a8c', 'consumer_uuid': 'cc633679-e4a6-4033-8b62-26ecc11ddb8e', 'execution_plan': [], 'started': 1685528351630, 'status': 'OK', 'execution_plan_index': -1, 'execution_plan_results': [], 'n_auditlog_entries': 2, 'latest_auditlog_timestamp': 1685528351720}, {'_id': '64771efe4f38a9063119ac15', 'type': 'create', 'name': 'Jupyter Notebook Test Job', 'origin': 'https://develop.amdex.dev', 'job_uuid': '35e1cf0d-3c20-4500-bb99-b0a8dd6083bc', 'consumer_uuid': 'cc633679-e4a6-4033-8b62-26ecc11ddb8e', 'execution_plan': [], 'started': 1685528318311, 'status': 'OK', 'execution_plan_index': -1, 'execution_plan_results': [], 'n_auditlog_entries': 2, 'latest_auditlog_timestamp': 1685528318401}, {'_id': '64771ee74f38a9063119ac14', 'type': 'create', 'name': 'Jupyter Notebook Test Job', 'origin': 'https://develop.amdex.dev', 'job_uuid': '89bea7b9-c870-44f0-bb3b-841885683060', 'consumer_uuid': 'cc633679-e4a6-4033-8b62-26ecc11ddb8e', 'execution_plan': [], 'started': 1685528295090, 'status': 'OK', 'execution_plan_index': -1, 'execution_plan_results': [], 'n_auditlog_entries': 2, 'latest_auditlog_timestamp': 1685528295183}, {'_id': '64771e5b4f38a9063119ac13', 'type': 'create', 'name': 'Jupyter Notebook Test Job', 'origin': 'https://develop.amdex.dev', 'job_uuid': '52354670-606a-4976-ae99-b11b414668de', 'consumer_uuid': 'cc633679-e4a6-4033-8b62-26ecc11ddb8e', 'execution_plan': [], 'started': 1685528155325, 'status': 'OK', 'execution_plan_index': -1, 'execution_plan_results': [], 'n_auditlog_entries': 2, 'latest_auditlog_timestamp': 1685528155417}, {'_id': '64771de24f38a9063119ac12', 'type': 'create', 'name': 'Jupyter Notebook Test Job', 'origin': 'https://develop.amdex.dev', 'job_uuid': '738b2be1-dc78-4760-9b7e-bd394c5f7ea7', 'consumer_uuid': 'cc633679-e4a6-4033-8b62-26ecc11ddb8e', 'execution_plan': [], 'started': 1685528034144, 'status': 'OK', 'execution_plan_index': -1, 'execution_plan_results': [], 'n_auditlog_entries': 2, 'latest_auditlog_timestamp': 1685528034234}, {'_id': '64771daa4f38a9063119ac11', 'type': 'create', 'name': 'Jupyter Notebook Test Job', 'origin': 'https://develop.amdex.dev', 'job_uuid': '8e72fb26-87be-4b26-8ef5-21e0be5cbcb8', 'consumer_uuid': 'cc633679-e4a6-4033-8b62-26ecc11ddb8e', 'execution_plan': [], 'started': 1685527978894, 'status': 'OK', 'execution_plan_index': -1, 'execution_plan_results': [], 'n_auditlog_entries': 2, 'latest_auditlog_timestamp': 1685527978983}, {'_id': '64771d4c4f38a9063119ac10', 'type': 'create', 'name': 'Jupyter Notebook Test Job', 'origin': 'https://develop.amdex.dev', 'job_uuid': '32ede92d-8898-40eb-b4c1-0e4efa1cc176', 'consumer_uuid': 'cc633679-e4a6-4033-8b62-26ecc11ddb8e', 'execution_plan': [], 'started': 1685527884231, 'status': 'OK', 'execution_plan_index': -1, 'execution_plan_results': [], 'n_auditlog_entries': 2, 'latest_auditlog_timestamp': 1685527884320}, {'_id': '64771b954f38a9063119ac0f', 'type': 'create', 'name': 'Jupyter Notebook Test Job', 'origin': 'https://develop.amdex.dev', 'job_uuid': '33ac53e4-6b6b-4299-9078-5f5cf0736cfa', 'consumer_uuid': 'cc633679-e4a6-4033-8b62-26ecc11ddb8e', 'execution_plan': [], 'started': 1685527445422, 'status': 'OK', 'execution_plan_index': -1, 'execution_plan_results': [], 'n_auditlog_entries': 2, 'latest_auditlog_timestamp': 1685527445510}, {'_id': '647719a84f38a9063119ac0e', 'type': 'create', 'name': 'Jupyter Notebook Test Job', 'origin': 'https://develop.amdex.dev', 'job_uuid': '8dd9640b-5ac8-4f9a-b91a-e6c1b191f5c9', 'consumer_uuid': 'cc633679-e4a6-4033-8b62-26ecc11ddb8e', 'execution_plan': [], 'started': 1685526952745, 'status': 'OK', 'execution_plan_index': -1, 'execution_plan_results': [], 'n_auditlog_entries': 2, 'latest_auditlog_timestamp': 1685526952838}, {'_id': '647719014f38a9063119ac0d', 'type': 'create', 'name': 'Jupyter Notebook Test Job', 'origin': 'https://develop.amdex.dev', 'job_uuid': '00195b32-19a1-4bd4-b343-c99210aa5332', 'consumer_uuid': 'cc633679-e4a6-4033-8b62-26ecc11ddb8e', 'execution_plan': [], 'started': 1685526785530, 'status': 'OK', 'execution_plan_index': -1, 'execution_plan_results': [], 'n_auditlog_entries': 2, 'latest_auditlog_timestamp': 1685526785623}]\n",
      "10. Create job:\n",
      "{'type': 'create', 'name': 'Jupyter Notebook Test Job', 'data': {'policy_uuids': []}}\n",
      "Created Job: {'job_uuid': '4b5052cf-c50a-479b-a58c-44fa83c17c65'}\n",
      "\n",
      "11. Append policy to job:\n",
      "Appended Job: {'job_uuid': '4b5052cf-c50a-479b-a58c-44fa83c17c65'}\n",
      "\n",
      "12. Poll job status:\n",
      "Job Status: True\n",
      "\n"
     ]
    }
   ],
   "source": [
    "# Get jobs\n",
    "print(\"9. Get jobs:\")\n",
    "jobs = amdex.get_jobs()\n",
    "print(\"Jobs:\", jobs)\n",
    "\n",
    "# Create job\n",
    "job_body = {\n",
    "    \"type\": \"create\",\n",
    "    \"name\": \"Jupyter Notebook Test Job\",\n",
    "    \"data\": { \"policy_uuids\":[] }\n",
    "}\n",
    "\n",
    "policy_list=[created_policy['policy_uuid'],created_policy['policy_uuid'],created_policy['policy_uuid']]\n",
    "policy_list=[\"21693473-d070-43bf-aca7-b75adbb51e48\", \"8cceff93-ac99-4d10-a121-35413e3bea5a\"]\n",
    "\n",
    "print(\"10. Create job:\")\n",
    "created_job = amdex.create_job(job_body)\n",
    "job_uuid = created_job['job_uuid']\n",
    "print(\"Created Job:\", created_job)\n",
    "print()\n",
    "\n",
    "print(\"11. Append policy to job:\")\n",
    "#policy_list = [ created_policy['policy_uuid']]\n",
    "append_job1 = amdex.append_job(job_uuid, policy_list)\n",
    "print(\"Appended Job:\", append_job1)\n",
    "print()\n",
    "\n",
    "# Poll job status\n",
    "print(\"12. Poll job status:\")\n",
    "status = amdex.poll_job_status(job_uuid)\n",
    "print(\"Job Status:\", status)\n",
    "print()\n",
    "\n",
    "# Delete all jobs\n",
    "# print(\"11. Delete jobs:\")\n",
    "# deleted_jobs = amdex.delete_jobs()\n",
    "# print(\"Deleted Jobs:\", deleted_jobs)\n",
    "# print()"
   ]
  }
 ],
 "metadata": {
  "kernelspec": {
   "display_name": "Python 3 (ipykernel)",
   "language": "python",
   "name": "python3"
  },
  "language_info": {
   "codemirror_mode": {
    "name": "ipython",
    "version": 3
   },
   "file_extension": ".py",
   "mimetype": "text/x-python",
   "name": "python",
   "nbconvert_exporter": "python",
   "pygments_lexer": "ipython3",
   "version": "3.7.6"
  }
 },
 "nbformat": 4,
 "nbformat_minor": 5
}
