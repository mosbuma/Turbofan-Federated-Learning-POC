{
 "cells": [
  {
   "cell_type": "code",
   "execution_count": 1,
   "id": "e9660f2b-c836-4a8a-876c-271b303f5cf7",
   "metadata": {
    "tags": []
   },
   "outputs": [],
   "source": [
    "from amdex import AMdEX\n",
    "import hashlib\n",
    "import json\n",
    "\n",
    "BASE_URL = \"https://develop.amdex.dev\"\n",
    "\n",
    "email = \"feduser-b@amdex.demo\"\n",
    "password = \"yes\"\n",
    "password_hash = hashlib.sha256(password.encode()).hexdigest().upper()    \n",
    "\n",
    "# Create an instance of AMdEX class\n",
    "amdex = AMdEX(BASE_URL)\n",
    "    "
   ]
  },
  {
   "cell_type": "code",
   "execution_count": 2,
   "id": "f3338df5-675c-4088-9454-1ebd896082eb",
   "metadata": {
    "tags": []
   },
   "outputs": [],
   "source": [
    "# Authenticate\n",
    "amdex.signin(email, password_hash)\n",
    "# amdex.authenticate2(name, password_hash)"
   ]
  },
  {
   "cell_type": "code",
   "execution_count": 3,
   "id": "b50c004f-2807-4428-87bb-37df6aeae5cb",
   "metadata": {
    "tags": []
   },
   "outputs": [
    {
     "name": "stdout",
     "output_type": "stream",
     "text": [
      "Account Info: {'name': 'Predictive maintenance server', 'email': 'feduser-b@amdex.demo', 'account_uuid': 'cc633679-e4a6-4033-8b62-26ecc11ddb8e', 'auditlog_write_access': True, 'auditlog_read_access_from_consortium_uuids': [], 'auditlog_read_access_for_entries_by_account_uuids': ['6ae1ae4f-3c5c-4d55-8785-86076c6586f9', '886fc572-2522-4bf1-9399-3fca39fa946c', '35e825ef-739f-4c02-8e75-c8697021fc2e', 'cc633679-e4a6-4033-8b62-26ecc11ddb8e']}\n"
     ]
    }
   ],
   "source": [
    "# Get account info\n",
    "account_info = amdex.get_session()\n",
    "print(\"Account Info:\", account_info)"
   ]
  },
  {
   "cell_type": "code",
   "execution_count": 4,
   "id": "06c20ad7-1d66-4862-8e39-c1e4345625d4",
   "metadata": {
    "tags": []
   },
   "outputs": [],
   "source": [
    "# Get version\n",
    "version_info = amdex.get_version()"
   ]
  },
  {
   "cell_type": "code",
   "execution_count": 5,
   "id": "68d9ac2a-6e2b-4100-99a8-dae9787a5d97",
   "metadata": {
    "tags": []
   },
   "outputs": [
    {
     "name": "stdout",
     "output_type": "stream",
     "text": [
      "Version: {'version': '0.0.2', 'api_version': '1'}\n"
     ]
    }
   ],
   "source": [
    "print(\"Version:\", version_info)"
   ]
  },
  {
   "cell_type": "code",
   "execution_count": 6,
   "id": "e892bbb1-84f4-4489-a2e6-56c3625bd7f8",
   "metadata": {
    "tags": []
   },
   "outputs": [
    {
     "name": "stdout",
     "output_type": "stream",
     "text": [
      "Dataviews: [{'name': 'Sample Dataview', 'query': 'SELECT * FROM table', 'provider_account_uuid': 'cc633679-e4a6-4033-8b62-26ecc11ddb8e', 'dataview_uuid': '554a10b8-ef49-4321-836b-3f756caf706e', 'added': 1689683069678}, {'name': 'Sample Dataview', 'query': 'SELECT * FROM table', 'provider_account_uuid': 'cc633679-e4a6-4033-8b62-26ecc11ddb8e', 'dataview_uuid': 'a4324659-9164-429e-bc36-109586414289', 'added': 1689683033163}, {'name': 'Sample Dataview', 'query': 'SELECT * FROM table', 'provider_account_uuid': 'cc633679-e4a6-4033-8b62-26ecc11ddb8e', 'dataview_uuid': '5f0b2f6b-8b27-4f3d-ae42-4f91e8e213d3', 'added': 1689682743576}, {'name': 'Airline C dataset', 'provider_account_uuid': '7798b4c5-5f78-4014-b915-497d79156d84', 'policy_uuids': ['cc0c5381-3c43-4c64-86d9-770655ebb696', '8cceff93-ac99-4d10-a121-35413e3bea5a', '21693473-d070-43bf-aca7-b75adbb51e48'], 'dataview_uuid': '6446ace3-eeed-44d0-af84-cd880b484acc', 'added': 1689626014320}, {'name': 'Airline B dataset', 'provider_account_uuid': '4676f686-4798-4db1-b70e-290e57f2b709', 'policy_uuids': ['cc0c5381-3c43-4c64-86d9-770655ebb696', '8cceff93-ac99-4d10-a121-35413e3bea5a', '21693473-d070-43bf-aca7-b75adbb51e48'], 'dataview_uuid': '6aeae107-b4e6-40d4-9e1b-9941a76b847c', 'added': 1689626014319}, {'name': 'Airline A dataset', 'provider_account_uuid': '5015115c-b8db-4ee7-a7cc-5a73fc101a4d', 'policy_uuids': ['cc0c5381-3c43-4c64-86d9-770655ebb696', '8cceff93-ac99-4d10-a121-35413e3bea5a', '21693473-d070-43bf-aca7-b75adbb51e48'], 'dataview_uuid': 'fdf858fc-849f-4b1e-8255-9a2d4ac3009a', 'added': 1689626014317}]\n",
      "New Dataview: {'dataview_uuid': 'ca53390e-ac16-49e8-8129-fa1822160318'}\n",
      "uuid {'dataview_uuid': 'ca53390e-ac16-49e8-8129-fa1822160318'}\n",
      "Delete Result: {'deletedCount': 0}\n"
     ]
    }
   ],
   "source": [
    "# Get dataviews\n",
    "dataviews = amdex.get_dataviews()\n",
    "print(\"Dataviews:\", dataviews)\n",
    "\n",
    "# Create a dataview\n",
    "dataview_body = {\n",
    "    \"name\": \"Sample Dataview\",\n",
    "    \"query\": \"SELECT * FROM table\",\n",
    "    # ... other properties\n",
    "}\n",
    "new_dataview = amdex.create_dataview(dataview_body)\n",
    "print(\"New Dataview:\", new_dataview)\n",
    "\n",
    "print(\"uuid\", new_dataview)\n",
    "\n",
    "# Delete a dataview\n",
    "uuid = \"731ea95e-d608-40db-91ae-fae98a8c0794\"\n",
    "result = amdex.delete_dataview(new_dataview)\n",
    "print(\"Delete Result:\", result)"
   ]
  },
  {
   "cell_type": "code",
   "execution_count": 7,
   "id": "6c019057-669d-4123-9e4b-7ede46758e9d",
   "metadata": {
    "tags": []
   },
   "outputs": [
    {
     "name": "stdout",
     "output_type": "stream",
     "text": [
      "account info data officer: {'name': 'Compliance Officer', 'email': '0x3c5456C0D3CBA0A47710D09C94146a3Fc83119Ad', 'account_uuid': '9e8ed6aa-bfdb-4146-87d6-64ec538a258b', 'auditlog_write_access': False, 'auditlog_read_access_from_consortium_uuids': ['e9e92347-1077-4ef6-a21f-3cf40186f33a'], 'auditlog_read_access_for_entries_by_account_uuids': ['6ae1ae4f-3c5c-4d55-8785-86076c6586f9', '886fc572-2522-4bf1-9399-3fca39fa946c', '35e825ef-739f-4c02-8e75-c8697021fc2e', 'cc633679-e4a6-4033-8b62-26ecc11ddb8e']}\n"
     ]
    }
   ],
   "source": [
    "#create an amdex class for the data officer\n",
    "email_dataofficer = \"0x3c5456C0D3CBA0A47710D09C94146a3Fc83119Ad\"\n",
    "password_dataofficer = \"yes\"\n",
    "password_hash_dataofficer = hashlib.sha256(password_dataofficer.encode()).hexdigest().upper()\n",
    "\n",
    "\n",
    "# # Create an instance of AMdEX class\n",
    "amdex_dataofficer = AMdEX()\n",
    "amdex_dataofficer.signin(email_dataofficer, password_hash_dataofficer)\n",
    "\n",
    "account_info = amdex_dataofficer.get_session()\n",
    "print(\"account info data officer:\", account_info)\n",
    "\n"
   ]
  },
  {
   "cell_type": "code",
   "execution_count": 8,
   "id": "1882b285",
   "metadata": {
    "tags": []
   },
   "outputs": [
    {
     "name": "stdout",
     "output_type": "stream",
     "text": [
      "6. Get policies:\n",
      "Got 7 policies\n",
      "Policies:\n",
      "Name: Example policy 1\n",
      "UUID: 5dab09da-a0c0-4d59-94ac-62f162bb9807\n",
      "\n",
      "Name: Example policy 1\n",
      "UUID: 57e7f6a5-e9ff-492e-b579-38bb036a312c\n",
      "\n",
      "Name: Ex Post checks\n",
      "UUID: 3a1c4ab9-3fe1-4b93-afc7-ebbd068afaa2\n",
      "\n",
      "Name: Consortium partner allowed to access data\n",
      "UUID: 21693473-d070-43bf-aca7-b75adbb51e48\n",
      "\n",
      "Name: Consortium partner allowed to access algorithm\n",
      "UUID: 488c847c-b533-48db-931c-113e1ba35371\n",
      "\n",
      "Name: Data confirms to consortium rules\n",
      "UUID: 8cceff93-ac99-4d10-a121-35413e3bea5a\n",
      "\n",
      "Name: Consumer allowed to access provider data\n",
      "UUID: cc0c5381-3c43-4c64-86d9-770655ebb696\n",
      "\n",
      "\n",
      "7. Create policy:\n",
      "Created Policy: {'policy_uuid': '838882ca-9827-40ed-9b39-cbd018e98646'}\n",
      "\n"
     ]
    }
   ],
   "source": [
    "# Get policies\n",
    "print(\"6. Get policies:\")\n",
    "policies = amdex_dataofficer.get_policies()\n",
    "\n",
    "\n",
    "print(f\"Got {policies.__len__()} policies\")\n",
    "print(\"Policies:\")\n",
    "for policy in policies:\n",
    "    print(f\"Name: {policy['name']}\\nUUID: {policy['policy_uuid']}\\n\")\n",
    "print()\n",
    "\n",
    "# Create policy\n",
    "print(\"7. Create policy:\")\n",
    "policy_body = {\n",
    "    \"name\": \"Example policy 1\",\n",
    "    \"inputs\": [\n",
    "        {\n",
    "            \"description\": \"Consortium UUID of data provider\",\n",
    "            \"name\": \"provider_consortium_uuid\",\n",
    "            \"source\": \"internal\"\n",
    "        },\n",
    "        {\n",
    "            \"description\": \"Consortium UUID of data consumer\",\n",
    "            \"name\": \"consumer_consortium_uuid\",\n",
    "            \"source\": \"internal\"\n",
    "        }\n",
    "    ],\n",
    "    \"outputs\": [\n",
    "        {\n",
    "            \"description\": \"Access allowed\",\n",
    "            \"name\": \"access_allowed\"\n",
    "        }\n",
    "    ],\n",
    "    \"url\": {\n",
    "        \"human\": \"https://amdex.dev/policies/gdpr-attribution/README.txt\",\n",
    "        \"legal\": \"https://amdex.dev/policies/gdpr-attribution/POLICY.txt\",\n",
    "        \"machine\": \"https://amdex.dev/policies/gdpr-attribution/gdpr-attribution.eflint\"\n",
    "    },\n",
    "    \"hash_type\": \"SHA-256\",\n",
    "    \"hash\": {\n",
    "        \"human\": \"e5e61f918d66cd421ee506dff43f713b3e74449a23d035b65b8115196d7397d9\",\n",
    "        \"legal\": \"d0119b1ff66c27f3973c0437bc2a19d426f6a5532313abca9cd9b7fdd37ba614\",\n",
    "        \"machine\": \"8C2B4CA076E57619E239958200FF18D4CFC0E931755C2648D66B36F2BD4D7E0B\"\n",
    "    }\n",
    "}\n",
    "\n",
    "created_policy = amdex_dataofficer.create_policy(policy_body)\n",
    "print(\"Created Policy:\", created_policy)\n",
    "print()\n",
    "\n",
    "# Delete policy\n",
    "# print(\"8. Delete policy:\")\n",
    "# policy_uuid = created_policy.get(\"policy_uuid\")\n",
    "# deleted_policy = amdex_dataofficer.delete_policy(policy_uuid)\n",
    "# print(\"Deleted Policy:\", deleted_policy)\n",
    "# print()"
   ]
  },
  {
   "cell_type": "code",
   "execution_count": 9,
   "id": "42222b2f",
   "metadata": {
    "tags": []
   },
   "outputs": [
    {
     "name": "stdout",
     "output_type": "stream",
     "text": [
      "6. Get policies:\n",
      "Policies: [{'name': 'Example policy 1', 'inputs': [{'description': 'Consortium UUID of data provider', 'name': 'provider_consortium_uuid', 'source': 'internal'}, {'description': 'Consortium UUID of data consumer', 'name': 'consumer_consortium_uuid', 'source': 'internal'}], 'outputs': [{'description': 'Access allowed', 'name': 'access_allowed'}], 'url': {'human': 'https://amdex.dev/policies/gdpr-attribution/README.txt', 'legal': 'https://amdex.dev/policies/gdpr-attribution/POLICY.txt', 'machine': 'https://amdex.dev/policies/gdpr-attribution/gdpr-attribution.eflint'}, 'hash_type': 'SHA-256', 'hash': {'human': 'E5E61F918D66CD421EE506DFF43F713B3E74449A23D035B65B8115196D7397D9', 'legal': 'D0119B1FF66C27F3973C0437BC2A19D426F6A5532313ABCA9CD9B7FDD37BA614', 'machine': '8C2B4CA076E57619E239958200FF18D4CFC0E931755C2648D66B36F2BD4D7E0B'}, 'policy_uuid': '838882ca-9827-40ed-9b39-cbd018e98646', 'added': 1689683072029}, {'name': 'Example policy 1', 'inputs': [{'description': 'Consortium UUID of data provider', 'name': 'provider_consortium_uuid', 'source': 'internal'}, {'description': 'Consortium UUID of data consumer', 'name': 'consumer_consortium_uuid', 'source': 'internal'}], 'outputs': [{'description': 'Access allowed', 'name': 'access_allowed'}], 'url': {'human': 'https://amdex.dev/policies/gdpr-attribution/README.txt', 'legal': 'https://amdex.dev/policies/gdpr-attribution/POLICY.txt', 'machine': 'https://amdex.dev/policies/gdpr-attribution/gdpr-attribution.eflint'}, 'hash_type': 'SHA-256', 'hash': {'human': 'E5E61F918D66CD421EE506DFF43F713B3E74449A23D035B65B8115196D7397D9', 'legal': 'D0119B1FF66C27F3973C0437BC2A19D426F6A5532313ABCA9CD9B7FDD37BA614', 'machine': '8C2B4CA076E57619E239958200FF18D4CFC0E931755C2648D66B36F2BD4D7E0B'}, 'policy_uuid': '5dab09da-a0c0-4d59-94ac-62f162bb9807', 'added': 1689683070165}, {'name': 'Example policy 1', 'inputs': [{'description': 'Consortium UUID of data provider', 'name': 'provider_consortium_uuid', 'source': 'internal'}, {'description': 'Consortium UUID of data consumer', 'name': 'consumer_consortium_uuid', 'source': 'internal'}], 'outputs': [{'description': 'Access allowed', 'name': 'access_allowed'}], 'url': {'human': 'https://amdex.dev/policies/gdpr-attribution/README.txt', 'legal': 'https://amdex.dev/policies/gdpr-attribution/POLICY.txt', 'machine': 'https://amdex.dev/policies/gdpr-attribution/gdpr-attribution.eflint'}, 'hash_type': 'SHA-256', 'hash': {'human': 'E5E61F918D66CD421EE506DFF43F713B3E74449A23D035B65B8115196D7397D9', 'legal': 'D0119B1FF66C27F3973C0437BC2A19D426F6A5532313ABCA9CD9B7FDD37BA614', 'machine': '8C2B4CA076E57619E239958200FF18D4CFC0E931755C2648D66B36F2BD4D7E0B'}, 'policy_uuid': '57e7f6a5-e9ff-492e-b579-38bb036a312c', 'added': 1689682900597}, {'name': 'Ex Post checks', 'inputs': [{'description': 'Audit logs', 'name': 'auditlogs', 'source': 'internal'}], 'outputs': [{'description': 'Ex Post OK', 'name': 'ex_post_ok'}], 'inline_polyset': False, 'url': {'human': 'https://develop.amdex.dev/policies/gdpr-attribution/README.txt', 'legal': 'https://develop.amdex.dev/policies/gdpr-attribution/POLICY.txt', 'machine': 'https://develop.amdex.dev/policies/gdpr-attribution/gdpr-attribution.eflint'}, 'hash_type': 'SHA-256', 'hash': {'human': 'e5e61f918d66cd421ee506dff43f713b3e74449a23d035b65b8115196d7397d9', 'legal': 'd0119b1ff66c27f3973c0437bc2a19d426f6a5532313abca9cd9b7fdd37ba614', 'machine': '8C2B4CA076E57619E239958200FF18D4CFC0E931755C2648D66B36F2BD4D7E0B'}, 'policy_uuid': '3a1c4ab9-3fe1-4b93-afc7-ebbd068afaa2', 'added': 1689626014325}, {'name': 'Consortium partner allowed to access data', 'inputs': [{'description': 'Consortium UUID of data provider', 'name': 'provider_consortium_uuid', 'source': 'internal'}, {'description': 'Consortium UUID of data consumer', 'name': 'consumer_consortium_uuid', 'source': 'internal'}, {'description': 'Dataview UUID', 'name': 'dataview_uuid', 'source': 'internal'}], 'outputs': [{'description': 'Access allowed', 'name': 'access_allowed'}], 'inline_polyset': False, 'url': {'human': 'https://develop.amdex.dev/policies/gdpr-attribution/README.txt', 'legal': 'https://develop.amdex.dev/policies/gdpr-attribution/POLICY.txt', 'machine': 'https://develop.amdex.dev/policies/gdpr-attribution/gdpr-attribution.eflint'}, 'hash_type': 'SHA-256', 'hash': {'human': 'e5e61f918d66cd421ee506dff43f713b3e74449a23d035b65b8115196d7397d9', 'legal': 'd0119b1ff66c27f3973c0437bc2a19d426f6a5532313abca9cd9b7fdd37ba614', 'machine': '8C2B4CA076E57619E239958200FF18D4CFC0E931755C2648D66B36F2BD4D7E0B'}, 'policy_uuid': '21693473-d070-43bf-aca7-b75adbb51e48', 'added': 1689626014324}, {'name': 'Consortium partner allowed to access algorithm', 'inputs': [{'description': 'Consortium UUID of data provider', 'name': 'provider_consortium_uuid', 'source': 'internal'}, {'description': 'Consortium UUID of data consumer', 'name': 'consumer_consortium_uuid', 'source': 'internal'}, {'description': 'Algorithm UUID', 'name': 'algorithm_uuid', 'source': 'internal'}], 'outputs': [{'description': 'Access allowed', 'name': 'access_allowed'}], 'inline_polyset': False, 'url': {'human': 'https://develop.amdex.dev/policies/gdpr-attribution/README.txt', 'legal': 'https://develop.amdex.dev/policies/gdpr-attribution/POLICY.txt', 'machine': 'https://develop.amdex.dev/policies/gdpr-attribution/gdpr-attribution.eflint'}, 'hash_type': 'SHA-256', 'hash': {'human': 'e5e61f918d66cd421ee506dff43f713b3e74449a23d035b65b8115196d7397d9', 'legal': 'd0119b1ff66c27f3973c0437bc2a19d426f6a5532313abca9cd9b7fdd37ba614', 'machine': '8C2B4CA076E57619E239958200FF18D4CFC0E931755C2648D66B36F2BD4D7E0B'}, 'policy_uuid': '488c847c-b533-48db-931c-113e1ba35371', 'added': 1689626014324}, {'name': 'Data confirms to consortium rules', 'inputs': [{'description': 'Dataview UUID', 'name': 'dataview_uuid', 'source': 'internal'}], 'outputs': [{'description': 'Data OK', 'name': 'data_ok'}], 'inline_polyset': False, 'url': {'human': 'https://develop.amdex.dev/policies/gdpr-attribution/README.txt', 'legal': 'https://develop.amdex.dev/policies/gdpr-attribution/POLICY.txt', 'machine': 'https://develop.amdex.dev/policies/gdpr-attribution/gdpr-attribution.eflint'}, 'hash_type': 'SHA-256', 'hash': {'human': 'e5e61f918d66cd421ee506dff43f713b3e74449a23d035b65b8115196d7397d9', 'legal': 'd0119b1ff66c27f3973c0437bc2a19d426f6a5532313abca9cd9b7fdd37ba614', 'machine': '8C2B4CA076E57619E239958200FF18D4CFC0E931755C2648D66B36F2BD4D7E0B'}, 'policy_uuid': '8cceff93-ac99-4d10-a121-35413e3bea5a', 'added': 1689626014323}, {'name': 'Consumer allowed to access provider data', 'inputs': [{'description': 'Consortium UUID of data provider', 'name': 'provider_consortium_uuid', 'source': 'internal'}, {'description': 'Consortium UUID of data consumer', 'name': 'consumer_consortium_uuid', 'source': 'internal'}], 'outputs': [{'description': 'Access allowed', 'name': 'access_allowed'}], 'inline_polyset': False, 'url': {'human': 'https://develop.amdex.dev/policies/gdpr-attribution/README.txt', 'legal': 'https://develop.amdex.dev/policies/gdpr-attribution/POLICY.txt', 'machine': 'https://develop.amdex.dev/policies/gdpr-attribution/gdpr-attribution.eflint'}, 'hash_type': 'SHA-256', 'hash': {'human': 'e5e61f918d66cd421ee506dff43f713b3e74449a23d035b65b8115196d7397d9', 'legal': 'd0119b1ff66c27f3973c0437bc2a19d426f6a5532313abca9cd9b7fdd37ba614', 'machine': '8C2B4CA076E57619E239958200FF18D4CFC0E931755C2648D66B36F2BD4D7E0B'}, 'policy_uuid': 'cc0c5381-3c43-4c64-86d9-770655ebb696', 'added': 1689626014322}]\n",
      "\n"
     ]
    }
   ],
   "source": [
    "# policies\n",
    "print(\"6. Get policies:\")\n",
    "policies = amdex_dataofficer.get_policies()\n",
    "print(\"Policies:\", policies)\n",
    "print()"
   ]
  },
  {
   "cell_type": "code",
   "execution_count": 10,
   "id": "e701db83-baaf-490d-9e96-bac580898665",
   "metadata": {
    "tags": []
   },
   "outputs": [
    {
     "name": "stdout",
     "output_type": "stream",
     "text": [
      "9. Get jobs:\n",
      "Jobs: [{'_id': '64b6847e999c5af190dc1987', 'type': 'append', 'name': 'Jupyter Notebook Test Job', 'data': {'policy_uuids': ['21693473-d070-43bf-aca7-b75adbb51e48', '8cceff93-ac99-4d10-a121-35413e3bea5a']}, 'origin': 'https://develop.amdex.dev', 'job_uuid': 'd41df345-c812-4037-a4fa-3f84b4e7c542', 'consumer_uuid': 'cc633679-e4a6-4033-8b62-26ecc11ddb8e', 'execution_plan': [{'type': 'Orchestrator', 'policy_uuid': '21693473-d070-43bf-aca7-b75adbb51e48'}, {'type': 'Orchestrator', 'policy_uuid': '8cceff93-ac99-4d10-a121-35413e3bea5a'}], 'started': 1689683070325, 'status': 'Executing plan item 1/2', 'execution_plan_index': 0, 'execution_plan_results': [], 'n_auditlog_entries': 9, 'latest_auditlog_timestamp': 1689683072035}, {'_id': '64b683dd999c5af190dc1986', 'type': 'append', 'name': 'Jupyter Notebook Test Job', 'data': {'policy_uuids': ['21693473-d070-43bf-aca7-b75adbb51e48', '8cceff93-ac99-4d10-a121-35413e3bea5a']}, 'origin': 'https://develop.amdex.dev', 'job_uuid': 'c01b6629-e712-4f12-9219-e7283fa188a4', 'consumer_uuid': 'cc633679-e4a6-4033-8b62-26ecc11ddb8e', 'execution_plan': [{'type': 'Orchestrator', 'policy_uuid': '21693473-d070-43bf-aca7-b75adbb51e48'}, {'type': 'Orchestrator', 'policy_uuid': '8cceff93-ac99-4d10-a121-35413e3bea5a'}], 'started': 1689682909126, 'status': 'OK', 'execution_plan_index': 1, 'execution_plan_results': [{'success': True, 'meta': {'comments': 'orchestrator_reasoner finished job'}}, {'success': True, 'meta': {'comments': 'orchestrator_reasoner finished job'}}], 'n_auditlog_entries': 16, 'latest_auditlog_timestamp': 1689682911314}]\n",
      "10. Create job:\n",
      "{'type': 'create', 'name': 'Jupyter Notebook Test Job', 'data': {'policy_uuids': []}}\n",
      "Created Job: {'job_uuid': 'd57a55d2-5b79-4c4f-a3e8-8211f211ceae'}\n",
      "\n",
      "11. Append policy to job:\n",
      "Appended Job: {'job_uuid': 'd57a55d2-5b79-4c4f-a3e8-8211f211ceae'}\n",
      "\n",
      "12. Poll job status:\n",
      "Job Status: True\n",
      "\n"
     ]
    }
   ],
   "source": [
    "# Get jobs\n",
    "print(\"9. Get jobs:\")\n",
    "jobs = amdex.get_jobs()\n",
    "print(\"Jobs:\", jobs)\n",
    "\n",
    "# Create job\n",
    "job_body = {\n",
    "    \"type\": \"create\",\n",
    "    \"name\": \"Jupyter Notebook Test Job\",\n",
    "    \"data\": { \"policy_uuids\":[] }\n",
    "}\n",
    "\n",
    "policy_list=[created_policy['policy_uuid'],created_policy['policy_uuid'],created_policy['policy_uuid']]\n",
    "policy_list=[\"21693473-d070-43bf-aca7-b75adbb51e48\", \"8cceff93-ac99-4d10-a121-35413e3bea5a\"]\n",
    "\n",
    "print(\"10. Create job:\")\n",
    "created_job = amdex.create_job(job_body)\n",
    "job_uuid = created_job['job_uuid']\n",
    "print(\"Created Job:\", created_job)\n",
    "print()\n",
    "\n",
    "print(\"11. Append policy to job:\")\n",
    "#policy_list = [ created_policy['policy_uuid']]\n",
    "append_job1 = amdex.append_job(job_uuid, policy_list)\n",
    "print(\"Appended Job:\", append_job1)\n",
    "print()\n",
    "\n",
    "# Poll job status\n",
    "print(\"12. Poll job status:\")\n",
    "status = amdex.poll_job_status(job_uuid)\n",
    "print(\"Job Status:\", status)\n",
    "print()\n",
    "\n",
    "# Delete all jobs\n",
    "# print(\"11. Delete jobs:\")\n",
    "# deleted_jobs = amdex.delete_jobs()\n",
    "# print(\"Deleted Jobs:\", deleted_jobs)\n",
    "# print()"
   ]
  },
  {
   "cell_type": "code",
   "execution_count": null,
   "id": "6cfb3513-a5a3-4471-b52b-e6a6fab6eeed",
   "metadata": {},
   "outputs": [],
   "source": []
  },
  {
   "cell_type": "code",
   "execution_count": null,
   "id": "e358e8f9-62c6-4b13-baf2-9ad017b7bc7d",
   "metadata": {},
   "outputs": [],
   "source": []
  }
 ],
 "metadata": {
  "kernelspec": {
   "display_name": "Python 3 (ipykernel)",
   "language": "python",
   "name": "python3"
  },
  "language_info": {
   "codemirror_mode": {
    "name": "ipython",
    "version": 3
   },
   "file_extension": ".py",
   "mimetype": "text/x-python",
   "name": "python",
   "nbconvert_exporter": "python",
   "pygments_lexer": "ipython3",
   "version": "3.7.6"
  }
 },
 "nbformat": 4,
 "nbformat_minor": 5
}
