{
 "cells": [
  {
   "cell_type": "code",
   "execution_count": 1,
   "id": "e9660f2b-c836-4a8a-876c-271b303f5cf7",
   "metadata": {
    "tags": []
   },
   "outputs": [],
   "source": [
    "from amdex import AMdEX\n",
    "import hashlib\n",
    "import json\n",
    "\n",
    "DATAEXCHANGE_URL = \"https://develop.amdex.dev\"\n",
    "TRUST_URL = \"https://develop.trust.amdex.dev\"\n",
    "\n",
    "email = \"feduser-b@amdex.demo\"\n",
    "password = \"yes\"\n",
    "password_hash = hashlib.sha256(password.encode()).hexdigest().upper()"
   ]
  },
  {
   "cell_type": "code",
   "execution_count": 12,
   "id": "f3338df5-675c-4088-9454-1ebd896082eb",
   "metadata": {
    "tags": []
   },
   "outputs": [
    {
     "name": "stdout",
     "output_type": "stream",
     "text": [
      "trust_account_info: {'name': 'Predictive maintenance server', 'email': 'feduser-b@amdex.demo', 'account_uuid': 'cc633679-e4a6-4033-8b62-26ecc11ddb8e', 'auditlog_write_access': True, 'auditlog_read_access_from_consortium_uuids': [], 'auditlog_read_access_for_entries_by_account_uuids': ['6ae1ae4f-3c5c-4d55-8785-86076c6586f9', '886fc572-2522-4bf1-9399-3fca39fa946c', '35e825ef-739f-4c02-8e75-c8697021fc2e', 'cc633679-e4a6-4033-8b62-26ecc11ddb8e']}\n",
      "trust_version_info: {'version': '0.0.3', 'api_version': '1.0.3', 'dataexchange_url': 'https://develop.amdex.dev', 'trust_url': 'https://develop.trust.amdex.dev', 'federatedlearning_url': 'https://develop.federatedlearning.amdex.dev'}\n"
     ]
    }
   ],
   "source": [
    "# Create an instance of AMdEX class (it would make sense to call this trust instead of amdex)\n",
    "amdex = AMdEX(TRUST_URL)\n",
    "amdex.signin(email, password_hash)\n",
    "trust_account_info = amdex.get_session()\n",
    "print(\"trust_account_info:\", trust_account_info)\n",
    "\n",
    "trust_version_info = amdex.get_version()\n",
    "print(\"trust_version_info:\", trust_version_info)"
   ]
  },
  {
   "cell_type": "code",
   "execution_count": 13,
   "id": "b50c004f-2807-4428-87bb-37df6aeae5cb",
   "metadata": {
    "tags": []
   },
   "outputs": [
    {
     "name": "stdout",
     "output_type": "stream",
     "text": [
      "dataexchange_account_info: {'name': 'Predictive maintenance server', 'email': 'feduser-b@amdex.demo', 'account_uuid': 'cc633679-e4a6-4033-8b62-26ecc11ddb8e', 'auditlog_write_access': True, 'auditlog_read_access_from_consortium_uuids': [], 'auditlog_read_access_for_entries_by_account_uuids': ['6ae1ae4f-3c5c-4d55-8785-86076c6586f9', '886fc572-2522-4bf1-9399-3fca39fa946c', '35e825ef-739f-4c02-8e75-c8697021fc2e', 'cc633679-e4a6-4033-8b62-26ecc11ddb8e']}\n",
      "dataexchange_version_info: {'version': '0.0.3', 'api_version': '1.0.2', 'dataexchange_url': 'https://develop.amdex.dev', 'trust_url': 'https://develop.trust.amdex.dev', 'federatedlearning_url': 'https://develop.federatedlearning.amdex.dev'}\n"
     ]
    }
   ],
   "source": [
    "dataexchange = AMdEX(DATAEXCHANGE_URL)\n",
    "dataexchange.signin(email, password_hash)\n",
    "dataexchange_account_info = dataexchange.get_session()\n",
    "print(\"dataexchange_account_info:\", dataexchange_account_info)\n",
    "\n",
    "dataexchange_version_info = dataexchange.get_version()\n",
    "print(\"dataexchange_version_info:\", dataexchange_version_info)"
   ]
  },
  {
   "cell_type": "code",
   "execution_count": 14,
   "id": "e892bbb1-84f4-4489-a2e6-56c3625bd7f8",
   "metadata": {
    "tags": []
   },
   "outputs": [],
   "source": [
    "# # Get dataviews\n",
    "# dataviews = dataexchange.get_dataviews()\n",
    "# print(\"Dataviews:\", dataviews)\n",
    "\n",
    "# # Create a dataview\n",
    "# dataview_body = {\n",
    "#     \"name\": \"Sample Dataview\",\n",
    "#     \"policy_uuids\": [\"example_policy_uuid1\", \"example_policy_uuid2\"]\n",
    "#     # \"query\": \"SELECT * FROM table\",\n",
    "#     # ... other properties\n",
    "# }\n",
    "# new_dataview = dataexchange.create_dataview(dataview_body)\n",
    "# print(\"New Dataview:\", new_dataview)\n",
    "\n",
    "# print(\"uuid\", new_dataview)\n",
    "\n",
    "# # Delete a dataview\n",
    "# uuid = \"731ea95e-d608-40db-91ae-fae98a8c0794\"\n",
    "# result = dataexchange.delete_dataview(new_dataview)\n",
    "# print(\"Delete Result:\", result)"
   ]
  },
  {
   "cell_type": "code",
   "execution_count": 15,
   "id": "6c019057-669d-4123-9e4b-7ede46758e9d",
   "metadata": {
    "tags": []
   },
   "outputs": [
    {
     "name": "stdout",
     "output_type": "stream",
     "text": [
      "account info compliance officer: {'name': 'Compliance Officer', 'email': 'complianceofficer@amdex.demo', 'account_uuid': '9e8ed6aa-bfdb-4146-87d6-64ec538a258b', 'auditlog_write_access': False, 'auditlog_read_access_from_consortium_uuids': ['e9e92347-1077-4ef6-a21f-3cf40186f33a'], 'auditlog_read_access_for_entries_by_account_uuids': ['6ae1ae4f-3c5c-4d55-8785-86076c6586f9', '886fc572-2522-4bf1-9399-3fca39fa946c', '35e825ef-739f-4c02-8e75-c8697021fc2e', 'cc633679-e4a6-4033-8b62-26ecc11ddb8e']}\n"
     ]
    }
   ],
   "source": [
    "#create an amdex class for the compliance officer\n",
    "email_complianceofficer = \"complianceofficer@amdex.demo\"\n",
    "password_complianceofficer = \"yes\"\n",
    "password_hash_complianceofficer = hashlib.sha256(password_complianceofficer.encode()).hexdigest().upper()\n",
    "\n",
    "\n",
    "# # Create an instance of AMdEX class\n",
    "amdex_complianceofficer = AMdEX()\n",
    "amdex_complianceofficer.signin(email_complianceofficer, password_hash_complianceofficer)\n",
    "\n",
    "account_info_complianceofficer = amdex_complianceofficer.get_session()\n",
    "print(\"account info compliance officer:\", account_info_complianceofficer)\n",
    "\n"
   ]
  },
  {
   "cell_type": "code",
   "execution_count": 16,
   "id": "1882b285",
   "metadata": {
    "tags": []
   },
   "outputs": [
    {
     "name": "stdout",
     "output_type": "stream",
     "text": [
      "6. Get policies:\n",
      "Got 6 policies\n",
      "Policies:\n",
      "Name: Example policy 1\n",
      "UUID: 2a32c875-3a7b-439b-8b08-c3536f40db3a\n",
      "\n",
      "Name: Ex Post checks\n",
      "UUID: 3a1c4ab9-3fe1-4b93-afc7-ebbd068afaa2\n",
      "\n",
      "Name: Consortium partner allowed to access algorithm\n",
      "UUID: 488c847c-b533-48db-931c-113e1ba35371\n",
      "\n",
      "Name: Consortium partner allowed to access data\n",
      "UUID: 21693473-d070-43bf-aca7-b75adbb51e48\n",
      "\n",
      "Name: Data confirms to consortium rules\n",
      "UUID: 8cceff93-ac99-4d10-a121-35413e3bea5a\n",
      "\n",
      "Name: Consumer allowed to access provider data\n",
      "UUID: cc0c5381-3c43-4c64-86d9-770655ebb696\n",
      "\n",
      "\n",
      "7. Create policy:\n",
      "Created Policy: {'policy_uuid': '17858358-f8cf-4513-8b8f-7c92056c83a7'}\n",
      "\n"
     ]
    }
   ],
   "source": [
    "# Get policies\n",
    "print(\"6. Get policies:\")\n",
    "policies = amdex_complianceofficer.get_policies()\n",
    "\n",
    "\n",
    "print(f\"Got {policies.__len__()} policies\")\n",
    "print(\"Policies:\")\n",
    "for policy in policies:\n",
    "    print(f\"Name: {policy['name']}\\nUUID: {policy['policy_uuid']}\\n\")\n",
    "print()\n",
    "\n",
    "# Create policy\n",
    "print(\"7. Create policy:\")\n",
    "policy_body = {\n",
    "    \"name\": \"Example policy 1\",\n",
    "    \"inputs\": [\n",
    "        {\n",
    "            \"description\": \"Consortium UUID of data provider\",\n",
    "            \"name\": \"provider_consortium_uuid\",\n",
    "            \"source\": \"internal\"\n",
    "        },\n",
    "        {\n",
    "            \"description\": \"Consortium UUID of data consumer\",\n",
    "            \"name\": \"consumer_consortium_uuid\",\n",
    "            \"source\": \"internal\"\n",
    "        }\n",
    "    ],\n",
    "    \"outputs\": [\n",
    "        {\n",
    "            \"description\": \"Access allowed\",\n",
    "            \"name\": \"access_allowed\"\n",
    "        }\n",
    "    ],\n",
    "    \"url\": {\n",
    "        \"human\": \"https://amdex.dev/policies/gdpr-attribution/README.txt\",\n",
    "        \"legal\": \"https://amdex.dev/policies/gdpr-attribution/POLICY.txt\",\n",
    "        \"machine\": \"https://amdex.dev/policies/gdpr-attribution/gdpr-attribution.eflint\"\n",
    "    },\n",
    "    \"hash_type\": \"SHA-256\",\n",
    "    \"hash\": {\n",
    "        \"human\": \"e5e61f918d66cd421ee506dff43f713b3e74449a23d035b65b8115196d7397d9\",\n",
    "        \"legal\": \"d0119b1ff66c27f3973c0437bc2a19d426f6a5532313abca9cd9b7fdd37ba614\",\n",
    "        \"machine\": \"8C2B4CA076E57619E239958200FF18D4CFC0E931755C2648D66B36F2BD4D7E0B\"\n",
    "    }\n",
    "}\n",
    "\n",
    "created_policy = amdex_complianceofficer.create_policy(policy_body)\n",
    "print(\"Created Policy:\", created_policy)\n",
    "print()\n",
    "\n",
    "# Delete policy\n",
    "# print(\"8. Delete policy:\")\n",
    "# policy_uuid = created_policy.get(\"policy_uuid\")\n",
    "# deleted_policy = amdex_complianceofficer.delete_policy(policy_uuid)\n",
    "# print(\"Deleted Policy:\", deleted_policy)\n",
    "# print()"
   ]
  },
  {
   "cell_type": "code",
   "execution_count": 17,
   "id": "42222b2f",
   "metadata": {
    "tags": []
   },
   "outputs": [
    {
     "name": "stdout",
     "output_type": "stream",
     "text": [
      "6. Get policies:\n",
      "Policies: [{'name': 'Example policy 1', 'inputs': [{'description': 'Consortium UUID of data provider', 'name': 'provider_consortium_uuid', 'source': 'internal'}, {'description': 'Consortium UUID of data consumer', 'name': 'consumer_consortium_uuid', 'source': 'internal'}], 'outputs': [{'description': 'Access allowed', 'name': 'access_allowed'}], 'url': {'human': 'https://amdex.dev/policies/gdpr-attribution/README.txt', 'legal': 'https://amdex.dev/policies/gdpr-attribution/POLICY.txt', 'machine': 'https://amdex.dev/policies/gdpr-attribution/gdpr-attribution.eflint'}, 'hash_type': 'SHA-256', 'hash': {'human': 'E5E61F918D66CD421EE506DFF43F713B3E74449A23D035B65B8115196D7397D9', 'legal': 'D0119B1FF66C27F3973C0437BC2A19D426F6A5532313ABCA9CD9B7FDD37BA614', 'machine': '8C2B4CA076E57619E239958200FF18D4CFC0E931755C2648D66B36F2BD4D7E0B'}, 'policy_uuid': '17858358-f8cf-4513-8b8f-7c92056c83a7', 'added': 1690917445795}, {'name': 'Ex Post checks', 'inputs': [{'description': 'Notary content', 'name': 'notary', 'source': 'internal'}], 'outputs': [{'description': 'Ex Post OK', 'name': 'ex_post_ok'}], 'inline_polyset': False, 'url': {'human': 'https://develop.amdex.dev/policies/gdpr-attribution/README.txt', 'legal': 'https://develop.amdex.dev/policies/gdpr-attribution/POLICY.txt', 'machine': 'https://develop.amdex.dev/policies/gdpr-attribution/gdpr-attribution.eflint'}, 'hash_type': 'SHA-256', 'hash': {'human': 'e5e61f918d66cd421ee506dff43f713b3e74449a23d035b65b8115196d7397d9', 'legal': 'd0119b1ff66c27f3973c0437bc2a19d426f6a5532313abca9cd9b7fdd37ba614', 'machine': '8C2B4CA076E57619E239958200FF18D4CFC0E931755C2648D66B36F2BD4D7E0B'}, 'policy_uuid': '3a1c4ab9-3fe1-4b93-afc7-ebbd068afaa2', 'added': 1690915651392}, {'name': 'Consortium partner allowed to access algorithm', 'inputs': [{'description': 'Consortium UUID of data provider', 'name': 'provider_consortium_uuid', 'source': 'internal'}, {'description': 'Consortium UUID of data consumer', 'name': 'consumer_consortium_uuid', 'source': 'internal'}, {'description': 'Algorithm UUID', 'name': 'algorithm_uuid', 'source': 'internal'}], 'outputs': [{'description': 'Access allowed', 'name': 'access_allowed'}], 'inline_polyset': False, 'url': {'human': 'https://develop.amdex.dev/policies/gdpr-attribution/README.txt', 'legal': 'https://develop.amdex.dev/policies/gdpr-attribution/POLICY.txt', 'machine': 'https://develop.amdex.dev/policies/gdpr-attribution/gdpr-attribution.eflint'}, 'hash_type': 'SHA-256', 'hash': {'human': 'e5e61f918d66cd421ee506dff43f713b3e74449a23d035b65b8115196d7397d9', 'legal': 'd0119b1ff66c27f3973c0437bc2a19d426f6a5532313abca9cd9b7fdd37ba614', 'machine': '8C2B4CA076E57619E239958200FF18D4CFC0E931755C2648D66B36F2BD4D7E0B'}, 'policy_uuid': '488c847c-b533-48db-931c-113e1ba35371', 'added': 1690915651391}, {'name': 'Consortium partner allowed to access data', 'inputs': [{'description': 'Consortium UUID of data provider', 'name': 'provider_consortium_uuid', 'source': 'internal'}, {'description': 'Consortium UUID of data consumer', 'name': 'consumer_consortium_uuid', 'source': 'internal'}, {'description': 'Dataview UUID', 'name': 'dataview_uuid', 'source': 'internal'}], 'outputs': [{'description': 'Access allowed', 'name': 'access_allowed'}], 'inline_polyset': False, 'url': {'human': 'https://develop.amdex.dev/policies/gdpr-attribution/README.txt', 'legal': 'https://develop.amdex.dev/policies/gdpr-attribution/POLICY.txt', 'machine': 'https://develop.amdex.dev/policies/gdpr-attribution/gdpr-attribution.eflint'}, 'hash_type': 'SHA-256', 'hash': {'human': 'e5e61f918d66cd421ee506dff43f713b3e74449a23d035b65b8115196d7397d9', 'legal': 'd0119b1ff66c27f3973c0437bc2a19d426f6a5532313abca9cd9b7fdd37ba614', 'machine': '8C2B4CA076E57619E239958200FF18D4CFC0E931755C2648D66B36F2BD4D7E0B'}, 'policy_uuid': '21693473-d070-43bf-aca7-b75adbb51e48', 'added': 1690915651390}, {'name': 'Data confirms to consortium rules', 'inputs': [{'description': 'Dataview UUID', 'name': 'dataview_uuid', 'source': 'internal'}], 'outputs': [{'description': 'Data OK', 'name': 'data_ok'}], 'inline_polyset': False, 'url': {'human': 'https://develop.amdex.dev/policies/gdpr-attribution/README.txt', 'legal': 'https://develop.amdex.dev/policies/gdpr-attribution/POLICY.txt', 'machine': 'https://develop.amdex.dev/policies/gdpr-attribution/gdpr-attribution.eflint'}, 'hash_type': 'SHA-256', 'hash': {'human': 'e5e61f918d66cd421ee506dff43f713b3e74449a23d035b65b8115196d7397d9', 'legal': 'd0119b1ff66c27f3973c0437bc2a19d426f6a5532313abca9cd9b7fdd37ba614', 'machine': '8C2B4CA076E57619E239958200FF18D4CFC0E931755C2648D66B36F2BD4D7E0B'}, 'policy_uuid': '8cceff93-ac99-4d10-a121-35413e3bea5a', 'added': 1690915651389}, {'name': 'Consumer allowed to access provider data', 'inputs': [{'description': 'Consortium UUID of data provider', 'name': 'provider_consortium_uuid', 'source': 'internal'}, {'description': 'Consortium UUID of data consumer', 'name': 'consumer_consortium_uuid', 'source': 'internal'}], 'outputs': [{'description': 'Access allowed', 'name': 'access_allowed'}], 'inline_polyset': False, 'url': {'human': 'https://develop.amdex.dev/policies/gdpr-attribution/README.txt', 'legal': 'https://develop.amdex.dev/policies/gdpr-attribution/POLICY.txt', 'machine': 'https://develop.amdex.dev/policies/gdpr-attribution/gdpr-attribution.eflint'}, 'hash_type': 'SHA-256', 'hash': {'human': 'e5e61f918d66cd421ee506dff43f713b3e74449a23d035b65b8115196d7397d9', 'legal': 'd0119b1ff66c27f3973c0437bc2a19d426f6a5532313abca9cd9b7fdd37ba614', 'machine': '8C2B4CA076E57619E239958200FF18D4CFC0E931755C2648D66B36F2BD4D7E0B'}, 'policy_uuid': 'cc0c5381-3c43-4c64-86d9-770655ebb696', 'added': 1690915651387}]\n",
      "\n"
     ]
    }
   ],
   "source": [
    "# policies\n",
    "print(\"6. Get policies:\")\n",
    "policies = amdex_complianceofficer.get_policies()\n",
    "print(\"Policies:\", policies)\n",
    "print()"
   ]
  },
  {
   "cell_type": "code",
   "execution_count": 19,
   "id": "e701db83-baaf-490d-9e96-bac580898665",
   "metadata": {
    "tags": []
   },
   "outputs": [
    {
     "name": "stdout",
     "output_type": "stream",
     "text": [
      "9. Get jobs:\n",
      "10. Existing Jobs: []\n",
      "11. Create Parent job:\n",
      "{'type': 'create', 'name': 'Jupyter Notebook Parent Job', 'data': {'policy_uuids': ['21693473-d070-43bf-aca7-b75adbb51e48', '8cceff93-ac99-4d10-a121-35413e3bea5a']}}\n",
      "12. Parent Job: {'job_uuid': '2f283b9b-b37f-432b-b688-9ebf63fff1b4'}\n",
      "13. Poll parent job status:\n",
      "14. Parent Job Status: True\n",
      "\n",
      "15. Mark this last job as parent and create another job with our newly created policies:\n",
      "{'type': 'create', 'name': 'Jupyter Notebook Child Job', 'parent_job_uuid': '2f283b9b-b37f-432b-b688-9ebf63fff1b4', 'data': {'policy_uuids': ['17858358-f8cf-4513-8b8f-7c92056c83a7', '17858358-f8cf-4513-8b8f-7c92056c83a7', '17858358-f8cf-4513-8b8f-7c92056c83a7']}}\n",
      "16. Child Job: {'job_uuid': '51c7bf72-eee5-4fcb-a13b-210fc1154c30'}\n",
      "17. Poll child job status:\n",
      "18. Child Job Status: True\n",
      "\n"
     ]
    }
   ],
   "source": [
    "# Get jobs\n",
    "print(\"9. Get jobs:\")\n",
    "jobs = amdex.get_jobs()\n",
    "print(\"10. Existing Jobs:\", jobs)\n",
    "\n",
    "print(\"11. Create Parent job:\")\n",
    "parent_job_body = {\n",
    "    \"type\": \"create\",\n",
    "    \"name\": \"Jupyter Notebook Parent Job\",\n",
    "    \"data\": { \"policy_uuids\": [\"21693473-d070-43bf-aca7-b75adbb51e48\", \"8cceff93-ac99-4d10-a121-35413e3bea5a\"] }\n",
    "}\n",
    "parent_job = amdex.create_job(parent_job_body)\n",
    "parent_job_uuid = parent_job['job_uuid']\n",
    "print(\"12. Parent Job:\", parent_job)\n",
    "\n",
    "print(\"13. Poll parent job status:\")\n",
    "parent_job_status = amdex.poll_job_status(parent_job_uuid)\n",
    "print(\"14. Parent Job Status:\", parent_job_status)\n",
    "print()\n",
    "\n",
    "print(\"15. Mark this last job as parent and create another job with our newly created policies:\")\n",
    "child_job_body = {\n",
    "    \"type\": \"create\",\n",
    "    \"name\": \"Jupyter Notebook Child Job\",\n",
    "    \"parent_job_uuid\": parent_job_uuid,\n",
    "    \"data\": { \"policy_uuids\": [created_policy['policy_uuid'], created_policy['policy_uuid'], created_policy['policy_uuid']] }\n",
    "}\n",
    "child_job = amdex.create_job(child_job_body)\n",
    "child_job_uuid = child_job['job_uuid']\n",
    "print(\"16. Child Job:\", child_job)\n",
    "\n",
    "print(\"17. Poll child job status:\")\n",
    "child_job_status = amdex.poll_job_status(child_job_uuid)\n",
    "print(\"18. Child Job Status:\", child_job_status)\n",
    "print()\n",
    "\n",
    "# Delete all jobs\n",
    "# print(\"18. Delete jobs:\")\n",
    "# deleted_jobs = amdex.delete_jobs()\n",
    "# print(\"Deleted Jobs:\", deleted_jobs)\n",
    "# print()"
   ]
  },
  {
   "cell_type": "code",
   "execution_count": null,
   "id": "6cfb3513-a5a3-4471-b52b-e6a6fab6eeed",
   "metadata": {},
   "outputs": [],
   "source": []
  },
  {
   "cell_type": "code",
   "execution_count": null,
   "id": "e358e8f9-62c6-4b13-baf2-9ad017b7bc7d",
   "metadata": {},
   "outputs": [],
   "source": []
  }
 ],
 "metadata": {
  "kernelspec": {
   "display_name": "Python 3 (ipykernel)",
   "language": "python",
   "name": "python3"
  },
  "language_info": {
   "codemirror_mode": {
    "name": "ipython",
    "version": 3
   },
   "file_extension": ".py",
   "mimetype": "text/x-python",
   "name": "python",
   "nbconvert_exporter": "python",
   "pygments_lexer": "ipython3",
   "version": "3.7.6"
  }
 },
 "nbformat": 4,
 "nbformat_minor": 5
}
