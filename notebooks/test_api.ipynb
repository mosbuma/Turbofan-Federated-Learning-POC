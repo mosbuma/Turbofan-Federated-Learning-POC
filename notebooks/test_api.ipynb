{
 "cells": [
  {
   "cell_type": "code",
   "execution_count": 4,
   "id": "e9660f2b-c836-4a8a-876c-271b303f5cf7",
   "metadata": {
    "tags": []
   },
   "outputs": [],
   "source": [
    "from amdex import AMdEX\n",
    "import hashlib\n",
    "\n",
    "BASE_URL = \"https://develop.amdex.dev\"\n",
    "\n",
    "name = \"Predictive maintenance server\"\n",
    "password = \"yes\"\n",
    "password_hash = hashlib.sha256(password.encode()).hexdigest().upper()\n",
    "\n",
    "# Create an instance of AMdEX class\n",
    "amdex = AMdEX()\n",
    "    "
   ]
  },
  {
   "cell_type": "code",
   "execution_count": 5,
   "id": "f3338df5-675c-4088-9454-1ebd896082eb",
   "metadata": {
    "tags": []
   },
   "outputs": [],
   "source": [
    "# Authenticate\n",
    "amdex.authenticate(name, password_hash)\n",
    "# amdex.authenticate2(name, password_hash)"
   ]
  },
  {
   "cell_type": "code",
   "execution_count": 6,
   "id": "b50c004f-2807-4428-87bb-37df6aeae5cb",
   "metadata": {
    "tags": []
   },
   "outputs": [
    {
     "name": "stdout",
     "output_type": "stream",
     "text": [
      "Account Info: {'name': 'Predictive maintenance server', 'public_key': 'MIIBIjANBgkqhkiG9w0BAQEFAAOCAQ8AMIIBCgKCAQEA2WgGfdnqUL0qwQ0sG3LVuAVX9JST4/W5yvAjnJlPEC33YVagYghQrMqhg/QCku2wSXCsztuwAaf9ugqZemheP8RfYeQkbm0d6wzXpOj6R7wBBV7j+aFAkbBlAKNKWyDAvn2HcS1jHNtcNfJQsaez6P5B1pC7OJdi+w1cHdgwLxIz0Kdm2nSYhUrnOZtDyl4hV4kwSFHiaFpIpihyTcbQhlnyNjE75auu6cL8G/wFBo/LPVNZmirWWa1Dvwfle20hc5AOsIFbMeHMnoVbsGFHBRO3eBMVdjGFrxv6ITW0juqpoHypjenVR4G3soklInr2Z4koHRBhM1yPoG3cpkuzMQIDAQAB', 'auditlog_write_access': True, 'auditlog_read_access_for_entries_by_account_uuids': ['6ae1ae4f-3c5c-4d55-8785-86076c6586f9', '886fc572-2522-4bf1-9399-3fca39fa946c', '35e825ef-739f-4c02-8e75-c8697021fc2e', 'cc633679-e4a6-4033-8b62-26ecc11ddb8e'], 'account_uuid': 'cc633679-e4a6-4033-8b62-26ecc11ddb8e', 'bearer_token': 'cc633679-e4a6-4033-8b62-26ecc11ddb8e'}\n"
     ]
    }
   ],
   "source": [
    "# Get account info\n",
    "account_info = amdex.get_account_info()\n",
    "print(\"Account Info:\", account_info)"
   ]
  },
  {
   "cell_type": "code",
   "execution_count": 7,
   "id": "06c20ad7-1d66-4862-8e39-c1e4345625d4",
   "metadata": {
    "tags": []
   },
   "outputs": [],
   "source": [
    "# Get version\n",
    "version_info = amdex.get_version()"
   ]
  },
  {
   "cell_type": "code",
   "execution_count": 8,
   "id": "68d9ac2a-6e2b-4100-99a8-dae9787a5d97",
   "metadata": {
    "tags": []
   },
   "outputs": [
    {
     "name": "stdout",
     "output_type": "stream",
     "text": [
      "Version: {'version': '0.0.2', 'api_version': '1', 'commit': '5fbbcd234827ad40a8b90987e324fd871597a120'}\n"
     ]
    }
   ],
   "source": [
    "print(\"Version:\", version_info)"
   ]
  },
  {
   "cell_type": "code",
   "execution_count": 9,
   "id": "604d87bc-f78b-4bbe-910b-c0f589471355",
   "metadata": {
    "tags": []
   },
   "outputs": [
    {
     "name": "stdout",
     "output_type": "stream",
     "text": [
      "Dataviews: [{'_id': '646cfebbe811f1538cef14db', 'name': 'Sample Dataview', 'query': 'SELECT * FROM table', 'provider_account_uuid': 'cc633679-e4a6-4033-8b62-26ecc11ddb8e', 'dataview_uuid': '092e7a27-5ba4-4fd8-8ae6-b5b3d0b800a0', 'added': 1684864699533}, {'_id': '64621afdca38fc5ed790010f', 'name': 'Unittest dataset', 'policy_uuids': ['aaaaaaaa-3fe1-4b93-afc7-ebbd068afaa2'], 'provider_account_uuid': 'cc633679-e4a6-4033-8b62-26ecc11ddb8e', 'dataview_uuid': '731ea95e-d608-40db-91ae-fae98a8c0794', 'added': 1684151037834}]\n"
     ]
    }
   ],
   "source": [
    "# Get dataviews\n",
    "dataviews = amdex.get_dataviews()\n",
    "print(\"Dataviews:\", dataviews)"
   ]
  },
  {
   "cell_type": "code",
   "execution_count": 10,
   "id": "785c1a12-05b4-44d3-a728-4fa1ad791071",
   "metadata": {
    "tags": []
   },
   "outputs": [
    {
     "name": "stdout",
     "output_type": "stream",
     "text": [
      "New Dataview: {'dataview_uuid': 'ae69d475-0e8e-46db-bf1a-6164adfab32b'}\n"
     ]
    }
   ],
   "source": [
    "# Create a dataview\n",
    "dataview_body = {\n",
    "    \"name\": \"Sample Dataview\",\n",
    "    \"query\": \"SELECT * FROM table\",\n",
    "    # ... other properties\n",
    "}\n",
    "new_dataview = amdex.create_dataview(dataview_body)\n",
    "print(\"New Dataview:\", new_dataview)"
   ]
  },
  {
   "cell_type": "code",
   "execution_count": 11,
   "id": "e5b23ae1-3d41-435c-89a0-9cdf73926e75",
   "metadata": {
    "tags": []
   },
   "outputs": [
    {
     "name": "stdout",
     "output_type": "stream",
     "text": [
      "uuid {'dataview_uuid': 'ae69d475-0e8e-46db-bf1a-6164adfab32b'}\n"
     ]
    }
   ],
   "source": [
    "print(\"uuid\", new_dataview)"
   ]
  },
  {
   "cell_type": "code",
   "execution_count": 12,
   "id": "b254beb2-53e8-4108-91ba-69faf6e48330",
   "metadata": {
    "tags": []
   },
   "outputs": [
    {
     "name": "stdout",
     "output_type": "stream",
     "text": [
      "Delete Result: {'deletedCount': 0}\n"
     ]
    }
   ],
   "source": [
    "# Delete a dataview\n",
    "uuid = \"731ea95e-d608-40db-91ae-fae98a8c0794\"\n",
    "result = amdex.delete_dataview(new_dataview)\n",
    "print(\"Delete Result:\", result)"
   ]
  },
  {
   "cell_type": "code",
   "execution_count": 4,
   "id": "e701db83-baaf-490d-9e96-bac580898665",
   "metadata": {},
   "outputs": [],
   "source": [
    "# Get jobs\n",
    "jobs = amdex.jobs.get()\n",
    "print(\"Jobs:\", jobs)"
   ]
  },
  {
   "cell_type": "code",
   "execution_count": 4,
   "id": "7d5e56dc-01f7-44ea-8d20-c3de803cfa8f",
   "metadata": {},
   "outputs": [],
   "source": [
    "# Create a job\n",
    "job_body = {\n",
    "    \"name\": \"Sample Job\",\n",
    "    \"query\": \"SELECT * FROM table\",\n",
    "    # ... other properties\n",
    "}\n",
    "new_job = amdex.jobs.post(job_body)\n",
    "print(\"New Job:\", new_job)"
   ]
  },
  {
   "cell_type": "code",
   "execution_count": 4,
   "id": "7cdb2a94-84a4-4314-a617-eb1be80acdfc",
   "metadata": {},
   "outputs": [],
   "source": [
    "# Delete jobs\n",
    "delete_result = amdex.jobs.delete()\n",
    "print(\"Delete Result:\", delete_result)"
   ]
  },
  {
   "cell_type": "code",
   "execution_count": 4,
   "id": "85e336ac-366d-4a60-a0f7-3e12cd2842b2",
   "metadata": {},
   "outputs": [],
   "source": [
    "# Poll job status\n",
    "job_uuid = \"xyz789\"\n",
    "status = amdex.jobs.pollStatus(job_uuid)\n",
    "print(\"Job Status:\", status)"
   ]
  },
  {
   "cell_type": "code",
   "execution_count": 4,
   "id": "49881d1f-96c4-4b96-b1e0-741d89ce3e3b",
   "metadata": {},
   "outputs": [],
   "source": [
    "# Get audit logs\n",
    "job_uuid = \"xyz789\"\n",
    "audit_logs = amdex.auditlogs.get(job_uuid)\n",
    "print(\"Audit Logs:\", audit_logs)"
   ]
  },
  {
   "cell_type": "code",
   "execution_count": 4,
   "id": "8e47a3a8-5493-42de-8e42-4be928144003",
   "metadata": {},
   "outputs": [],
   "source": [
    "# Create audit log\n",
    "job_uuid = \"xyz789\"\n",
    "audit_log_body = {\n",
    "    \"message\": \"Sample Audit Log\",\n",
    "    # ... other properties\n",
    "}"
   ]
  },
  {
   "cell_type": "code",
   "execution_count": 4,
   "id": "03b5a058-2671-4b20-a4a9-29c6b5e91f47",
   "metadata": {},
   "outputs": [
    {
     "ename": "TypeError",
     "evalue": "get expected at least 1 arguments, got 0",
     "output_type": "error",
     "traceback": [
      "\u001b[0;31m---------------------------------------------------------------------------\u001b[0m",
      "\u001b[0;31mTypeError\u001b[0m                                 Traceback (most recent call last)",
      "\u001b[0;32m/tmp/ipykernel_190/1567391228.py\u001b[0m in \u001b[0;36m<module>\u001b[0;34m\u001b[0m\n\u001b[1;32m      1\u001b[0m \u001b[0;31m# Get version\u001b[0m\u001b[0;34m\u001b[0m\u001b[0;34m\u001b[0m\u001b[0;34m\u001b[0m\u001b[0m\n\u001b[0;32m----> 2\u001b[0;31m \u001b[0mversion_info\u001b[0m \u001b[0;34m=\u001b[0m \u001b[0mamdex\u001b[0m\u001b[0;34m.\u001b[0m\u001b[0mversion\u001b[0m\u001b[0;34m.\u001b[0m\u001b[0mget\u001b[0m\u001b[0;34m(\u001b[0m\u001b[0;34m)\u001b[0m\u001b[0;34m\u001b[0m\u001b[0;34m\u001b[0m\u001b[0m\n\u001b[0m\u001b[1;32m      3\u001b[0m \u001b[0mprint\u001b[0m\u001b[0;34m(\u001b[0m\u001b[0;34m\"Version:\"\u001b[0m\u001b[0;34m,\u001b[0m \u001b[0mversion_info\u001b[0m\u001b[0;34m)\u001b[0m\u001b[0;34m\u001b[0m\u001b[0;34m\u001b[0m\u001b[0m\n\u001b[1;32m      4\u001b[0m \u001b[0;34m\u001b[0m\u001b[0m\n\u001b[1;32m      5\u001b[0m \u001b[0;31m# Get dataviews\u001b[0m\u001b[0;34m\u001b[0m\u001b[0;34m\u001b[0m\u001b[0;34m\u001b[0m\u001b[0m\n",
      "\u001b[0;31mTypeError\u001b[0m: get expected at least 1 arguments, got 0"
     ]
    }
   ],
   "source": [
    "new_audit_log = amdex.auditlogs.post(job_uuid, audit_log_body)\n",
    "print(\"New Audit Log:\", new_audit_log)"
   ]
  },
  {
   "cell_type": "code",
   "execution_count": null,
   "id": "bf27e7de",
   "metadata": {},
   "outputs": [],
   "source": []
  }
 ],
 "metadata": {
  "kernelspec": {
   "display_name": "Python 3 (ipykernel)",
   "language": "python",
   "name": "python3"
  },
  "language_info": {
   "codemirror_mode": {
    "name": "ipython",
    "version": 3
   },
   "file_extension": ".py",
   "mimetype": "text/x-python",
   "name": "python",
   "nbconvert_exporter": "python",
   "pygments_lexer": "ipython3",
   "version": "3.7.6"
  }
 },
 "nbformat": 4,
 "nbformat_minor": 5
}
