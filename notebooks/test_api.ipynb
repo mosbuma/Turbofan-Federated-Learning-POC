{
 "cells": [
  {
   "cell_type": "code",
   "execution_count": 1,
   "id": "cc40de01-0198-43c6-9be0-71db3171d231",
   "metadata": {
    "tags": []
   },
   "outputs": [],
   "source": [
    "from amdex import *\n",
    "import hashlib\n",
    "import os\n",
    "import json\n",
    "\n",
    "# url = \"https://amdex_server:8081/api/isJobAllowed/\"\n",
    "# token = \"abc123\"\n",
    "\n",
    "# response = make_rest_call(url, token)\n",
    "# if response:\n",
    "#     print(response)\n",
    "# else:\n",
    "#     print(\"Error making REST API call\")"
   ]
  },
  {
   "cell_type": "code",
   "execution_count": 2,
   "id": "892912bc-61d0-4a79-a999-4a77844523f1",
   "metadata": {
    "tags": []
   },
   "outputs": [
    {
     "name": "stdout",
     "output_type": "stream",
     "text": [
      "password_hash 8A798890FE93817163B10B5F7BD2CA4D25D84C52739A645A889C173EEE7D9D3D\n"
     ]
    }
   ],
   "source": [
    "# Example usage\n",
    "name = \"Predictive maintenance server\"\n",
    "password = \"yes\"\n",
    "password_hash = hashlib.sha256(password.encode()).hexdigest().upper()\n",
    "\n",
    "print(\"password_hash\", password_hash)\n"
   ]
  },
  {
   "cell_type": "code",
   "execution_count": 4,
   "id": "b90f4326-70f2-48ee-a62b-cf18341092cd",
   "metadata": {
    "tags": []
   },
   "outputs": [
    {
     "name": "stdout",
     "output_type": "stream",
     "text": [
      "version {'version': '0.0.2', 'api_version': '1', 'commit': 'ceca8d77704d76cbf83880e89a3d600c6c1090e6'}\n",
      "fetchAuth - url:https://develop.amdex.dev/api/auth\n",
      "fetchAuth - password_hash:8A798890FE93817163B10B5F7BD2CA4D25D84C52739A645A889C173EEE7D9D3D\n"
     ]
    },
    {
     "ename": "NameError",
     "evalue": "name 'json' is not defined",
     "output_type": "error",
     "traceback": [
      "\u001b[0;31m---------------------------------------------------------------------------\u001b[0m",
      "\u001b[0;31mNameError\u001b[0m                                 Traceback (most recent call last)",
      "\u001b[0;32m/tmp/ipykernel_124/1485858836.py\u001b[0m in \u001b[0;36m<module>\u001b[0;34m\u001b[0m\n\u001b[1;32m     27\u001b[0m \u001b[0;34m\u001b[0m\u001b[0m\n\u001b[1;32m     28\u001b[0m \u001b[0;31m# Fetch authorization\u001b[0m\u001b[0;34m\u001b[0m\u001b[0;34m\u001b[0m\u001b[0;34m\u001b[0m\u001b[0m\n\u001b[0;32m---> 29\u001b[0;31m \u001b[0mauth_result\u001b[0m \u001b[0;34m=\u001b[0m \u001b[0mfetchAuth\u001b[0m\u001b[0;34m(\u001b[0m\u001b[0mname\u001b[0m\u001b[0;34m,\u001b[0m \u001b[0mpassword_hash\u001b[0m\u001b[0;34m)\u001b[0m\u001b[0;34m\u001b[0m\u001b[0;34m\u001b[0m\u001b[0m\n\u001b[0m\u001b[1;32m     30\u001b[0m \u001b[0mprint\u001b[0m\u001b[0;34m(\u001b[0m\u001b[0mauth_result\u001b[0m\u001b[0;34m)\u001b[0m\u001b[0;34m\u001b[0m\u001b[0;34m\u001b[0m\u001b[0m\n\u001b[1;32m     31\u001b[0m \u001b[0;34m\u001b[0m\u001b[0m\n",
      "\u001b[0;32m/tmp/ipykernel_124/1485858836.py\u001b[0m in \u001b[0;36mfetchAuth\u001b[0;34m(name, password_hash)\u001b[0m\n\u001b[1;32m     12\u001b[0m         \u001b[0mprint\u001b[0m\u001b[0;34m(\u001b[0m\u001b[0;34m\"fetchAuth - url:\"\u001b[0m \u001b[0;34m+\u001b[0m \u001b[0murl\u001b[0m\u001b[0;34m,\u001b[0m \u001b[0mflush\u001b[0m\u001b[0;34m=\u001b[0m\u001b[0;32mTrue\u001b[0m\u001b[0;34m)\u001b[0m\u001b[0;34m\u001b[0m\u001b[0;34m\u001b[0m\u001b[0m\n\u001b[1;32m     13\u001b[0m         \u001b[0mprint\u001b[0m\u001b[0;34m(\u001b[0m\u001b[0;34m\"fetchAuth - password_hash:\"\u001b[0m \u001b[0;34m+\u001b[0m \u001b[0mpassword_hash\u001b[0m\u001b[0;34m,\u001b[0m \u001b[0mflush\u001b[0m\u001b[0;34m=\u001b[0m\u001b[0;32mTrue\u001b[0m\u001b[0;34m)\u001b[0m\u001b[0;34m\u001b[0m\u001b[0;34m\u001b[0m\u001b[0m\n\u001b[0;32m---> 14\u001b[0;31m         \u001b[0mprint\u001b[0m\u001b[0;34m(\u001b[0m\u001b[0;34m\"fetchAuth - json:\"\u001b[0m \u001b[0;34m+\u001b[0m \u001b[0mjson\u001b[0m\u001b[0;34m,\u001b[0m \u001b[0mflush\u001b[0m\u001b[0;34m=\u001b[0m\u001b[0;32mTrue\u001b[0m\u001b[0;34m)\u001b[0m\u001b[0;34m\u001b[0m\u001b[0;34m\u001b[0m\u001b[0m\n\u001b[0m\u001b[1;32m     15\u001b[0m \u001b[0;34m\u001b[0m\u001b[0m\n\u001b[1;32m     16\u001b[0m         \u001b[0mheaders\u001b[0m \u001b[0;34m=\u001b[0m \u001b[0;34m{\u001b[0m\u001b[0;34m\"Accept\"\u001b[0m\u001b[0;34m:\u001b[0m \u001b[0;34m\"application/json\"\u001b[0m\u001b[0;34m}\u001b[0m\u001b[0;34m\u001b[0m\u001b[0;34m\u001b[0m\u001b[0m\n",
      "\u001b[0;31mNameError\u001b[0m: name 'json' is not defined"
     ]
    }
   ],
   "source": [
    "version = fetchApi(\"version\")\n",
    "print(\"version\", version)\n",
    "\n",
    "def fetchAuth(name, password_hash):\n",
    "    try:\n",
    "        url = f\"{BASE_URL}/api/auth\"\n",
    "        jsonobj = {\n",
    "            \"name\": name,\n",
    "            \"password_hash\": password_hash,\n",
    "        }\n",
    "\n",
    "        print(\"fetchAuth - url:\" + url, flush=True)\n",
    "        print(\"fetchAuth - password_hash:\" + password_hash, flush=True)\n",
    "        print(\"fetchAuth - json:\" + json.dumps(jsonobj), flush=True)\n",
    "\n",
    "        headers = {\"Accept\": \"application/json\"}\n",
    "        result = requests.post(\n",
    "            url,\n",
    "            headers=headers,\n",
    "            json=json.dumps(jsonobj),\n",
    "        )\n",
    "        result.raise_for_status()\n",
    "        return result.json()\n",
    "    except requests.exceptions.RequestException as e:\n",
    "        print(\"Error during fetchAuth:\", e)\n",
    "        return None\n",
    "\n",
    "# Fetch authorization\n",
    "auth_result = fetchAuth(name, password_hash)\n",
    "print(auth_result)\n",
    "\n",
    "\n",
    "# bearer_token = auth_result[\"bearer_token\"]\n",
    "# account_uuid = auth_result[\"account_uuid\"]\n",
    "\n",
    "# if(auth_result[\"status\"] == \"error\"):\n",
    "\n",
    "# print(\"Fetched authorization\")\n",
    "# print(\"Bearer token: \" + bearer_token)  \n",
    "# print(\"Account UUID: \" + account_uuid)\n",
    "\n",
    "bearer_token = \"\"\n",
    "account_uuid = \"\"\n"
   ]
  },
  {
   "cell_type": "code",
   "execution_count": null,
   "id": "c809458d-b5cb-4a19-9a4f-1d0ef40c97d4",
   "metadata": {
    "tags": []
   },
   "outputs": [
    {
     "name": "stdout",
     "output_type": "stream",
     "text": [
      "Error during fetchJobs: 401 Client Error: Unauthorized for url: https://develop.amdex.dev/api/authenticated/jobs\n",
      "Jobs: None\n"
     ]
    }
   ],
   "source": [
    "# Fetch jobs\n",
    "jobs_result = fetchJobs(account_uuid, bearer_token)\n",
    "print(\"Jobs:\", jobs_result)\n"
   ]
  },
  {
   "cell_type": "code",
   "execution_count": null,
   "id": "11a35c72-9851-4624-8caf-e0ea9ad5c037",
   "metadata": {
    "tags": []
   },
   "outputs": [
    {
     "name": "stdout",
     "output_type": "stream",
     "text": [
      "Error during fetchJobs: 401 Client Error: Unauthorized for url: https://develop.amdex.dev/api/authenticated/jobs\n",
      "Error during pollJobStatus: 'NoneType' object is not iterable\n",
      "Job Status: None\n",
      "Error during fetchAuditlogs: 401 Client Error: Unauthorized for url: https://develop.amdex.dev/api/authenticated/auditlogs/example_job_uuid\n",
      "Audit Logs: None\n",
      "Error during fetchDataviews: 401 Client Error: Unauthorized for url: https://develop.amdex.dev/api/authenticated/dataviews\n",
      "Dataviews: None\n",
      "Error during fetchApi: 404 Client Error: Not Found for url: https://develop.amdex.dev/api/example\n",
      "API Result: None\n"
     ]
    }
   ],
   "source": [
    "\n",
    "\n",
    "# Poll job status\n",
    "job_uuid = \"example_job_uuid\"\n",
    "status = pollJobStatus(account_uuid, job_uuid, bearer_token)\n",
    "print(\"Job Status:\", status)\n",
    "\n",
    "# Fetch audit logs\n",
    "auditlogs_result = fetchAuditlogs(account_uuid, job_uuid, bearer_token)\n",
    "print(\"Audit Logs:\", auditlogs_result)\n",
    "\n",
    "# Fetch dataviews\n",
    "dataviews_result = fetchDataviews(account_uuid, bearer_token)\n",
    "print(\"Dataviews:\", dataviews_result)\n",
    "\n",
    "# Fetch API\n",
    "api_function = \"example\"\n",
    "api_result = fetchApi(api_function)\n",
    "print(\"API Result:\", api_result)    "
   ]
  },
  {
   "cell_type": "code",
   "execution_count": null,
   "id": "25c456e6",
   "metadata": {},
   "outputs": [
    {
     "name": "stdout",
     "output_type": "stream",
     "text": [
      "Error during fetchAuditlogs: 401 Client Error: Unauthorized for url: https://develop.amdex.dev/api/authenticated/auditlogs/example_job_uuid\n",
      "Audit Logs: None\n",
      "Error during fetchDataviews: 401 Client Error: Unauthorized for url: https://develop.amdex.dev/api/authenticated/dataviews\n",
      "Dataviews: None\n",
      "Error during fetchApi: 404 Client Error: Not Found for url: https://develop.amdex.dev/api/example\n",
      "API Result: None\n"
     ]
    }
   ],
   "source": [
    "# Fetch audit logs\n",
    "auditlogs_result = fetchAuditlogs(account_uuid, job_uuid, bearer_token)\n",
    "print(\"Audit Logs:\", auditlogs_result)\n",
    "\n",
    "# Fetch dataviews\n",
    "dataviews_result = fetchDataviews(account_uuid, bearer_token)\n",
    "print(\"Dataviews:\", dataviews_result)\n",
    "\n",
    "# Fetch API\n",
    "api_function = \"example\"\n",
    "api_result = fetchApi(api_function)\n",
    "print(\"API Result:\", api_result)    "
   ]
  },
  {
   "cell_type": "code",
   "execution_count": null,
   "id": "8399124e-095f-4555-81fd-d17e088a0ee5",
   "metadata": {},
   "outputs": [],
   "source": []
  },
  {
   "cell_type": "code",
   "execution_count": null,
   "id": "c34e0e5c-7546-471a-a2e0-8db81bb27ab7",
   "metadata": {},
   "outputs": [],
   "source": []
  }
 ],
 "metadata": {
  "kernelspec": {
   "display_name": "Python 3 (ipykernel)",
   "language": "python",
   "name": "python3"
  },
  "language_info": {
   "codemirror_mode": {
    "name": "ipython",
    "version": 3
   },
   "file_extension": ".py",
   "mimetype": "text/x-python",
   "name": "python",
   "nbconvert_exporter": "python",
   "pygments_lexer": "ipython3",
   "version": "3.7.6"
  }
 },
 "nbformat": 4,
 "nbformat_minor": 5
}
