{
 "cells": [
  {
   "cell_type": "code",
   "execution_count": 1,
   "id": "380a7a9e-522f-4245-bfa2-5b3d5c0817ec",
   "metadata": {
    "tags": []
   },
   "outputs": [
    {
     "name": "stdout",
     "output_type": "stream",
     "text": [
      "Request headers: {'User-Agent': 'python-requests/2.28.2', 'Accept-Encoding': 'gzip, deflate', 'Accept': 'application/json', 'Connection': 'keep-alive', 'Content-Length': '0', 'Authorization': 'Bearer abc123'}\n",
      "{'allowed': True, 'userName': 'User 1', 'responseData': {'somedata': True}}\n"
     ]
    }
   ],
   "source": [
    "from rest_module import make_rest_call\n",
    "\n",
    "url = \"http://amdex_server:8081/api/isJobAllowed/\"\n",
    "token = \"abc123\"\n",
    "\n",
    "response = make_rest_call(url, token)\n",
    "if response:\n",
    "    print(response)\n",
    "else:\n",
    "    print(\"Error making REST API call\")\n",
    "\n"
   ]
  },
  {
   "cell_type": "code",
   "execution_count": null,
   "id": "8399124e-095f-4555-81fd-d17e088a0ee5",
   "metadata": {},
   "outputs": [],
   "source": []
  },
  {
   "cell_type": "code",
   "execution_count": null,
   "id": "c34e0e5c-7546-471a-a2e0-8db81bb27ab7",
   "metadata": {},
   "outputs": [],
   "source": []
  }
 ],
 "metadata": {
  "kernelspec": {
   "display_name": "Python 3 (ipykernel)",
   "language": "python",
   "name": "python3"
  },
  "language_info": {
   "codemirror_mode": {
    "name": "ipython",
    "version": 3
   },
   "file_extension": ".py",
   "mimetype": "text/x-python",
   "name": "python",
   "nbconvert_exporter": "python",
   "pygments_lexer": "ipython3",
   "version": "3.7.6"
  }
 },
 "nbformat": 4,
 "nbformat_minor": 5
}
