{
 "cells": [
  {
   "cell_type": "markdown",
   "metadata": {
    "colab_type": "text",
    "id": "DGFrBsJOs8N6"
   },
   "source": [
    "# Turbofan POC - Initial Training and Model Serving\n",
    "\n",
    "This notebook is creating an initial model for predictions of the RUL for our turbofan engines."
   ]
  },
  {
   "cell_type": "markdown",
   "metadata": {
    "colab_type": "text",
    "id": "teKaiaP8A-pN"
   },
   "source": [
    "## Imports and Data Preprocessing"
   ]
  },
  {
   "cell_type": "code",
   "execution_count": 1,
   "metadata": {
    "colab": {
     "base_uri": "https://localhost:8080/",
     "height": 156
    },
    "colab_type": "code",
    "executionInfo": {
     "elapsed": 26981,
     "status": "ok",
     "timestamp": 1582126813186,
     "user": {
      "displayName": "Matthias Lau",
      "photoUrl": "https://lh3.googleusercontent.com/a-/AAuE7mC6WRAXJoMqa4-OAv4EwNhkeeciSt5GDAExs2YBOg=s64",
      "userId": "11790472444495897059"
     },
     "user_tz": -60
    },
    "id": "1Krj0J83x5O8",
    "outputId": "1b4a0cea-c47e-41e9-82a2-9b816e3765e9"
   },
   "outputs": [],
   "source": [
    "# check if we are inside google colab\n",
    "try:\n",
    "    from google.colab import drive\n",
    "    # mount gdrive for importing the data\n",
    "    drive.mount('/content/gdrive', force_remount=True)\n",
    "    # change this path to your notebooks directory inside google drive\n",
    "    %cd /content/gdrive/My\\ Drive/dev/turbofan_poc/notebooks\n",
    "\n",
    "    # set tensorflow version\n",
    "    %tensorflow_version 2.x\n",
    "except:\n",
    "    pass"
   ]
  },
  {
   "cell_type": "code",
   "execution_count": 2,
   "metadata": {
    "colab": {},
    "colab_type": "code",
    "id": "N61mNrV80NVr"
   },
   "outputs": [],
   "source": [
    "import os\n",
    "import numpy as np\n",
    "import pandas as pd\n",
    "\n",
    "import torch\n",
    "import torch.nn as nn\n",
    "import torch.nn.functional as F\n",
    "import torch.optim as optim\n",
    "\n",
    "import seaborn as sns\n",
    "import matplotlib.pyplot as plt\n",
    "\n",
    "sns.set()"
   ]
  },
  {
   "cell_type": "code",
   "execution_count": 3,
   "metadata": {
    "colab": {},
    "colab_type": "code",
    "id": "RICPXgLi0g0R"
   },
   "outputs": [],
   "source": [
    "# load the data \n",
    "dirname = os.getcwd()\n",
    "folder_path = os.path.join(dirname, '../data')\n",
    "\n",
    "train_data_path = os.path.join(folder_path, 'train_data_initial.txt')\n",
    "train_data = pd.read_csv(train_data_path)\n",
    "train_data.set_index('time_in_cycles')\n",
    "\n",
    "val_data_path = os.path.join(folder_path, 'test_data_val.txt')\n",
    "val_data = pd.read_csv(val_data_path)\n",
    "val_data.set_index('time_in_cycles')\n",
    "\n",
    "test_data_path = os.path.join(folder_path, 'test_data_test.txt')\n",
    "test_data = pd.read_csv(test_data_path)\n",
    "test_data.set_index('time_in_cycles')\n",
    "\n",
    "# retrieve the max cycles per engine: RUL\n",
    "train_rul = pd.DataFrame(train_data.groupby('engine_no')['time_in_cycles'].max()).reset_index()\n",
    "# merge the RULs into the training data\n",
    "train_rul.columns = ['engine_no', 'max']\n",
    "train_data = train_data.merge(train_rul, on=['engine_no'], how='left')\n",
    "# add the current RUL for every cycle\n",
    "train_data['RUL'] = train_data['max'] - train_data['time_in_cycles']\n",
    "train_data.drop('max', axis=1, inplace=True)\n",
    "\n",
    "# test and validation data already contains the RUL values\n",
    "\n",
    "# drop the columns not needed\n",
    "cols_nan = train_data.columns[train_data.isna().any()].tolist()\n",
    "cols_const = [ col for col in train_data.columns if len(train_data[col].unique()) <= 2 ]\n",
    "\n",
    "# The operational settings 1 and 2 don´t have a trend and they look like random noise.\n",
    "# Sensors 11, 12, 13 could be removed due to high correlations but it should be tested.\n",
    "# The trend of sensors 9 and 14 depend on the specific engine. Some engines at the end\n",
    "# of life tend to increase while others tend to decrease. What is common about these\n",
    "# two sensors is that the magnitude at the end life gets amplified. We should try\n",
    "# removing both sensors.\n",
    "cols_irrelevant = ['operational_setting_1', 'operational_setting_2', 'sensor_measurement_11', 'sensor_measurement_12', 'sensor_measurement_13']\n",
    "\n",
    "# Drop the columns without or with constant data\n",
    "train_data = train_data.drop(columns=cols_const + cols_nan + cols_irrelevant)\n",
    "val_data = val_data.drop(columns=cols_const + cols_nan + cols_irrelevant)\n",
    "test_data = test_data.drop(columns=cols_const + cols_nan + cols_irrelevant)"
   ]
  },
  {
   "cell_type": "markdown",
   "metadata": {
    "colab_type": "text",
    "id": "S58onfDNdAmc"
   },
   "source": [
    "## Data Preparation"
   ]
  },
  {
   "cell_type": "code",
   "execution_count": 4,
   "metadata": {
    "colab": {},
    "colab_type": "code",
    "id": "fvj4QbzCXZCT"
   },
   "outputs": [],
   "source": [
    "# define the columns for training\n",
    "train_data_inputs = train_data.copy()\n",
    "train_data_inputs.drop(columns=['RUL', 'engine_no', 'time_in_cycles'], inplace=True)\n",
    "training_columns = train_data_inputs.columns"
   ]
  },
  {
   "cell_type": "markdown",
   "metadata": {
    "colab_type": "text",
    "id": "1lQGejNWjwWO"
   },
   "source": [
    "### Windowing"
   ]
  },
  {
   "cell_type": "markdown",
   "metadata": {
    "colab_type": "text",
    "id": "KLyLG86M0Ffn"
   },
   "source": [
    "To do our model training we split the data from an engine into rolling windows so we have the dimensions (total number of rows, time steps per window, feature columns).\n",
    "\n",
    "*Engine x for window size 3:*\n",
    "\n",
    "```\n",
    "[1 2 3 4 5 6] -> [1 2 3], [2 3 4], [3 4 5], [4 5 6]\n",
    "```\n",
    "\n",
    "As labels we pick the RUL of the last value in the windowed sequence."
   ]
  },
  {
   "cell_type": "markdown",
   "metadata": {
    "colab_type": "text",
    "id": "Vt4z-bc_0Yr1"
   },
   "source": [
    "By splitting the data into windows we have to drop data samples that are smaller than the window size. This especially means we can not predict RUL values for smaller time series of engine data. An alternative would be to pad sequences so that we can use shorter ones."
   ]
  },
  {
   "cell_type": "code",
   "execution_count": 5,
   "metadata": {
    "colab": {},
    "colab_type": "code",
    "id": "D6hSngDtXC-f"
   },
   "outputs": [],
   "source": [
    "WINDOW_SIZE = 80\n",
    "BATCH_SIZE = 210"
   ]
  },
  {
   "cell_type": "code",
   "execution_count": 6,
   "metadata": {
    "colab": {},
    "colab_type": "code",
    "id": "YWz7of5dXSr8"
   },
   "outputs": [],
   "source": [
    "def transform_to_windowed_data(dataset, window_size, window_limit = 0, verbose = True):\n",
    "  \"\"\"Transform the dataset into input windows with a label.\n",
    "\n",
    "  Args:\n",
    "      dataset (DataFrame): The dataset to tranform.\n",
    "      window_size (int): The length of the windows to create.\n",
    "      window_limit (int): The max windows to create for a data subset.\n",
    "\n",
    "  Returns:\n",
    "      (numpy.array, numpy.array): A tuple of features and labels.\n",
    "  \"\"\"\n",
    "  features = []\n",
    "  labels = []\n",
    "\n",
    "  dataset = dataset.set_index('time_in_cycles')\n",
    "  data_per_engine = dataset.groupby('engine_no')\n",
    "\n",
    "  for engine_no, engine_data in data_per_engine:\n",
    "      # skip if the engines cycles are too few\n",
    "      if len(engine_data) < window_size + window_limit -1:\n",
    "        continue\n",
    "\n",
    "      if window_limit != 0:\n",
    "        window_count = window_limit\n",
    "      else:\n",
    "        window_count = len(engine_data) - window_size\n",
    "\n",
    "      for i in range(0, window_count):\n",
    "        # take the last x cycles where x is the window size\n",
    "        start = -window_size - i\n",
    "        end = len(engine_data) - i\n",
    "        inputs = engine_data.iloc[start:end]\n",
    "        # use the RUL of the last cycle as label\n",
    "        outputs = engine_data.iloc[end - 1, -1]\n",
    "\n",
    "        inputs = inputs.drop(['engine_no', 'RUL'], axis=1)\n",
    "\n",
    "        features.append(inputs.values)\n",
    "        labels.append(outputs)\n",
    "\n",
    "  features = np.array(features)\n",
    "  labels = np.array(labels)\n",
    "  labels = np.expand_dims(labels, axis=1)\n",
    "\n",
    "  if verbose:\n",
    "    print(\"{} features with shape {}\".format(len(features), features[0].shape))\n",
    "    print(\"{} labels with shape {}\".format(len(labels), labels.shape))\n",
    "\n",
    "  return features, labels"
   ]
  },
  {
   "cell_type": "code",
   "execution_count": 7,
   "metadata": {
    "colab": {
     "base_uri": "https://localhost:8080/",
     "height": 119
    },
    "colab_type": "code",
    "executionInfo": {
     "elapsed": 41696,
     "status": "ok",
     "timestamp": 1582126828101,
     "user": {
      "displayName": "Matthias Lau",
      "photoUrl": "https://lh3.googleusercontent.com/a-/AAuE7mC6WRAXJoMqa4-OAv4EwNhkeeciSt5GDAExs2YBOg=s64",
      "userId": "11790472444495897059"
     },
     "user_tz": -60
    },
    "id": "NZR_quyYaept",
    "outputId": "771aa845-d484-4225-ff52-36388f5e166e"
   },
   "outputs": [
    {
     "name": "stdout",
     "output_type": "stream",
     "text": [
      "793 features with shape (80, 11)\n",
      "793 labels with shape (793, 1)\n",
      "2923 features with shape (80, 11)\n",
      "2923 labels with shape (2923, 1)\n",
      "2660 features with shape (80, 11)\n",
      "2660 labels with shape (2660, 1)\n"
     ]
    }
   ],
   "source": [
    "x_train, y_train = transform_to_windowed_data(train_data, WINDOW_SIZE)\n",
    "x_val, y_val = transform_to_windowed_data(val_data, WINDOW_SIZE)\n",
    "x_test, y_test = transform_to_windowed_data(test_data, WINDOW_SIZE)"
   ]
  },
  {
   "cell_type": "markdown",
   "metadata": {
    "colab_type": "text",
    "id": "QQV2DnpgddIq"
   },
   "source": [
    "### Standardization"
   ]
  },
  {
   "cell_type": "markdown",
   "metadata": {
    "colab_type": "text",
    "id": "Gi5NG6Vfw-yW"
   },
   "source": [
    "The data scaling will be embedded in the model so it could be easily applied to inference as well."
   ]
  },
  {
   "cell_type": "markdown",
   "metadata": {
    "colab_type": "text",
    "id": "HP84vJPW2m0I"
   },
   "source": [
    "### Response Clipping"
   ]
  },
  {
   "cell_type": "markdown",
   "metadata": {
    "colab_type": "text",
    "id": "IaMkCZCH2zpV"
   },
   "source": [
    "Since the degradation in a system will generally remain negligible until after some period of operation time the early and higher RUL values are probably unreasonable. We could tackle this by clipping the RUL values.\n",
    "\n",
    "That means we are fine with our model not correctly predicting RUL values above the *rul_clip_limit*. The model will still correctly identify that these engines but it is kind of cheating as the error for these engines improves."
   ]
  },
  {
   "cell_type": "code",
   "execution_count": 8,
   "metadata": {
    "colab": {},
    "colab_type": "code",
    "id": "qsK2hp6w2uLj"
   },
   "outputs": [],
   "source": [
    "# clip RUL values\n",
    "rul_clip_limit = 110\n",
    "\n",
    "y_train = y_train.clip(max=rul_clip_limit)\n",
    "y_val = y_val.clip(max=rul_clip_limit)\n",
    "y_test = y_test.clip(max=rul_clip_limit)"
   ]
  },
  {
   "cell_type": "markdown",
   "metadata": {
    "colab_type": "text",
    "id": "gh2YaxoKsHiB"
   },
   "source": [
    "## Model Training"
   ]
  },
  {
   "cell_type": "markdown",
   "metadata": {
    "colab_type": "text",
    "id": "d9dwxhK5a0i6"
   },
   "source": [
    "### Helpers"
   ]
  },
  {
   "cell_type": "code",
   "execution_count": 9,
   "metadata": {
    "colab": {},
    "colab_type": "code",
    "id": "hREayPLsHGzA"
   },
   "outputs": [],
   "source": [
    "# RMSE implementation\n",
    "def root_mean_squared_error(y_true, y_pred):\n",
    "    return np.sqrt(((y_true - y_pred) ** 2).mean())"
   ]
  },
  {
   "cell_type": "markdown",
   "metadata": {
    "colab_type": "text",
    "id": "9YgTLRF4avmo"
   },
   "source": [
    "### Model Definition"
   ]
  },
  {
   "cell_type": "code",
   "execution_count": 10,
   "metadata": {
    "colab": {},
    "colab_type": "code",
    "id": "geHwiNH1LmE4"
   },
   "outputs": [],
   "source": [
    "class TurbofanModel(nn.Module):\n",
    "    def __init__(self, train_mean, train_std):\n",
    "        super().__init__()\n",
    "        \n",
    "        self.train_mean = train_mean\n",
    "        self.train_std = train_std\n",
    "\n",
    "        self.fc1 = nn.Linear(len(training_columns), 24)\n",
    "        self.fc2 = nn.Linear(24, 24)\n",
    "        self.fc3 = nn.Linear(24, 24)\n",
    "        self.fc4 = nn.Linear(24, 1)\n",
    "\n",
    "    def to(self, device):\n",
    "        super().to(device)\n",
    "        self.train_mean = self.train_mean.to(device)\n",
    "        self.train_std = self.train_std.to(device)\n",
    "        \n",
    "        return self\n",
    "        \n",
    "    def forward(self, x):\n",
    "        # scale the input\n",
    "        x = (x - self.train_mean) / self.train_std\n",
    "\n",
    "        x = F.relu(self.fc1(x))\n",
    "        x = F.relu(self.fc2(x))\n",
    "        x = F.relu(self.fc3(x))\n",
    "        x = self.fc4(x)\n",
    "        x = x[:, -1, :]\n",
    "        \n",
    "        return x"
   ]
  },
  {
   "cell_type": "markdown",
   "metadata": {
    "colab_type": "text",
    "id": "WSJfEvrZdUwD"
   },
   "source": [
    "### Prepare Data Loader"
   ]
  },
  {
   "cell_type": "code",
   "execution_count": 11,
   "metadata": {
    "colab": {},
    "colab_type": "code",
    "id": "UmkrWZgRfxQ1"
   },
   "outputs": [],
   "source": [
    "# transform to torch tensor\n",
    "tensor_x_train = torch.Tensor(x_train)\n",
    "tensor_y_train = torch.Tensor(y_train)\n",
    "tensor_x_val = torch.Tensor(x_val)\n",
    "tensor_y_val = torch.Tensor(y_val)\n",
    "tensor_x_test = torch.Tensor(x_test)\n",
    "tensor_y_test = torch.Tensor(y_test)\n",
    "\n",
    "# create datasets for train, test and validation\n",
    "train_dataset = torch.utils.data.TensorDataset(tensor_x_train, tensor_y_train)\n",
    "val_dataset = torch.utils.data.TensorDataset(tensor_x_val, tensor_y_val)\n",
    "test_dataset = torch.utils.data.TensorDataset(tensor_x_test, tensor_y_test)\n",
    "\n",
    "# create data loaders\n",
    "train_loader = torch.utils.data.DataLoader(train_dataset, batch_size=BATCH_SIZE)\n",
    "val_loader = torch.utils.data.DataLoader(val_dataset, batch_size=BATCH_SIZE)\n",
    "test_loader = torch.utils.data.DataLoader(test_dataset, batch_size=BATCH_SIZE)"
   ]
  },
  {
   "cell_type": "markdown",
   "metadata": {
    "colab_type": "text",
    "id": "mBCUoRAZd4ZE"
   },
   "source": [
    "### Initial Training"
   ]
  },
  {
   "cell_type": "code",
   "execution_count": 12,
   "metadata": {
    "colab": {},
    "colab_type": "code",
    "id": "KvrLlKWgLp2u"
   },
   "outputs": [],
   "source": [
    "def train(model, device, train_loader, optimizer, criterion):\n",
    "    model.train()\n",
    "\n",
    "    running_loss = 0\n",
    "\n",
    "    for batch_idx, (data, target) in enumerate(train_loader):\n",
    "        data, target = data.to(device), target.to(device)\n",
    "        optimizer.zero_grad()\n",
    "\n",
    "        output = model(data)\n",
    "\n",
    "        loss = criterion(output, target)\n",
    "        loss.backward()\n",
    "        optimizer.step()\n",
    "\n",
    "        running_loss += loss.item() * data.size(0)\n",
    "\n",
    "    epoch_loss = running_loss / len(train_loader.dataset)\n",
    "    \n",
    "    return epoch_loss"
   ]
  },
  {
   "cell_type": "code",
   "execution_count": 13,
   "metadata": {
    "colab": {},
    "colab_type": "code",
    "id": "O1ANRoq_JRF8"
   },
   "outputs": [],
   "source": [
    "def test(model, device, test_loader, criterion):\n",
    "    model.eval()\n",
    "\n",
    "    test_loss = 0\n",
    "\n",
    "    with torch.no_grad():\n",
    "        for data, target in test_loader:\n",
    "            data, target = data.to(device), target.to(device)\n",
    "\n",
    "            output = model(data)\n",
    "\n",
    "            test_loss += criterion(output, target).item() * data.size(0)\n",
    "\n",
    "    test_loss /= len(test_loader.dataset)\n",
    "\n",
    "    return test_loss"
   ]
  },
  {
   "cell_type": "code",
   "execution_count": 14,
   "metadata": {
    "colab": {
     "base_uri": "https://localhost:8080/",
     "height": 1000
    },
    "colab_type": "code",
    "executionInfo": {
     "elapsed": 66010,
     "status": "ok",
     "timestamp": 1582126852618,
     "user": {
      "displayName": "Matthias Lau",
      "photoUrl": "https://lh3.googleusercontent.com/a-/AAuE7mC6WRAXJoMqa4-OAv4EwNhkeeciSt5GDAExs2YBOg=s64",
      "userId": "11790472444495897059"
     },
     "user_tz": -60
    },
    "id": "lqghpzITGwnd",
    "outputId": "248bc826-8389-44dc-d2b5-d565f913ceb6"
   },
   "outputs": [
    {
     "name": "stdout",
     "output_type": "stream",
     "text": [
      "Epoch: 1/280\tloss: 72.7094\tval_loss: 87.5081\n",
      "Epoch: 2/280\tloss: 72.6883\tval_loss: 87.4881\n",
      "Epoch: 3/280\tloss: 72.6669\tval_loss: 87.4668\n",
      "Epoch: 4/280\tloss: 72.6436\tval_loss: 87.4434\n",
      "Epoch: 5/280\tloss: 72.6163\tval_loss: 87.4166\n",
      "Epoch: 6/280\tloss: 72.5838\tval_loss: 87.3850\n",
      "Epoch: 7/280\tloss: 72.5445\tval_loss: 87.3464\n",
      "Epoch: 8/280\tloss: 72.4958\tval_loss: 87.2977\n",
      "Epoch: 9/280\tloss: 72.4339\tval_loss: 87.2346\n",
      "Epoch: 10/280\tloss: 72.3545\tval_loss: 87.1523\n",
      "Epoch: 11/280\tloss: 72.2530\tval_loss: 87.0462\n",
      "Epoch: 12/280\tloss: 72.1242\tval_loss: 86.9098\n",
      "Epoch: 13/280\tloss: 71.9638\tval_loss: 86.7362\n",
      "Epoch: 14/280\tloss: 71.7634\tval_loss: 86.5179\n",
      "Epoch: 15/280\tloss: 71.5168\tval_loss: 86.2466\n",
      "Epoch: 16/280\tloss: 71.2156\tval_loss: 85.9115\n",
      "Epoch: 17/280\tloss: 70.8507\tval_loss: 85.4981\n",
      "Epoch: 18/280\tloss: 70.4118\tval_loss: 84.9882\n",
      "Epoch: 19/280\tloss: 69.8882\tval_loss: 84.3662\n",
      "Epoch: 20/280\tloss: 69.2666\tval_loss: 83.6167\n",
      "Epoch: 21/280\tloss: 68.5509\tval_loss: 82.7196\n",
      "Epoch: 22/280\tloss: 67.7320\tval_loss: 81.6601\n",
      "Epoch: 23/280\tloss: 66.8104\tval_loss: 80.4176\n",
      "Epoch: 24/280\tloss: 65.7880\tval_loss: 78.9753\n",
      "Epoch: 25/280\tloss: 64.6606\tval_loss: 77.3067\n",
      "Epoch: 26/280\tloss: 63.4034\tval_loss: 75.4006\n",
      "Epoch: 27/280\tloss: 62.0367\tval_loss: 73.2455\n",
      "Epoch: 28/280\tloss: 60.5470\tval_loss: 70.8180\n",
      "Epoch: 29/280\tloss: 58.8938\tval_loss: 68.0895\n",
      "Epoch: 30/280\tloss: 57.0462\tval_loss: 65.0480\n",
      "Epoch: 31/280\tloss: 54.9553\tval_loss: 61.6526\n",
      "Epoch: 32/280\tloss: 52.5744\tval_loss: 57.8776\n",
      "Epoch: 33/280\tloss: 49.8714\tval_loss: 53.7450\n",
      "Epoch: 34/280\tloss: 46.8106\tval_loss: 49.2998\n",
      "Epoch: 35/280\tloss: 43.4156\tval_loss: 44.6684\n",
      "Epoch: 36/280\tloss: 39.7406\tval_loss: 40.3266\n",
      "Epoch: 37/280\tloss: 36.2509\tval_loss: 37.2887\n",
      "Epoch: 38/280\tloss: 33.9058\tval_loss: 36.1933\n",
      "Epoch: 39/280\tloss: 32.4112\tval_loss: 36.4346\n",
      "Epoch: 40/280\tloss: 31.4771\tval_loss: 36.9546\n",
      "Epoch: 41/280\tloss: 30.8710\tval_loss: 37.3123\n",
      "Epoch: 42/280\tloss: 30.4074\tval_loss: 37.3872\n",
      "Epoch: 43/280\tloss: 30.0176\tval_loss: 37.2252\n",
      "Epoch: 44/280\tloss: 29.6590\tval_loss: 36.9104\n",
      "Epoch: 45/280\tloss: 29.3288\tval_loss: 36.5177\n",
      "Epoch: 46/280\tloss: 29.0192\tval_loss: 36.0980\n",
      "Epoch: 47/280\tloss: 28.7313\tval_loss: 35.6870\n",
      "Epoch: 48/280\tloss: 28.4554\tval_loss: 35.2967\n",
      "Epoch: 49/280\tloss: 28.1833\tval_loss: 34.9281\n",
      "Epoch: 50/280\tloss: 27.9162\tval_loss: 34.5798\n",
      "Epoch: 51/280\tloss: 27.6551\tval_loss: 34.2507\n",
      "Epoch: 52/280\tloss: 27.3992\tval_loss: 33.9397\n",
      "Epoch: 53/280\tloss: 27.1484\tval_loss: 33.6520\n",
      "Epoch: 54/280\tloss: 26.9015\tval_loss: 33.3909\n",
      "Epoch: 55/280\tloss: 26.6482\tval_loss: 33.1482\n",
      "Epoch: 56/280\tloss: 26.4004\tval_loss: 32.9187\n",
      "Epoch: 57/280\tloss: 26.1582\tval_loss: 32.6957\n",
      "Epoch: 58/280\tloss: 25.9235\tval_loss: 32.4710\n",
      "Epoch: 59/280\tloss: 25.6952\tval_loss: 32.2452\n",
      "Epoch: 60/280\tloss: 25.4765\tval_loss: 32.0244\n",
      "Epoch: 61/280\tloss: 25.2632\tval_loss: 31.8082\n",
      "Epoch: 62/280\tloss: 25.0556\tval_loss: 31.5944\n",
      "Epoch: 63/280\tloss: 24.8510\tval_loss: 31.3827\n",
      "Epoch: 64/280\tloss: 24.6583\tval_loss: 31.1764\n",
      "Epoch: 65/280\tloss: 24.4700\tval_loss: 30.9762\n",
      "Epoch: 66/280\tloss: 24.2864\tval_loss: 30.7801\n",
      "Epoch: 67/280\tloss: 24.1057\tval_loss: 30.5878\n",
      "Epoch: 68/280\tloss: 23.9298\tval_loss: 30.4007\n",
      "Epoch: 69/280\tloss: 23.7589\tval_loss: 30.2195\n",
      "Epoch: 70/280\tloss: 23.5917\tval_loss: 30.0447\n",
      "Epoch: 71/280\tloss: 23.4323\tval_loss: 29.8780\n",
      "Epoch: 72/280\tloss: 23.2757\tval_loss: 29.7186\n",
      "Epoch: 73/280\tloss: 23.1215\tval_loss: 29.5656\n",
      "Epoch: 74/280\tloss: 22.9719\tval_loss: 29.4195\n",
      "Epoch: 75/280\tloss: 22.8222\tval_loss: 29.2772\n",
      "Epoch: 76/280\tloss: 22.6736\tval_loss: 29.1359\n",
      "Epoch: 77/280\tloss: 22.5275\tval_loss: 28.9980\n",
      "Epoch: 78/280\tloss: 22.3834\tval_loss: 28.8635\n",
      "Epoch: 79/280\tloss: 22.2381\tval_loss: 28.7310\n",
      "Epoch: 80/280\tloss: 22.0916\tval_loss: 28.6011\n",
      "Epoch: 81/280\tloss: 21.9477\tval_loss: 28.4737\n",
      "Epoch: 82/280\tloss: 21.8067\tval_loss: 28.3474\n",
      "Epoch: 83/280\tloss: 21.6695\tval_loss: 28.2219\n",
      "Epoch: 84/280\tloss: 21.5354\tval_loss: 28.0981\n",
      "Epoch: 85/280\tloss: 21.4020\tval_loss: 27.9769\n",
      "Epoch: 86/280\tloss: 21.2703\tval_loss: 27.8585\n",
      "Epoch: 87/280\tloss: 21.1425\tval_loss: 27.7433\n",
      "Epoch: 88/280\tloss: 21.0158\tval_loss: 27.6300\n",
      "Epoch: 89/280\tloss: 20.8897\tval_loss: 27.5176\n",
      "Epoch: 90/280\tloss: 20.7651\tval_loss: 27.4059\n",
      "Epoch: 91/280\tloss: 20.6418\tval_loss: 27.2965\n",
      "Epoch: 92/280\tloss: 20.5230\tval_loss: 27.1881\n",
      "Epoch: 93/280\tloss: 20.4074\tval_loss: 27.0813\n",
      "Epoch: 94/280\tloss: 20.2978\tval_loss: 26.9775\n",
      "Epoch: 95/280\tloss: 20.1896\tval_loss: 26.8762\n",
      "Epoch: 96/280\tloss: 20.0856\tval_loss: 26.7806\n",
      "Epoch: 97/280\tloss: 19.9831\tval_loss: 26.6922\n",
      "Epoch: 98/280\tloss: 19.8788\tval_loss: 26.6080\n",
      "Epoch: 99/280\tloss: 19.7742\tval_loss: 26.5256\n",
      "Epoch: 100/280\tloss: 19.6683\tval_loss: 26.4439\n",
      "Epoch: 101/280\tloss: 19.5625\tval_loss: 26.3639\n",
      "Epoch: 102/280\tloss: 19.4584\tval_loss: 26.2857\n",
      "Epoch: 103/280\tloss: 19.3576\tval_loss: 26.2101\n",
      "Epoch: 104/280\tloss: 19.2584\tval_loss: 26.1371\n",
      "Epoch: 105/280\tloss: 19.1622\tval_loss: 26.0662\n",
      "Epoch: 106/280\tloss: 19.0717\tval_loss: 26.0001\n",
      "Epoch: 107/280\tloss: 18.9800\tval_loss: 25.9377\n",
      "Epoch: 108/280\tloss: 18.8892\tval_loss: 25.8783\n",
      "Epoch: 109/280\tloss: 18.7997\tval_loss: 25.8205\n",
      "Epoch: 110/280\tloss: 18.7136\tval_loss: 25.7655\n",
      "Epoch: 111/280\tloss: 18.6274\tval_loss: 25.7124\n",
      "Epoch: 112/280\tloss: 18.5421\tval_loss: 25.6622\n",
      "Epoch: 113/280\tloss: 18.4586\tval_loss: 25.6143\n",
      "Epoch: 114/280\tloss: 18.3762\tval_loss: 25.5681\n",
      "Epoch: 115/280\tloss: 18.2956\tval_loss: 25.5241\n",
      "Epoch: 116/280\tloss: 18.2163\tval_loss: 25.4823\n",
      "Epoch: 117/280\tloss: 18.1374\tval_loss: 25.4422\n",
      "Epoch: 118/280\tloss: 18.0586\tval_loss: 25.4026\n",
      "Epoch: 119/280\tloss: 17.9820\tval_loss: 25.3651\n",
      "Epoch: 120/280\tloss: 17.9053\tval_loss: 25.3314\n",
      "Epoch: 121/280\tloss: 17.8284\tval_loss: 25.2998\n",
      "Epoch: 122/280\tloss: 17.7498\tval_loss: 25.2676\n",
      "Epoch: 123/280\tloss: 17.6728\tval_loss: 25.2354\n",
      "Epoch: 124/280\tloss: 17.5965\tval_loss: 25.2031\n",
      "Epoch: 125/280\tloss: 17.5214\tval_loss: 25.1705\n",
      "Epoch: 126/280\tloss: 17.4495\tval_loss: 25.1393\n",
      "Epoch: 127/280\tloss: 17.3782\tval_loss: 25.1105\n",
      "Epoch: 128/280\tloss: 17.3077\tval_loss: 25.0837\n",
      "Epoch: 129/280\tloss: 17.2390\tval_loss: 25.0593\n",
      "Epoch: 130/280\tloss: 17.1723\tval_loss: 25.0383\n",
      "Epoch: 131/280\tloss: 17.1045\tval_loss: 25.0189\n",
      "Epoch: 132/280\tloss: 17.0367\tval_loss: 24.9999\n",
      "Epoch: 133/280\tloss: 16.9702\tval_loss: 24.9827\n",
      "Epoch: 134/280\tloss: 16.9035\tval_loss: 24.9675\n",
      "Epoch: 135/280\tloss: 16.8359\tval_loss: 24.9539\n",
      "Epoch: 136/280\tloss: 16.7677\tval_loss: 24.9421\n",
      "Epoch: 137/280\tloss: 16.6994\tval_loss: 24.9324\n",
      "Epoch: 138/280\tloss: 16.6311\tval_loss: 24.9221\n",
      "Epoch: 139/280\tloss: 16.5641\tval_loss: 24.9100\n",
      "Epoch: 140/280\tloss: 16.5029\tval_loss: 24.8989\n",
      "Epoch: 141/280\tloss: 16.4426\tval_loss: 24.8885\n",
      "Epoch: 142/280\tloss: 16.3837\tval_loss: 24.8789\n",
      "Epoch: 143/280\tloss: 16.3275\tval_loss: 24.8707\n",
      "Epoch: 144/280\tloss: 16.2734\tval_loss: 24.8651\n",
      "Epoch: 145/280\tloss: 16.2175\tval_loss: 24.8608\n",
      "Epoch: 146/280\tloss: 16.1606\tval_loss: 24.8560\n",
      "Epoch: 147/280\tloss: 16.1021\tval_loss: 24.8492\n",
      "Epoch: 148/280\tloss: 16.0464\tval_loss: 24.8427\n",
      "Epoch: 149/280\tloss: 15.9899\tval_loss: 24.8372\n",
      "Epoch: 150/280\tloss: 15.9335\tval_loss: 24.8289\n",
      "Epoch: 151/280\tloss: 15.8769\tval_loss: 24.8201\n",
      "Epoch: 152/280\tloss: 15.8236\tval_loss: 24.8117\n",
      "Epoch: 153/280\tloss: 15.7690\tval_loss: 24.8001\n",
      "Epoch: 154/280\tloss: 15.7211\tval_loss: 24.7932\n",
      "Epoch: 155/280\tloss: 15.6738\tval_loss: 24.7914\n",
      "Epoch: 156/280\tloss: 15.6250\tval_loss: 24.7904\n",
      "Epoch: 157/280\tloss: 15.5753\tval_loss: 24.7862\n",
      "Epoch: 158/280\tloss: 15.5284\tval_loss: 24.7794\n",
      "Epoch: 159/280\tloss: 15.4838\tval_loss: 24.7718\n",
      "Epoch: 160/280\tloss: 15.4439\tval_loss: 24.7667\n",
      "Epoch: 161/280\tloss: 15.4040\tval_loss: 24.7643\n",
      "Epoch: 162/280\tloss: 15.3636\tval_loss: 24.7631\n",
      "Epoch: 163/280\tloss: 15.3229\tval_loss: 24.7623\n",
      "Epoch: 164/280\tloss: 15.2830\tval_loss: 24.7606\n",
      "Epoch: 165/280\tloss: 15.2456\tval_loss: 24.7578\n",
      "Epoch: 166/280\tloss: 15.2099\tval_loss: 24.7541\n",
      "Epoch: 167/280\tloss: 15.1750\tval_loss: 24.7502\n",
      "Epoch: 168/280\tloss: 15.1412\tval_loss: 24.7493\n",
      "Epoch: 169/280\tloss: 15.1113\tval_loss: 24.7578\n",
      "Epoch: 170/280\tloss: 15.0769\tval_loss: 24.7718\n",
      "Epoch: 171/280\tloss: 15.0389\tval_loss: 24.7860\n",
      "Epoch: 172/280\tloss: 15.0016\tval_loss: 24.7999\n",
      "Epoch: 173/280\tloss: 14.9655\tval_loss: 24.8136\n",
      "Epoch: 174/280\tloss: 14.9301\tval_loss: 24.8271\n",
      "Epoch: 175/280\tloss: 14.8952\tval_loss: 24.8406\n",
      "Epoch: 176/280\tloss: 14.8616\tval_loss: 24.8546\n",
      "Epoch: 177/280\tloss: 14.8299\tval_loss: 24.8712\n",
      "Epoch: 178/280\tloss: 14.7978\tval_loss: 24.8908\n",
      "Epoch: 179/280\tloss: 14.7661\tval_loss: 24.9117\n",
      "Epoch: 180/280\tloss: 14.7347\tval_loss: 24.9314\n",
      "Epoch: 181/280\tloss: 14.7024\tval_loss: 24.9482\n",
      "Epoch: 182/280\tloss: 14.6718\tval_loss: 24.9643\n",
      "Epoch: 183/280\tloss: 14.6443\tval_loss: 24.9823\n",
      "Epoch: 184/280\tloss: 14.6163\tval_loss: 25.0007\n",
      "Epoch: 185/280\tloss: 14.5886\tval_loss: 25.0192\n",
      "Epoch: 186/280\tloss: 14.5596\tval_loss: 25.0369\n",
      "Epoch: 187/280\tloss: 14.5324\tval_loss: 25.0540\n",
      "Epoch: 188/280\tloss: 14.5065\tval_loss: 25.0716\n",
      "Epoch: 189/280\tloss: 14.4824\tval_loss: 25.0914\n",
      "Epoch: 190/280\tloss: 14.4584\tval_loss: 25.1112\n",
      "Epoch: 191/280\tloss: 14.4348\tval_loss: 25.1306\n",
      "Epoch: 192/280\tloss: 14.4101\tval_loss: 25.1479\n",
      "Epoch: 193/280\tloss: 14.3864\tval_loss: 25.1610\n",
      "Epoch: 194/280\tloss: 14.3636\tval_loss: 25.1709\n",
      "Epoch: 195/280\tloss: 14.3449\tval_loss: 25.1839\n",
      "Epoch: 196/280\tloss: 14.3254\tval_loss: 25.1979\n",
      "Epoch: 197/280\tloss: 14.3041\tval_loss: 25.2095\n",
      "Epoch: 198/280\tloss: 14.2836\tval_loss: 25.2208\n",
      "Epoch: 199/280\tloss: 14.2649\tval_loss: 25.2345\n",
      "Epoch: 200/280\tloss: 14.2449\tval_loss: 25.2476\n",
      "Epoch: 201/280\tloss: 14.2229\tval_loss: 25.2573\n",
      "Epoch: 202/280\tloss: 14.2048\tval_loss: 25.2681\n",
      "Epoch: 203/280\tloss: 14.1887\tval_loss: 25.2846\n",
      "Epoch: 204/280\tloss: 14.1707\tval_loss: 25.3046\n",
      "Epoch: 205/280\tloss: 14.1507\tval_loss: 25.3217\n",
      "Epoch: 206/280\tloss: 14.1289\tval_loss: 25.3299\n",
      "Epoch: 207/280\tloss: 14.1104\tval_loss: 25.3333\n",
      "Epoch: 208/280\tloss: 14.0949\tval_loss: 25.3393\n",
      "Epoch: 209/280\tloss: 14.0812\tval_loss: 25.3537\n",
      "Epoch: 210/280\tloss: 14.0647\tval_loss: 25.3699\n",
      "Epoch: 211/280\tloss: 14.0421\tval_loss: 25.3760\n",
      "Epoch: 212/280\tloss: 14.0242\tval_loss: 25.3811\n",
      "Epoch: 213/280\tloss: 14.0099\tval_loss: 25.3911\n",
      "Epoch: 214/280\tloss: 13.9929\tval_loss: 25.3988\n",
      "Epoch: 215/280\tloss: 13.9764\tval_loss: 25.4051\n",
      "Epoch: 216/280\tloss: 13.9614\tval_loss: 25.4142\n",
      "Epoch: 217/280\tloss: 13.9461\tval_loss: 25.4237\n",
      "Epoch: 218/280\tloss: 13.9294\tval_loss: 25.4311\n",
      "Epoch: 219/280\tloss: 13.9141\tval_loss: 25.4408\n",
      "Epoch: 220/280\tloss: 13.8978\tval_loss: 25.4502\n",
      "Epoch: 221/280\tloss: 13.8804\tval_loss: 25.4573\n",
      "Epoch: 222/280\tloss: 13.8671\tval_loss: 25.4668\n",
      "Epoch: 223/280\tloss: 13.8509\tval_loss: 25.4735\n",
      "Epoch: 224/280\tloss: 13.8376\tval_loss: 25.4832\n",
      "Epoch: 225/280\tloss: 13.8214\tval_loss: 25.4911\n",
      "Epoch: 226/280\tloss: 13.8099\tval_loss: 25.5038\n",
      "Epoch: 227/280\tloss: 13.7931\tval_loss: 25.5096\n",
      "Epoch: 228/280\tloss: 13.7796\tval_loss: 25.5138\n",
      "Epoch: 229/280\tloss: 13.7664\tval_loss: 25.5202\n",
      "Epoch: 230/280\tloss: 13.7551\tval_loss: 25.5317\n",
      "Epoch: 231/280\tloss: 13.7395\tval_loss: 25.5379\n",
      "Epoch: 232/280\tloss: 13.7237\tval_loss: 25.5385\n",
      "Epoch: 233/280\tloss: 13.7109\tval_loss: 25.5387\n",
      "Epoch: 234/280\tloss: 13.6996\tval_loss: 25.5439\n",
      "Epoch: 235/280\tloss: 13.6866\tval_loss: 25.5531\n",
      "Epoch: 236/280\tloss: 13.6715\tval_loss: 25.5598\n",
      "Epoch: 237/280\tloss: 13.6593\tval_loss: 25.5663\n",
      "Epoch: 238/280\tloss: 13.6441\tval_loss: 25.5683\n",
      "Epoch: 239/280\tloss: 13.6317\tval_loss: 25.5694\n",
      "Epoch: 240/280\tloss: 13.6202\tval_loss: 25.5720\n",
      "Epoch: 241/280\tloss: 13.6088\tval_loss: 25.5785\n",
      "Epoch: 242/280\tloss: 13.5958\tval_loss: 25.5795\n",
      "Epoch: 243/280\tloss: 13.5829\tval_loss: 25.5773\n",
      "Epoch: 244/280\tloss: 13.5740\tval_loss: 25.5840\n",
      "Epoch: 245/280\tloss: 13.5611\tval_loss: 25.5857\n",
      "Epoch: 246/280\tloss: 13.5499\tval_loss: 25.5865\n",
      "Epoch: 247/280\tloss: 13.5400\tval_loss: 25.5922\n",
      "Epoch: 248/280\tloss: 13.5304\tval_loss: 25.5968\n",
      "Epoch: 249/280\tloss: 13.5169\tval_loss: 25.5947\n",
      "Epoch: 250/280\tloss: 13.5092\tval_loss: 25.6006\n",
      "Epoch: 251/280\tloss: 13.4996\tval_loss: 25.6100\n",
      "Epoch: 252/280\tloss: 13.4880\tval_loss: 25.6151\n",
      "Epoch: 253/280\tloss: 13.4762\tval_loss: 25.6133\n",
      "Epoch: 254/280\tloss: 13.4666\tval_loss: 25.6120\n",
      "Epoch: 255/280\tloss: 13.4569\tval_loss: 25.6165\n",
      "Epoch: 256/280\tloss: 13.4503\tval_loss: 25.6267\n",
      "Epoch: 257/280\tloss: 13.4383\tval_loss: 25.6311\n",
      "Epoch: 258/280\tloss: 13.4258\tval_loss: 25.6281\n",
      "Epoch: 259/280\tloss: 13.4153\tval_loss: 25.6254\n",
      "Epoch: 260/280\tloss: 13.4083\tval_loss: 25.6286\n",
      "Epoch: 261/280\tloss: 13.3977\tval_loss: 25.6277\n",
      "Epoch: 262/280\tloss: 13.3884\tval_loss: 25.6289\n",
      "Epoch: 263/280\tloss: 13.3770\tval_loss: 25.6256\n",
      "Epoch: 264/280\tloss: 13.3669\tval_loss: 25.6199\n",
      "Epoch: 265/280\tloss: 13.3596\tval_loss: 25.6198\n",
      "Epoch: 266/280\tloss: 13.3489\tval_loss: 25.6165\n",
      "Epoch: 267/280\tloss: 13.3430\tval_loss: 25.6185\n",
      "Epoch: 268/280\tloss: 13.3311\tval_loss: 25.6141\n",
      "Epoch: 269/280\tloss: 13.3214\tval_loss: 25.6102\n",
      "Epoch: 270/280\tloss: 13.3143\tval_loss: 25.6048\n",
      "Epoch: 271/280\tloss: 13.3025\tval_loss: 25.5937\n",
      "Epoch: 272/280\tloss: 13.3002\tval_loss: 25.5978\n",
      "Epoch: 273/280\tloss: 13.2878\tval_loss: 25.5910\n",
      "Epoch: 274/280\tloss: 13.2803\tval_loss: 25.5847\n",
      "Epoch: 275/280\tloss: 13.2722\tval_loss: 25.5799\n",
      "Epoch: 276/280\tloss: 13.2643\tval_loss: 25.5757\n",
      "Epoch: 277/280\tloss: 13.2576\tval_loss: 25.5731\n",
      "Epoch: 278/280\tloss: 13.2516\tval_loss: 25.5765\n",
      "Epoch: 279/280\tloss: 13.2416\tval_loss: 25.5746\n",
      "Epoch: 280/280\tloss: 13.2312\tval_loss: 25.5632\n"
     ]
    }
   ],
   "source": [
    "torch.manual_seed(1)\n",
    "np.random.seed(51)\n",
    "\n",
    "epochs = 280\n",
    "\n",
    "use_cuda = torch.cuda.is_available()\n",
    "device = torch.device(\"cuda\" if use_cuda else \"cpu\")\n",
    "\n",
    "mean = tensor_x_train.mean(0)\n",
    "std = tensor_x_train.std(0)\n",
    "model = TurbofanModel(mean, std).to(device)\n",
    "\n",
    "criterion = nn.L1Loss() # mae\n",
    "optimizer = optim.Adam(model.parameters())\n",
    "\n",
    "history = {}\n",
    "history['epoch'] = []\n",
    "history['loss'] = []\n",
    "history['val_loss'] = []\n",
    "\n",
    "for epoch in range(1, epochs + 1):\n",
    "    train_loss = train(model, device, train_loader, optimizer, criterion)\n",
    "    val_loss = test(model, device, val_loader, criterion)\n",
    "\n",
    "    print('Epoch: {}/{}\\tloss: {:.4f}\\tval_loss: {:.4f}'.format(epoch, epochs, train_loss, val_loss))\n",
    "\n",
    "    history['epoch'].append(epoch)\n",
    "    history['loss'].append(train_loss)\n",
    "    history['val_loss'].append(val_loss)"
   ]
  },
  {
   "cell_type": "code",
   "execution_count": 15,
   "metadata": {
    "colab": {
     "base_uri": "https://localhost:8080/",
     "height": 302
    },
    "colab_type": "code",
    "executionInfo": {
     "elapsed": 66488,
     "status": "ok",
     "timestamp": 1582126853128,
     "user": {
      "displayName": "Matthias Lau",
      "photoUrl": "https://lh3.googleusercontent.com/a-/AAuE7mC6WRAXJoMqa4-OAv4EwNhkeeciSt5GDAExs2YBOg=s64",
      "userId": "11790472444495897059"
     },
     "user_tz": -60
    },
    "id": "Ygq-M1r_RLOT",
    "outputId": "615ad0e5-1445-44ec-beba-34bfc5b08eea"
   },
   "outputs": [
    {
     "data": {
      "text/plain": [
       "<matplotlib.legend.Legend at 0x7f9fa945df10>"
      ]
     },
     "execution_count": 15,
     "metadata": {},
     "output_type": "execute_result"
    },
    {
     "data": {
      "image/png": "[encoded data removed]",
      "text/plain": [
       "<Figure size 432x288 with 1 Axes>"
      ]
     },
     "metadata": {},
     "output_type": "display_data"
    }
   ],
   "source": [
    "plt.figure()\n",
    "plt.xlabel('Epoch')\n",
    "plt.plot(history['epoch'], np.array(history['loss']), label='Train Loss')\n",
    "plt.plot(history['epoch'], np.array(history['val_loss']), label = 'Validation loss')\n",
    "plt.legend()"
   ]
  },
  {
   "cell_type": "markdown",
   "metadata": {
    "colab_type": "text",
    "id": "hKzWYHzmUX-C"
   },
   "source": [
    "## Model Evaluation"
   ]
  },
  {
   "cell_type": "code",
   "execution_count": 16,
   "metadata": {
    "colab": {
     "base_uri": "https://localhost:8080/",
     "height": 336
    },
    "colab_type": "code",
    "executionInfo": {
     "elapsed": 67746,
     "status": "ok",
     "timestamp": 1582126854416,
     "user": {
      "displayName": "Matthias Lau",
      "photoUrl": "https://lh3.googleusercontent.com/a-/AAuE7mC6WRAXJoMqa4-OAv4EwNhkeeciSt5GDAExs2YBOg=s64",
      "userId": "11790472444495897059"
     },
     "user_tz": -60
    },
    "id": "7OcTYtNhEizF",
    "outputId": "17a34af8-bab4-4d22-ced6-e18dab2d7db6"
   },
   "outputs": [
    {
     "name": "stdout",
     "output_type": "stream",
     "text": [
      "Testing set RMSE:    32.86\n",
      "Validation set RMSE:   39.46\n",
      "Training set RMSE:   18.30\n"
     ]
    },
    {
     "data": {
      "image/png": "[encoded data removed]",
      "text/plain": [
       "<Figure size 432x288 with 1 Axes>"
      ]
     },
     "metadata": {},
     "output_type": "display_data"
    }
   ],
   "source": [
    "def plot_res(model, test_data, test_labels, val_data, val_labels, train_data, train_labels):\n",
    "    output_test = model(test_data).to('cpu')\n",
    "    rmse_test = root_mean_squared_error(test_labels, output_test)\n",
    "    output_val = model(val_data).to('cpu')\n",
    "    rmse_val = root_mean_squared_error(val_labels, output_val)\n",
    "    output_train = model(train_data).to('cpu')\n",
    "    rmse_train = root_mean_squared_error(train_labels, output_train)\n",
    "    print(\"Testing set RMSE:  {:7.2f}\".format(rmse_test))\n",
    "    print(\"Validation set RMSE: {:7.2f}\".format(rmse_val))\n",
    "    print(\"Training set RMSE: {:7.2f}\".format(rmse_train))\n",
    "\n",
    "    test_predictions = output_test.flatten()\n",
    "    val_predictions = output_val.flatten()\n",
    "    train_predictions = output_train.flatten()\n",
    "    sns.distplot(train_predictions - train_labels.flatten(), label = \"Train\")\n",
    "    sns.distplot(val_predictions - val_labels.flatten(), label = \"Val\")\n",
    "    sns.distplot(test_predictions - test_labels.flatten(), label = \"Test\")\n",
    "    plt.xlabel(\"Prediction Error\")\n",
    "    _ = plt.legend()\n",
    "\n",
    "model.eval()\n",
    "\n",
    "tensor_x_train, tensor_x_val, tensor_x_test = tensor_x_train.to(device), tensor_x_val.to(device), tensor_x_test.to(device)\n",
    "\n",
    "with torch.no_grad():\n",
    "    plot_res(model, tensor_x_test, tensor_y_test, tensor_x_val, tensor_y_val, tensor_x_train, tensor_y_train)"
   ]
  },
  {
   "cell_type": "markdown",
   "metadata": {
    "colab_type": "text",
    "id": "pLq7_EO36swu"
   },
   "source": [
    "## Save Model"
   ]
  },
  {
   "cell_type": "code",
   "execution_count": 18,
   "metadata": {
    "colab": {
     "base_uri": "https://localhost:8080/",
     "height": 71
    },
    "colab_type": "code",
    "executionInfo": {
     "elapsed": 67727,
     "status": "ok",
     "timestamp": 1582126854419,
     "user": {
      "displayName": "Matthias Lau",
      "photoUrl": "https://lh3.googleusercontent.com/a-/AAuE7mC6WRAXJoMqa4-OAv4EwNhkeeciSt5GDAExs2YBOg=s64",
      "userId": "11790472444495897059"
     },
     "user_tz": -60
    },
    "id": "o9BMgIO83MKE",
    "outputId": "7a69653e-cca2-41c0-f829-c186eb19f7d8"
   },
   "outputs": [],
   "source": [
    "# save the model to use it for the federated trainer\n",
    "torch.save(model.to('cpu'), \"../models/turbofan_initial.pt\")"
   ]
  },
  {
   "cell_type": "code",
   "execution_count": null,
   "metadata": {
    "colab": {},
    "colab_type": "code",
    "id": "CdDev2Dy7sMc"
   },
   "outputs": [],
   "source": []
  }
 ],
 "metadata": {
  "accelerator": "GPU",
  "colab": {
   "collapsed_sections": [],
   "name": "Federated_Learning_PySyft_InitialTraining.ipynb",
   "provenance": []
  },
  "kernelspec": {
   "display_name": "Python 3",
   "language": "python",
   "name": "python3"
  },
  "language_info": {
   "codemirror_mode": {
    "name": "ipython",
    "version": 3
   },
   "file_extension": ".py",
   "mimetype": "text/x-python",
   "name": "python",
   "nbconvert_exporter": "python",
   "pygments_lexer": "ipython3",
   "version": "3.7.6"
  }
 },
 "nbformat": 4,
 "nbformat_minor": 4
}
