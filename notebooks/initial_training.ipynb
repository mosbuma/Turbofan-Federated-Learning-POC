{
 "cells": [
  {
   "cell_type": "markdown",
   "metadata": {
    "colab_type": "text",
    "id": "DGFrBsJOs8N6"
   },
   "source": [
    "# Turbofan POC - Initial Training and Model Serving\n",
    "\n",
    "This notebook is creating an initial model for predictions of the RUL for our turbofan engines."
   ]
  },
  {
   "cell_type": "markdown",
   "metadata": {
    "colab_type": "text",
    "id": "teKaiaP8A-pN"
   },
   "source": [
    "## Imports and Data Preprocessing"
   ]
  },
  {
   "cell_type": "code",
   "execution_count": 1,
   "metadata": {
    "colab": {
     "base_uri": "https://localhost:8080/",
     "height": 156
    },
    "colab_type": "code",
    "executionInfo": {
     "elapsed": 26981,
     "status": "ok",
     "timestamp": 1582126813186,
     "user": {
      "displayName": "Matthias Lau",
      "photoUrl": "https://lh3.googleusercontent.com/a-/AAuE7mC6WRAXJoMqa4-OAv4EwNhkeeciSt5GDAExs2YBOg=s64",
      "userId": "11790472444495897059"
     },
     "user_tz": -60
    },
    "id": "1Krj0J83x5O8",
    "outputId": "1b4a0cea-c47e-41e9-82a2-9b816e3765e9",
    "tags": []
   },
   "outputs": [],
   "source": [
    "# check if we are inside google colab\n",
    "try:\n",
    "    from google.colab import drive\n",
    "    # mount gdrive for importing the data\n",
    "    drive.mount('/content/gdrive', force_remount=True)\n",
    "    # change this path to your notebooks directory inside google drive\n",
    "    %cd /content/gdrive/My\\ Drive/dev/turbofan_poc/notebooks\n",
    "\n",
    "    # set tensorflow version\n",
    "    %tensorflow_version 2.x\n",
    "except:\n",
    "    pass"
   ]
  },
  {
   "cell_type": "code",
   "execution_count": 2,
   "metadata": {
    "colab": {},
    "colab_type": "code",
    "id": "N61mNrV80NVr",
    "tags": []
   },
   "outputs": [],
   "source": [
    "import os\n",
    "import numpy as np\n",
    "import pandas as pd\n",
    "\n",
    "import torch\n",
    "import torch.nn as nn\n",
    "import torch.nn.functional as F\n",
    "import torch.optim as optim\n",
    "\n",
    "import seaborn as sns\n",
    "import matplotlib.pyplot as plt\n",
    "\n",
    "sns.set()"
   ]
  },
  {
   "cell_type": "code",
   "execution_count": 3,
   "metadata": {
    "colab": {},
    "colab_type": "code",
    "id": "RICPXgLi0g0R",
    "tags": []
   },
   "outputs": [],
   "source": [
    "# load the data \n",
    "dirname = os.getcwd()\n",
    "folder_path = os.path.join(dirname, '../data')\n",
    "\n",
    "train_data_path = os.path.join(folder_path, 'train_data_initial.txt')\n",
    "train_data = pd.read_csv(train_data_path)\n",
    "train_data.set_index('time_in_cycles')\n",
    "\n",
    "val_data_path = os.path.join(folder_path, 'test_data_val.txt')\n",
    "val_data = pd.read_csv(val_data_path)\n",
    "val_data.set_index('time_in_cycles')\n",
    "\n",
    "test_data_path = os.path.join(folder_path, 'test_data_test.txt')\n",
    "test_data = pd.read_csv(test_data_path)\n",
    "test_data.set_index('time_in_cycles')\n",
    "\n",
    "# retrieve the max cycles per engine: RUL\n",
    "train_rul = pd.DataFrame(train_data.groupby('engine_no')['time_in_cycles'].max()).reset_index()\n",
    "# merge the RULs into the training data\n",
    "train_rul.columns = ['engine_no', 'max']\n",
    "train_data = train_data.merge(train_rul, on=['engine_no'], how='left')\n",
    "# add the current RUL for every cycle\n",
    "train_data['RUL'] = train_data['max'] - train_data['time_in_cycles']\n",
    "train_data.drop('max', axis=1, inplace=True)\n",
    "\n",
    "# test and validation data already contains the RUL values\n",
    "\n",
    "# drop the columns not needed\n",
    "cols_nan = train_data.columns[train_data.isna().any()].tolist()\n",
    "cols_const = [ col for col in train_data.columns if len(train_data[col].unique()) <= 2 ]\n",
    "\n",
    "# The operational settings 1 and 2 don´t have a trend and they look like random noise.\n",
    "# Sensors 11, 12, 13 could be removed due to high correlations but it should be tested.\n",
    "# The trend of sensors 9 and 14 depend on the specific engine. Some engines at the end\n",
    "# of life tend to increase while others tend to decrease. What is common about these\n",
    "# two sensors is that the magnitude at the end life gets amplified. We should try\n",
    "# removing both sensors.\n",
    "cols_irrelevant = ['operational_setting_1', 'operational_setting_2', 'sensor_measurement_11', 'sensor_measurement_12', 'sensor_measurement_13']\n",
    "\n",
    "# Drop the columns without or with constant data\n",
    "train_data = train_data.drop(columns=cols_const + cols_nan + cols_irrelevant)\n",
    "val_data = val_data.drop(columns=cols_const + cols_nan + cols_irrelevant)\n",
    "test_data = test_data.drop(columns=cols_const + cols_nan + cols_irrelevant)"
   ]
  },
  {
   "cell_type": "markdown",
   "metadata": {
    "colab_type": "text",
    "id": "S58onfDNdAmc"
   },
   "source": [
    "## Data Preparation"
   ]
  },
  {
   "cell_type": "code",
   "execution_count": 4,
   "metadata": {
    "colab": {},
    "colab_type": "code",
    "id": "fvj4QbzCXZCT",
    "tags": []
   },
   "outputs": [],
   "source": [
    "# define the columns for training\n",
    "train_data_inputs = train_data.copy()\n",
    "train_data_inputs.drop(columns=['RUL', 'engine_no', 'time_in_cycles'], inplace=True)\n",
    "training_columns = train_data_inputs.columns"
   ]
  },
  {
   "cell_type": "markdown",
   "metadata": {
    "colab_type": "text",
    "id": "1lQGejNWjwWO"
   },
   "source": [
    "### Windowing"
   ]
  },
  {
   "cell_type": "markdown",
   "metadata": {
    "colab_type": "text",
    "id": "KLyLG86M0Ffn"
   },
   "source": [
    "To do our model training we split the data from an engine into rolling windows so we have the dimensions (total number of rows, time steps per window, feature columns).\n",
    "\n",
    "*Engine x for window size 3:*\n",
    "\n",
    "```\n",
    "[1 2 3 4 5 6] -> [1 2 3], [2 3 4], [3 4 5], [4 5 6]\n",
    "```\n",
    "\n",
    "As labels we pick the RUL of the last value in the windowed sequence."
   ]
  },
  {
   "cell_type": "markdown",
   "metadata": {
    "colab_type": "text",
    "id": "Vt4z-bc_0Yr1"
   },
   "source": [
    "By splitting the data into windows we have to drop data samples that are smaller than the window size. This especially means we can not predict RUL values for smaller time series of engine data. An alternative would be to pad sequences so that we can use shorter ones."
   ]
  },
  {
   "cell_type": "code",
   "execution_count": 5,
   "metadata": {
    "colab": {},
    "colab_type": "code",
    "id": "D6hSngDtXC-f",
    "tags": []
   },
   "outputs": [],
   "source": [
    "WINDOW_SIZE = 80\n",
    "BATCH_SIZE = 210"
   ]
  },
  {
   "cell_type": "code",
   "execution_count": 6,
   "metadata": {
    "colab": {},
    "colab_type": "code",
    "id": "YWz7of5dXSr8",
    "tags": []
   },
   "outputs": [],
   "source": [
    "def transform_to_windowed_data(dataset, window_size, window_limit = 0, verbose = True):\n",
    "  \"\"\"Transform the dataset into input windows with a label.\n",
    "\n",
    "  Args:\n",
    "      dataset (DataFrame): The dataset to tranform.\n",
    "      window_size (int): The length of the windows to create.\n",
    "      window_limit (int): The max windows to create for a data subset.\n",
    "\n",
    "  Returns:\n",
    "      (numpy.array, numpy.array): A tuple of features and labels.\n",
    "  \"\"\"\n",
    "  features = []\n",
    "  labels = []\n",
    "\n",
    "  dataset = dataset.set_index('time_in_cycles')\n",
    "  data_per_engine = dataset.groupby('engine_no')\n",
    "\n",
    "  for engine_no, engine_data in data_per_engine:\n",
    "      # skip if the engines cycles are too few\n",
    "      if len(engine_data) < window_size + window_limit -1:\n",
    "        continue\n",
    "\n",
    "      if window_limit != 0:\n",
    "        window_count = window_limit\n",
    "      else:\n",
    "        window_count = len(engine_data) - window_size\n",
    "\n",
    "      for i in range(0, window_count):\n",
    "        # take the last x cycles where x is the window size\n",
    "        start = -window_size - i\n",
    "        end = len(engine_data) - i\n",
    "        inputs = engine_data.iloc[start:end]\n",
    "        # use the RUL of the last cycle as label\n",
    "        outputs = engine_data.iloc[end - 1, -1]\n",
    "\n",
    "        inputs = inputs.drop(['engine_no', 'RUL'], axis=1)\n",
    "\n",
    "        features.append(inputs.values)\n",
    "        labels.append(outputs)\n",
    "\n",
    "  features = np.array(features)\n",
    "  labels = np.array(labels)\n",
    "  labels = np.expand_dims(labels, axis=1)\n",
    "\n",
    "  if verbose:\n",
    "    print(\"{} features with shape {}\".format(len(features), features[0].shape))\n",
    "    print(\"{} labels with shape {}\".format(len(labels), labels.shape))\n",
    "\n",
    "  return features, labels"
   ]
  },
  {
   "cell_type": "code",
   "execution_count": 7,
   "metadata": {
    "colab": {
     "base_uri": "https://localhost:8080/",
     "height": 119
    },
    "colab_type": "code",
    "executionInfo": {
     "elapsed": 41696,
     "status": "ok",
     "timestamp": 1582126828101,
     "user": {
      "displayName": "Matthias Lau",
      "photoUrl": "https://lh3.googleusercontent.com/a-/AAuE7mC6WRAXJoMqa4-OAv4EwNhkeeciSt5GDAExs2YBOg=s64",
      "userId": "11790472444495897059"
     },
     "user_tz": -60
    },
    "id": "NZR_quyYaept",
    "outputId": "771aa845-d484-4225-ff52-36388f5e166e",
    "tags": []
   },
   "outputs": [
    {
     "name": "stdout",
     "output_type": "stream",
     "text": [
      "541 features with shape (80, 11)\n",
      "541 labels with shape (541, 1)\n",
      "2757 features with shape (80, 11)\n",
      "2757 labels with shape (2757, 1)\n",
      "2826 features with shape (80, 11)\n",
      "2826 labels with shape (2826, 1)\n"
     ]
    }
   ],
   "source": [
    "x_train, y_train = transform_to_windowed_data(train_data, WINDOW_SIZE)\n",
    "x_val, y_val = transform_to_windowed_data(val_data, WINDOW_SIZE)\n",
    "x_test, y_test = transform_to_windowed_data(test_data, WINDOW_SIZE)"
   ]
  },
  {
   "cell_type": "markdown",
   "metadata": {
    "colab_type": "text",
    "id": "QQV2DnpgddIq"
   },
   "source": [
    "### Standardization"
   ]
  },
  {
   "cell_type": "markdown",
   "metadata": {
    "colab_type": "text",
    "id": "Gi5NG6Vfw-yW"
   },
   "source": [
    "The data scaling will be embedded in the model so it could be easily applied to inference as well."
   ]
  },
  {
   "cell_type": "markdown",
   "metadata": {
    "colab_type": "text",
    "id": "HP84vJPW2m0I"
   },
   "source": [
    "### Response Clipping"
   ]
  },
  {
   "cell_type": "markdown",
   "metadata": {
    "colab_type": "text",
    "id": "IaMkCZCH2zpV"
   },
   "source": [
    "Since the degradation in a system will generally remain negligible until after some period of operation time the early and higher RUL values are probably unreasonable. We could tackle this by clipping the RUL values.\n",
    "\n",
    "That means we are fine with our model not correctly predicting RUL values above the *rul_clip_limit*. The model will still correctly identify that these engines but it is kind of cheating as the error for these engines improves."
   ]
  },
  {
   "cell_type": "code",
   "execution_count": 8,
   "metadata": {
    "colab": {},
    "colab_type": "code",
    "id": "qsK2hp6w2uLj",
    "tags": []
   },
   "outputs": [],
   "source": [
    "# clip RUL values\n",
    "rul_clip_limit = 110\n",
    "\n",
    "y_train = y_train.clip(max=rul_clip_limit)\n",
    "y_val = y_val.clip(max=rul_clip_limit)\n",
    "y_test = y_test.clip(max=rul_clip_limit)"
   ]
  },
  {
   "cell_type": "markdown",
   "metadata": {
    "colab_type": "text",
    "id": "gh2YaxoKsHiB"
   },
   "source": [
    "## Model Training"
   ]
  },
  {
   "cell_type": "markdown",
   "metadata": {
    "colab_type": "text",
    "id": "d9dwxhK5a0i6"
   },
   "source": [
    "### Helpers"
   ]
  },
  {
   "cell_type": "code",
   "execution_count": 9,
   "metadata": {
    "colab": {},
    "colab_type": "code",
    "id": "hREayPLsHGzA",
    "tags": []
   },
   "outputs": [],
   "source": [
    "# RMSE implementation\n",
    "def root_mean_squared_error(y_true, y_pred):\n",
    "    return np.sqrt(((y_true - y_pred) ** 2).mean())"
   ]
  },
  {
   "cell_type": "markdown",
   "metadata": {
    "colab_type": "text",
    "id": "9YgTLRF4avmo"
   },
   "source": [
    "### Model Definition"
   ]
  },
  {
   "cell_type": "code",
   "execution_count": 10,
   "metadata": {
    "colab": {},
    "colab_type": "code",
    "id": "geHwiNH1LmE4",
    "tags": []
   },
   "outputs": [],
   "source": [
    "class TurbofanModel(nn.Module):\n",
    "    def __init__(self, train_mean, train_std):\n",
    "        super().__init__()\n",
    "        \n",
    "        self.train_mean = train_mean\n",
    "        self.train_std = train_std\n",
    "\n",
    "        self.fc1 = nn.Linear(len(training_columns), 24)\n",
    "        self.fc2 = nn.Linear(24, 24)\n",
    "        self.fc3 = nn.Linear(24, 24)\n",
    "        self.fc4 = nn.Linear(24, 1)\n",
    "\n",
    "    def to(self, device):\n",
    "        super().to(device)\n",
    "        self.train_mean = self.train_mean.to(device)\n",
    "        self.train_std = self.train_std.to(device)\n",
    "        \n",
    "        return self\n",
    "        \n",
    "    def forward(self, x):\n",
    "        # scale the input\n",
    "        x = (x - self.train_mean) / self.train_std\n",
    "\n",
    "        x = F.relu(self.fc1(x))\n",
    "        x = F.relu(self.fc2(x))\n",
    "        x = F.relu(self.fc3(x))\n",
    "        x = self.fc4(x)\n",
    "        x = x[:, -1, :]\n",
    "        \n",
    "        return x"
   ]
  },
  {
   "cell_type": "markdown",
   "metadata": {
    "colab_type": "text",
    "id": "WSJfEvrZdUwD"
   },
   "source": [
    "### Prepare Data Loader"
   ]
  },
  {
   "cell_type": "code",
   "execution_count": 11,
   "metadata": {
    "colab": {},
    "colab_type": "code",
    "id": "UmkrWZgRfxQ1",
    "tags": []
   },
   "outputs": [],
   "source": [
    "# transform to torch tensor\n",
    "tensor_x_train = torch.Tensor(x_train)\n",
    "tensor_y_train = torch.Tensor(y_train)\n",
    "tensor_x_val = torch.Tensor(x_val)\n",
    "tensor_y_val = torch.Tensor(y_val)\n",
    "tensor_x_test = torch.Tensor(x_test)\n",
    "tensor_y_test = torch.Tensor(y_test)\n",
    "\n",
    "# create datasets for train, test and validation\n",
    "train_dataset = torch.utils.data.TensorDataset(tensor_x_train, tensor_y_train)\n",
    "val_dataset = torch.utils.data.TensorDataset(tensor_x_val, tensor_y_val)\n",
    "test_dataset = torch.utils.data.TensorDataset(tensor_x_test, tensor_y_test)\n",
    "\n",
    "# create data loaders\n",
    "train_loader = torch.utils.data.DataLoader(train_dataset, batch_size=BATCH_SIZE)\n",
    "val_loader = torch.utils.data.DataLoader(val_dataset, batch_size=BATCH_SIZE)\n",
    "test_loader = torch.utils.data.DataLoader(test_dataset, batch_size=BATCH_SIZE)"
   ]
  },
  {
   "cell_type": "markdown",
   "metadata": {
    "colab_type": "text",
    "id": "mBCUoRAZd4ZE"
   },
   "source": [
    "### Initial Training"
   ]
  },
  {
   "cell_type": "code",
   "execution_count": 12,
   "metadata": {
    "colab": {},
    "colab_type": "code",
    "id": "KvrLlKWgLp2u",
    "tags": []
   },
   "outputs": [],
   "source": [
    "def train(model, device, train_loader, optimizer, criterion):\n",
    "    model.train()\n",
    "\n",
    "    running_loss = 0\n",
    "\n",
    "    for batch_idx, (data, target) in enumerate(train_loader):\n",
    "        data, target = data.to(device), target.to(device)\n",
    "        optimizer.zero_grad()\n",
    "\n",
    "        output = model(data)\n",
    "\n",
    "        loss = criterion(output, target)\n",
    "        loss.backward()\n",
    "        optimizer.step()\n",
    "\n",
    "        running_loss += loss.item() * data.size(0)\n",
    "\n",
    "    epoch_loss = running_loss / len(train_loader.dataset)\n",
    "    \n",
    "    return epoch_loss"
   ]
  },
  {
   "cell_type": "code",
   "execution_count": 13,
   "metadata": {
    "colab": {},
    "colab_type": "code",
    "id": "O1ANRoq_JRF8",
    "tags": []
   },
   "outputs": [],
   "source": [
    "def test(model, device, test_loader, criterion):\n",
    "    model.eval()\n",
    "\n",
    "    test_loss = 0\n",
    "\n",
    "    with torch.no_grad():\n",
    "        for data, target in test_loader:\n",
    "            data, target = data.to(device), target.to(device)\n",
    "\n",
    "            output = model(data)\n",
    "\n",
    "            test_loss += criterion(output, target).item() * data.size(0)\n",
    "\n",
    "    test_loss /= len(test_loader.dataset)\n",
    "\n",
    "    return test_loss"
   ]
  },
  {
   "cell_type": "code",
   "execution_count": 15,
   "metadata": {
    "colab": {
     "base_uri": "https://localhost:8080/",
     "height": 1000
    },
    "colab_type": "code",
    "executionInfo": {
     "elapsed": 66010,
     "status": "ok",
     "timestamp": 1582126852618,
     "user": {
      "displayName": "Matthias Lau",
      "photoUrl": "https://lh3.googleusercontent.com/a-/AAuE7mC6WRAXJoMqa4-OAv4EwNhkeeciSt5GDAExs2YBOg=s64",
      "userId": "11790472444495897059"
     },
     "user_tz": -60
    },
    "id": "lqghpzITGwnd",
    "outputId": "248bc826-8389-44dc-d2b5-d565f913ceb6",
    "tags": []
   },
   "outputs": [
    {
     "name": "stdout",
     "output_type": "stream",
     "text": [
      "Epoch: 1/280\tloss: 54.3888\tval_loss: 89.2735\n",
      "Epoch: 2/280\tloss: 54.3726\tval_loss: 89.2554\n",
      "Epoch: 3/280\tloss: 54.3564\tval_loss: 89.2365\n",
      "Epoch: 4/280\tloss: 54.3396\tval_loss: 89.2165\n",
      "Epoch: 5/280\tloss: 54.3219\tval_loss: 89.1948\n",
      "Epoch: 6/280\tloss: 54.3027\tval_loss: 89.1707\n",
      "Epoch: 7/280\tloss: 54.2807\tval_loss: 89.1435\n",
      "Epoch: 8/280\tloss: 54.2552\tval_loss: 89.1121\n",
      "Epoch: 9/280\tloss: 54.2254\tval_loss: 89.0744\n",
      "Epoch: 10/280\tloss: 54.1897\tval_loss: 89.0274\n",
      "Epoch: 11/280\tloss: 54.1460\tval_loss: 88.9676\n",
      "Epoch: 12/280\tloss: 54.0917\tval_loss: 88.8914\n",
      "Epoch: 13/280\tloss: 54.0243\tval_loss: 88.7966\n",
      "Epoch: 14/280\tloss: 53.9419\tval_loss: 88.6813\n",
      "Epoch: 15/280\tloss: 53.8422\tval_loss: 88.5430\n",
      "Epoch: 16/280\tloss: 53.7238\tval_loss: 88.3781\n",
      "Epoch: 17/280\tloss: 53.5844\tval_loss: 88.1821\n",
      "Epoch: 18/280\tloss: 53.4197\tval_loss: 87.9487\n",
      "Epoch: 19/280\tloss: 53.2255\tval_loss: 87.6707\n",
      "Epoch: 20/280\tloss: 52.9982\tval_loss: 87.3401\n",
      "Epoch: 21/280\tloss: 52.7333\tval_loss: 86.9448\n",
      "Epoch: 22/280\tloss: 52.4232\tval_loss: 86.4733\n",
      "Epoch: 23/280\tloss: 52.0668\tval_loss: 85.9184\n",
      "Epoch: 24/280\tloss: 51.6610\tval_loss: 85.2693\n",
      "Epoch: 25/280\tloss: 51.1995\tval_loss: 84.5133\n",
      "Epoch: 26/280\tloss: 50.6883\tval_loss: 83.6377\n",
      "Epoch: 27/280\tloss: 50.1249\tval_loss: 82.6306\n",
      "Epoch: 28/280\tloss: 49.5026\tval_loss: 81.4763\n",
      "Epoch: 29/280\tloss: 48.8121\tval_loss: 80.1600\n",
      "Epoch: 30/280\tloss: 48.0480\tval_loss: 78.6668\n",
      "Epoch: 31/280\tloss: 47.2146\tval_loss: 76.9830\n",
      "Epoch: 32/280\tloss: 46.3070\tval_loss: 75.0918\n",
      "Epoch: 33/280\tloss: 45.3054\tval_loss: 72.9736\n",
      "Epoch: 34/280\tloss: 44.1882\tval_loss: 70.6033\n",
      "Epoch: 35/280\tloss: 42.9420\tval_loss: 67.9512\n",
      "Epoch: 36/280\tloss: 41.5459\tval_loss: 64.9895\n",
      "Epoch: 37/280\tloss: 39.9809\tval_loss: 61.6892\n",
      "Epoch: 38/280\tloss: 38.2306\tval_loss: 58.0260\n",
      "Epoch: 39/280\tloss: 36.2738\tval_loss: 53.9748\n",
      "Epoch: 40/280\tloss: 34.0923\tval_loss: 49.5631\n",
      "Epoch: 41/280\tloss: 31.6628\tval_loss: 44.7570\n",
      "Epoch: 42/280\tloss: 29.0250\tval_loss: 39.6311\n",
      "Epoch: 43/280\tloss: 26.2068\tval_loss: 34.5633\n",
      "Epoch: 44/280\tloss: 23.5186\tval_loss: 30.7361\n",
      "Epoch: 45/280\tloss: 21.5631\tval_loss: 28.8397\n",
      "Epoch: 46/280\tloss: 20.6890\tval_loss: 28.4145\n",
      "Epoch: 47/280\tloss: 20.3425\tval_loss: 28.6065\n",
      "Epoch: 48/280\tloss: 20.1469\tval_loss: 28.8097\n",
      "Epoch: 49/280\tloss: 19.9501\tval_loss: 28.7542\n",
      "Epoch: 50/280\tloss: 19.6886\tval_loss: 28.4652\n",
      "Epoch: 51/280\tloss: 19.3940\tval_loss: 28.0544\n",
      "Epoch: 52/280\tloss: 19.1090\tval_loss: 27.6427\n",
      "Epoch: 53/280\tloss: 18.8733\tval_loss: 27.2948\n",
      "Epoch: 54/280\tloss: 18.6918\tval_loss: 27.0487\n",
      "Epoch: 55/280\tloss: 18.5574\tval_loss: 26.8687\n",
      "Epoch: 56/280\tloss: 18.4399\tval_loss: 26.7305\n",
      "Epoch: 57/280\tloss: 18.3276\tval_loss: 26.5969\n",
      "Epoch: 58/280\tloss: 18.1991\tval_loss: 26.4498\n",
      "Epoch: 59/280\tloss: 18.0512\tval_loss: 26.2769\n",
      "Epoch: 60/280\tloss: 17.8811\tval_loss: 26.0840\n",
      "Epoch: 61/280\tloss: 17.6954\tval_loss: 25.8847\n",
      "Epoch: 62/280\tloss: 17.5027\tval_loss: 25.6917\n",
      "Epoch: 63/280\tloss: 17.3176\tval_loss: 25.5091\n",
      "Epoch: 64/280\tloss: 17.1395\tval_loss: 25.3380\n",
      "Epoch: 65/280\tloss: 16.9700\tval_loss: 25.1822\n",
      "Epoch: 66/280\tloss: 16.8082\tval_loss: 25.0411\n",
      "Epoch: 67/280\tloss: 16.6563\tval_loss: 24.9167\n",
      "Epoch: 68/280\tloss: 16.5143\tval_loss: 24.8085\n",
      "Epoch: 69/280\tloss: 16.3772\tval_loss: 24.7136\n",
      "Epoch: 70/280\tloss: 16.2456\tval_loss: 24.6305\n",
      "Epoch: 71/280\tloss: 16.1165\tval_loss: 24.5564\n",
      "Epoch: 72/280\tloss: 15.9910\tval_loss: 24.4859\n",
      "Epoch: 73/280\tloss: 15.8698\tval_loss: 24.4149\n",
      "Epoch: 74/280\tloss: 15.7486\tval_loss: 24.3457\n",
      "Epoch: 75/280\tloss: 15.6300\tval_loss: 24.2748\n",
      "Epoch: 76/280\tloss: 15.5130\tval_loss: 24.1966\n",
      "Epoch: 77/280\tloss: 15.3945\tval_loss: 24.1101\n",
      "Epoch: 78/280\tloss: 15.2749\tval_loss: 24.0187\n",
      "Epoch: 79/280\tloss: 15.1540\tval_loss: 23.9300\n",
      "Epoch: 80/280\tloss: 15.0325\tval_loss: 23.8476\n",
      "Epoch: 81/280\tloss: 14.9122\tval_loss: 23.7721\n",
      "Epoch: 82/280\tloss: 14.7943\tval_loss: 23.7029\n",
      "Epoch: 83/280\tloss: 14.6778\tval_loss: 23.6387\n",
      "Epoch: 84/280\tloss: 14.5664\tval_loss: 23.5640\n",
      "Epoch: 85/280\tloss: 14.4560\tval_loss: 23.4755\n",
      "Epoch: 86/280\tloss: 14.3441\tval_loss: 23.3909\n",
      "Epoch: 87/280\tloss: 14.2357\tval_loss: 23.3170\n",
      "Epoch: 88/280\tloss: 14.1307\tval_loss: 23.2565\n",
      "Epoch: 89/280\tloss: 14.0285\tval_loss: 23.1995\n",
      "Epoch: 90/280\tloss: 13.9297\tval_loss: 23.1344\n",
      "Epoch: 91/280\tloss: 13.8317\tval_loss: 23.0608\n",
      "Epoch: 92/280\tloss: 13.7335\tval_loss: 22.9730\n",
      "Epoch: 93/280\tloss: 13.6339\tval_loss: 22.8850\n",
      "Epoch: 94/280\tloss: 13.5369\tval_loss: 22.8054\n",
      "Epoch: 95/280\tloss: 13.4443\tval_loss: 22.7348\n",
      "Epoch: 96/280\tloss: 13.3524\tval_loss: 22.6711\n",
      "Epoch: 97/280\tloss: 13.2637\tval_loss: 22.6059\n",
      "Epoch: 98/280\tloss: 13.1765\tval_loss: 22.5470\n",
      "Epoch: 99/280\tloss: 13.0945\tval_loss: 22.5037\n",
      "Epoch: 100/280\tloss: 13.0148\tval_loss: 22.4826\n",
      "Epoch: 101/280\tloss: 12.9383\tval_loss: 22.4702\n",
      "Epoch: 102/280\tloss: 12.8682\tval_loss: 22.4362\n",
      "Epoch: 103/280\tloss: 12.8002\tval_loss: 22.3760\n",
      "Epoch: 104/280\tloss: 12.7343\tval_loss: 22.3083\n",
      "Epoch: 105/280\tloss: 12.6713\tval_loss: 22.2434\n",
      "Epoch: 106/280\tloss: 12.6104\tval_loss: 22.1837\n",
      "Epoch: 107/280\tloss: 12.5501\tval_loss: 22.1264\n",
      "Epoch: 108/280\tloss: 12.4916\tval_loss: 22.0664\n",
      "Epoch: 109/280\tloss: 12.4336\tval_loss: 22.0081\n",
      "Epoch: 110/280\tloss: 12.3764\tval_loss: 21.9575\n",
      "Epoch: 111/280\tloss: 12.3224\tval_loss: 21.9142\n",
      "Epoch: 112/280\tloss: 12.2704\tval_loss: 21.8863\n",
      "Epoch: 113/280\tloss: 12.2179\tval_loss: 21.8951\n",
      "Epoch: 114/280\tloss: 12.1707\tval_loss: 21.9342\n",
      "Epoch: 115/280\tloss: 12.1280\tval_loss: 21.9892\n",
      "Epoch: 116/280\tloss: 12.0909\tval_loss: 22.0330\n",
      "Epoch: 117/280\tloss: 12.0586\tval_loss: 22.0372\n",
      "Epoch: 118/280\tloss: 12.0264\tval_loss: 22.0121\n",
      "Epoch: 119/280\tloss: 11.9944\tval_loss: 21.9751\n",
      "Epoch: 120/280\tloss: 11.9607\tval_loss: 21.9263\n",
      "Epoch: 121/280\tloss: 11.9232\tval_loss: 21.8862\n",
      "Epoch: 122/280\tloss: 11.8851\tval_loss: 21.8525\n",
      "Epoch: 123/280\tloss: 11.8498\tval_loss: 21.8246\n",
      "Epoch: 124/280\tloss: 11.8163\tval_loss: 21.8093\n",
      "Epoch: 125/280\tloss: 11.7854\tval_loss: 21.7966\n",
      "Epoch: 126/280\tloss: 11.7552\tval_loss: 21.7834\n",
      "Epoch: 127/280\tloss: 11.7272\tval_loss: 21.7707\n",
      "Epoch: 128/280\tloss: 11.7009\tval_loss: 21.7705\n",
      "Epoch: 129/280\tloss: 11.6788\tval_loss: 21.7602\n",
      "Epoch: 130/280\tloss: 11.6589\tval_loss: 21.7071\n",
      "Epoch: 131/280\tloss: 11.6364\tval_loss: 21.6549\n",
      "Epoch: 132/280\tloss: 11.6096\tval_loss: 21.6522\n",
      "Epoch: 133/280\tloss: 11.5854\tval_loss: 21.6524\n",
      "Epoch: 134/280\tloss: 11.5654\tval_loss: 21.6190\n",
      "Epoch: 135/280\tloss: 11.5420\tval_loss: 21.5861\n",
      "Epoch: 136/280\tloss: 11.5180\tval_loss: 21.5623\n",
      "Epoch: 137/280\tloss: 11.4976\tval_loss: 21.5420\n",
      "Epoch: 138/280\tloss: 11.4791\tval_loss: 21.5419\n",
      "Epoch: 139/280\tloss: 11.4632\tval_loss: 21.5297\n",
      "Epoch: 140/280\tloss: 11.4447\tval_loss: 21.5110\n",
      "Epoch: 141/280\tloss: 11.4246\tval_loss: 21.4872\n",
      "Epoch: 142/280\tloss: 11.4047\tval_loss: 21.4615\n",
      "Epoch: 143/280\tloss: 11.3862\tval_loss: 21.4386\n",
      "Epoch: 144/280\tloss: 11.3695\tval_loss: 21.4263\n",
      "Epoch: 145/280\tloss: 11.3518\tval_loss: 21.4185\n",
      "Epoch: 146/280\tloss: 11.3345\tval_loss: 21.4156\n",
      "Epoch: 147/280\tloss: 11.3189\tval_loss: 21.4335\n",
      "Epoch: 148/280\tloss: 11.3075\tval_loss: 21.4503\n",
      "Epoch: 149/280\tloss: 11.2954\tval_loss: 21.4394\n",
      "Epoch: 150/280\tloss: 11.2835\tval_loss: 21.4249\n",
      "Epoch: 151/280\tloss: 11.2705\tval_loss: 21.4275\n",
      "Epoch: 152/280\tloss: 11.2615\tval_loss: 21.4098\n",
      "Epoch: 153/280\tloss: 11.2511\tval_loss: 21.3821\n",
      "Epoch: 154/280\tloss: 11.2336\tval_loss: 21.3911\n",
      "Epoch: 155/280\tloss: 11.2206\tval_loss: 21.3932\n",
      "Epoch: 156/280\tloss: 11.2103\tval_loss: 21.3989\n",
      "Epoch: 157/280\tloss: 11.1994\tval_loss: 21.4027\n",
      "Epoch: 158/280\tloss: 11.1875\tval_loss: 21.3818\n",
      "Epoch: 159/280\tloss: 11.1789\tval_loss: 21.3630\n",
      "Epoch: 160/280\tloss: 11.1642\tval_loss: 21.3779\n",
      "Epoch: 161/280\tloss: 11.1541\tval_loss: 21.3642\n",
      "Epoch: 162/280\tloss: 11.1429\tval_loss: 21.3634\n",
      "Epoch: 163/280\tloss: 11.1290\tval_loss: 21.3859\n",
      "Epoch: 164/280\tloss: 11.1225\tval_loss: 21.3628\n",
      "Epoch: 165/280\tloss: 11.1118\tval_loss: 21.3497\n",
      "Epoch: 166/280\tloss: 11.0979\tval_loss: 21.3539\n",
      "Epoch: 167/280\tloss: 11.0883\tval_loss: 21.3285\n",
      "Epoch: 168/280\tloss: 11.0763\tval_loss: 21.3223\n",
      "Epoch: 169/280\tloss: 11.0653\tval_loss: 21.3251\n",
      "Epoch: 170/280\tloss: 11.0560\tval_loss: 21.3240\n",
      "Epoch: 171/280\tloss: 11.0434\tval_loss: 21.3057\n",
      "Epoch: 172/280\tloss: 11.0331\tval_loss: 21.2909\n",
      "Epoch: 173/280\tloss: 11.0242\tval_loss: 21.2962\n",
      "Epoch: 174/280\tloss: 11.0147\tval_loss: 21.2895\n",
      "Epoch: 175/280\tloss: 11.0034\tval_loss: 21.2775\n",
      "Epoch: 176/280\tloss: 10.9937\tval_loss: 21.2668\n",
      "Epoch: 177/280\tloss: 10.9852\tval_loss: 21.2719\n",
      "Epoch: 178/280\tloss: 10.9771\tval_loss: 21.2591\n",
      "Epoch: 179/280\tloss: 10.9648\tval_loss: 21.2444\n",
      "Epoch: 180/280\tloss: 10.9543\tval_loss: 21.2511\n",
      "Epoch: 181/280\tloss: 10.9497\tval_loss: 21.2326\n",
      "Epoch: 182/280\tloss: 10.9418\tval_loss: 21.1925\n",
      "Epoch: 183/280\tloss: 10.9282\tval_loss: 21.1893\n",
      "Epoch: 184/280\tloss: 10.9154\tval_loss: 21.2002\n",
      "Epoch: 185/280\tloss: 10.9096\tval_loss: 21.1936\n",
      "Epoch: 186/280\tloss: 10.9042\tval_loss: 21.1648\n",
      "Epoch: 187/280\tloss: 10.8929\tval_loss: 21.1475\n",
      "Epoch: 188/280\tloss: 10.8831\tval_loss: 21.1630\n",
      "Epoch: 189/280\tloss: 10.8750\tval_loss: 21.1859\n",
      "Epoch: 190/280\tloss: 10.8718\tval_loss: 21.1241\n",
      "Epoch: 191/280\tloss: 10.8653\tval_loss: 21.1146\n",
      "Epoch: 192/280\tloss: 10.8541\tval_loss: 21.1334\n",
      "Epoch: 193/280\tloss: 10.8443\tval_loss: 21.1062\n",
      "Epoch: 194/280\tloss: 10.8375\tval_loss: 21.1087\n",
      "Epoch: 195/280\tloss: 10.8315\tval_loss: 21.1306\n",
      "Epoch: 196/280\tloss: 10.8271\tval_loss: 21.0984\n",
      "Epoch: 197/280\tloss: 10.8201\tval_loss: 21.0862\n",
      "Epoch: 198/280\tloss: 10.8131\tval_loss: 21.1033\n",
      "Epoch: 199/280\tloss: 10.8073\tval_loss: 21.0779\n",
      "Epoch: 200/280\tloss: 10.8028\tval_loss: 21.0508\n",
      "Epoch: 201/280\tloss: 10.7914\tval_loss: 21.0827\n",
      "Epoch: 202/280\tloss: 10.7866\tval_loss: 21.0857\n",
      "Epoch: 203/280\tloss: 10.7842\tval_loss: 21.0571\n",
      "Epoch: 204/280\tloss: 10.7779\tval_loss: 21.0521\n",
      "Epoch: 205/280\tloss: 10.7681\tval_loss: 21.0489\n",
      "Epoch: 206/280\tloss: 10.7603\tval_loss: 21.0442\n",
      "Epoch: 207/280\tloss: 10.7559\tval_loss: 21.0329\n",
      "Epoch: 208/280\tloss: 10.7522\tval_loss: 21.0326\n",
      "Epoch: 209/280\tloss: 10.7454\tval_loss: 21.0426\n",
      "Epoch: 210/280\tloss: 10.7401\tval_loss: 20.9914\n",
      "Epoch: 211/280\tloss: 10.7369\tval_loss: 20.9696\n",
      "Epoch: 212/280\tloss: 10.7240\tval_loss: 21.0121\n",
      "Epoch: 213/280\tloss: 10.7203\tval_loss: 20.9879\n",
      "Epoch: 214/280\tloss: 10.7180\tval_loss: 20.9384\n",
      "Epoch: 215/280\tloss: 10.7075\tval_loss: 20.9854\n",
      "Epoch: 216/280\tloss: 10.7010\tval_loss: 21.0133\n",
      "Epoch: 217/280\tloss: 10.6995\tval_loss: 20.9348\n",
      "Epoch: 218/280\tloss: 10.7001\tval_loss: 20.8739\n",
      "Epoch: 219/280\tloss: 10.6860\tval_loss: 20.9485\n",
      "Epoch: 220/280\tloss: 10.6760\tval_loss: 21.0045\n",
      "Epoch: 221/280\tloss: 10.6739\tval_loss: 20.9349\n",
      "Epoch: 222/280\tloss: 10.6728\tval_loss: 20.8795\n",
      "Epoch: 223/280\tloss: 10.6637\tval_loss: 20.9426\n",
      "Epoch: 224/280\tloss: 10.6584\tval_loss: 20.9751\n",
      "Epoch: 225/280\tloss: 10.6542\tval_loss: 20.9142\n",
      "Epoch: 226/280\tloss: 10.6495\tval_loss: 20.8727\n",
      "Epoch: 227/280\tloss: 10.6400\tval_loss: 20.9209\n",
      "Epoch: 228/280\tloss: 10.6347\tval_loss: 20.9559\n",
      "Epoch: 229/280\tloss: 10.6333\tval_loss: 20.9142\n",
      "Epoch: 230/280\tloss: 10.6276\tval_loss: 20.9058\n",
      "Epoch: 231/280\tloss: 10.6213\tval_loss: 20.9212\n",
      "Epoch: 232/280\tloss: 10.6172\tval_loss: 20.8978\n",
      "Epoch: 233/280\tloss: 10.6105\tval_loss: 20.9056\n",
      "Epoch: 234/280\tloss: 10.6032\tval_loss: 20.8890\n",
      "Epoch: 235/280\tloss: 10.6037\tval_loss: 20.8778\n",
      "Epoch: 236/280\tloss: 10.5971\tval_loss: 20.8988\n",
      "Epoch: 237/280\tloss: 10.5925\tval_loss: 20.8688\n",
      "Epoch: 238/280\tloss: 10.5859\tval_loss: 20.8865\n",
      "Epoch: 239/280\tloss: 10.5831\tval_loss: 20.8752\n",
      "Epoch: 240/280\tloss: 10.5798\tval_loss: 20.8417\n",
      "Epoch: 241/280\tloss: 10.5735\tval_loss: 20.8569\n",
      "Epoch: 242/280\tloss: 10.5697\tval_loss: 20.8439\n",
      "Epoch: 243/280\tloss: 10.5627\tval_loss: 20.8600\n",
      "Epoch: 244/280\tloss: 10.5616\tval_loss: 20.8273\n",
      "Epoch: 245/280\tloss: 10.5581\tval_loss: 20.8474\n",
      "Epoch: 246/280\tloss: 10.5502\tval_loss: 20.8476\n",
      "Epoch: 247/280\tloss: 10.5516\tval_loss: 20.8304\n",
      "Epoch: 248/280\tloss: 10.5494\tval_loss: 20.8512\n",
      "Epoch: 249/280\tloss: 10.5479\tval_loss: 20.8175\n",
      "Epoch: 250/280\tloss: 10.5357\tval_loss: 20.8065\n",
      "Epoch: 251/280\tloss: 10.5316\tval_loss: 20.8139\n",
      "Epoch: 252/280\tloss: 10.5343\tval_loss: 20.8050\n",
      "Epoch: 253/280\tloss: 10.5327\tval_loss: 20.7877\n",
      "Epoch: 254/280\tloss: 10.5195\tval_loss: 20.8102\n",
      "Epoch: 255/280\tloss: 10.5171\tval_loss: 20.8072\n",
      "Epoch: 256/280\tloss: 10.5216\tval_loss: 20.7832\n",
      "Epoch: 257/280\tloss: 10.5124\tval_loss: 20.7670\n",
      "Epoch: 258/280\tloss: 10.5108\tval_loss: 20.7278\n",
      "Epoch: 259/280\tloss: 10.5015\tval_loss: 20.7753\n",
      "Epoch: 260/280\tloss: 10.4957\tval_loss: 20.7560\n",
      "Epoch: 261/280\tloss: 10.4977\tval_loss: 20.7545\n",
      "Epoch: 262/280\tloss: 10.4908\tval_loss: 20.7780\n",
      "Epoch: 263/280\tloss: 10.4887\tval_loss: 20.7406\n",
      "Epoch: 264/280\tloss: 10.4825\tval_loss: 20.7640\n",
      "Epoch: 265/280\tloss: 10.4815\tval_loss: 20.7439\n",
      "Epoch: 266/280\tloss: 10.4795\tval_loss: 20.7258\n",
      "Epoch: 267/280\tloss: 10.4700\tval_loss: 20.7377\n",
      "Epoch: 268/280\tloss: 10.4707\tval_loss: 20.7259\n",
      "Epoch: 269/280\tloss: 10.4649\tval_loss: 20.7341\n",
      "Epoch: 270/280\tloss: 10.4649\tval_loss: 20.7193\n",
      "Epoch: 271/280\tloss: 10.4562\tval_loss: 20.7489\n",
      "Epoch: 272/280\tloss: 10.4574\tval_loss: 20.7214\n",
      "Epoch: 273/280\tloss: 10.4518\tval_loss: 20.7169\n",
      "Epoch: 274/280\tloss: 10.4478\tval_loss: 20.7157\n",
      "Epoch: 275/280\tloss: 10.4421\tval_loss: 20.7138\n",
      "Epoch: 276/280\tloss: 10.4437\tval_loss: 20.7060\n",
      "Epoch: 277/280\tloss: 10.4354\tval_loss: 20.7227\n",
      "Epoch: 278/280\tloss: 10.4337\tval_loss: 20.7107\n",
      "Epoch: 279/280\tloss: 10.4310\tval_loss: 20.7092\n",
      "Epoch: 280/280\tloss: 10.4312\tval_loss: 20.7040\n"
     ]
    }
   ],
   "source": [
    "torch.manual_seed(1)\n",
    "np.random.seed(51)\n",
    "\n",
    "epochs = 280\n",
    "\n",
    "use_cuda = torch.cuda.is_available()\n",
    "device = torch.device(\"cuda\" if use_cuda else \"cpu\")\n",
    "\n",
    "mean = tensor_x_train.mean(0)\n",
    "std = tensor_x_train.std(0)\n",
    "model = TurbofanModel(mean, std).to(device)\n",
    "\n",
    "criterion = nn.L1Loss() # mae\n",
    "optimizer = optim.Adam(model.parameters())\n",
    "\n",
    "history = {}\n",
    "history['epoch'] = []\n",
    "history['loss'] = []\n",
    "history['val_loss'] = []\n",
    "\n",
    "for epoch in range(1, epochs + 1):\n",
    "    train_loss = train(model, device, train_loader, optimizer, criterion)\n",
    "    val_loss = test(model, device, val_loader, criterion)\n",
    "\n",
    "    print('Epoch: {}/{}\\tloss: {:.4f}\\tval_loss: {:.4f}'.format(epoch, epochs, train_loss, val_loss))\n",
    "\n",
    "    history['epoch'].append(epoch)\n",
    "    history['loss'].append(train_loss)\n",
    "    history['val_loss'].append(val_loss)"
   ]
  },
  {
   "cell_type": "code",
   "execution_count": 17,
   "metadata": {
    "colab": {
     "base_uri": "https://localhost:8080/",
     "height": 302
    },
    "colab_type": "code",
    "executionInfo": {
     "elapsed": 66488,
     "status": "ok",
     "timestamp": 1582126853128,
     "user": {
      "displayName": "Matthias Lau",
      "photoUrl": "https://lh3.googleusercontent.com/a-/AAuE7mC6WRAXJoMqa4-OAv4EwNhkeeciSt5GDAExs2YBOg=s64",
      "userId": "11790472444495897059"
     },
     "user_tz": -60
    },
    "id": "Ygq-M1r_RLOT",
    "outputId": "615ad0e5-1445-44ec-beba-34bfc5b08eea",
    "tags": []
   },
   "outputs": [
    {
     "data": {
      "text/plain": [
       "<matplotlib.legend.Legend at 0x7ff4c802b710>"
      ]
     },
     "execution_count": 17,
     "metadata": {},
     "output_type": "execute_result"
    },
    {
     "data": {
      "image/png": "[encoded data removed]",
      "text/plain": [
       "<Figure size 640x480 with 1 Axes>"
      ]
     },
     "metadata": {},
     "output_type": "display_data"
    }
   ],
   "source": [
    "plt.figure()\n",
    "plt.xlabel('Epoch')\n",
    "plt.plot(history['epoch'], np.array(history['loss']), label='Train Loss')\n",
    "plt.plot(history['epoch'], np.array(history['val_loss']), label = 'Validation loss')\n",
    "plt.legend()"
   ]
  },
  {
   "cell_type": "markdown",
   "metadata": {
    "colab_type": "text",
    "id": "hKzWYHzmUX-C"
   },
   "source": [
    "## Model Evaluation"
   ]
  },
  {
   "cell_type": "code",
   "execution_count": 18,
   "metadata": {
    "colab": {
     "base_uri": "https://localhost:8080/",
     "height": 336
    },
    "colab_type": "code",
    "executionInfo": {
     "elapsed": 67746,
     "status": "ok",
     "timestamp": 1582126854416,
     "user": {
      "displayName": "Matthias Lau",
      "photoUrl": "https://lh3.googleusercontent.com/a-/AAuE7mC6WRAXJoMqa4-OAv4EwNhkeeciSt5GDAExs2YBOg=s64",
      "userId": "11790472444495897059"
     },
     "user_tz": -60
    },
    "id": "7OcTYtNhEizF",
    "outputId": "17a34af8-bab4-4d22-ced6-e18dab2d7db6",
    "tags": []
   },
   "outputs": [
    {
     "name": "stdout",
     "output_type": "stream",
     "text": [
      "Testing set RMSE:    21.76\n",
      "Validation set RMSE:   25.95\n",
      "Training set RMSE:   14.43\n"
     ]
    },
    {
     "name": "stderr",
     "output_type": "stream",
     "text": [
      "/usr/local/lib/python3.7/site-packages/ipykernel_launcher.py:15: UserWarning: \n",
      "\n",
      "`distplot` is a deprecated function and will be removed in seaborn v0.14.0.\n",
      "\n",
      "Please adapt your code to use either `displot` (a figure-level function with\n",
      "similar flexibility) or `histplot` (an axes-level function for histograms).\n",
      "\n",
      "For a guide to updating your code to use the new functions, please see\n",
      "https://gist.github.com/mwaskom/de44147ed2974457ad6372750bbe5751\n",
      "\n",
      "  from ipykernel import kernelapp as app\n",
      "/usr/local/lib/python3.7/site-packages/ipykernel_launcher.py:16: UserWarning: \n",
      "\n",
      "`distplot` is a deprecated function and will be removed in seaborn v0.14.0.\n",
      "\n",
      "Please adapt your code to use either `displot` (a figure-level function with\n",
      "similar flexibility) or `histplot` (an axes-level function for histograms).\n",
      "\n",
      "For a guide to updating your code to use the new functions, please see\n",
      "https://gist.github.com/mwaskom/de44147ed2974457ad6372750bbe5751\n",
      "\n",
      "  \n",
      "/usr/local/lib/python3.7/site-packages/ipykernel_launcher.py:17: UserWarning: \n",
      "\n",
      "`distplot` is a deprecated function and will be removed in seaborn v0.14.0.\n",
      "\n",
      "Please adapt your code to use either `displot` (a figure-level function with\n",
      "similar flexibility) or `histplot` (an axes-level function for histograms).\n",
      "\n",
      "For a guide to updating your code to use the new functions, please see\n",
      "https://gist.github.com/mwaskom/de44147ed2974457ad6372750bbe5751\n",
      "\n",
      "  app.launch_new_instance()\n"
     ]
    },
    {
     "data": {
      "image/png": "[encoded data removed]",
      "text/plain": [
       "<Figure size 640x480 with 1 Axes>"
      ]
     },
     "metadata": {},
     "output_type": "display_data"
    }
   ],
   "source": [
    "def plot_res(model, test_data, test_labels, val_data, val_labels, train_data, train_labels):\n",
    "    output_test = model(test_data).to('cpu')\n",
    "    rmse_test = root_mean_squared_error(test_labels, output_test)\n",
    "    output_val = model(val_data).to('cpu')\n",
    "    rmse_val = root_mean_squared_error(val_labels, output_val)\n",
    "    output_train = model(train_data).to('cpu')\n",
    "    rmse_train = root_mean_squared_error(train_labels, output_train)\n",
    "    print(\"Testing set RMSE:  {:7.2f}\".format(rmse_test))\n",
    "    print(\"Validation set RMSE: {:7.2f}\".format(rmse_val))\n",
    "    print(\"Training set RMSE: {:7.2f}\".format(rmse_train))\n",
    "\n",
    "    test_predictions = output_test.flatten()\n",
    "    val_predictions = output_val.flatten()\n",
    "    train_predictions = output_train.flatten()\n",
    "    sns.distplot(train_predictions - train_labels.flatten(), label = \"Train\")\n",
    "    sns.distplot(val_predictions - val_labels.flatten(), label = \"Val\")\n",
    "    sns.distplot(test_predictions - test_labels.flatten(), label = \"Test\")\n",
    "    plt.xlabel(\"Prediction Error\")\n",
    "    _ = plt.legend()\n",
    "\n",
    "model.eval()\n",
    "\n",
    "tensor_x_train, tensor_x_val, tensor_x_test = tensor_x_train.to(device), tensor_x_val.to(device), tensor_x_test.to(device)\n",
    "\n",
    "with torch.no_grad():\n",
    "    plot_res(model, tensor_x_test, tensor_y_test, tensor_x_val, tensor_y_val, tensor_x_train, tensor_y_train)"
   ]
  },
  {
   "cell_type": "markdown",
   "metadata": {
    "colab_type": "text",
    "id": "pLq7_EO36swu"
   },
   "source": [
    "## Save Model"
   ]
  },
  {
   "cell_type": "code",
   "execution_count": 21,
   "metadata": {
    "colab": {
     "base_uri": "https://localhost:8080/",
     "height": 71
    },
    "colab_type": "code",
    "executionInfo": {
     "elapsed": 67727,
     "status": "ok",
     "timestamp": 1582126854419,
     "user": {
      "displayName": "Matthias Lau",
      "photoUrl": "https://lh3.googleusercontent.com/a-/AAuE7mC6WRAXJoMqa4-OAv4EwNhkeeciSt5GDAExs2YBOg=s64",
      "userId": "11790472444495897059"
     },
     "user_tz": -60
    },
    "id": "o9BMgIO83MKE",
    "outputId": "7a69653e-cca2-41c0-f829-c186eb19f7d8",
    "tags": []
   },
   "outputs": [],
   "source": [
    "# save the model to use it for the federated trainer\n",
    "torch.save(model.to('cpu'), \"../models/turbofan_initial.pt\")"
   ]
  },
  {
   "cell_type": "code",
   "execution_count": null,
   "metadata": {
    "colab": {},
    "colab_type": "code",
    "id": "CdDev2Dy7sMc"
   },
   "outputs": [],
   "source": []
  },
  {
   "cell_type": "code",
   "execution_count": null,
   "metadata": {},
   "outputs": [],
   "source": []
  }
 ],
 "metadata": {
  "accelerator": "GPU",
  "colab": {
   "collapsed_sections": [],
   "name": "Federated_Learning_PySyft_InitialTraining.ipynb",
   "provenance": []
  },
  "kernelspec": {
   "display_name": "Python 3 (ipykernel)",
   "language": "python",
   "name": "python3"
  },
  "language_info": {
   "codemirror_mode": {
    "name": "ipython",
    "version": 3
   },
   "file_extension": ".py",
   "mimetype": "text/x-python",
   "name": "python",
   "nbconvert_exporter": "python",
   "pygments_lexer": "ipython3",
   "version": "3.7.6"
  }
 },
 "nbformat": 4,
 "nbformat_minor": 4
}
