{
 "cells": [
  {
   "cell_type": "markdown",
   "metadata": {
    "colab_type": "text",
    "id": "DGFrBsJOs8N6"
   },
   "source": [
    "# Turbofan POC - Initial Training and Model Serving\n",
    "\n",
    "This notebook is creating an initial model for predictions of the RUL for our turbofan engines."
   ]
  },
  {
   "cell_type": "markdown",
   "metadata": {
    "colab_type": "text",
    "id": "teKaiaP8A-pN"
   },
   "source": [
    "## Imports and Data Preprocessing"
   ]
  },
  {
   "cell_type": "code",
   "execution_count": null,
   "metadata": {
    "colab": {
     "base_uri": "https://localhost:8080/",
     "height": 156
    },
    "colab_type": "code",
    "executionInfo": {
     "elapsed": 26981,
     "status": "ok",
     "timestamp": 1582126813186,
     "user": {
      "displayName": "Matthias Lau",
      "photoUrl": "https://lh3.googleusercontent.com/a-/AAuE7mC6WRAXJoMqa4-OAv4EwNhkeeciSt5GDAExs2YBOg=s64",
      "userId": "11790472444495897059"
     },
     "user_tz": -60
    },
    "id": "1Krj0J83x5O8",
    "outputId": "1b4a0cea-c47e-41e9-82a2-9b816e3765e9",
    "tags": []
   },
   "outputs": [],
   "source": [
    "# check if we are inside google colab\n",
    "try:\n",
    "    from google.colab import drive\n",
    "    # mount gdrive for importing the data\n",
    "    drive.mount('/content/gdrive', force_remount=True)\n",
    "    # change this path to your notebooks directory inside google drive\n",
    "    %cd /content/gdrive/My\\ Drive/dev/turbofan_poc/notebooks\n",
    "\n",
    "    # set tensorflow version\n",
    "    %tensorflow_version 2.x\n",
    "except:\n",
    "    pass"
   ]
  },
  {
   "cell_type": "code",
   "execution_count": 5,
   "metadata": {
    "colab": {},
    "colab_type": "code",
    "id": "N61mNrV80NVr",
    "tags": []
   },
   "outputs": [],
   "source": [
    "import os\n",
    "import numpy as np\n",
    "import pandas as pd\n",
    "\n",
    "import torch\n",
    "import torch.nn as nn\n",
    "import torch.nn.functional as F\n",
    "import torch.optim as optim\n",
    "\n",
    "import seaborn as sns\n",
    "import matplotlib.pyplot as plt\n",
    "from amdex import *\n",
    "\n",
    "sns.set()"
   ]
  },
  {
   "cell_type": "code",
   "execution_count": 8,
   "metadata": {
    "colab": {},
    "colab_type": "code",
    "id": "RICPXgLi0g0R",
    "tags": []
   },
   "outputs": [],
   "source": [
    "# load the data \n",
    "data_folder_path = '../localstorage-engine2/'\n",
    "model_data_path = '../localstorage-engine2/train_data_worker_2.txt'\n",
    "\n",
    "train_data_path = os.path.join(data_folder_path, 'train_data_worker_2.txt')\n",
    "train_data = pd.read_csv(train_data_path)\n",
    "train_data.set_index('time_in_cycles')\n",
    "\n",
    "val_data_path = os.path.join(data_folder_path, 'test_data_val.txt')\n",
    "val_data = pd.read_csv(val_data_path)\n",
    "val_data.set_index('time_in_cycles')\n",
    "\n",
    "test_data_path = os.path.join(data_folder_path, 'test_data_test.txt')\n",
    "test_data = pd.read_csv(test_data_path)\n",
    "test_data.set_index('time_in_cycles')\n",
    "\n",
    "# retrieve the max cycles per engine: RUL\n",
    "train_rul = pd.DataFrame(train_data.groupby('engine_no')['time_in_cycles'].max()).reset_index()\n",
    "# merge the RULs into the training data\n",
    "train_rul.columns = ['engine_no', 'max']\n",
    "train_data = train_data.merge(train_rul, on=['engine_no'], how='left')\n",
    "# add the current RUL for every cycle\n",
    "train_data['RUL'] = train_data['max'] - train_data['time_in_cycles']\n",
    "train_data.drop('max', axis=1, inplace=True)\n",
    "\n",
    "# test and validation data already contains the RUL values\n",
    "\n",
    "# drop the columns not needed\n",
    "cols_nan = train_data.columns[train_data.isna().any()].tolist()\n",
    "cols_const = [ col for col in train_data.columns if len(train_data[col].unique()) <= 2 ]\n",
    "\n",
    "# The operational settings 1 and 2 don´t have a trend and they look like random noise.\n",
    "# Sensors 11, 12, 13 could be removed due to high correlations but it should be tested.\n",
    "# The trend of sensors 9 and 14 depend on the specific engine. Some engines at the end\n",
    "# of life tend to increase while others tend to decrease. What is common about these\n",
    "# two sensors is that the magnitude at the end life gets amplified. We should try\n",
    "# removing both sensors.\n",
    "cols_irrelevant = ['operational_setting_1', 'operational_setting_2', 'sensor_measurement_11', 'sensor_measurement_12', 'sensor_measurement_13']\n",
    "\n",
    "# Drop the columns without or with constant data\n",
    "train_data = train_data.drop(columns=cols_const + cols_nan + cols_irrelevant)\n",
    "val_data = val_data.drop(columns=cols_const + cols_nan + cols_irrelevant)\n",
    "test_data = test_data.drop(columns=cols_const + cols_nan + cols_irrelevant)"
   ]
  },
  {
   "cell_type": "markdown",
   "metadata": {
    "colab_type": "text",
    "id": "S58onfDNdAmc",
    "tags": []
   },
   "source": [
    "## Permission Acquisition"
   ]
  },
  {
   "cell_type": "markdown",
   "metadata": {
    "colab_type": "text",
    "id": "S58onfDNdAmc"
   },
   "source": [
    "<!-- permission = amdex.training_can_be_executed(userid, datasets[], 'algo description')\n",
    "if(permission):\n",
    "    print(\"training can proceed\")\n",
    "else:\n",
    "    print(\"permission denied\") -->"
   ]
  },
  {
   "cell_type": "markdown",
   "metadata": {
    "colab_type": "text",
    "id": "S58onfDNdAmc"
   },
   "source": [
    "## Data Preparation"
   ]
  },
  {
   "cell_type": "code",
   "execution_count": 9,
   "metadata": {
    "colab": {},
    "colab_type": "code",
    "id": "fvj4QbzCXZCT",
    "tags": []
   },
   "outputs": [],
   "source": [
    "# define the columns for training\n",
    "train_data_inputs = train_data.copy()\n",
    "train_data_inputs.drop(columns=['RUL', 'engine_no', 'time_in_cycles'], inplace=True)\n",
    "training_columns = train_data_inputs.columns"
   ]
  },
  {
   "cell_type": "markdown",
   "metadata": {
    "colab_type": "text",
    "id": "1lQGejNWjwWO"
   },
   "source": [
    "### Windowing"
   ]
  },
  {
   "cell_type": "markdown",
   "metadata": {
    "colab_type": "text",
    "id": "KLyLG86M0Ffn"
   },
   "source": [
    "To do our model training we split the data from an engine into rolling windows so we have the dimensions (total number of rows, time steps per window, feature columns).\n",
    "\n",
    "*Engine x for window size 3:*\n",
    "\n",
    "```\n",
    "[1 2 3 4 5 6] -> [1 2 3], [2 3 4], [3 4 5], [4 5 6]\n",
    "```\n",
    "\n",
    "As labels we pick the RUL of the last value in the windowed sequence."
   ]
  },
  {
   "cell_type": "markdown",
   "metadata": {
    "colab_type": "text",
    "id": "Vt4z-bc_0Yr1"
   },
   "source": [
    "By splitting the data into windows we have to drop data samples that are smaller than the window size. This especially means we can not predict RUL values for smaller time series of engine data. An alternative would be to pad sequences so that we can use shorter ones."
   ]
  },
  {
   "cell_type": "code",
   "execution_count": 10,
   "metadata": {
    "colab": {},
    "colab_type": "code",
    "id": "D6hSngDtXC-f",
    "tags": []
   },
   "outputs": [],
   "source": [
    "WINDOW_SIZE = 80\n",
    "BATCH_SIZE = 210"
   ]
  },
  {
   "cell_type": "code",
   "execution_count": 11,
   "metadata": {
    "colab": {},
    "colab_type": "code",
    "id": "YWz7of5dXSr8",
    "tags": []
   },
   "outputs": [],
   "source": [
    "def transform_to_windowed_data(dataset, window_size, window_limit = 0, verbose = True):\n",
    "  \"\"\"Transform the dataset into input windows with a label.\n",
    "\n",
    "  Args:\n",
    "      dataset (DataFrame): The dataset to tranform.\n",
    "      window_size (int): The length of the windows to create.\n",
    "      window_limit (int): The max windows to create for a data subset.\n",
    "\n",
    "  Returns:\n",
    "      (numpy.array, numpy.array): A tuple of features and labels.\n",
    "  \"\"\"\n",
    "  features = []\n",
    "  labels = []\n",
    "\n",
    "  dataset = dataset.set_index('time_in_cycles')\n",
    "  data_per_engine = dataset.groupby('engine_no')\n",
    "\n",
    "  for engine_no, engine_data in data_per_engine:\n",
    "      # skip if the engines cycles are too few\n",
    "      if len(engine_data) < window_size + window_limit -1:\n",
    "        continue\n",
    "\n",
    "      if window_limit != 0:\n",
    "        window_count = window_limit\n",
    "      else:\n",
    "        window_count = len(engine_data) - window_size\n",
    "\n",
    "      for i in range(0, window_count):\n",
    "        # take the last x cycles where x is the window size\n",
    "        start = -window_size - i\n",
    "        end = len(engine_data) - i\n",
    "        inputs = engine_data.iloc[start:end]\n",
    "        # use the RUL of the last cycle as label\n",
    "        outputs = engine_data.iloc[end - 1, -1]\n",
    "\n",
    "        inputs = inputs.drop(['engine_no', 'RUL'], axis=1)\n",
    "\n",
    "        features.append(inputs.values)\n",
    "        labels.append(outputs)\n",
    "\n",
    "  features = np.array(features)\n",
    "  labels = np.array(labels)\n",
    "  labels = np.expand_dims(labels, axis=1)\n",
    "\n",
    "  if verbose:\n",
    "    print(\"{} features with shape {}\".format(len(features), features[0].shape))\n",
    "    print(\"{} labels with shape {}\".format(len(labels), labels.shape))\n",
    "\n",
    "  return features, labels"
   ]
  },
  {
   "cell_type": "code",
   "execution_count": 12,
   "metadata": {
    "colab": {
     "base_uri": "https://localhost:8080/",
     "height": 119
    },
    "colab_type": "code",
    "executionInfo": {
     "elapsed": 41696,
     "status": "ok",
     "timestamp": 1582126828101,
     "user": {
      "displayName": "Matthias Lau",
      "photoUrl": "https://lh3.googleusercontent.com/a-/AAuE7mC6WRAXJoMqa4-OAv4EwNhkeeciSt5GDAExs2YBOg=s64",
      "userId": "11790472444495897059"
     },
     "user_tz": -60
    },
    "id": "NZR_quyYaept",
    "outputId": "771aa845-d484-4225-ff52-36388f5e166e",
    "tags": []
   },
   "outputs": [
    {
     "name": "stdout",
     "output_type": "stream",
     "text": [
      "4063 features with shape (80, 11)\n",
      "4063 labels with shape (4063, 1)\n",
      "2601 features with shape (80, 11)\n",
      "2601 labels with shape (2601, 1)\n",
      "2982 features with shape (80, 11)\n",
      "2982 labels with shape (2982, 1)\n"
     ]
    }
   ],
   "source": [
    "x_train, y_train = transform_to_windowed_data(train_data, WINDOW_SIZE)\n",
    "x_val, y_val = transform_to_windowed_data(val_data, WINDOW_SIZE)\n",
    "x_test, y_test = transform_to_windowed_data(test_data, WINDOW_SIZE)"
   ]
  },
  {
   "cell_type": "markdown",
   "metadata": {
    "colab_type": "text",
    "id": "QQV2DnpgddIq",
    "tags": []
   },
   "source": [
    "### Standardization"
   ]
  },
  {
   "cell_type": "markdown",
   "metadata": {
    "colab_type": "text",
    "id": "Gi5NG6Vfw-yW"
   },
   "source": [
    "The data scaling will be embedded in the model so it could be easily applied to inference as well."
   ]
  },
  {
   "cell_type": "markdown",
   "metadata": {
    "colab_type": "text",
    "id": "HP84vJPW2m0I"
   },
   "source": [
    "### Response Clipping"
   ]
  },
  {
   "cell_type": "markdown",
   "metadata": {
    "colab_type": "text",
    "id": "IaMkCZCH2zpV"
   },
   "source": [
    "Since the degradation in a system will generally remain negligible until after some period of operation time the early and higher RUL values are probably unreasonable. We could tackle this by clipping the RUL values.\n",
    "\n",
    "That means we are fine with our model not correctly predicting RUL values above the *rul_clip_limit*. The model will still correctly identify that these engines but it is kind of cheating as the error for these engines improves."
   ]
  },
  {
   "cell_type": "code",
   "execution_count": 13,
   "metadata": {
    "colab": {},
    "colab_type": "code",
    "id": "qsK2hp6w2uLj",
    "tags": []
   },
   "outputs": [],
   "source": [
    "# clip RUL values\n",
    "rul_clip_limit = 110\n",
    "\n",
    "y_train = y_train.clip(max=rul_clip_limit)\n",
    "y_val = y_val.clip(max=rul_clip_limit)\n",
    "y_test = y_test.clip(max=rul_clip_limit)"
   ]
  },
  {
   "cell_type": "markdown",
   "metadata": {
    "colab_type": "text",
    "id": "gh2YaxoKsHiB"
   },
   "source": [
    "## Model Training"
   ]
  },
  {
   "cell_type": "markdown",
   "metadata": {
    "colab_type": "text",
    "id": "d9dwxhK5a0i6"
   },
   "source": [
    "### Helpers"
   ]
  },
  {
   "cell_type": "code",
   "execution_count": 14,
   "metadata": {
    "colab": {},
    "colab_type": "code",
    "id": "hREayPLsHGzA",
    "tags": []
   },
   "outputs": [],
   "source": [
    "# RMSE implementation\n",
    "def root_mean_squared_error(y_true, y_pred):\n",
    "    return np.sqrt(((y_true - y_pred) ** 2).mean())"
   ]
  },
  {
   "cell_type": "markdown",
   "metadata": {
    "colab_type": "text",
    "id": "9YgTLRF4avmo"
   },
   "source": [
    "### Model Definition"
   ]
  },
  {
   "cell_type": "code",
   "execution_count": 15,
   "metadata": {
    "colab": {},
    "colab_type": "code",
    "id": "geHwiNH1LmE4",
    "tags": []
   },
   "outputs": [],
   "source": [
    "class TurbofanModel(nn.Module):\n",
    "    def __init__(self, train_mean, train_std):\n",
    "        super().__init__()\n",
    "        \n",
    "        self.train_mean = train_mean\n",
    "        self.train_std = train_std\n",
    "\n",
    "        self.fc1 = nn.Linear(len(training_columns), 24)\n",
    "        self.fc2 = nn.Linear(24, 24)\n",
    "        self.fc3 = nn.Linear(24, 24)\n",
    "        self.fc4 = nn.Linear(24, 1)\n",
    "\n",
    "    def to(self, device):\n",
    "        super().to(device)\n",
    "        self.train_mean = self.train_mean.to(device)\n",
    "        self.train_std = self.train_std.to(device)\n",
    "        \n",
    "        return self\n",
    "        \n",
    "    def forward(self, x):\n",
    "        # scale the input\n",
    "        x = (x - self.train_mean) / self.train_std\n",
    "\n",
    "        x = F.relu(self.fc1(x))\n",
    "        x = F.relu(self.fc2(x))\n",
    "        x = F.relu(self.fc3(x))\n",
    "        x = self.fc4(x)\n",
    "        x = x[:, -1, :]\n",
    "        \n",
    "        return x"
   ]
  },
  {
   "cell_type": "markdown",
   "metadata": {
    "colab_type": "text",
    "id": "WSJfEvrZdUwD"
   },
   "source": [
    "### Prepare Data Loader"
   ]
  },
  {
   "cell_type": "code",
   "execution_count": 16,
   "metadata": {
    "colab": {},
    "colab_type": "code",
    "id": "UmkrWZgRfxQ1",
    "tags": []
   },
   "outputs": [],
   "source": [
    "# transform to torch tensor\n",
    "tensor_x_train = torch.Tensor(x_train)\n",
    "tensor_y_train = torch.Tensor(y_train)\n",
    "tensor_x_val = torch.Tensor(x_val)\n",
    "tensor_y_val = torch.Tensor(y_val)\n",
    "tensor_x_test = torch.Tensor(x_test)\n",
    "tensor_y_test = torch.Tensor(y_test)\n",
    "\n",
    "# create datasets for train, test and validation\n",
    "train_dataset = torch.utils.data.TensorDataset(tensor_x_train, tensor_y_train)\n",
    "val_dataset = torch.utils.data.TensorDataset(tensor_x_val, tensor_y_val)\n",
    "test_dataset = torch.utils.data.TensorDataset(tensor_x_test, tensor_y_test)\n",
    "\n",
    "# create data loaders\n",
    "train_loader = torch.utils.data.DataLoader(train_dataset, batch_size=BATCH_SIZE)\n",
    "val_loader = torch.utils.data.DataLoader(val_dataset, batch_size=BATCH_SIZE)\n",
    "test_loader = torch.utils.data.DataLoader(test_dataset, batch_size=BATCH_SIZE)"
   ]
  },
  {
   "cell_type": "markdown",
   "metadata": {
    "colab_type": "text",
    "id": "mBCUoRAZd4ZE"
   },
   "source": [
    "### Initial Training"
   ]
  },
  {
   "cell_type": "code",
   "execution_count": 17,
   "metadata": {
    "colab": {},
    "colab_type": "code",
    "id": "KvrLlKWgLp2u",
    "tags": []
   },
   "outputs": [],
   "source": [
    "def train(model, device, train_loader, optimizer, criterion):\n",
    "    model.train()\n",
    "\n",
    "    running_loss = 0\n",
    "\n",
    "    for batch_idx, (data, target) in enumerate(train_loader):\n",
    "        data, target = data.to(device), target.to(device)\n",
    "        optimizer.zero_grad()\n",
    "\n",
    "        output = model(data)\n",
    "\n",
    "        loss = criterion(output, target)\n",
    "        loss.backward()\n",
    "        optimizer.step()\n",
    "\n",
    "        running_loss += loss.item() * data.size(0)\n",
    "\n",
    "    epoch_loss = running_loss / len(train_loader.dataset)\n",
    "    \n",
    "    return epoch_loss"
   ]
  },
  {
   "cell_type": "code",
   "execution_count": 18,
   "metadata": {
    "colab": {},
    "colab_type": "code",
    "id": "O1ANRoq_JRF8",
    "tags": []
   },
   "outputs": [],
   "source": [
    "def test(model, device, test_loader, criterion):\n",
    "    model.eval()\n",
    "\n",
    "    test_loss = 0\n",
    "\n",
    "    with torch.no_grad():\n",
    "        for data, target in test_loader:\n",
    "            data, target = data.to(device), target.to(device)\n",
    "\n",
    "            output = model(data)\n",
    "\n",
    "            test_loss += criterion(output, target).item() * data.size(0)\n",
    "\n",
    "    test_loss /= len(test_loader.dataset)\n",
    "\n",
    "    return test_loss"
   ]
  },
  {
   "cell_type": "code",
   "execution_count": 19,
   "metadata": {
    "colab": {
     "base_uri": "https://localhost:8080/",
     "height": 1000
    },
    "colab_type": "code",
    "executionInfo": {
     "elapsed": 66010,
     "status": "ok",
     "timestamp": 1582126852618,
     "user": {
      "displayName": "Matthias Lau",
      "photoUrl": "https://lh3.googleusercontent.com/a-/AAuE7mC6WRAXJoMqa4-OAv4EwNhkeeciSt5GDAExs2YBOg=s64",
      "userId": "11790472444495897059"
     },
     "user_tz": -60
    },
    "id": "lqghpzITGwnd",
    "outputId": "248bc826-8389-44dc-d2b5-d565f913ceb6",
    "tags": []
   },
   "outputs": [
    {
     "name": "stdout",
     "output_type": "stream",
     "text": [
      "Epoch: 1/280\tloss: 65.8330\tval_loss: 84.1143\n",
      "Epoch: 2/280\tloss: 65.6533\tval_loss: 83.7874\n",
      "Epoch: 3/280\tloss: 65.0477\tval_loss: 82.6317\n",
      "Epoch: 4/280\tloss: 63.2331\tval_loss: 79.1026\n",
      "Epoch: 5/280\tloss: 59.0769\tval_loss: 70.6945\n",
      "Epoch: 6/280\tloss: 51.3779\tval_loss: 54.0049\n",
      "Epoch: 7/280\tloss: 36.6313\tval_loss: 29.0319\n",
      "Epoch: 8/280\tloss: 24.8366\tval_loss: 27.7214\n",
      "Epoch: 9/280\tloss: 24.0503\tval_loss: 25.1217\n",
      "Epoch: 10/280\tloss: 22.5613\tval_loss: 23.6646\n",
      "Epoch: 11/280\tloss: 21.4553\tval_loss: 22.7100\n",
      "Epoch: 12/280\tloss: 20.6386\tval_loss: 21.8828\n",
      "Epoch: 13/280\tloss: 19.9205\tval_loss: 21.2174\n",
      "Epoch: 14/280\tloss: 19.2515\tval_loss: 20.6599\n",
      "Epoch: 15/280\tloss: 18.6311\tval_loss: 20.1412\n",
      "Epoch: 16/280\tloss: 18.0111\tval_loss: 19.6395\n",
      "Epoch: 17/280\tloss: 17.3717\tval_loss: 19.1946\n",
      "Epoch: 18/280\tloss: 16.7575\tval_loss: 18.7627\n",
      "Epoch: 19/280\tloss: 16.1712\tval_loss: 18.3325\n",
      "Epoch: 20/280\tloss: 15.6276\tval_loss: 17.9167\n",
      "Epoch: 21/280\tloss: 15.1445\tval_loss: 17.5534\n",
      "Epoch: 22/280\tloss: 14.7083\tval_loss: 17.2193\n",
      "Epoch: 23/280\tloss: 14.3114\tval_loss: 16.9630\n",
      "Epoch: 24/280\tloss: 13.9818\tval_loss: 16.7062\n",
      "Epoch: 25/280\tloss: 13.7106\tval_loss: 16.4961\n",
      "Epoch: 26/280\tloss: 13.4956\tval_loss: 16.3066\n",
      "Epoch: 27/280\tloss: 13.3134\tval_loss: 16.1903\n",
      "Epoch: 28/280\tloss: 13.1674\tval_loss: 16.0781\n",
      "Epoch: 29/280\tloss: 13.0505\tval_loss: 15.9715\n",
      "Epoch: 30/280\tloss: 12.9444\tval_loss: 15.8994\n",
      "Epoch: 31/280\tloss: 12.8605\tval_loss: 15.8045\n",
      "Epoch: 32/280\tloss: 12.7797\tval_loss: 15.7625\n",
      "Epoch: 33/280\tloss: 12.7197\tval_loss: 15.6915\n",
      "Epoch: 34/280\tloss: 12.6690\tval_loss: 15.6279\n",
      "Epoch: 35/280\tloss: 12.6157\tval_loss: 15.5913\n",
      "Epoch: 36/280\tloss: 12.5718\tval_loss: 15.5658\n",
      "Epoch: 37/280\tloss: 12.5394\tval_loss: 15.5176\n",
      "Epoch: 38/280\tloss: 12.5028\tval_loss: 15.4890\n",
      "Epoch: 39/280\tloss: 12.4731\tval_loss: 15.4556\n",
      "Epoch: 40/280\tloss: 12.4399\tval_loss: 15.4350\n",
      "Epoch: 41/280\tloss: 12.4130\tval_loss: 15.4133\n",
      "Epoch: 42/280\tloss: 12.3958\tval_loss: 15.3750\n",
      "Epoch: 43/280\tloss: 12.3670\tval_loss: 15.3599\n",
      "Epoch: 44/280\tloss: 12.3456\tval_loss: 15.3427\n",
      "Epoch: 45/280\tloss: 12.3248\tval_loss: 15.3280\n",
      "Epoch: 46/280\tloss: 12.3081\tval_loss: 15.3063\n",
      "Epoch: 47/280\tloss: 12.2896\tval_loss: 15.3046\n",
      "Epoch: 48/280\tloss: 12.2790\tval_loss: 15.2618\n",
      "Epoch: 49/280\tloss: 12.2553\tval_loss: 15.2619\n",
      "Epoch: 50/280\tloss: 12.2457\tval_loss: 15.2343\n",
      "Epoch: 51/280\tloss: 12.2290\tval_loss: 15.2267\n",
      "Epoch: 52/280\tloss: 12.2168\tval_loss: 15.2020\n",
      "Epoch: 53/280\tloss: 12.1997\tval_loss: 15.2015\n",
      "Epoch: 54/280\tloss: 12.1880\tval_loss: 15.1890\n",
      "Epoch: 55/280\tloss: 12.1750\tval_loss: 15.1795\n",
      "Epoch: 56/280\tloss: 12.1604\tval_loss: 15.1715\n",
      "Epoch: 57/280\tloss: 12.1508\tval_loss: 15.1554\n",
      "Epoch: 58/280\tloss: 12.1385\tval_loss: 15.1443\n",
      "Epoch: 59/280\tloss: 12.1287\tval_loss: 15.1382\n",
      "Epoch: 60/280\tloss: 12.1215\tval_loss: 15.1225\n",
      "Epoch: 61/280\tloss: 12.1101\tval_loss: 15.1083\n",
      "Epoch: 62/280\tloss: 12.1037\tval_loss: 15.1038\n",
      "Epoch: 63/280\tloss: 12.0941\tval_loss: 15.1074\n",
      "Epoch: 64/280\tloss: 12.0866\tval_loss: 15.0844\n",
      "Epoch: 65/280\tloss: 12.0725\tval_loss: 15.0719\n",
      "Epoch: 66/280\tloss: 12.0651\tval_loss: 15.0749\n",
      "Epoch: 67/280\tloss: 12.0544\tval_loss: 15.0721\n",
      "Epoch: 68/280\tloss: 12.0551\tval_loss: 15.0612\n",
      "Epoch: 69/280\tloss: 12.0409\tval_loss: 15.0502\n",
      "Epoch: 70/280\tloss: 12.0359\tval_loss: 15.0621\n",
      "Epoch: 71/280\tloss: 12.0343\tval_loss: 15.0314\n",
      "Epoch: 72/280\tloss: 12.0203\tval_loss: 15.0331\n",
      "Epoch: 73/280\tloss: 12.0121\tval_loss: 15.0288\n",
      "Epoch: 74/280\tloss: 12.0074\tval_loss: 15.0279\n",
      "Epoch: 75/280\tloss: 12.0020\tval_loss: 15.0182\n",
      "Epoch: 76/280\tloss: 11.9926\tval_loss: 15.0167\n",
      "Epoch: 77/280\tloss: 11.9907\tval_loss: 15.0006\n",
      "Epoch: 78/280\tloss: 11.9829\tval_loss: 15.0103\n",
      "Epoch: 79/280\tloss: 11.9788\tval_loss: 14.9947\n",
      "Epoch: 80/280\tloss: 11.9708\tval_loss: 14.9847\n",
      "Epoch: 81/280\tloss: 11.9668\tval_loss: 14.9842\n",
      "Epoch: 82/280\tloss: 11.9603\tval_loss: 14.9744\n",
      "Epoch: 83/280\tloss: 11.9549\tval_loss: 14.9678\n",
      "Epoch: 84/280\tloss: 11.9493\tval_loss: 14.9673\n",
      "Epoch: 85/280\tloss: 11.9460\tval_loss: 14.9641\n",
      "Epoch: 86/280\tloss: 11.9368\tval_loss: 14.9589\n",
      "Epoch: 87/280\tloss: 11.9339\tval_loss: 14.9539\n",
      "Epoch: 88/280\tloss: 11.9293\tval_loss: 14.9557\n",
      "Epoch: 89/280\tloss: 11.9267\tval_loss: 14.9533\n",
      "Epoch: 90/280\tloss: 11.9174\tval_loss: 14.9392\n",
      "Epoch: 91/280\tloss: 11.9135\tval_loss: 14.9406\n",
      "Epoch: 92/280\tloss: 11.9064\tval_loss: 14.9347\n",
      "Epoch: 93/280\tloss: 11.9008\tval_loss: 14.9312\n",
      "Epoch: 94/280\tloss: 11.8962\tval_loss: 14.9223\n",
      "Epoch: 95/280\tloss: 11.8907\tval_loss: 14.9232\n",
      "Epoch: 96/280\tloss: 11.8871\tval_loss: 14.9161\n",
      "Epoch: 97/280\tloss: 11.8810\tval_loss: 14.9208\n",
      "Epoch: 98/280\tloss: 11.8783\tval_loss: 14.9075\n",
      "Epoch: 99/280\tloss: 11.8707\tval_loss: 14.9090\n",
      "Epoch: 100/280\tloss: 11.8663\tval_loss: 14.9037\n",
      "Epoch: 101/280\tloss: 11.8624\tval_loss: 14.9087\n",
      "Epoch: 102/280\tloss: 11.8585\tval_loss: 14.9008\n",
      "Epoch: 103/280\tloss: 11.8531\tval_loss: 14.8936\n",
      "Epoch: 104/280\tloss: 11.8490\tval_loss: 14.8863\n",
      "Epoch: 105/280\tloss: 11.8427\tval_loss: 14.8813\n",
      "Epoch: 106/280\tloss: 11.8389\tval_loss: 14.8802\n",
      "Epoch: 107/280\tloss: 11.8345\tval_loss: 14.8729\n",
      "Epoch: 108/280\tloss: 11.8297\tval_loss: 14.8734\n",
      "Epoch: 109/280\tloss: 11.8248\tval_loss: 14.8692\n",
      "Epoch: 110/280\tloss: 11.8193\tval_loss: 14.8667\n",
      "Epoch: 111/280\tloss: 11.8140\tval_loss: 14.8609\n",
      "Epoch: 112/280\tloss: 11.8084\tval_loss: 14.8654\n",
      "Epoch: 113/280\tloss: 11.8066\tval_loss: 14.8551\n",
      "Epoch: 114/280\tloss: 11.7990\tval_loss: 14.8642\n",
      "Epoch: 115/280\tloss: 11.7997\tval_loss: 14.8534\n",
      "Epoch: 116/280\tloss: 11.7932\tval_loss: 14.8639\n",
      "Epoch: 117/280\tloss: 11.7918\tval_loss: 14.8455\n",
      "Epoch: 118/280\tloss: 11.7835\tval_loss: 14.8479\n",
      "Epoch: 119/280\tloss: 11.7822\tval_loss: 14.8458\n",
      "Epoch: 120/280\tloss: 11.7774\tval_loss: 14.8473\n",
      "Epoch: 121/280\tloss: 11.7739\tval_loss: 14.8348\n",
      "Epoch: 122/280\tloss: 11.7681\tval_loss: 14.8383\n",
      "Epoch: 123/280\tloss: 11.7641\tval_loss: 14.8346\n",
      "Epoch: 124/280\tloss: 11.7589\tval_loss: 14.8363\n",
      "Epoch: 125/280\tloss: 11.7534\tval_loss: 14.8344\n",
      "Epoch: 126/280\tloss: 11.7521\tval_loss: 14.8277\n",
      "Epoch: 127/280\tloss: 11.7458\tval_loss: 14.8334\n",
      "Epoch: 128/280\tloss: 11.7452\tval_loss: 14.8226\n",
      "Epoch: 129/280\tloss: 11.7389\tval_loss: 14.8278\n",
      "Epoch: 130/280\tloss: 11.7412\tval_loss: 14.8211\n",
      "Epoch: 131/280\tloss: 11.7328\tval_loss: 14.8217\n",
      "Epoch: 132/280\tloss: 11.7333\tval_loss: 14.8183\n",
      "Epoch: 133/280\tloss: 11.7299\tval_loss: 14.8238\n",
      "Epoch: 134/280\tloss: 11.7263\tval_loss: 14.8093\n",
      "Epoch: 135/280\tloss: 11.7225\tval_loss: 14.8180\n",
      "Epoch: 136/280\tloss: 11.7221\tval_loss: 14.8086\n",
      "Epoch: 137/280\tloss: 11.7183\tval_loss: 14.8065\n",
      "Epoch: 138/280\tloss: 11.7168\tval_loss: 14.8021\n",
      "Epoch: 139/280\tloss: 11.7119\tval_loss: 14.7987\n",
      "Epoch: 140/280\tloss: 11.7101\tval_loss: 14.7971\n",
      "Epoch: 141/280\tloss: 11.7100\tval_loss: 14.7925\n",
      "Epoch: 142/280\tloss: 11.7048\tval_loss: 14.7919\n",
      "Epoch: 143/280\tloss: 11.7024\tval_loss: 14.7857\n",
      "Epoch: 144/280\tloss: 11.6989\tval_loss: 14.7867\n",
      "Epoch: 145/280\tloss: 11.6966\tval_loss: 14.7767\n",
      "Epoch: 146/280\tloss: 11.6937\tval_loss: 14.7747\n",
      "Epoch: 147/280\tloss: 11.6929\tval_loss: 14.7775\n",
      "Epoch: 148/280\tloss: 11.6918\tval_loss: 14.7653\n",
      "Epoch: 149/280\tloss: 11.6855\tval_loss: 14.7718\n",
      "Epoch: 150/280\tloss: 11.6874\tval_loss: 14.7673\n",
      "Epoch: 151/280\tloss: 11.6827\tval_loss: 14.7597\n",
      "Epoch: 152/280\tloss: 11.6797\tval_loss: 14.7649\n",
      "Epoch: 153/280\tloss: 11.6790\tval_loss: 14.7630\n",
      "Epoch: 154/280\tloss: 11.6767\tval_loss: 14.7436\n",
      "Epoch: 155/280\tloss: 11.6715\tval_loss: 14.8073\n",
      "Epoch: 156/280\tloss: 11.6752\tval_loss: 14.7519\n",
      "Epoch: 157/280\tloss: 11.6704\tval_loss: 14.7596\n",
      "Epoch: 158/280\tloss: 11.6650\tval_loss: 14.7039\n",
      "Epoch: 159/280\tloss: 11.7397\tval_loss: 14.8395\n",
      "Epoch: 160/280\tloss: 11.6926\tval_loss: 14.7943\n",
      "Epoch: 161/280\tloss: 11.6857\tval_loss: 14.7941\n",
      "Epoch: 162/280\tloss: 11.6777\tval_loss: 14.7860\n",
      "Epoch: 163/280\tloss: 11.6727\tval_loss: 14.7736\n",
      "Epoch: 164/280\tloss: 11.6661\tval_loss: 14.7694\n",
      "Epoch: 165/280\tloss: 11.6584\tval_loss: 14.7678\n",
      "Epoch: 166/280\tloss: 11.6526\tval_loss: 14.7595\n",
      "Epoch: 167/280\tloss: 11.6435\tval_loss: 14.7407\n",
      "Epoch: 168/280\tloss: 11.6361\tval_loss: 14.7491\n",
      "Epoch: 169/280\tloss: 11.6370\tval_loss: 14.7339\n",
      "Epoch: 170/280\tloss: 11.6315\tval_loss: 14.7416\n",
      "Epoch: 171/280\tloss: 11.6298\tval_loss: 14.7422\n",
      "Epoch: 172/280\tloss: 11.6307\tval_loss: 14.7327\n",
      "Epoch: 173/280\tloss: 11.6271\tval_loss: 14.7273\n",
      "Epoch: 174/280\tloss: 11.6223\tval_loss: 14.7351\n",
      "Epoch: 175/280\tloss: 11.6237\tval_loss: 14.7256\n",
      "Epoch: 176/280\tloss: 11.6187\tval_loss: 14.7252\n",
      "Epoch: 177/280\tloss: 11.6186\tval_loss: 14.7238\n"
     ]
    },
    {
     "name": "stdout",
     "output_type": "stream",
     "text": [
      "Epoch: 178/280\tloss: 11.6120\tval_loss: 14.7345\n",
      "Epoch: 179/280\tloss: 11.6158\tval_loss: 14.7111\n",
      "Epoch: 180/280\tloss: 11.6071\tval_loss: 14.7343\n",
      "Epoch: 181/280\tloss: 11.6078\tval_loss: 14.7267\n",
      "Epoch: 182/280\tloss: 11.6069\tval_loss: 14.7125\n",
      "Epoch: 183/280\tloss: 11.6011\tval_loss: 14.7303\n",
      "Epoch: 184/280\tloss: 11.6000\tval_loss: 14.7278\n",
      "Epoch: 185/280\tloss: 11.5986\tval_loss: 14.7247\n",
      "Epoch: 186/280\tloss: 11.5951\tval_loss: 14.7253\n",
      "Epoch: 187/280\tloss: 11.5960\tval_loss: 14.7119\n",
      "Epoch: 188/280\tloss: 11.5891\tval_loss: 14.7267\n",
      "Epoch: 189/280\tloss: 11.5904\tval_loss: 14.7152\n",
      "Epoch: 190/280\tloss: 11.5872\tval_loss: 14.7163\n",
      "Epoch: 191/280\tloss: 11.5869\tval_loss: 14.7076\n",
      "Epoch: 192/280\tloss: 11.5820\tval_loss: 14.7105\n",
      "Epoch: 193/280\tloss: 11.5807\tval_loss: 14.7049\n",
      "Epoch: 194/280\tloss: 11.5770\tval_loss: 14.7101\n",
      "Epoch: 195/280\tloss: 11.5779\tval_loss: 14.6961\n",
      "Epoch: 196/280\tloss: 11.5715\tval_loss: 14.7218\n",
      "Epoch: 197/280\tloss: 11.5770\tval_loss: 14.7071\n",
      "Epoch: 198/280\tloss: 11.5696\tval_loss: 14.7040\n",
      "Epoch: 199/280\tloss: 11.5672\tval_loss: 14.6945\n",
      "Epoch: 200/280\tloss: 11.5644\tval_loss: 14.7198\n",
      "Epoch: 201/280\tloss: 11.5681\tval_loss: 14.6919\n",
      "Epoch: 202/280\tloss: 11.5556\tval_loss: 14.7008\n",
      "Epoch: 203/280\tloss: 11.5632\tval_loss: 14.7123\n",
      "Epoch: 204/280\tloss: 11.5631\tval_loss: 14.6823\n",
      "Epoch: 205/280\tloss: 11.5467\tval_loss: 14.6962\n",
      "Epoch: 206/280\tloss: 11.5531\tval_loss: 14.7043\n",
      "Epoch: 207/280\tloss: 11.5565\tval_loss: 14.6701\n",
      "Epoch: 208/280\tloss: 11.5404\tval_loss: 14.7036\n",
      "Epoch: 209/280\tloss: 11.5511\tval_loss: 14.6737\n",
      "Epoch: 210/280\tloss: 11.5386\tval_loss: 14.6895\n",
      "Epoch: 211/280\tloss: 11.5400\tval_loss: 14.6692\n",
      "Epoch: 212/280\tloss: 11.5372\tval_loss: 14.6887\n",
      "Epoch: 213/280\tloss: 11.5345\tval_loss: 14.6831\n",
      "Epoch: 214/280\tloss: 11.5330\tval_loss: 14.6758\n",
      "Epoch: 215/280\tloss: 11.5282\tval_loss: 14.6810\n",
      "Epoch: 216/280\tloss: 11.5293\tval_loss: 14.6640\n",
      "Epoch: 217/280\tloss: 11.5201\tval_loss: 14.6850\n",
      "Epoch: 218/280\tloss: 11.5265\tval_loss: 14.6784\n",
      "Epoch: 219/280\tloss: 11.5185\tval_loss: 14.6763\n",
      "Epoch: 220/280\tloss: 11.5170\tval_loss: 14.6804\n",
      "Epoch: 221/280\tloss: 11.5184\tval_loss: 14.6800\n",
      "Epoch: 222/280\tloss: 11.5141\tval_loss: 14.6735\n",
      "Epoch: 223/280\tloss: 11.5082\tval_loss: 14.6778\n",
      "Epoch: 224/280\tloss: 11.5083\tval_loss: 14.6721\n",
      "Epoch: 225/280\tloss: 11.5009\tval_loss: 14.6738\n",
      "Epoch: 226/280\tloss: 11.5037\tval_loss: 14.6819\n",
      "Epoch: 227/280\tloss: 11.4967\tval_loss: 14.6771\n",
      "Epoch: 228/280\tloss: 11.4973\tval_loss: 14.6702\n",
      "Epoch: 229/280\tloss: 11.4883\tval_loss: 14.6575\n",
      "Epoch: 230/280\tloss: 11.4840\tval_loss: 14.6717\n",
      "Epoch: 231/280\tloss: 11.4874\tval_loss: 14.6682\n",
      "Epoch: 232/280\tloss: 11.4795\tval_loss: 14.6644\n",
      "Epoch: 233/280\tloss: 11.4756\tval_loss: 14.6718\n",
      "Epoch: 234/280\tloss: 11.4756\tval_loss: 14.6594\n",
      "Epoch: 235/280\tloss: 11.4664\tval_loss: 14.6630\n",
      "Epoch: 236/280\tloss: 11.4666\tval_loss: 14.6601\n",
      "Epoch: 237/280\tloss: 11.4625\tval_loss: 14.6608\n",
      "Epoch: 238/280\tloss: 11.4587\tval_loss: 14.6618\n",
      "Epoch: 239/280\tloss: 11.4583\tval_loss: 14.6471\n",
      "Epoch: 240/280\tloss: 11.4473\tval_loss: 14.6713\n",
      "Epoch: 241/280\tloss: 11.4543\tval_loss: 14.6507\n",
      "Epoch: 242/280\tloss: 11.4407\tval_loss: 14.6501\n",
      "Epoch: 243/280\tloss: 11.4416\tval_loss: 14.6463\n",
      "Epoch: 244/280\tloss: 11.4341\tval_loss: 14.6477\n",
      "Epoch: 245/280\tloss: 11.4290\tval_loss: 14.6603\n",
      "Epoch: 246/280\tloss: 11.4287\tval_loss: 14.6743\n",
      "Epoch: 247/280\tloss: 11.4283\tval_loss: 14.6567\n",
      "Epoch: 248/280\tloss: 11.4199\tval_loss: 14.6526\n",
      "Epoch: 249/280\tloss: 11.4165\tval_loss: 14.6676\n",
      "Epoch: 250/280\tloss: 11.4127\tval_loss: 14.6617\n",
      "Epoch: 251/280\tloss: 11.4076\tval_loss: 14.6532\n",
      "Epoch: 252/280\tloss: 11.3999\tval_loss: 14.6550\n",
      "Epoch: 253/280\tloss: 11.3991\tval_loss: 14.6547\n",
      "Epoch: 254/280\tloss: 11.3916\tval_loss: 14.6446\n",
      "Epoch: 255/280\tloss: 11.3806\tval_loss: 14.6458\n",
      "Epoch: 256/280\tloss: 11.3792\tval_loss: 14.6431\n",
      "Epoch: 257/280\tloss: 11.3767\tval_loss: 14.6462\n",
      "Epoch: 258/280\tloss: 11.3730\tval_loss: 14.6412\n",
      "Epoch: 259/280\tloss: 11.3671\tval_loss: 14.6364\n",
      "Epoch: 260/280\tloss: 11.3622\tval_loss: 14.6216\n",
      "Epoch: 261/280\tloss: 11.3521\tval_loss: 14.6243\n",
      "Epoch: 262/280\tloss: 11.3485\tval_loss: 14.6317\n",
      "Epoch: 263/280\tloss: 11.3483\tval_loss: 14.6249\n",
      "Epoch: 264/280\tloss: 11.3397\tval_loss: 14.6147\n",
      "Epoch: 265/280\tloss: 11.3310\tval_loss: 14.5963\n",
      "Epoch: 266/280\tloss: 11.3231\tval_loss: 14.6120\n",
      "Epoch: 267/280\tloss: 11.3182\tval_loss: 14.6100\n",
      "Epoch: 268/280\tloss: 11.3183\tval_loss: 14.5961\n",
      "Epoch: 269/280\tloss: 11.3086\tval_loss: 14.5825\n",
      "Epoch: 270/280\tloss: 11.3042\tval_loss: 14.6068\n",
      "Epoch: 271/280\tloss: 11.3006\tval_loss: 14.5674\n",
      "Epoch: 272/280\tloss: 11.2804\tval_loss: 14.5809\n",
      "Epoch: 273/280\tloss: 11.2799\tval_loss: 14.6311\n",
      "Epoch: 274/280\tloss: 11.2762\tval_loss: 14.5531\n",
      "Epoch: 275/280\tloss: 11.2523\tval_loss: 14.6370\n",
      "Epoch: 276/280\tloss: 11.2624\tval_loss: 14.5510\n",
      "Epoch: 277/280\tloss: 11.2304\tval_loss: 14.5818\n",
      "Epoch: 278/280\tloss: 11.2296\tval_loss: 14.5769\n",
      "Epoch: 279/280\tloss: 11.2188\tval_loss: 14.5532\n",
      "Epoch: 280/280\tloss: 11.2028\tval_loss: 14.5432\n"
     ]
    }
   ],
   "source": [
    "torch.manual_seed(1)\n",
    "np.random.seed(51)\n",
    "\n",
    "epochs = 280\n",
    "\n",
    "use_cuda = torch.cuda.is_available()\n",
    "device = torch.device(\"cuda\" if use_cuda else \"cpu\")\n",
    "\n",
    "mean = tensor_x_train.mean(0)\n",
    "std = tensor_x_train.std(0)\n",
    "model = TurbofanModel(mean, std).to(device)\n",
    "\n",
    "criterion = nn.L1Loss() # mae\n",
    "optimizer = optim.Adam(model.parameters())\n",
    "\n",
    "history = {}\n",
    "history['epoch'] = []\n",
    "history['loss'] = []\n",
    "history['val_loss'] = []\n",
    "\n",
    "for epoch in range(1, epochs + 1):\n",
    "    train_loss = train(model, device, train_loader, optimizer, criterion)\n",
    "    val_loss = test(model, device, val_loader, criterion)\n",
    "\n",
    "    print('Epoch: {}/{}\\tloss: {:.4f}\\tval_loss: {:.4f}'.format(epoch, epochs, train_loss, val_loss))\n",
    "\n",
    "    history['epoch'].append(epoch)\n",
    "    history['loss'].append(train_loss)\n",
    "    history['val_loss'].append(val_loss)"
   ]
  },
  {
   "cell_type": "code",
   "execution_count": 20,
   "metadata": {
    "colab": {
     "base_uri": "https://localhost:8080/",
     "height": 302
    },
    "colab_type": "code",
    "executionInfo": {
     "elapsed": 66488,
     "status": "ok",
     "timestamp": 1582126853128,
     "user": {
      "displayName": "Matthias Lau",
      "photoUrl": "https://lh3.googleusercontent.com/a-/AAuE7mC6WRAXJoMqa4-OAv4EwNhkeeciSt5GDAExs2YBOg=s64",
      "userId": "11790472444495897059"
     },
     "user_tz": -60
    },
    "id": "Ygq-M1r_RLOT",
    "outputId": "615ad0e5-1445-44ec-beba-34bfc5b08eea",
    "tags": []
   },
   "outputs": [
    {
     "data": {
      "text/plain": [
       "<matplotlib.legend.Legend at 0x28eeaf3d0>"
      ]
     },
     "execution_count": 20,
     "metadata": {},
     "output_type": "execute_result"
    },
    {
     "data": {
      "image/png": "[encoded data removed]",
      "text/plain": [
       "<Figure size 640x480 with 1 Axes>"
      ]
     },
     "metadata": {},
     "output_type": "display_data"
    }
   ],
   "source": [
    "plt.figure()\n",
    "plt.xlabel('Epoch')\n",
    "plt.plot(history['epoch'], np.array(history['loss']), label='Train Loss')\n",
    "plt.plot(history['epoch'], np.array(history['val_loss']), label = 'Validation loss')\n",
    "plt.legend()"
   ]
  },
  {
   "cell_type": "markdown",
   "metadata": {
    "colab_type": "text",
    "id": "hKzWYHzmUX-C"
   },
   "source": [
    "## Model Evaluation"
   ]
  },
  {
   "cell_type": "code",
   "execution_count": 21,
   "metadata": {
    "colab": {
     "base_uri": "https://localhost:8080/",
     "height": 336
    },
    "colab_type": "code",
    "executionInfo": {
     "elapsed": 67746,
     "status": "ok",
     "timestamp": 1582126854416,
     "user": {
      "displayName": "Matthias Lau",
      "photoUrl": "https://lh3.googleusercontent.com/a-/AAuE7mC6WRAXJoMqa4-OAv4EwNhkeeciSt5GDAExs2YBOg=s64",
      "userId": "11790472444495897059"
     },
     "user_tz": -60
    },
    "id": "7OcTYtNhEizF",
    "outputId": "17a34af8-bab4-4d22-ced6-e18dab2d7db6",
    "tags": []
   },
   "outputs": [
    {
     "name": "stdout",
     "output_type": "stream",
     "text": [
      "Testing set RMSE:    19.01\n",
      "Validation set RMSE:   19.64\n",
      "Training set RMSE:   14.75\n"
     ]
    },
    {
     "data": {
      "image/png": "[encoded data removed]",
      "text/plain": [
       "<Figure size 500x500 with 1 Axes>"
      ]
     },
     "metadata": {},
     "output_type": "display_data"
    },
    {
     "data": {
      "image/png": "[encoded data removed]",
      "text/plain": [
       "<Figure size 500x500 with 1 Axes>"
      ]
     },
     "metadata": {},
     "output_type": "display_data"
    },
    {
     "data": {
      "image/png": "[encoded data removed]",
      "text/plain": [
       "<Figure size 500x500 with 1 Axes>"
      ]
     },
     "metadata": {},
     "output_type": "display_data"
    }
   ],
   "source": [
    "def plot_res(model, test_data, test_labels, val_data, val_labels, train_data, train_labels):\n",
    "    output_test = model(test_data).to('cpu')\n",
    "    rmse_test = root_mean_squared_error(test_labels, output_test)\n",
    "    output_val = model(val_data).to('cpu')\n",
    "    rmse_val = root_mean_squared_error(val_labels, output_val)\n",
    "    output_train = model(train_data).to('cpu')\n",
    "    rmse_train = root_mean_squared_error(train_labels, output_train)\n",
    "    print(\"Testing set RMSE:  {:7.2f}\".format(rmse_test))\n",
    "    print(\"Validation set RMSE: {:7.2f}\".format(rmse_val))\n",
    "    print(\"Training set RMSE: {:7.2f}\".format(rmse_train))\n",
    "\n",
    "    test_predictions = output_test.flatten()\n",
    "    val_predictions = output_val.flatten()\n",
    "    train_predictions = output_train.flatten()\n",
    "\n",
    "    sns.displot(train_predictions - train_labels.flatten(), label=\"Train\", kde=True)\n",
    "    sns.displot(val_predictions - val_labels.flatten(), label=\"Val\", kde=True)\n",
    "    sns.displot(test_predictions - test_labels.flatten(), label=\"Test\", kde=True)\n",
    "\n",
    "    plt.xlabel(\"Prediction Error\")\n",
    "    plt.legend()\n",
    "    plt.show()\n",
    "\n",
    "tensor_x_train, tensor_x_val, tensor_x_test = tensor_x_train.to(device), tensor_x_val.to(device), tensor_x_test.to(device)\n",
    "\n",
    "with torch.no_grad():\n",
    "    plot_res(model, tensor_x_test, tensor_y_test, tensor_x_val, tensor_y_val, tensor_x_train, tensor_y_train)"
   ]
  },
  {
   "cell_type": "markdown",
   "metadata": {
    "colab_type": "text",
    "id": "pLq7_EO36swu"
   },
   "source": [
    "## Save Model"
   ]
  },
  {
   "cell_type": "code",
   "execution_count": null,
   "metadata": {
    "colab": {
     "base_uri": "https://localhost:8080/",
     "height": 71
    },
    "colab_type": "code",
    "executionInfo": {
     "elapsed": 67727,
     "status": "ok",
     "timestamp": 1582126854419,
     "user": {
      "displayName": "Matthias Lau",
      "photoUrl": "https://lh3.googleusercontent.com/a-/AAuE7mC6WRAXJoMqa4-OAv4EwNhkeeciSt5GDAExs2YBOg=s64",
      "userId": "11790472444495897059"
     },
     "user_tz": -60
    },
    "id": "o9BMgIO83MKE",
    "outputId": "7a69653e-cca2-41c0-f829-c186eb19f7d8",
    "tags": []
   },
   "outputs": [],
   "source": [
    "# save the model to use it for the federated trainer\n",
    "model_data+path=\"\"\n",
    "print(model_data_path, flush=True)\n",
    "torch.save(model.to('cpu'), model_data_path)"
   ]
  },
  {
   "cell_type": "code",
   "execution_count": null,
   "metadata": {
    "colab": {},
    "colab_type": "code",
    "id": "CdDev2Dy7sMc"
   },
   "outputs": [],
   "source": []
  },
  {
   "cell_type": "code",
   "execution_count": null,
   "metadata": {},
   "outputs": [],
   "source": []
  }
 ],
 "metadata": {
  "accelerator": "GPU",
  "colab": {
   "collapsed_sections": [],
   "name": "Federated_Learning_PySyft_InitialTraining.ipynb",
   "provenance": []
  },
  "kernelspec": {
   "display_name": "Python 3 (ipykernel)",
   "language": "python",
   "name": "python3"
  },
  "language_info": {
   "codemirror_mode": {
    "name": "ipython",
    "version": 3
   },
   "file_extension": ".py",
   "mimetype": "text/x-python",
   "name": "python",
   "nbconvert_exporter": "python",
   "pygments_lexer": "ipython3",
   "version": "3.9.16"
  }
 },
 "nbformat": 4,
 "nbformat_minor": 4
}
